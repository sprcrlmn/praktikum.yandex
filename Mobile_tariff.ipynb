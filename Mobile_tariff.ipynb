{
  "nbformat": 4,
  "nbformat_minor": 0,
  "metadata": {
    "kernelspec": {
      "display_name": "Python 3",
      "language": "python",
      "name": "python3"
    },
    "language_info": {
      "codemirror_mode": {
        "name": "ipython",
        "version": 3
      },
      "file_extension": ".py",
      "mimetype": "text/x-python",
      "name": "python",
      "nbconvert_exporter": "python",
      "pygments_lexer": "ipython3",
      "version": "3.7.8"
    },
    "toc": {
      "base_numbering": 1,
      "nav_menu": {},
      "number_sections": true,
      "sideBar": true,
      "skip_h1_title": true,
      "title_cell": "Table of Contents",
      "title_sidebar": "Contents",
      "toc_cell": false,
      "toc_position": {},
      "toc_section_display": true,
      "toc_window_display": false
    },
    "colab": {
      "name": "5659eb1d-749d-4498-9dba-8bde98849a4b.ipynb",
      "provenance": []
    }
  },
  "cells": [
    {
      "cell_type": "markdown",
      "metadata": {
        "id": "C_rUssp_qDOy"
      },
      "source": [
        "# Определение перспективного тарифа для телеком компании\n",
        "Вы аналитик компании «Мегалайн» — федерального оператора сотовой связи. Клиентам предлагают два тарифных плана: «Смарт» и «Ультра». Чтобы скорректировать рекламный бюджет, коммерческий департамент хочет понять, какой тариф приносит больше денег.\n",
        "Вам предстоит сделать предварительный анализ тарифов на небольшой выборке клиентов. В вашем распоряжении данные 500 пользователей «Мегалайна»: кто они, откуда, каким тарифом пользуются, сколько звонков и сообщений каждый отправил за 2018 год. Нужно проанализировать поведение клиентов и сделать вывод — какой тариф лучше."
      ]
    },
    {
      "cell_type": "markdown",
      "metadata": {
        "id": "yVOWZeZiqDO0"
      },
      "source": [
        "<a id=\"1\"></a>\n",
        "## Шаг 1. Откройте файл с данными и изучите общую информацию. "
      ]
    },
    {
      "cell_type": "code",
      "metadata": {
        "id": "Z7uw6_hLqDO1"
      },
      "source": [
        "import pandas as pd\n",
        "import seaborn as sns\n",
        "import matplotlib.pyplot as plt\n",
        "import numpy as np\n",
        "import scipy.stats as st\n",
        "from functools import reduce\n",
        "from scipy import stats as st"
      ],
      "execution_count": null,
      "outputs": []
    },
    {
      "cell_type": "code",
      "metadata": {
        "id": "WOQJGuPIqDO2"
      },
      "source": [
        "calls = pd.read_csv('/datasets/calls.csv')\n",
        "internet = pd.read_csv('/datasets/internet.csv')\n",
        "messages = pd.read_csv('/datasets/messages.csv')\n",
        "tariffs = pd.read_csv('/datasets/tariffs.csv')\n",
        "users = pd.read_csv('/datasets/users.csv')"
      ],
      "execution_count": null,
      "outputs": []
    },
    {
      "cell_type": "markdown",
      "metadata": {
        "id": "_UELgK9JqDO2"
      },
      "source": [
        "<a id=\"2\"></a>\n",
        "## Шаг 2. Изучение полученных датасетов и предобработка данных"
      ]
    },
    {
      "cell_type": "markdown",
      "metadata": {
        "id": "LzqfeYtEqDO3"
      },
      "source": [
        "<a id=\"21\"></a>\n",
        "#### Изучение calls"
      ]
    },
    {
      "cell_type": "code",
      "metadata": {
        "id": "yH9Z96tOqDO4",
        "outputId": "f0a2c5e5-e595-4a2c-bf48-4f149b98e6d7"
      },
      "source": [
        "calls.head(10)"
      ],
      "execution_count": null,
      "outputs": [
        {
          "output_type": "execute_result",
          "data": {
            "text/html": [
              "<div>\n",
              "<style scoped>\n",
              "    .dataframe tbody tr th:only-of-type {\n",
              "        vertical-align: middle;\n",
              "    }\n",
              "\n",
              "    .dataframe tbody tr th {\n",
              "        vertical-align: top;\n",
              "    }\n",
              "\n",
              "    .dataframe thead th {\n",
              "        text-align: right;\n",
              "    }\n",
              "</style>\n",
              "<table border=\"1\" class=\"dataframe\">\n",
              "  <thead>\n",
              "    <tr style=\"text-align: right;\">\n",
              "      <th></th>\n",
              "      <th>id</th>\n",
              "      <th>call_date</th>\n",
              "      <th>duration</th>\n",
              "      <th>user_id</th>\n",
              "    </tr>\n",
              "  </thead>\n",
              "  <tbody>\n",
              "    <tr>\n",
              "      <td>0</td>\n",
              "      <td>1000_0</td>\n",
              "      <td>2018-07-25</td>\n",
              "      <td>0.00</td>\n",
              "      <td>1000</td>\n",
              "    </tr>\n",
              "    <tr>\n",
              "      <td>1</td>\n",
              "      <td>1000_1</td>\n",
              "      <td>2018-08-17</td>\n",
              "      <td>0.00</td>\n",
              "      <td>1000</td>\n",
              "    </tr>\n",
              "    <tr>\n",
              "      <td>2</td>\n",
              "      <td>1000_2</td>\n",
              "      <td>2018-06-11</td>\n",
              "      <td>2.85</td>\n",
              "      <td>1000</td>\n",
              "    </tr>\n",
              "    <tr>\n",
              "      <td>3</td>\n",
              "      <td>1000_3</td>\n",
              "      <td>2018-09-21</td>\n",
              "      <td>13.80</td>\n",
              "      <td>1000</td>\n",
              "    </tr>\n",
              "    <tr>\n",
              "      <td>4</td>\n",
              "      <td>1000_4</td>\n",
              "      <td>2018-12-15</td>\n",
              "      <td>5.18</td>\n",
              "      <td>1000</td>\n",
              "    </tr>\n",
              "    <tr>\n",
              "      <td>5</td>\n",
              "      <td>1000_5</td>\n",
              "      <td>2018-11-02</td>\n",
              "      <td>0.00</td>\n",
              "      <td>1000</td>\n",
              "    </tr>\n",
              "    <tr>\n",
              "      <td>6</td>\n",
              "      <td>1000_6</td>\n",
              "      <td>2018-10-18</td>\n",
              "      <td>0.00</td>\n",
              "      <td>1000</td>\n",
              "    </tr>\n",
              "    <tr>\n",
              "      <td>7</td>\n",
              "      <td>1000_7</td>\n",
              "      <td>2018-08-22</td>\n",
              "      <td>18.31</td>\n",
              "      <td>1000</td>\n",
              "    </tr>\n",
              "    <tr>\n",
              "      <td>8</td>\n",
              "      <td>1000_8</td>\n",
              "      <td>2018-09-15</td>\n",
              "      <td>18.44</td>\n",
              "      <td>1000</td>\n",
              "    </tr>\n",
              "    <tr>\n",
              "      <td>9</td>\n",
              "      <td>1000_9</td>\n",
              "      <td>2018-08-15</td>\n",
              "      <td>0.00</td>\n",
              "      <td>1000</td>\n",
              "    </tr>\n",
              "  </tbody>\n",
              "</table>\n",
              "</div>"
            ],
            "text/plain": [
              "       id   call_date  duration  user_id\n",
              "0  1000_0  2018-07-25      0.00     1000\n",
              "1  1000_1  2018-08-17      0.00     1000\n",
              "2  1000_2  2018-06-11      2.85     1000\n",
              "3  1000_3  2018-09-21     13.80     1000\n",
              "4  1000_4  2018-12-15      5.18     1000\n",
              "5  1000_5  2018-11-02      0.00     1000\n",
              "6  1000_6  2018-10-18      0.00     1000\n",
              "7  1000_7  2018-08-22     18.31     1000\n",
              "8  1000_8  2018-09-15     18.44     1000\n",
              "9  1000_9  2018-08-15      0.00     1000"
            ]
          },
          "metadata": {
            "tags": []
          },
          "execution_count": 3
        }
      ]
    },
    {
      "cell_type": "code",
      "metadata": {
        "id": "gCAhd-K6qDO5",
        "outputId": "b0fce2d0-b961-4ad5-cff3-1d50faf7834f"
      },
      "source": [
        "calls.info()"
      ],
      "execution_count": null,
      "outputs": [
        {
          "output_type": "stream",
          "text": [
            "<class 'pandas.core.frame.DataFrame'>\n",
            "RangeIndex: 202607 entries, 0 to 202606\n",
            "Data columns (total 4 columns):\n",
            "id           202607 non-null object\n",
            "call_date    202607 non-null object\n",
            "duration     202607 non-null float64\n",
            "user_id      202607 non-null int64\n",
            "dtypes: float64(1), int64(1), object(2)\n",
            "memory usage: 6.2+ MB\n"
          ],
          "name": "stdout"
        }
      ]
    },
    {
      "cell_type": "markdown",
      "metadata": {
        "id": "mXFR4dHaqDO5"
      },
      "source": [
        "#### Предобработка данных calls"
      ]
    },
    {
      "cell_type": "code",
      "metadata": {
        "id": "MW_ZAXdQqDO5"
      },
      "source": [
        "# приведу дату в datetime64\n",
        "calls['call_date'] = pd.to_datetime(calls['call_date'], format='%Y-%m-%d')\n",
        "#добавлю месяц для сводной\n",
        "calls['month'] = calls['call_date'].dt.month \n",
        "#округление звонков в большую сторону(поминутная тарификация)\n",
        "calls['duration'] = calls['duration'].apply(np.ceil)"
      ],
      "execution_count": null,
      "outputs": []
    },
    {
      "cell_type": "markdown",
      "metadata": {
        "id": "uuqPatjhqDO6"
      },
      "source": [
        "<a id=\"22\"></a>\n",
        "#### Изучение internet"
      ]
    },
    {
      "cell_type": "code",
      "metadata": {
        "id": "-JfNHvb8qDO6",
        "outputId": "1cd8f974-4c08-4462-cc17-f307af612233"
      },
      "source": [
        "internet.tail(10)"
      ],
      "execution_count": null,
      "outputs": [
        {
          "output_type": "execute_result",
          "data": {
            "text/html": [
              "<div>\n",
              "<style scoped>\n",
              "    .dataframe tbody tr th:only-of-type {\n",
              "        vertical-align: middle;\n",
              "    }\n",
              "\n",
              "    .dataframe tbody tr th {\n",
              "        vertical-align: top;\n",
              "    }\n",
              "\n",
              "    .dataframe thead th {\n",
              "        text-align: right;\n",
              "    }\n",
              "</style>\n",
              "<table border=\"1\" class=\"dataframe\">\n",
              "  <thead>\n",
              "    <tr style=\"text-align: right;\">\n",
              "      <th></th>\n",
              "      <th>Unnamed: 0</th>\n",
              "      <th>id</th>\n",
              "      <th>mb_used</th>\n",
              "      <th>session_date</th>\n",
              "      <th>user_id</th>\n",
              "    </tr>\n",
              "  </thead>\n",
              "  <tbody>\n",
              "    <tr>\n",
              "      <td>149386</td>\n",
              "      <td>149386</td>\n",
              "      <td>1499_147</td>\n",
              "      <td>0.00</td>\n",
              "      <td>2018-10-21</td>\n",
              "      <td>1499</td>\n",
              "    </tr>\n",
              "    <tr>\n",
              "      <td>149387</td>\n",
              "      <td>149387</td>\n",
              "      <td>1499_148</td>\n",
              "      <td>268.19</td>\n",
              "      <td>2018-11-13</td>\n",
              "      <td>1499</td>\n",
              "    </tr>\n",
              "    <tr>\n",
              "      <td>149388</td>\n",
              "      <td>149388</td>\n",
              "      <td>1499_149</td>\n",
              "      <td>778.68</td>\n",
              "      <td>2018-11-24</td>\n",
              "      <td>1499</td>\n",
              "    </tr>\n",
              "    <tr>\n",
              "      <td>149389</td>\n",
              "      <td>149389</td>\n",
              "      <td>1499_150</td>\n",
              "      <td>273.98</td>\n",
              "      <td>2018-11-20</td>\n",
              "      <td>1499</td>\n",
              "    </tr>\n",
              "    <tr>\n",
              "      <td>149390</td>\n",
              "      <td>149390</td>\n",
              "      <td>1499_151</td>\n",
              "      <td>752.72</td>\n",
              "      <td>2018-10-11</td>\n",
              "      <td>1499</td>\n",
              "    </tr>\n",
              "    <tr>\n",
              "      <td>149391</td>\n",
              "      <td>149391</td>\n",
              "      <td>1499_152</td>\n",
              "      <td>318.90</td>\n",
              "      <td>2018-10-03</td>\n",
              "      <td>1499</td>\n",
              "    </tr>\n",
              "    <tr>\n",
              "      <td>149392</td>\n",
              "      <td>149392</td>\n",
              "      <td>1499_153</td>\n",
              "      <td>490.13</td>\n",
              "      <td>2018-12-14</td>\n",
              "      <td>1499</td>\n",
              "    </tr>\n",
              "    <tr>\n",
              "      <td>149393</td>\n",
              "      <td>149393</td>\n",
              "      <td>1499_154</td>\n",
              "      <td>0.00</td>\n",
              "      <td>2018-10-27</td>\n",
              "      <td>1499</td>\n",
              "    </tr>\n",
              "    <tr>\n",
              "      <td>149394</td>\n",
              "      <td>149394</td>\n",
              "      <td>1499_155</td>\n",
              "      <td>1246.32</td>\n",
              "      <td>2018-11-26</td>\n",
              "      <td>1499</td>\n",
              "    </tr>\n",
              "    <tr>\n",
              "      <td>149395</td>\n",
              "      <td>149395</td>\n",
              "      <td>1499_156</td>\n",
              "      <td>544.37</td>\n",
              "      <td>2018-10-26</td>\n",
              "      <td>1499</td>\n",
              "    </tr>\n",
              "  </tbody>\n",
              "</table>\n",
              "</div>"
            ],
            "text/plain": [
              "        Unnamed: 0        id  mb_used session_date  user_id\n",
              "149386      149386  1499_147     0.00   2018-10-21     1499\n",
              "149387      149387  1499_148   268.19   2018-11-13     1499\n",
              "149388      149388  1499_149   778.68   2018-11-24     1499\n",
              "149389      149389  1499_150   273.98   2018-11-20     1499\n",
              "149390      149390  1499_151   752.72   2018-10-11     1499\n",
              "149391      149391  1499_152   318.90   2018-10-03     1499\n",
              "149392      149392  1499_153   490.13   2018-12-14     1499\n",
              "149393      149393  1499_154     0.00   2018-10-27     1499\n",
              "149394      149394  1499_155  1246.32   2018-11-26     1499\n",
              "149395      149395  1499_156   544.37   2018-10-26     1499"
            ]
          },
          "metadata": {
            "tags": []
          },
          "execution_count": 6
        }
      ]
    },
    {
      "cell_type": "code",
      "metadata": {
        "id": "3iW31HUkqDO6",
        "outputId": "63599d95-1d47-4d15-e643-a775c13aa8bd"
      },
      "source": [
        "internet.info()"
      ],
      "execution_count": null,
      "outputs": [
        {
          "output_type": "stream",
          "text": [
            "<class 'pandas.core.frame.DataFrame'>\n",
            "RangeIndex: 149396 entries, 0 to 149395\n",
            "Data columns (total 5 columns):\n",
            "Unnamed: 0      149396 non-null int64\n",
            "id              149396 non-null object\n",
            "mb_used         149396 non-null float64\n",
            "session_date    149396 non-null object\n",
            "user_id         149396 non-null int64\n",
            "dtypes: float64(1), int64(2), object(2)\n",
            "memory usage: 5.7+ MB\n"
          ],
          "name": "stdout"
        }
      ]
    },
    {
      "cell_type": "markdown",
      "metadata": {
        "id": "QyHuEFF8qDO7"
      },
      "source": [
        "#### Предобработка данных internet"
      ]
    },
    {
      "cell_type": "code",
      "metadata": {
        "id": "iS0UtNduqDO7"
      },
      "source": [
        "# приведу дату в datetime64\n",
        "internet['session_date'] = pd.to_datetime(internet['session_date'], format='%Y-%m-%d')\n",
        "#добавлю месяц для сводной\n",
        "internet['month'] = internet['session_date'].dt.month \n",
        "#не нашел элегантнее способа привести к округлению в большую сторону\n",
        "internet['mb_used']=round(internet['mb_used']+0.49)\n",
        "# Мб округлю до еденицы тут точно инересное соединение без единого пакета\n",
        "internet.loc[internet['mb_used'] == 0, 'mb_used'] = 1"
      ],
      "execution_count": null,
      "outputs": []
    },
    {
      "cell_type": "markdown",
      "metadata": {
        "id": "XhrjFdHJqDO7"
      },
      "source": [
        "<a id=\"23\"></a>\n",
        "#### Изучение messages"
      ]
    },
    {
      "cell_type": "code",
      "metadata": {
        "id": "eDFq59o2qDO7",
        "outputId": "455e6891-0242-4ef0-f974-8a1de777da46"
      },
      "source": [
        "messages.head(10)"
      ],
      "execution_count": null,
      "outputs": [
        {
          "output_type": "execute_result",
          "data": {
            "text/html": [
              "<div>\n",
              "<style scoped>\n",
              "    .dataframe tbody tr th:only-of-type {\n",
              "        vertical-align: middle;\n",
              "    }\n",
              "\n",
              "    .dataframe tbody tr th {\n",
              "        vertical-align: top;\n",
              "    }\n",
              "\n",
              "    .dataframe thead th {\n",
              "        text-align: right;\n",
              "    }\n",
              "</style>\n",
              "<table border=\"1\" class=\"dataframe\">\n",
              "  <thead>\n",
              "    <tr style=\"text-align: right;\">\n",
              "      <th></th>\n",
              "      <th>id</th>\n",
              "      <th>message_date</th>\n",
              "      <th>user_id</th>\n",
              "    </tr>\n",
              "  </thead>\n",
              "  <tbody>\n",
              "    <tr>\n",
              "      <td>0</td>\n",
              "      <td>1000_0</td>\n",
              "      <td>2018-06-27</td>\n",
              "      <td>1000</td>\n",
              "    </tr>\n",
              "    <tr>\n",
              "      <td>1</td>\n",
              "      <td>1000_1</td>\n",
              "      <td>2018-10-08</td>\n",
              "      <td>1000</td>\n",
              "    </tr>\n",
              "    <tr>\n",
              "      <td>2</td>\n",
              "      <td>1000_2</td>\n",
              "      <td>2018-08-04</td>\n",
              "      <td>1000</td>\n",
              "    </tr>\n",
              "    <tr>\n",
              "      <td>3</td>\n",
              "      <td>1000_3</td>\n",
              "      <td>2018-06-16</td>\n",
              "      <td>1000</td>\n",
              "    </tr>\n",
              "    <tr>\n",
              "      <td>4</td>\n",
              "      <td>1000_4</td>\n",
              "      <td>2018-12-05</td>\n",
              "      <td>1000</td>\n",
              "    </tr>\n",
              "    <tr>\n",
              "      <td>5</td>\n",
              "      <td>1000_5</td>\n",
              "      <td>2018-06-20</td>\n",
              "      <td>1000</td>\n",
              "    </tr>\n",
              "    <tr>\n",
              "      <td>6</td>\n",
              "      <td>1000_6</td>\n",
              "      <td>2018-11-19</td>\n",
              "      <td>1000</td>\n",
              "    </tr>\n",
              "    <tr>\n",
              "      <td>7</td>\n",
              "      <td>1000_7</td>\n",
              "      <td>2018-10-29</td>\n",
              "      <td>1000</td>\n",
              "    </tr>\n",
              "    <tr>\n",
              "      <td>8</td>\n",
              "      <td>1000_8</td>\n",
              "      <td>2018-06-25</td>\n",
              "      <td>1000</td>\n",
              "    </tr>\n",
              "    <tr>\n",
              "      <td>9</td>\n",
              "      <td>1000_9</td>\n",
              "      <td>2018-12-18</td>\n",
              "      <td>1000</td>\n",
              "    </tr>\n",
              "  </tbody>\n",
              "</table>\n",
              "</div>"
            ],
            "text/plain": [
              "       id message_date  user_id\n",
              "0  1000_0   2018-06-27     1000\n",
              "1  1000_1   2018-10-08     1000\n",
              "2  1000_2   2018-08-04     1000\n",
              "3  1000_3   2018-06-16     1000\n",
              "4  1000_4   2018-12-05     1000\n",
              "5  1000_5   2018-06-20     1000\n",
              "6  1000_6   2018-11-19     1000\n",
              "7  1000_7   2018-10-29     1000\n",
              "8  1000_8   2018-06-25     1000\n",
              "9  1000_9   2018-12-18     1000"
            ]
          },
          "metadata": {
            "tags": []
          },
          "execution_count": 9
        }
      ]
    },
    {
      "cell_type": "code",
      "metadata": {
        "id": "2RMPKrOCqDO7",
        "outputId": "bb3b1976-ca20-4448-bdf0-a78cfc464306"
      },
      "source": [
        "messages.info()"
      ],
      "execution_count": null,
      "outputs": [
        {
          "output_type": "stream",
          "text": [
            "<class 'pandas.core.frame.DataFrame'>\n",
            "RangeIndex: 123036 entries, 0 to 123035\n",
            "Data columns (total 3 columns):\n",
            "id              123036 non-null object\n",
            "message_date    123036 non-null object\n",
            "user_id         123036 non-null int64\n",
            "dtypes: int64(1), object(2)\n",
            "memory usage: 2.8+ MB\n"
          ],
          "name": "stdout"
        }
      ]
    },
    {
      "cell_type": "markdown",
      "metadata": {
        "id": "xHGS2b5wqDO8"
      },
      "source": [
        "\n",
        "#### Предобработка данных messages"
      ]
    },
    {
      "cell_type": "code",
      "metadata": {
        "id": "oRF5Cp9uqDO8"
      },
      "source": [
        "# приведу дату в datetime64\n",
        "messages['message_date'] = pd.to_datetime(messages['message_date'], format='%Y-%m-%d')\n",
        "#добавлю месяц для сводной\n",
        "messages['month'] = messages['message_date'].dt.month "
      ],
      "execution_count": null,
      "outputs": []
    },
    {
      "cell_type": "code",
      "metadata": {
        "id": "fkFAYZlCqDO8",
        "outputId": "a1216069-9745-425f-f257-4fa042beb82d"
      },
      "source": [
        "tariffs.head(10)"
      ],
      "execution_count": null,
      "outputs": [
        {
          "output_type": "execute_result",
          "data": {
            "text/html": [
              "<div>\n",
              "<style scoped>\n",
              "    .dataframe tbody tr th:only-of-type {\n",
              "        vertical-align: middle;\n",
              "    }\n",
              "\n",
              "    .dataframe tbody tr th {\n",
              "        vertical-align: top;\n",
              "    }\n",
              "\n",
              "    .dataframe thead th {\n",
              "        text-align: right;\n",
              "    }\n",
              "</style>\n",
              "<table border=\"1\" class=\"dataframe\">\n",
              "  <thead>\n",
              "    <tr style=\"text-align: right;\">\n",
              "      <th></th>\n",
              "      <th>messages_included</th>\n",
              "      <th>mb_per_month_included</th>\n",
              "      <th>minutes_included</th>\n",
              "      <th>rub_monthly_fee</th>\n",
              "      <th>rub_per_gb</th>\n",
              "      <th>rub_per_message</th>\n",
              "      <th>rub_per_minute</th>\n",
              "      <th>tariff_name</th>\n",
              "    </tr>\n",
              "  </thead>\n",
              "  <tbody>\n",
              "    <tr>\n",
              "      <td>0</td>\n",
              "      <td>50</td>\n",
              "      <td>15360</td>\n",
              "      <td>500</td>\n",
              "      <td>550</td>\n",
              "      <td>200</td>\n",
              "      <td>3</td>\n",
              "      <td>3</td>\n",
              "      <td>smart</td>\n",
              "    </tr>\n",
              "    <tr>\n",
              "      <td>1</td>\n",
              "      <td>1000</td>\n",
              "      <td>30720</td>\n",
              "      <td>3000</td>\n",
              "      <td>1950</td>\n",
              "      <td>150</td>\n",
              "      <td>1</td>\n",
              "      <td>1</td>\n",
              "      <td>ultra</td>\n",
              "    </tr>\n",
              "  </tbody>\n",
              "</table>\n",
              "</div>"
            ],
            "text/plain": [
              "   messages_included  mb_per_month_included  minutes_included  \\\n",
              "0                 50                  15360               500   \n",
              "1               1000                  30720              3000   \n",
              "\n",
              "   rub_monthly_fee  rub_per_gb  rub_per_message  rub_per_minute tariff_name  \n",
              "0              550         200                3               3       smart  \n",
              "1             1950         150                1               1       ultra  "
            ]
          },
          "metadata": {
            "tags": []
          },
          "execution_count": 12
        }
      ]
    },
    {
      "cell_type": "code",
      "metadata": {
        "id": "mERDgEYTqDO8",
        "outputId": "dc1b4422-a473-42df-8150-fe53975a2ef0"
      },
      "source": [
        "tariffs.info()"
      ],
      "execution_count": null,
      "outputs": [
        {
          "output_type": "stream",
          "text": [
            "<class 'pandas.core.frame.DataFrame'>\n",
            "RangeIndex: 2 entries, 0 to 1\n",
            "Data columns (total 8 columns):\n",
            "messages_included        2 non-null int64\n",
            "mb_per_month_included    2 non-null int64\n",
            "minutes_included         2 non-null int64\n",
            "rub_monthly_fee          2 non-null int64\n",
            "rub_per_gb               2 non-null int64\n",
            "rub_per_message          2 non-null int64\n",
            "rub_per_minute           2 non-null int64\n",
            "tariff_name              2 non-null object\n",
            "dtypes: int64(7), object(1)\n",
            "memory usage: 256.0+ bytes\n"
          ],
          "name": "stdout"
        }
      ]
    },
    {
      "cell_type": "code",
      "metadata": {
        "id": "vwtoycMzqDO8",
        "outputId": "989fbb65-2037-4e46-c6b4-67212de21869"
      },
      "source": [
        "users.head(10)"
      ],
      "execution_count": null,
      "outputs": [
        {
          "output_type": "execute_result",
          "data": {
            "text/html": [
              "<div>\n",
              "<style scoped>\n",
              "    .dataframe tbody tr th:only-of-type {\n",
              "        vertical-align: middle;\n",
              "    }\n",
              "\n",
              "    .dataframe tbody tr th {\n",
              "        vertical-align: top;\n",
              "    }\n",
              "\n",
              "    .dataframe thead th {\n",
              "        text-align: right;\n",
              "    }\n",
              "</style>\n",
              "<table border=\"1\" class=\"dataframe\">\n",
              "  <thead>\n",
              "    <tr style=\"text-align: right;\">\n",
              "      <th></th>\n",
              "      <th>user_id</th>\n",
              "      <th>age</th>\n",
              "      <th>churn_date</th>\n",
              "      <th>city</th>\n",
              "      <th>first_name</th>\n",
              "      <th>last_name</th>\n",
              "      <th>reg_date</th>\n",
              "      <th>tariff</th>\n",
              "    </tr>\n",
              "  </thead>\n",
              "  <tbody>\n",
              "    <tr>\n",
              "      <td>0</td>\n",
              "      <td>1000</td>\n",
              "      <td>52</td>\n",
              "      <td>NaN</td>\n",
              "      <td>Краснодар</td>\n",
              "      <td>Рафаил</td>\n",
              "      <td>Верещагин</td>\n",
              "      <td>2018-05-25</td>\n",
              "      <td>ultra</td>\n",
              "    </tr>\n",
              "    <tr>\n",
              "      <td>1</td>\n",
              "      <td>1001</td>\n",
              "      <td>41</td>\n",
              "      <td>NaN</td>\n",
              "      <td>Москва</td>\n",
              "      <td>Иван</td>\n",
              "      <td>Ежов</td>\n",
              "      <td>2018-11-01</td>\n",
              "      <td>smart</td>\n",
              "    </tr>\n",
              "    <tr>\n",
              "      <td>2</td>\n",
              "      <td>1002</td>\n",
              "      <td>59</td>\n",
              "      <td>NaN</td>\n",
              "      <td>Стерлитамак</td>\n",
              "      <td>Евгений</td>\n",
              "      <td>Абрамович</td>\n",
              "      <td>2018-06-17</td>\n",
              "      <td>smart</td>\n",
              "    </tr>\n",
              "    <tr>\n",
              "      <td>3</td>\n",
              "      <td>1003</td>\n",
              "      <td>23</td>\n",
              "      <td>NaN</td>\n",
              "      <td>Москва</td>\n",
              "      <td>Белла</td>\n",
              "      <td>Белякова</td>\n",
              "      <td>2018-08-17</td>\n",
              "      <td>ultra</td>\n",
              "    </tr>\n",
              "    <tr>\n",
              "      <td>4</td>\n",
              "      <td>1004</td>\n",
              "      <td>68</td>\n",
              "      <td>NaN</td>\n",
              "      <td>Новокузнецк</td>\n",
              "      <td>Татьяна</td>\n",
              "      <td>Авдеенко</td>\n",
              "      <td>2018-05-14</td>\n",
              "      <td>ultra</td>\n",
              "    </tr>\n",
              "    <tr>\n",
              "      <td>5</td>\n",
              "      <td>1005</td>\n",
              "      <td>67</td>\n",
              "      <td>NaN</td>\n",
              "      <td>Набережные Челны</td>\n",
              "      <td>Афанасий</td>\n",
              "      <td>Горлов</td>\n",
              "      <td>2018-01-25</td>\n",
              "      <td>smart</td>\n",
              "    </tr>\n",
              "    <tr>\n",
              "      <td>6</td>\n",
              "      <td>1006</td>\n",
              "      <td>21</td>\n",
              "      <td>NaN</td>\n",
              "      <td>Ульяновск</td>\n",
              "      <td>Леонид</td>\n",
              "      <td>Ермолаев</td>\n",
              "      <td>2018-02-26</td>\n",
              "      <td>smart</td>\n",
              "    </tr>\n",
              "    <tr>\n",
              "      <td>7</td>\n",
              "      <td>1007</td>\n",
              "      <td>65</td>\n",
              "      <td>NaN</td>\n",
              "      <td>Москва</td>\n",
              "      <td>Юна</td>\n",
              "      <td>Березина</td>\n",
              "      <td>2018-04-19</td>\n",
              "      <td>smart</td>\n",
              "    </tr>\n",
              "    <tr>\n",
              "      <td>8</td>\n",
              "      <td>1008</td>\n",
              "      <td>63</td>\n",
              "      <td>NaN</td>\n",
              "      <td>Челябинск</td>\n",
              "      <td>Рустэм</td>\n",
              "      <td>Пономарёв</td>\n",
              "      <td>2018-12-19</td>\n",
              "      <td>smart</td>\n",
              "    </tr>\n",
              "    <tr>\n",
              "      <td>9</td>\n",
              "      <td>1009</td>\n",
              "      <td>24</td>\n",
              "      <td>NaN</td>\n",
              "      <td>Пермь</td>\n",
              "      <td>Василиса</td>\n",
              "      <td>Блинова</td>\n",
              "      <td>2018-03-22</td>\n",
              "      <td>smart</td>\n",
              "    </tr>\n",
              "  </tbody>\n",
              "</table>\n",
              "</div>"
            ],
            "text/plain": [
              "   user_id  age churn_date              city first_name  last_name  \\\n",
              "0     1000   52        NaN         Краснодар     Рафаил  Верещагин   \n",
              "1     1001   41        NaN            Москва       Иван       Ежов   \n",
              "2     1002   59        NaN       Стерлитамак    Евгений  Абрамович   \n",
              "3     1003   23        NaN            Москва      Белла   Белякова   \n",
              "4     1004   68        NaN       Новокузнецк    Татьяна   Авдеенко   \n",
              "5     1005   67        NaN  Набережные Челны   Афанасий     Горлов   \n",
              "6     1006   21        NaN         Ульяновск     Леонид   Ермолаев   \n",
              "7     1007   65        NaN            Москва        Юна   Березина   \n",
              "8     1008   63        NaN         Челябинск     Рустэм  Пономарёв   \n",
              "9     1009   24        NaN             Пермь   Василиса    Блинова   \n",
              "\n",
              "     reg_date tariff  \n",
              "0  2018-05-25  ultra  \n",
              "1  2018-11-01  smart  \n",
              "2  2018-06-17  smart  \n",
              "3  2018-08-17  ultra  \n",
              "4  2018-05-14  ultra  \n",
              "5  2018-01-25  smart  \n",
              "6  2018-02-26  smart  \n",
              "7  2018-04-19  smart  \n",
              "8  2018-12-19  smart  \n",
              "9  2018-03-22  smart  "
            ]
          },
          "metadata": {
            "tags": []
          },
          "execution_count": 14
        }
      ]
    },
    {
      "cell_type": "code",
      "metadata": {
        "id": "1HaxmJYMqDO9",
        "outputId": "aeca2d79-d2c6-4a98-b5df-6714cf8bdc36"
      },
      "source": [
        "users.info()"
      ],
      "execution_count": null,
      "outputs": [
        {
          "output_type": "stream",
          "text": [
            "<class 'pandas.core.frame.DataFrame'>\n",
            "RangeIndex: 500 entries, 0 to 499\n",
            "Data columns (total 8 columns):\n",
            "user_id       500 non-null int64\n",
            "age           500 non-null int64\n",
            "churn_date    38 non-null object\n",
            "city          500 non-null object\n",
            "first_name    500 non-null object\n",
            "last_name     500 non-null object\n",
            "reg_date      500 non-null object\n",
            "tariff        500 non-null object\n",
            "dtypes: int64(2), object(6)\n",
            "memory usage: 31.4+ KB\n"
          ],
          "name": "stdout"
        }
      ]
    },
    {
      "cell_type": "markdown",
      "metadata": {
        "id": "6RPq0b0EqDO9"
      },
      "source": [
        "<a id=\"24\"></a>\n",
        "#### Предобработка данных users"
      ]
    },
    {
      "cell_type": "code",
      "metadata": {
        "id": "z0PVZbrUqDO9"
      },
      "source": [
        "messages.head(10)\n",
        "# приведу дату в datetime64\n",
        "users['reg_date'] = pd.to_datetime(users['reg_date'], format='%Y-%m-%d')\n",
        "users['churn_date'] = pd.to_datetime(users['churn_date'], format='%Y-%m-%d')\n",
        "# Все таблицы смотрел на дубликаты и смотрел Города на регистр. Ошибок не было не стал оставлять код."
      ],
      "execution_count": null,
      "outputs": []
    },
    {
      "cell_type": "markdown",
      "metadata": {
        "id": "sNoa2ioTqDO9"
      },
      "source": [
        "<a id=\"25\"></a>\n",
        "### Расчетны для каждого пользователя"
      ]
    },
    {
      "cell_type": "markdown",
      "metadata": {
        "id": "b-lJ8PCcqDO-"
      },
      "source": [
        "<a id=\"26\"></a>\n",
        "#### Количество сделанных звонков и израсходованных минут разговора по месяцам;"
      ]
    },
    {
      "cell_type": "code",
      "metadata": {
        "id": "t4fuDKO1qDO-"
      },
      "source": [
        "calls_in_month = calls.pivot_table(\n",
        "    index=['user_id', 'month'],\n",
        "    values='duration',\n",
        "    aggfunc=['count', 'sum']\n",
        ")\n",
        "calls_in_month.columns = ['calls', 'duration']"
      ],
      "execution_count": null,
      "outputs": []
    },
    {
      "cell_type": "code",
      "metadata": {
        "id": "GN4-Y-IkqDO-",
        "outputId": "e9a0cbf4-1e82-43ec-8677-fb4545a82da3"
      },
      "source": [
        "calls_in_month"
      ],
      "execution_count": null,
      "outputs": [
        {
          "output_type": "execute_result",
          "data": {
            "text/html": [
              "<div>\n",
              "<style scoped>\n",
              "    .dataframe tbody tr th:only-of-type {\n",
              "        vertical-align: middle;\n",
              "    }\n",
              "\n",
              "    .dataframe tbody tr th {\n",
              "        vertical-align: top;\n",
              "    }\n",
              "\n",
              "    .dataframe thead th {\n",
              "        text-align: right;\n",
              "    }\n",
              "</style>\n",
              "<table border=\"1\" class=\"dataframe\">\n",
              "  <thead>\n",
              "    <tr style=\"text-align: right;\">\n",
              "      <th></th>\n",
              "      <th></th>\n",
              "      <th>calls</th>\n",
              "      <th>duration</th>\n",
              "    </tr>\n",
              "    <tr>\n",
              "      <th>user_id</th>\n",
              "      <th>month</th>\n",
              "      <th></th>\n",
              "      <th></th>\n",
              "    </tr>\n",
              "  </thead>\n",
              "  <tbody>\n",
              "    <tr>\n",
              "      <td rowspan=\"5\" valign=\"top\">1000</td>\n",
              "      <td>5</td>\n",
              "      <td>22</td>\n",
              "      <td>164.0</td>\n",
              "    </tr>\n",
              "    <tr>\n",
              "      <td>6</td>\n",
              "      <td>43</td>\n",
              "      <td>187.0</td>\n",
              "    </tr>\n",
              "    <tr>\n",
              "      <td>7</td>\n",
              "      <td>47</td>\n",
              "      <td>345.0</td>\n",
              "    </tr>\n",
              "    <tr>\n",
              "      <td>8</td>\n",
              "      <td>52</td>\n",
              "      <td>418.0</td>\n",
              "    </tr>\n",
              "    <tr>\n",
              "      <td>9</td>\n",
              "      <td>58</td>\n",
              "      <td>477.0</td>\n",
              "    </tr>\n",
              "    <tr>\n",
              "      <td>...</td>\n",
              "      <td>...</td>\n",
              "      <td>...</td>\n",
              "      <td>...</td>\n",
              "    </tr>\n",
              "    <tr>\n",
              "      <td>1498</td>\n",
              "      <td>10</td>\n",
              "      <td>41</td>\n",
              "      <td>258.0</td>\n",
              "    </tr>\n",
              "    <tr>\n",
              "      <td rowspan=\"4\" valign=\"top\">1499</td>\n",
              "      <td>9</td>\n",
              "      <td>9</td>\n",
              "      <td>71.0</td>\n",
              "    </tr>\n",
              "    <tr>\n",
              "      <td>10</td>\n",
              "      <td>68</td>\n",
              "      <td>473.0</td>\n",
              "    </tr>\n",
              "    <tr>\n",
              "      <td>11</td>\n",
              "      <td>74</td>\n",
              "      <td>624.0</td>\n",
              "    </tr>\n",
              "    <tr>\n",
              "      <td>12</td>\n",
              "      <td>69</td>\n",
              "      <td>505.0</td>\n",
              "    </tr>\n",
              "  </tbody>\n",
              "</table>\n",
              "<p>3174 rows × 2 columns</p>\n",
              "</div>"
            ],
            "text/plain": [
              "               calls  duration\n",
              "user_id month                 \n",
              "1000    5         22     164.0\n",
              "        6         43     187.0\n",
              "        7         47     345.0\n",
              "        8         52     418.0\n",
              "        9         58     477.0\n",
              "...              ...       ...\n",
              "1498    10        41     258.0\n",
              "1499    9          9      71.0\n",
              "        10        68     473.0\n",
              "        11        74     624.0\n",
              "        12        69     505.0\n",
              "\n",
              "[3174 rows x 2 columns]"
            ]
          },
          "metadata": {
            "tags": []
          },
          "execution_count": 18
        }
      ]
    },
    {
      "cell_type": "markdown",
      "metadata": {
        "id": "6xOOnxcaqDO-"
      },
      "source": [
        "<a id=\"27\"></a>\n",
        "#### Количество отправленных сообщений по месяцам"
      ]
    },
    {
      "cell_type": "code",
      "metadata": {
        "id": "FJxc2rO8qDO-"
      },
      "source": [
        "messages_in_month = messages.pivot_table(\n",
        "    index=['user_id', 'month'],\n",
        "    values='id',\n",
        "    aggfunc='count'\n",
        ")\n",
        "messages_in_month.columns = ['num_messages']"
      ],
      "execution_count": null,
      "outputs": []
    },
    {
      "cell_type": "markdown",
      "metadata": {
        "id": "9G9gMb6NqDO-"
      },
      "source": [
        "<a id=\"28\"></a>\n",
        "#### Объем израсходованного интернет-трафика по месяцам"
      ]
    },
    {
      "cell_type": "code",
      "metadata": {
        "id": "DNYUu3zgqDO-"
      },
      "source": [
        "internet_in_month = internet.pivot_table(\n",
        "    index=['user_id', 'month'],\n",
        "    values='mb_used',\n",
        "    aggfunc='sum'\n",
        ")\n",
        "internet_in_month.columns = ['mb']\n"
      ],
      "execution_count": null,
      "outputs": []
    },
    {
      "cell_type": "markdown",
      "metadata": {
        "id": "0tJxb_nYqDO_"
      },
      "source": [
        "<a id=\"29\"></a>\n",
        "#### Помесячная выручка"
      ]
    },
    {
      "cell_type": "code",
      "metadata": {
        "id": "XbdOE2WPqDO_"
      },
      "source": [
        "# Объеденим звонки минуты гигобайты каждого пользователя, и добавим тарифный план\n",
        "df_users = calls_in_month.merge(messages_in_month,  on=['user_id', 'month'], how='outer')\n",
        "df_users = df_users.merge(internet_in_month,  on=['user_id', 'month'], how='outer')\n",
        "df_users = df_users.reset_index(drop=False)\n",
        "df_users = df_users.merge(users[['user_id', 'tariff']], on='user_id', how='left')"
      ],
      "execution_count": null,
      "outputs": []
    },
    {
      "cell_type": "code",
      "metadata": {
        "scrolled": true,
        "id": "SlI__e9BqDO_",
        "outputId": "10670a6e-357c-441c-c4ee-64222086a2f3"
      },
      "source": [
        "# Заменю пропущенные значения на нули\n",
        "df_users.loc[df_users['duration'].isna(), 'duration'] = 0\n",
        "df_users.loc[df_users['calls'].isna(), 'calls'] = 0\n",
        "df_users.loc[df_users['num_messages'].isna(), 'num_messages'] = 0\n",
        "df_users.loc[df_users['mb'].isna(), 'mb'] = 0\n",
        "df_users.info()"
      ],
      "execution_count": null,
      "outputs": [
        {
          "output_type": "stream",
          "text": [
            "<class 'pandas.core.frame.DataFrame'>\n",
            "Int64Index: 3214 entries, 0 to 3213\n",
            "Data columns (total 7 columns):\n",
            "user_id         3214 non-null int64\n",
            "month           3214 non-null int64\n",
            "calls           3214 non-null float64\n",
            "duration        3214 non-null float64\n",
            "num_messages    3214 non-null float64\n",
            "mb              3214 non-null float64\n",
            "tariff          3214 non-null object\n",
            "dtypes: float64(4), int64(2), object(1)\n",
            "memory usage: 200.9+ KB\n"
          ],
          "name": "stdout"
        }
      ]
    },
    {
      "cell_type": "markdown",
      "metadata": {
        "id": "nNXg0Po8qDPA"
      },
      "source": [
        "Вычтите бесплатный лимит из суммарного количества звонков, сообщений и интернет-трафика; остаток умножьте на значение из тарифного плана; прибавьте абонентскую плату, соответствующую тарифному плану)."
      ]
    },
    {
      "cell_type": "code",
      "metadata": {
        "id": "Xxe8gJX0qDPA"
      },
      "source": [
        "# Пишем функции: \n",
        "def revenue_calc(row):\n",
        "    duration = row['duration']\n",
        "    calls = row['calls']\n",
        "    num_messages = row['num_messages']\n",
        "    mb = row['mb']\n",
        "    tariff = row['tariff']\n",
        "    \n",
        "    if tariff == 'smart':\n",
        "        over_duration = duration - tariffs.loc[0, 'minutes_included']\n",
        "        over_mb = mb - tariffs.loc[0, 'mb_per_month_included']\n",
        "        over_messages = num_messages - tariffs.loc[0, 'messages_included']\n",
        "        \n",
        "        if over_duration < 0:\n",
        "            over_duration = 0\n",
        "        if over_mb < 0:\n",
        "            over_mb = 0\n",
        "        if over_messages < 0:\n",
        "            over_messages = 0\n",
        "        \n",
        "        return (tariffs.loc[0, 'rub_per_message'] * over_messages + \n",
        "                   tariffs.loc[0, 'rub_per_gb'] * ((over_mb - 1)//1024+1) + \n",
        "                   tariffs.loc[0, 'rub_per_minute'] * over_duration + \n",
        "                   tariffs.loc[0, 'rub_monthly_fee']\n",
        "                  ) \n",
        "    else:\n",
        "        over_duration = duration - tariffs.loc[1, 'minutes_included']\n",
        "        over_mb = mb - tariffs.loc[1, 'mb_per_month_included']\n",
        "        over_messages = num_messages - tariffs.loc[1, 'messages_included']\n",
        "        \n",
        "        if over_duration < 0:\n",
        "            over_duration = 0\n",
        "        if over_mb < 0:\n",
        "            over_mb = 0\n",
        "        if over_messages < 0:\n",
        "            over_messages = 0\n",
        "        \n",
        "        return (tariffs.loc[1, 'rub_per_message'] * over_messages + \n",
        "                   tariffs.loc[1, 'rub_per_gb'] * ((over_mb - 1)//1024+1) + \n",
        "                   tariffs.loc[1, 'rub_per_minute'] * over_duration + \n",
        "                   tariffs.loc[1, 'rub_monthly_fee']\n",
        "                  )"
      ],
      "execution_count": null,
      "outputs": []
    },
    {
      "cell_type": "code",
      "metadata": {
        "id": "0dAczybuqDPA",
        "outputId": "1759a2c6-92b0-4654-8e41-1e32bed240c4"
      },
      "source": [
        "df_users['revenue'] = df_users.apply(revenue_calc, axis=1)\n",
        "df_users"
      ],
      "execution_count": null,
      "outputs": [
        {
          "output_type": "execute_result",
          "data": {
            "text/html": [
              "<div>\n",
              "<style scoped>\n",
              "    .dataframe tbody tr th:only-of-type {\n",
              "        vertical-align: middle;\n",
              "    }\n",
              "\n",
              "    .dataframe tbody tr th {\n",
              "        vertical-align: top;\n",
              "    }\n",
              "\n",
              "    .dataframe thead th {\n",
              "        text-align: right;\n",
              "    }\n",
              "</style>\n",
              "<table border=\"1\" class=\"dataframe\">\n",
              "  <thead>\n",
              "    <tr style=\"text-align: right;\">\n",
              "      <th></th>\n",
              "      <th>user_id</th>\n",
              "      <th>month</th>\n",
              "      <th>calls</th>\n",
              "      <th>duration</th>\n",
              "      <th>num_messages</th>\n",
              "      <th>mb</th>\n",
              "      <th>tariff</th>\n",
              "      <th>revenue</th>\n",
              "    </tr>\n",
              "  </thead>\n",
              "  <tbody>\n",
              "    <tr>\n",
              "      <td>0</td>\n",
              "      <td>1000</td>\n",
              "      <td>5</td>\n",
              "      <td>22.0</td>\n",
              "      <td>164.0</td>\n",
              "      <td>22.0</td>\n",
              "      <td>2257.0</td>\n",
              "      <td>ultra</td>\n",
              "      <td>1950.0</td>\n",
              "    </tr>\n",
              "    <tr>\n",
              "      <td>1</td>\n",
              "      <td>1000</td>\n",
              "      <td>6</td>\n",
              "      <td>43.0</td>\n",
              "      <td>187.0</td>\n",
              "      <td>60.0</td>\n",
              "      <td>23262.0</td>\n",
              "      <td>ultra</td>\n",
              "      <td>1950.0</td>\n",
              "    </tr>\n",
              "    <tr>\n",
              "      <td>2</td>\n",
              "      <td>1000</td>\n",
              "      <td>7</td>\n",
              "      <td>47.0</td>\n",
              "      <td>345.0</td>\n",
              "      <td>75.0</td>\n",
              "      <td>14017.0</td>\n",
              "      <td>ultra</td>\n",
              "      <td>1950.0</td>\n",
              "    </tr>\n",
              "    <tr>\n",
              "      <td>3</td>\n",
              "      <td>1000</td>\n",
              "      <td>8</td>\n",
              "      <td>52.0</td>\n",
              "      <td>418.0</td>\n",
              "      <td>81.0</td>\n",
              "      <td>14072.0</td>\n",
              "      <td>ultra</td>\n",
              "      <td>1950.0</td>\n",
              "    </tr>\n",
              "    <tr>\n",
              "      <td>4</td>\n",
              "      <td>1000</td>\n",
              "      <td>9</td>\n",
              "      <td>58.0</td>\n",
              "      <td>477.0</td>\n",
              "      <td>57.0</td>\n",
              "      <td>14583.0</td>\n",
              "      <td>ultra</td>\n",
              "      <td>1950.0</td>\n",
              "    </tr>\n",
              "    <tr>\n",
              "      <td>...</td>\n",
              "      <td>...</td>\n",
              "      <td>...</td>\n",
              "      <td>...</td>\n",
              "      <td>...</td>\n",
              "      <td>...</td>\n",
              "      <td>...</td>\n",
              "      <td>...</td>\n",
              "      <td>...</td>\n",
              "    </tr>\n",
              "    <tr>\n",
              "      <td>3209</td>\n",
              "      <td>1489</td>\n",
              "      <td>9</td>\n",
              "      <td>0.0</td>\n",
              "      <td>0.0</td>\n",
              "      <td>32.0</td>\n",
              "      <td>17246.0</td>\n",
              "      <td>smart</td>\n",
              "      <td>950.0</td>\n",
              "    </tr>\n",
              "    <tr>\n",
              "      <td>3210</td>\n",
              "      <td>1489</td>\n",
              "      <td>10</td>\n",
              "      <td>0.0</td>\n",
              "      <td>0.0</td>\n",
              "      <td>21.0</td>\n",
              "      <td>19598.0</td>\n",
              "      <td>smart</td>\n",
              "      <td>1550.0</td>\n",
              "    </tr>\n",
              "    <tr>\n",
              "      <td>3211</td>\n",
              "      <td>1489</td>\n",
              "      <td>11</td>\n",
              "      <td>0.0</td>\n",
              "      <td>0.0</td>\n",
              "      <td>20.0</td>\n",
              "      <td>17525.0</td>\n",
              "      <td>smart</td>\n",
              "      <td>1150.0</td>\n",
              "    </tr>\n",
              "    <tr>\n",
              "      <td>3212</td>\n",
              "      <td>1489</td>\n",
              "      <td>12</td>\n",
              "      <td>0.0</td>\n",
              "      <td>0.0</td>\n",
              "      <td>35.0</td>\n",
              "      <td>17349.0</td>\n",
              "      <td>smart</td>\n",
              "      <td>950.0</td>\n",
              "    </tr>\n",
              "    <tr>\n",
              "      <td>3213</td>\n",
              "      <td>1476</td>\n",
              "      <td>4</td>\n",
              "      <td>0.0</td>\n",
              "      <td>0.0</td>\n",
              "      <td>0.0</td>\n",
              "      <td>531.0</td>\n",
              "      <td>ultra</td>\n",
              "      <td>1950.0</td>\n",
              "    </tr>\n",
              "  </tbody>\n",
              "</table>\n",
              "<p>3214 rows × 8 columns</p>\n",
              "</div>"
            ],
            "text/plain": [
              "      user_id  month  calls  duration  num_messages       mb tariff  revenue\n",
              "0        1000      5   22.0     164.0          22.0   2257.0  ultra   1950.0\n",
              "1        1000      6   43.0     187.0          60.0  23262.0  ultra   1950.0\n",
              "2        1000      7   47.0     345.0          75.0  14017.0  ultra   1950.0\n",
              "3        1000      8   52.0     418.0          81.0  14072.0  ultra   1950.0\n",
              "4        1000      9   58.0     477.0          57.0  14583.0  ultra   1950.0\n",
              "...       ...    ...    ...       ...           ...      ...    ...      ...\n",
              "3209     1489      9    0.0       0.0          32.0  17246.0  smart    950.0\n",
              "3210     1489     10    0.0       0.0          21.0  19598.0  smart   1550.0\n",
              "3211     1489     11    0.0       0.0          20.0  17525.0  smart   1150.0\n",
              "3212     1489     12    0.0       0.0          35.0  17349.0  smart    950.0\n",
              "3213     1476      4    0.0       0.0           0.0    531.0  ultra   1950.0\n",
              "\n",
              "[3214 rows x 8 columns]"
            ]
          },
          "metadata": {
            "tags": []
          },
          "execution_count": 25
        }
      ]
    },
    {
      "cell_type": "markdown",
      "metadata": {
        "id": "sYVT3tGOqDPA"
      },
      "source": [
        "<a id=\"3\"></a>\n",
        "## Шаг 3. Проанализируйте данные"
      ]
    },
    {
      "cell_type": "markdown",
      "metadata": {
        "id": "PEWPcpQLqDPB"
      },
      "source": [
        "#### Посчитаем сколько минут разговора, сообщений и объем интернет трафика требуется каждому пользователю тарифа в месяц"
      ]
    },
    {
      "cell_type": "code",
      "metadata": {
        "id": "GVAOa2O8qDPB"
      },
      "source": [
        "average_demand = df_users.pivot_table(index='user_id', values=['duration', 'num_messages', 'mb', 'revenue', 'tariff'], aggfunc='median')"
      ],
      "execution_count": null,
      "outputs": []
    },
    {
      "cell_type": "code",
      "metadata": {
        "id": "sMdBVlGLqDPB",
        "outputId": "03247507-52ff-4be4-e9f4-52bb9289dcee"
      },
      "source": [
        "average_demand = average_demand.merge(users[['user_id', 'tariff',]], on='user_id', how='left')\n",
        "average_demand"
      ],
      "execution_count": null,
      "outputs": [
        {
          "output_type": "execute_result",
          "data": {
            "text/html": [
              "<div>\n",
              "<style scoped>\n",
              "    .dataframe tbody tr th:only-of-type {\n",
              "        vertical-align: middle;\n",
              "    }\n",
              "\n",
              "    .dataframe tbody tr th {\n",
              "        vertical-align: top;\n",
              "    }\n",
              "\n",
              "    .dataframe thead th {\n",
              "        text-align: right;\n",
              "    }\n",
              "</style>\n",
              "<table border=\"1\" class=\"dataframe\">\n",
              "  <thead>\n",
              "    <tr style=\"text-align: right;\">\n",
              "      <th></th>\n",
              "      <th>user_id</th>\n",
              "      <th>duration</th>\n",
              "      <th>mb</th>\n",
              "      <th>num_messages</th>\n",
              "      <th>revenue</th>\n",
              "      <th>tariff</th>\n",
              "    </tr>\n",
              "  </thead>\n",
              "  <tbody>\n",
              "    <tr>\n",
              "      <td>0</td>\n",
              "      <td>1000</td>\n",
              "      <td>344.5</td>\n",
              "      <td>14327.5</td>\n",
              "      <td>65.0</td>\n",
              "      <td>1950.0</td>\n",
              "      <td>ultra</td>\n",
              "    </tr>\n",
              "    <tr>\n",
              "      <td>1</td>\n",
              "      <td>1001</td>\n",
              "      <td>437.0</td>\n",
              "      <td>16259.5</td>\n",
              "      <td>0.0</td>\n",
              "      <td>950.0</td>\n",
              "      <td>smart</td>\n",
              "    </tr>\n",
              "    <tr>\n",
              "      <td>2</td>\n",
              "      <td>1002</td>\n",
              "      <td>221.0</td>\n",
              "      <td>17614.0</td>\n",
              "      <td>11.0</td>\n",
              "      <td>1150.0</td>\n",
              "      <td>smart</td>\n",
              "    </tr>\n",
              "    <tr>\n",
              "      <td>3</td>\n",
              "      <td>1003</td>\n",
              "      <td>844.0</td>\n",
              "      <td>11369.0</td>\n",
              "      <td>83.0</td>\n",
              "      <td>1950.0</td>\n",
              "      <td>ultra</td>\n",
              "    </tr>\n",
              "    <tr>\n",
              "      <td>4</td>\n",
              "      <td>1004</td>\n",
              "      <td>136.5</td>\n",
              "      <td>17831.0</td>\n",
              "      <td>154.5</td>\n",
              "      <td>1950.0</td>\n",
              "      <td>ultra</td>\n",
              "    </tr>\n",
              "    <tr>\n",
              "      <td>...</td>\n",
              "      <td>...</td>\n",
              "      <td>...</td>\n",
              "      <td>...</td>\n",
              "      <td>...</td>\n",
              "      <td>...</td>\n",
              "      <td>...</td>\n",
              "    </tr>\n",
              "    <tr>\n",
              "      <td>493</td>\n",
              "      <td>1495</td>\n",
              "      <td>969.0</td>\n",
              "      <td>29399.0</td>\n",
              "      <td>82.0</td>\n",
              "      <td>1950.0</td>\n",
              "      <td>ultra</td>\n",
              "    </tr>\n",
              "    <tr>\n",
              "      <td>494</td>\n",
              "      <td>1496</td>\n",
              "      <td>544.0</td>\n",
              "      <td>24077.0</td>\n",
              "      <td>41.5</td>\n",
              "      <td>2566.0</td>\n",
              "      <td>smart</td>\n",
              "    </tr>\n",
              "    <tr>\n",
              "      <td>495</td>\n",
              "      <td>1497</td>\n",
              "      <td>505.0</td>\n",
              "      <td>14180.0</td>\n",
              "      <td>17.0</td>\n",
              "      <td>565.0</td>\n",
              "      <td>smart</td>\n",
              "    </tr>\n",
              "    <tr>\n",
              "      <td>496</td>\n",
              "      <td>1498</td>\n",
              "      <td>336.0</td>\n",
              "      <td>21400.0</td>\n",
              "      <td>43.0</td>\n",
              "      <td>1850.0</td>\n",
              "      <td>smart</td>\n",
              "    </tr>\n",
              "    <tr>\n",
              "      <td>497</td>\n",
              "      <td>1499</td>\n",
              "      <td>489.0</td>\n",
              "      <td>15453.0</td>\n",
              "      <td>53.5</td>\n",
              "      <td>881.5</td>\n",
              "      <td>smart</td>\n",
              "    </tr>\n",
              "  </tbody>\n",
              "</table>\n",
              "<p>498 rows × 6 columns</p>\n",
              "</div>"
            ],
            "text/plain": [
              "     user_id  duration       mb  num_messages  revenue tariff\n",
              "0       1000     344.5  14327.5          65.0   1950.0  ultra\n",
              "1       1001     437.0  16259.5           0.0    950.0  smart\n",
              "2       1002     221.0  17614.0          11.0   1150.0  smart\n",
              "3       1003     844.0  11369.0          83.0   1950.0  ultra\n",
              "4       1004     136.5  17831.0         154.5   1950.0  ultra\n",
              "..       ...       ...      ...           ...      ...    ...\n",
              "493     1495     969.0  29399.0          82.0   1950.0  ultra\n",
              "494     1496     544.0  24077.0          41.5   2566.0  smart\n",
              "495     1497     505.0  14180.0          17.0    565.0  smart\n",
              "496     1498     336.0  21400.0          43.0   1850.0  smart\n",
              "497     1499     489.0  15453.0          53.5    881.5  smart\n",
              "\n",
              "[498 rows x 6 columns]"
            ]
          },
          "metadata": {
            "tags": []
          },
          "execution_count": 27
        }
      ]
    },
    {
      "cell_type": "markdown",
      "metadata": {
        "id": "eqoGPmWrqDPB"
      },
      "source": [
        "<a id=\"31\"></a>\n",
        "####  Среднее колличество по тарифам"
      ]
    },
    {
      "cell_type": "code",
      "metadata": {
        "id": "Oi8oHGUgqDPB",
        "outputId": "a98c8254-a8f7-4d55-c7b3-24180af819d7"
      },
      "source": [
        "tariff_consumption = average_demand.pivot_table(index='tariff', values=['duration', 'mb', 'num_messages', 'revenue'])\n",
        "tariff_consumption['rub_monthly_fee'] = [550, 1950]\n",
        "tariff_consumption = tariff_consumption.reset_index(drop=False)\n",
        "tariff_consumption\n"
      ],
      "execution_count": null,
      "outputs": [
        {
          "output_type": "execute_result",
          "data": {
            "text/html": [
              "<div>\n",
              "<style scoped>\n",
              "    .dataframe tbody tr th:only-of-type {\n",
              "        vertical-align: middle;\n",
              "    }\n",
              "\n",
              "    .dataframe tbody tr th {\n",
              "        vertical-align: top;\n",
              "    }\n",
              "\n",
              "    .dataframe thead th {\n",
              "        text-align: right;\n",
              "    }\n",
              "</style>\n",
              "<table border=\"1\" class=\"dataframe\">\n",
              "  <thead>\n",
              "    <tr style=\"text-align: right;\">\n",
              "      <th></th>\n",
              "      <th>tariff</th>\n",
              "      <th>duration</th>\n",
              "      <th>mb</th>\n",
              "      <th>num_messages</th>\n",
              "      <th>revenue</th>\n",
              "      <th>rub_monthly_fee</th>\n",
              "    </tr>\n",
              "  </thead>\n",
              "  <tbody>\n",
              "    <tr>\n",
              "      <td>0</td>\n",
              "      <td>smart</td>\n",
              "      <td>449.665714</td>\n",
              "      <td>16862.078571</td>\n",
              "      <td>33.770000</td>\n",
              "      <td>1329.301429</td>\n",
              "      <td>550</td>\n",
              "    </tr>\n",
              "    <tr>\n",
              "      <td>1</td>\n",
              "      <td>ultra</td>\n",
              "      <td>572.510135</td>\n",
              "      <td>20324.226351</td>\n",
              "      <td>56.983108</td>\n",
              "      <td>2061.993243</td>\n",
              "      <td>1950</td>\n",
              "    </tr>\n",
              "  </tbody>\n",
              "</table>\n",
              "</div>"
            ],
            "text/plain": [
              "  tariff    duration            mb  num_messages      revenue  rub_monthly_fee\n",
              "0  smart  449.665714  16862.078571     33.770000  1329.301429              550\n",
              "1  ultra  572.510135  20324.226351     56.983108  2061.993243             1950"
            ]
          },
          "metadata": {
            "tags": []
          },
          "execution_count": 28
        }
      ]
    },
    {
      "cell_type": "markdown",
      "metadata": {
        "id": "5Qmvd78_qDPB"
      },
      "source": [
        "<div class=\"alert alert-block alert-success\">\n",
        "<b>Комментарий ревьюера</b>\n",
        "\n",
        "Классная таблица. Также можно округлить ее значения.\n",
        "\n",
        "</div>\n"
      ]
    },
    {
      "cell_type": "markdown",
      "metadata": {
        "id": "EHoPgqFQqDPB"
      },
      "source": [
        "<a id=\"32\"></a>\n",
        "#### Выводы\n",
        "Пользователи тарифа Ультра потребляют больше услуг и платят больше. Пользователям тарифа смарт не хватает выделенного объема услуг, им приходится больше докупать."
      ]
    },
    {
      "cell_type": "code",
      "metadata": {
        "id": "Wt8iAamjqDPB",
        "outputId": "b34dddfb-94b2-4c2f-a6a4-4f6bb8643132"
      },
      "source": [
        "desc_stat = average_demand.pivot_table(index=['tariff'], values=['duration', 'mb', 'num_messages'], \n",
        "                    aggfunc=[np.median, np.var, np.std])\n",
        "desc_stat"
      ],
      "execution_count": null,
      "outputs": [
        {
          "output_type": "execute_result",
          "data": {
            "text/html": [
              "<div>\n",
              "<style scoped>\n",
              "    .dataframe tbody tr th:only-of-type {\n",
              "        vertical-align: middle;\n",
              "    }\n",
              "\n",
              "    .dataframe tbody tr th {\n",
              "        vertical-align: top;\n",
              "    }\n",
              "\n",
              "    .dataframe thead tr th {\n",
              "        text-align: left;\n",
              "    }\n",
              "\n",
              "    .dataframe thead tr:last-of-type th {\n",
              "        text-align: right;\n",
              "    }\n",
              "</style>\n",
              "<table border=\"1\" class=\"dataframe\">\n",
              "  <thead>\n",
              "    <tr>\n",
              "      <th></th>\n",
              "      <th colspan=\"3\" halign=\"left\">median</th>\n",
              "      <th colspan=\"3\" halign=\"left\">var</th>\n",
              "      <th colspan=\"3\" halign=\"left\">std</th>\n",
              "    </tr>\n",
              "    <tr>\n",
              "      <th></th>\n",
              "      <th>duration</th>\n",
              "      <th>mb</th>\n",
              "      <th>num_messages</th>\n",
              "      <th>duration</th>\n",
              "      <th>mb</th>\n",
              "      <th>num_messages</th>\n",
              "      <th>duration</th>\n",
              "      <th>mb</th>\n",
              "      <th>num_messages</th>\n",
              "    </tr>\n",
              "    <tr>\n",
              "      <th>tariff</th>\n",
              "      <th></th>\n",
              "      <th></th>\n",
              "      <th></th>\n",
              "      <th></th>\n",
              "      <th></th>\n",
              "      <th></th>\n",
              "      <th></th>\n",
              "      <th></th>\n",
              "      <th></th>\n",
              "    </tr>\n",
              "  </thead>\n",
              "  <tbody>\n",
              "    <tr>\n",
              "      <td>smart</td>\n",
              "      <td>453.00</td>\n",
              "      <td>16955.00</td>\n",
              "      <td>28.5</td>\n",
              "      <td>27070.144380</td>\n",
              "      <td>1.748434e+07</td>\n",
              "      <td>784.596662</td>\n",
              "      <td>164.530071</td>\n",
              "      <td>4181.428070</td>\n",
              "      <td>28.010653</td>\n",
              "    </tr>\n",
              "    <tr>\n",
              "      <td>ultra</td>\n",
              "      <td>550.25</td>\n",
              "      <td>19751.75</td>\n",
              "      <td>47.5</td>\n",
              "      <td>96918.253298</td>\n",
              "      <td>7.924393e+07</td>\n",
              "      <td>2424.263318</td>\n",
              "      <td>311.316966</td>\n",
              "      <td>8901.905696</td>\n",
              "      <td>49.236809</td>\n",
              "    </tr>\n",
              "  </tbody>\n",
              "</table>\n",
              "</div>"
            ],
            "text/plain": [
              "         median                                  var                \\\n",
              "       duration        mb num_messages      duration            mb   \n",
              "tariff                                                               \n",
              "smart    453.00  16955.00         28.5  27070.144380  1.748434e+07   \n",
              "ultra    550.25  19751.75         47.5  96918.253298  7.924393e+07   \n",
              "\n",
              "                            std                            \n",
              "       num_messages    duration           mb num_messages  \n",
              "tariff                                                     \n",
              "smart    784.596662  164.530071  4181.428070    28.010653  \n",
              "ultra   2424.263318  311.316966  8901.905696    49.236809  "
            ]
          },
          "metadata": {
            "tags": []
          },
          "execution_count": 29
        }
      ]
    },
    {
      "cell_type": "code",
      "metadata": {
        "id": "AtMUI-cNqDPC",
        "outputId": "79ed5601-ef05-400c-e75a-48b18a385899"
      },
      "source": [
        "import seaborn as sns\n",
        "for column in ['duration', 'mb', 'num_messages']:    \n",
        "    sns.catplot(x='tariff', y=column, kind=\"box\", data=average_demand, orient='v')"
      ],
      "execution_count": null,
      "outputs": [
        {
          "output_type": "display_data",
          "data": {
            "image/png": "[encoded data removed]",
            "text/plain": [
              "<Figure size 360x360 with 1 Axes>"
            ]
          },
          "metadata": {
            "tags": [],
            "needs_background": "light"
          }
        },
        {
          "output_type": "display_data",
          "data": {
            "image/png": "[encoded data removed]",
            "text/plain": [
              "<Figure size 360x360 with 1 Axes>"
            ]
          },
          "metadata": {
            "tags": [],
            "needs_background": "light"
          }
        },
        {
          "output_type": "display_data",
          "data": {
            "image/png": "[encoded data removed]",
            "text/plain": [
              "<Figure size 360x360 with 1 Axes>"
            ]
          },
          "metadata": {
            "tags": [],
            "needs_background": "light"
          }
        }
      ]
    },
    {
      "cell_type": "code",
      "metadata": {
        "id": "4QQprBYCqDPC",
        "outputId": "a5a6f6c0-5ff7-4f0e-8772-adfd323642a1"
      },
      "source": [
        "average_demand"
      ],
      "execution_count": null,
      "outputs": [
        {
          "output_type": "execute_result",
          "data": {
            "text/html": [
              "<div>\n",
              "<style scoped>\n",
              "    .dataframe tbody tr th:only-of-type {\n",
              "        vertical-align: middle;\n",
              "    }\n",
              "\n",
              "    .dataframe tbody tr th {\n",
              "        vertical-align: top;\n",
              "    }\n",
              "\n",
              "    .dataframe thead th {\n",
              "        text-align: right;\n",
              "    }\n",
              "</style>\n",
              "<table border=\"1\" class=\"dataframe\">\n",
              "  <thead>\n",
              "    <tr style=\"text-align: right;\">\n",
              "      <th></th>\n",
              "      <th>user_id</th>\n",
              "      <th>duration</th>\n",
              "      <th>mb</th>\n",
              "      <th>num_messages</th>\n",
              "      <th>revenue</th>\n",
              "      <th>tariff</th>\n",
              "    </tr>\n",
              "  </thead>\n",
              "  <tbody>\n",
              "    <tr>\n",
              "      <td>0</td>\n",
              "      <td>1000</td>\n",
              "      <td>344.5</td>\n",
              "      <td>14327.5</td>\n",
              "      <td>65.0</td>\n",
              "      <td>1950.0</td>\n",
              "      <td>ultra</td>\n",
              "    </tr>\n",
              "    <tr>\n",
              "      <td>1</td>\n",
              "      <td>1001</td>\n",
              "      <td>437.0</td>\n",
              "      <td>16259.5</td>\n",
              "      <td>0.0</td>\n",
              "      <td>950.0</td>\n",
              "      <td>smart</td>\n",
              "    </tr>\n",
              "    <tr>\n",
              "      <td>2</td>\n",
              "      <td>1002</td>\n",
              "      <td>221.0</td>\n",
              "      <td>17614.0</td>\n",
              "      <td>11.0</td>\n",
              "      <td>1150.0</td>\n",
              "      <td>smart</td>\n",
              "    </tr>\n",
              "    <tr>\n",
              "      <td>3</td>\n",
              "      <td>1003</td>\n",
              "      <td>844.0</td>\n",
              "      <td>11369.0</td>\n",
              "      <td>83.0</td>\n",
              "      <td>1950.0</td>\n",
              "      <td>ultra</td>\n",
              "    </tr>\n",
              "    <tr>\n",
              "      <td>4</td>\n",
              "      <td>1004</td>\n",
              "      <td>136.5</td>\n",
              "      <td>17831.0</td>\n",
              "      <td>154.5</td>\n",
              "      <td>1950.0</td>\n",
              "      <td>ultra</td>\n",
              "    </tr>\n",
              "    <tr>\n",
              "      <td>...</td>\n",
              "      <td>...</td>\n",
              "      <td>...</td>\n",
              "      <td>...</td>\n",
              "      <td>...</td>\n",
              "      <td>...</td>\n",
              "      <td>...</td>\n",
              "    </tr>\n",
              "    <tr>\n",
              "      <td>493</td>\n",
              "      <td>1495</td>\n",
              "      <td>969.0</td>\n",
              "      <td>29399.0</td>\n",
              "      <td>82.0</td>\n",
              "      <td>1950.0</td>\n",
              "      <td>ultra</td>\n",
              "    </tr>\n",
              "    <tr>\n",
              "      <td>494</td>\n",
              "      <td>1496</td>\n",
              "      <td>544.0</td>\n",
              "      <td>24077.0</td>\n",
              "      <td>41.5</td>\n",
              "      <td>2566.0</td>\n",
              "      <td>smart</td>\n",
              "    </tr>\n",
              "    <tr>\n",
              "      <td>495</td>\n",
              "      <td>1497</td>\n",
              "      <td>505.0</td>\n",
              "      <td>14180.0</td>\n",
              "      <td>17.0</td>\n",
              "      <td>565.0</td>\n",
              "      <td>smart</td>\n",
              "    </tr>\n",
              "    <tr>\n",
              "      <td>496</td>\n",
              "      <td>1498</td>\n",
              "      <td>336.0</td>\n",
              "      <td>21400.0</td>\n",
              "      <td>43.0</td>\n",
              "      <td>1850.0</td>\n",
              "      <td>smart</td>\n",
              "    </tr>\n",
              "    <tr>\n",
              "      <td>497</td>\n",
              "      <td>1499</td>\n",
              "      <td>489.0</td>\n",
              "      <td>15453.0</td>\n",
              "      <td>53.5</td>\n",
              "      <td>881.5</td>\n",
              "      <td>smart</td>\n",
              "    </tr>\n",
              "  </tbody>\n",
              "</table>\n",
              "<p>498 rows × 6 columns</p>\n",
              "</div>"
            ],
            "text/plain": [
              "     user_id  duration       mb  num_messages  revenue tariff\n",
              "0       1000     344.5  14327.5          65.0   1950.0  ultra\n",
              "1       1001     437.0  16259.5           0.0    950.0  smart\n",
              "2       1002     221.0  17614.0          11.0   1150.0  smart\n",
              "3       1003     844.0  11369.0          83.0   1950.0  ultra\n",
              "4       1004     136.5  17831.0         154.5   1950.0  ultra\n",
              "..       ...       ...      ...           ...      ...    ...\n",
              "493     1495     969.0  29399.0          82.0   1950.0  ultra\n",
              "494     1496     544.0  24077.0          41.5   2566.0  smart\n",
              "495     1497     505.0  14180.0          17.0    565.0  smart\n",
              "496     1498     336.0  21400.0          43.0   1850.0  smart\n",
              "497     1499     489.0  15453.0          53.5    881.5  smart\n",
              "\n",
              "[498 rows x 6 columns]"
            ]
          },
          "metadata": {
            "tags": []
          },
          "execution_count": 31
        }
      ]
    },
    {
      "cell_type": "markdown",
      "metadata": {
        "id": "JHGR4uuZqDPC"
      },
      "source": [
        "#### Вывод\n",
        "Дисперсию тарифов Ультра бошльше, и медианы смещены в большую сторону. Эти тарифы выгодее для оператора)"
      ]
    },
    {
      "cell_type": "code",
      "metadata": {
        "id": "61FQrnQqqDPC",
        "outputId": "87e13052-b142-48d0-c3e9-e60f68d105bb"
      },
      "source": [
        "smart = average_demand.query(\"tariff == 'smart'\")\n",
        "ultra = average_demand.query(\"tariff == 'ultra'\")\n",
        "sns.distplot(smart['duration'], kde=False)\n",
        "sns.distplot(ultra['duration'], kde=False)\n",
        "plt.legend(['smart', 'ultra'])\n",
        "plt.xlabel('количество минут')\n",
        "plt.ylabel('количество пользователей')\n",
        "plt.title('Гистограмма звонков')"
      ],
      "execution_count": null,
      "outputs": [
        {
          "output_type": "execute_result",
          "data": {
            "text/plain": [
              "Text(0.5, 1.0, 'Гистограмма звонков')"
            ]
          },
          "metadata": {
            "tags": []
          },
          "execution_count": 32
        },
        {
          "output_type": "display_data",
          "data": {
            "image/png": "[encoded data removed]",
            "text/plain": [
              "<Figure size 432x288 with 1 Axes>"
            ]
          },
          "metadata": {
            "tags": [],
            "needs_background": "light"
          }
        }
      ]
    },
    {
      "cell_type": "code",
      "metadata": {
        "id": "rTGLSJuDqDPC",
        "outputId": "67eb5c63-3583-42f2-dce9-03b469ad6964"
      },
      "source": [
        "smart"
      ],
      "execution_count": null,
      "outputs": [
        {
          "output_type": "execute_result",
          "data": {
            "text/html": [
              "<div>\n",
              "<style scoped>\n",
              "    .dataframe tbody tr th:only-of-type {\n",
              "        vertical-align: middle;\n",
              "    }\n",
              "\n",
              "    .dataframe tbody tr th {\n",
              "        vertical-align: top;\n",
              "    }\n",
              "\n",
              "    .dataframe thead th {\n",
              "        text-align: right;\n",
              "    }\n",
              "</style>\n",
              "<table border=\"1\" class=\"dataframe\">\n",
              "  <thead>\n",
              "    <tr style=\"text-align: right;\">\n",
              "      <th></th>\n",
              "      <th>user_id</th>\n",
              "      <th>duration</th>\n",
              "      <th>mb</th>\n",
              "      <th>num_messages</th>\n",
              "      <th>revenue</th>\n",
              "      <th>tariff</th>\n",
              "    </tr>\n",
              "  </thead>\n",
              "  <tbody>\n",
              "    <tr>\n",
              "      <td>1</td>\n",
              "      <td>1001</td>\n",
              "      <td>437.0</td>\n",
              "      <td>16259.5</td>\n",
              "      <td>0.0</td>\n",
              "      <td>950.0</td>\n",
              "      <td>smart</td>\n",
              "    </tr>\n",
              "    <tr>\n",
              "      <td>2</td>\n",
              "      <td>1002</td>\n",
              "      <td>221.0</td>\n",
              "      <td>17614.0</td>\n",
              "      <td>11.0</td>\n",
              "      <td>1150.0</td>\n",
              "      <td>smart</td>\n",
              "    </tr>\n",
              "    <tr>\n",
              "      <td>5</td>\n",
              "      <td>1005</td>\n",
              "      <td>609.5</td>\n",
              "      <td>7846.5</td>\n",
              "      <td>49.0</td>\n",
              "      <td>884.5</td>\n",
              "      <td>smart</td>\n",
              "    </tr>\n",
              "    <tr>\n",
              "      <td>6</td>\n",
              "      <td>1006</td>\n",
              "      <td>364.0</td>\n",
              "      <td>15554.0</td>\n",
              "      <td>0.0</td>\n",
              "      <td>750.0</td>\n",
              "      <td>smart</td>\n",
              "    </tr>\n",
              "    <tr>\n",
              "      <td>7</td>\n",
              "      <td>1007</td>\n",
              "      <td>489.0</td>\n",
              "      <td>14451.0</td>\n",
              "      <td>26.0</td>\n",
              "      <td>1017.0</td>\n",
              "      <td>smart</td>\n",
              "    </tr>\n",
              "    <tr>\n",
              "      <td>...</td>\n",
              "      <td>...</td>\n",
              "      <td>...</td>\n",
              "      <td>...</td>\n",
              "      <td>...</td>\n",
              "      <td>...</td>\n",
              "      <td>...</td>\n",
              "    </tr>\n",
              "    <tr>\n",
              "      <td>492</td>\n",
              "      <td>1494</td>\n",
              "      <td>426.0</td>\n",
              "      <td>17649.0</td>\n",
              "      <td>0.0</td>\n",
              "      <td>1150.0</td>\n",
              "      <td>smart</td>\n",
              "    </tr>\n",
              "    <tr>\n",
              "      <td>494</td>\n",
              "      <td>1496</td>\n",
              "      <td>544.0</td>\n",
              "      <td>24077.0</td>\n",
              "      <td>41.5</td>\n",
              "      <td>2566.0</td>\n",
              "      <td>smart</td>\n",
              "    </tr>\n",
              "    <tr>\n",
              "      <td>495</td>\n",
              "      <td>1497</td>\n",
              "      <td>505.0</td>\n",
              "      <td>14180.0</td>\n",
              "      <td>17.0</td>\n",
              "      <td>565.0</td>\n",
              "      <td>smart</td>\n",
              "    </tr>\n",
              "    <tr>\n",
              "      <td>496</td>\n",
              "      <td>1498</td>\n",
              "      <td>336.0</td>\n",
              "      <td>21400.0</td>\n",
              "      <td>43.0</td>\n",
              "      <td>1850.0</td>\n",
              "      <td>smart</td>\n",
              "    </tr>\n",
              "    <tr>\n",
              "      <td>497</td>\n",
              "      <td>1499</td>\n",
              "      <td>489.0</td>\n",
              "      <td>15453.0</td>\n",
              "      <td>53.5</td>\n",
              "      <td>881.5</td>\n",
              "      <td>smart</td>\n",
              "    </tr>\n",
              "  </tbody>\n",
              "</table>\n",
              "<p>350 rows × 6 columns</p>\n",
              "</div>"
            ],
            "text/plain": [
              "     user_id  duration       mb  num_messages  revenue tariff\n",
              "1       1001     437.0  16259.5           0.0    950.0  smart\n",
              "2       1002     221.0  17614.0          11.0   1150.0  smart\n",
              "5       1005     609.5   7846.5          49.0    884.5  smart\n",
              "6       1006     364.0  15554.0           0.0    750.0  smart\n",
              "7       1007     489.0  14451.0          26.0   1017.0  smart\n",
              "..       ...       ...      ...           ...      ...    ...\n",
              "492     1494     426.0  17649.0           0.0   1150.0  smart\n",
              "494     1496     544.0  24077.0          41.5   2566.0  smart\n",
              "495     1497     505.0  14180.0          17.0    565.0  smart\n",
              "496     1498     336.0  21400.0          43.0   1850.0  smart\n",
              "497     1499     489.0  15453.0          53.5    881.5  smart\n",
              "\n",
              "[350 rows x 6 columns]"
            ]
          },
          "metadata": {
            "tags": []
          },
          "execution_count": 33
        }
      ]
    },
    {
      "cell_type": "code",
      "metadata": {
        "id": "cc7HQsoLqDPD",
        "outputId": "40075049-f263-4f56-b811-293c6cd41571"
      },
      "source": [
        "smart = average_demand.query(\"tariff == 'smart'\")\n",
        "ultra = average_demand.query(\"tariff == 'ultra'\")\n",
        "sns.distplot(smart['mb'], kde=False)\n",
        "sns.distplot(ultra['mb'], kde=False)\n",
        "plt.legend(['smart', 'ultra'])\n",
        "plt.xlabel('количество минут')\n",
        "plt.ylabel('количество пользователей')\n",
        "plt.title('Гистограмма интернет траффика')"
      ],
      "execution_count": null,
      "outputs": [
        {
          "output_type": "execute_result",
          "data": {
            "text/plain": [
              "Text(0.5, 1.0, 'Гистограмма интернет траффика')"
            ]
          },
          "metadata": {
            "tags": []
          },
          "execution_count": 34
        },
        {
          "output_type": "display_data",
          "data": {
            "image/png": "[encoded data removed]",
            "text/plain": [
              "<Figure size 432x288 with 1 Axes>"
            ]
          },
          "metadata": {
            "tags": [],
            "needs_background": "light"
          }
        }
      ]
    },
    {
      "cell_type": "markdown",
      "metadata": {
        "id": "tS_I_UtdqDPD"
      },
      "source": [
        "<div class=\"alert alert-block alert-warning\">\n",
        "<b>Комментарий ревьюера</b>\n",
        "\n",
        "Только не минут, а мегабайт :)\n",
        "\n",
        "</div>\n"
      ]
    },
    {
      "cell_type": "code",
      "metadata": {
        "id": "U4r753cQqDPD",
        "outputId": "447fc2d4-bd63-4eb0-e658-d3e055184f46"
      },
      "source": [
        "smart = average_demand.query(\"tariff == 'smart'\")\n",
        "ultra = average_demand.query(\"tariff == 'ultra'\")\n",
        "sns.distplot(smart['num_messages'], kde=False)\n",
        "sns.distplot(ultra['num_messages'], kde=False)\n",
        "plt.legend(['smart', 'ultra'])\n",
        "plt.xlabel('количество минут')\n",
        "plt.ylabel('количество пользователей')\n",
        "plt.title('Гистограмма сообщений')"
      ],
      "execution_count": null,
      "outputs": [
        {
          "output_type": "execute_result",
          "data": {
            "text/plain": [
              "Text(0.5, 1.0, 'Гистограмма сообщений')"
            ]
          },
          "metadata": {
            "tags": []
          },
          "execution_count": 35
        },
        {
          "output_type": "display_data",
          "data": {
            "image/png": "[encoded data removed]",
            "text/plain": [
              "<Figure size 432x288 with 1 Axes>"
            ]
          },
          "metadata": {
            "tags": [],
            "needs_background": "light"
          }
        }
      ]
    },
    {
      "cell_type": "markdown",
      "metadata": {
        "id": "NRMKTfpMqDPD"
      },
      "source": [
        "#### Вывод\n",
        "Отображенные гистаграммы показывают, что дисперсия по \"Ультра\"  больше, чем у пользователей с тарифом \"Смарт\". \n",
        "Пользователи тарифа Смарт явно себя ограничивают"
      ]
    },
    {
      "cell_type": "markdown",
      "metadata": {
        "id": "08xLJGAPqDPD"
      },
      "source": [
        "<div class=\"alert alert-block alert-success\">\n",
        "<b>Комментарий ревьюера</b>\n",
        "\n",
        "Графики верные, показатели найдены нужные.\n",
        "\n",
        "</div>\n"
      ]
    },
    {
      "cell_type": "markdown",
      "metadata": {
        "id": "98EmQFwOqDPD"
      },
      "source": [
        "<a id=\"4\"></a>\n",
        "## Шаг 4. Проверка гипотез"
      ]
    },
    {
      "cell_type": "markdown",
      "metadata": {
        "id": "WX9bemMoqDPD"
      },
      "source": [
        "<a id=\"41\"></a>\n",
        "#### Cредняя выручка пользователей тарифов «Ультра» и «Смарт» различается\n",
        "Формируем гимотезы:\n",
        "    \n",
        "H0  — Средняя выручка пользователей тарифов \"Ультра\" и \"Смарт\" равна\n",
        "\n",
        "H1  — Средняя выручка пользователей тарифов \"Ультра\" и \"Смарт\" различается\n",
        "\n",
        "Критический уровень статистической значимости 5%, можно брать и меньше, но есть риск отбросить работающую гипотезу.\n"
      ]
    },
    {
      "cell_type": "code",
      "metadata": {
        "id": "tUA-PaQ8qDPD"
      },
      "source": [
        ""
      ],
      "execution_count": null,
      "outputs": []
    },
    {
      "cell_type": "code",
      "metadata": {
        "id": "6KP5jDGjqDPE",
        "outputId": "0bce9a6a-5de9-4c6f-aa1b-a1242d03d71b"
      },
      "source": [
        "alpha = 0.05 \n",
        "results = st.ttest_ind(\n",
        "    smart['revenue'], \n",
        "    ultra['revenue'])\n",
        "\n",
        "print('p-значение:', results.pvalue)\n",
        "\n",
        "if (results.pvalue < alpha):\n",
        "    print(\"Отвергаем нулевую гипотезу\")\n",
        "else:\n",
        "    print(\"Не получилось отвергнуть нулевую гипотезу\")"
      ],
      "execution_count": null,
      "outputs": [
        {
          "output_type": "stream",
          "text": [
            "p-значение: 4.346578379453916e-28\n",
            "Отвергаем нулевую гипотезу\n"
          ],
          "name": "stdout"
        }
      ]
    },
    {
      "cell_type": "markdown",
      "metadata": {
        "id": "OtnvS9IFqDPE"
      },
      "source": [
        "#### Вывод\n",
        "Вероятность очень близкая к нулю говорит нам что H0 гипотеза не подтвердилась, средняя выручка пользователей тарифов «Ультра» и «Смарт» дейтсвительно различаются"
      ]
    },
    {
      "cell_type": "markdown",
      "metadata": {
        "id": "fzxggXz6qDPE"
      },
      "source": [
        "<a id=\"42\"></a>\n",
        "#### Средняя выручка пользователей из Москвы отличается от выручки пользователей из других регионов\n",
        "H0  — средняя выручка пользователей из Москвы равна средней выручке пользователей из других регионов.\n",
        "\n",
        "H1  — средняя выручка пользователей из Москвы отличается от средней выручке пользователей из других регионов.\n",
        "\n",
        "Критический уровень статистической значимости 5%"
      ]
    },
    {
      "cell_type": "code",
      "metadata": {
        "id": "W5It8HtFqDPE"
      },
      "source": [
        "average_demand = average_demand.merge(users[['user_id', 'city',]], on='user_id', how='left')\n"
      ],
      "execution_count": null,
      "outputs": []
    },
    {
      "cell_type": "code",
      "metadata": {
        "id": "wP4GsiD7qDPE"
      },
      "source": [
        "moscow = average_demand.query('city == \"Москва\"')['revenue']\n",
        "regions = average_demand.query('city != \"Москва\"')['revenue']\n"
      ],
      "execution_count": null,
      "outputs": []
    },
    {
      "cell_type": "code",
      "metadata": {
        "id": "QXZiOm36qDPE",
        "outputId": "82a0469d-530f-48e6-9c41-2f5c72de4f39"
      },
      "source": [
        "alpha = 0.05 \n",
        "results = st.ttest_ind(moscow, regions)\n",
        "\n",
        "print('p-значение:', results.pvalue)\n",
        "\n",
        "if (results.pvalue < alpha):\n",
        "    print(\"Отвергаем нулевую гипотезу\")\n",
        "else:\n",
        "    print(\"Не получилось отвергнуть нулевую гипотезу\")"
      ],
      "execution_count": null,
      "outputs": [
        {
          "output_type": "stream",
          "text": [
            "p-значение: 0.3195022604418513\n",
            "Не получилось отвергнуть нулевую гипотезу\n"
          ],
          "name": "stdout"
        }
      ]
    },
    {
      "cell_type": "markdown",
      "metadata": {
        "id": "xV8wC5RAqDPE"
      },
      "source": [
        "Вероятность составляет 32% - не получилось отвергнуть нулевую гипотезу. Это значит, что средняя выручка из Москвы не отличается от выручки из других регионов."
      ]
    },
    {
      "cell_type": "code",
      "metadata": {
        "id": "KYVl23bIqDPE",
        "outputId": "eb3b665d-22bd-4e04-af00-4202e257d337"
      },
      "source": [
        "users['tariff'].value_counts() #посчитаем колличество пользователей каждого тарифа\n"
      ],
      "execution_count": null,
      "outputs": [
        {
          "output_type": "execute_result",
          "data": {
            "text/plain": [
              "smart    351\n",
              "ultra    149\n",
              "Name: tariff, dtype: int64"
            ]
          },
          "metadata": {
            "tags": []
          },
          "execution_count": 40
        }
      ]
    },
    {
      "cell_type": "markdown",
      "metadata": {
        "id": "Li4WtDcZqDPF"
      },
      "source": [
        "<a id=\"5\"></a>\n",
        "## Общий вывод"
      ]
    },
    {
      "cell_type": "markdown",
      "metadata": {
        "id": "RkyH5FhzqDPF"
      },
      "source": [
        "1. По результатам статистического анализа для оператора доходы от тарифа «Ультра»(2062р.) больше, чем от тарифа «Смарт»(1329р.)\n",
        "2. Судя по гистограммам не все пользователи тарифа «Ультра» выробатывают весь доступный лимит.\n",
        "3. Колличество пользователей таррифа «Смарт» больше в 2 раза, что можно объяснить более выгодными условиями\n",
        "4. Доплат по тарифу «Ультра» очень мало. В тарифе «Смарт» часто доплачивают за дополнительные пакеты гигобайт\n",
        "5. Средние доходы от пользователей в Москве не отличаются от доходов в других населенных пунктах\n",
        "\n",
        "Отвечая на вопрос какой тариф лучше для оператора, это тариф Ультра."
      ]
    }
  ]
}