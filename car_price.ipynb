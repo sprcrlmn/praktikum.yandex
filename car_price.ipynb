{
  "nbformat": 4,
  "nbformat_minor": 0,
  "metadata": {
    "kernelspec": {
      "display_name": "Python 3",
      "language": "python",
      "name": "python3"
    },
    "language_info": {
      "codemirror_mode": {
        "name": "ipython",
        "version": 3
      },
      "file_extension": ".py",
      "mimetype": "text/x-python",
      "name": "python",
      "nbconvert_exporter": "python",
      "pygments_lexer": "ipython3",
      "version": "3.7.8"
    },
    "toc": {
      "base_numbering": 1,
      "nav_menu": {},
      "number_sections": true,
      "sideBar": true,
      "skip_h1_title": true,
      "title_cell": "Оглавление",
      "title_sidebar": "Contents",
      "toc_cell": true,
      "toc_position": {
        "height": "757px",
        "left": "471px",
        "top": "383px",
        "width": "366.391px"
      },
      "toc_section_display": true,
      "toc_window_display": false
    },
    "colab": {
      "name": "578283bc-1fcc-49dd-af05-1698d71a2c7d.ipynb",
      "provenance": []
    }
  },
  "cells": [
    {
      "cell_type": "markdown",
      "metadata": {
        "id": "__ctd0euwI_h"
      },
      "source": [
        "# Определение стоимости автомобилей"
      ]
    },
    {
      "cell_type": "markdown",
      "metadata": {
        "id": "zVtpQcDawI_h"
      },
      "source": [
        "Сервис по продаже автомобилей с пробегом «Не бит, не крашен» разрабатывает приложение для привлечения новых клиентов. В нём можно быстро узнать рыночную стоимость своего автомобиля. В вашем распоряжении исторические данные: технические характеристики, комплектации и цены автомобилей. Вам нужно построить модель для определения стоимости. \n",
        "\n",
        "Заказчику важны:\n",
        "\n",
        "- качество предсказания;\n",
        "- скорость предсказания;\n",
        "- время обучения."
      ]
    },
    {
      "cell_type": "markdown",
      "metadata": {
        "id": "sOROUDeRwI_j"
      },
      "source": [
        "## Подготовка данных"
      ]
    },
    {
      "cell_type": "code",
      "metadata": {
        "id": "WgPdI2BQwI_j"
      },
      "source": [
        "import matplotlib.pyplot as plt\n",
        "import numpy as np\n",
        "import pandas as pd\n",
        "import warnings\n",
        "from sklearn.model_selection import train_test_split\n",
        "from sklearn.preprocessing import StandardScaler\n",
        "from sklearn.metrics import mean_squared_error\n",
        "from sklearn.preprocessing import OrdinalEncoder\n",
        "from sklearn.linear_model import LinearRegression\n",
        "from sklearn.linear_model import Ridge\n",
        "from sklearn.tree import DecisionTreeRegressor\n",
        "from catboost import Pool, CatBoostRegressor, cv\n",
        "from lightgbm import LGBMRegressor\n",
        "warnings.filterwarnings('ignore')"
      ],
      "execution_count": null,
      "outputs": []
    },
    {
      "cell_type": "markdown",
      "metadata": {
        "id": "gCkmkG5cwI_m"
      },
      "source": [
        "### Изучение данных"
      ]
    },
    {
      "cell_type": "code",
      "metadata": {
        "id": "83M3JxMtwI_m",
        "outputId": "c2bc960a-99fd-445a-a3a3-faeb9934da7b"
      },
      "source": [
        "data = pd.read_csv(\"/datasets/autos.csv\")\n",
        "data.head()"
      ],
      "execution_count": null,
      "outputs": [
        {
          "data": {
            "text/html": [
              "<div>\n",
              "<style scoped>\n",
              "    .dataframe tbody tr th:only-of-type {\n",
              "        vertical-align: middle;\n",
              "    }\n",
              "\n",
              "    .dataframe tbody tr th {\n",
              "        vertical-align: top;\n",
              "    }\n",
              "\n",
              "    .dataframe thead th {\n",
              "        text-align: right;\n",
              "    }\n",
              "</style>\n",
              "<table border=\"1\" class=\"dataframe\">\n",
              "  <thead>\n",
              "    <tr style=\"text-align: right;\">\n",
              "      <th></th>\n",
              "      <th>DateCrawled</th>\n",
              "      <th>Price</th>\n",
              "      <th>VehicleType</th>\n",
              "      <th>RegistrationYear</th>\n",
              "      <th>Gearbox</th>\n",
              "      <th>Power</th>\n",
              "      <th>Model</th>\n",
              "      <th>Kilometer</th>\n",
              "      <th>RegistrationMonth</th>\n",
              "      <th>FuelType</th>\n",
              "      <th>Brand</th>\n",
              "      <th>NotRepaired</th>\n",
              "      <th>DateCreated</th>\n",
              "      <th>NumberOfPictures</th>\n",
              "      <th>PostalCode</th>\n",
              "      <th>LastSeen</th>\n",
              "    </tr>\n",
              "  </thead>\n",
              "  <tbody>\n",
              "    <tr>\n",
              "      <td>0</td>\n",
              "      <td>2016-03-24 11:52:17</td>\n",
              "      <td>480</td>\n",
              "      <td>NaN</td>\n",
              "      <td>1993</td>\n",
              "      <td>manual</td>\n",
              "      <td>0</td>\n",
              "      <td>golf</td>\n",
              "      <td>150000</td>\n",
              "      <td>0</td>\n",
              "      <td>petrol</td>\n",
              "      <td>volkswagen</td>\n",
              "      <td>NaN</td>\n",
              "      <td>2016-03-24 00:00:00</td>\n",
              "      <td>0</td>\n",
              "      <td>70435</td>\n",
              "      <td>2016-04-07 03:16:57</td>\n",
              "    </tr>\n",
              "    <tr>\n",
              "      <td>1</td>\n",
              "      <td>2016-03-24 10:58:45</td>\n",
              "      <td>18300</td>\n",
              "      <td>coupe</td>\n",
              "      <td>2011</td>\n",
              "      <td>manual</td>\n",
              "      <td>190</td>\n",
              "      <td>NaN</td>\n",
              "      <td>125000</td>\n",
              "      <td>5</td>\n",
              "      <td>gasoline</td>\n",
              "      <td>audi</td>\n",
              "      <td>yes</td>\n",
              "      <td>2016-03-24 00:00:00</td>\n",
              "      <td>0</td>\n",
              "      <td>66954</td>\n",
              "      <td>2016-04-07 01:46:50</td>\n",
              "    </tr>\n",
              "    <tr>\n",
              "      <td>2</td>\n",
              "      <td>2016-03-14 12:52:21</td>\n",
              "      <td>9800</td>\n",
              "      <td>suv</td>\n",
              "      <td>2004</td>\n",
              "      <td>auto</td>\n",
              "      <td>163</td>\n",
              "      <td>grand</td>\n",
              "      <td>125000</td>\n",
              "      <td>8</td>\n",
              "      <td>gasoline</td>\n",
              "      <td>jeep</td>\n",
              "      <td>NaN</td>\n",
              "      <td>2016-03-14 00:00:00</td>\n",
              "      <td>0</td>\n",
              "      <td>90480</td>\n",
              "      <td>2016-04-05 12:47:46</td>\n",
              "    </tr>\n",
              "    <tr>\n",
              "      <td>3</td>\n",
              "      <td>2016-03-17 16:54:04</td>\n",
              "      <td>1500</td>\n",
              "      <td>small</td>\n",
              "      <td>2001</td>\n",
              "      <td>manual</td>\n",
              "      <td>75</td>\n",
              "      <td>golf</td>\n",
              "      <td>150000</td>\n",
              "      <td>6</td>\n",
              "      <td>petrol</td>\n",
              "      <td>volkswagen</td>\n",
              "      <td>no</td>\n",
              "      <td>2016-03-17 00:00:00</td>\n",
              "      <td>0</td>\n",
              "      <td>91074</td>\n",
              "      <td>2016-03-17 17:40:17</td>\n",
              "    </tr>\n",
              "    <tr>\n",
              "      <td>4</td>\n",
              "      <td>2016-03-31 17:25:20</td>\n",
              "      <td>3600</td>\n",
              "      <td>small</td>\n",
              "      <td>2008</td>\n",
              "      <td>manual</td>\n",
              "      <td>69</td>\n",
              "      <td>fabia</td>\n",
              "      <td>90000</td>\n",
              "      <td>7</td>\n",
              "      <td>gasoline</td>\n",
              "      <td>skoda</td>\n",
              "      <td>no</td>\n",
              "      <td>2016-03-31 00:00:00</td>\n",
              "      <td>0</td>\n",
              "      <td>60437</td>\n",
              "      <td>2016-04-06 10:17:21</td>\n",
              "    </tr>\n",
              "  </tbody>\n",
              "</table>\n",
              "</div>"
            ],
            "text/plain": [
              "           DateCrawled  Price VehicleType  RegistrationYear Gearbox  Power  \\\n",
              "0  2016-03-24 11:52:17    480         NaN              1993  manual      0   \n",
              "1  2016-03-24 10:58:45  18300       coupe              2011  manual    190   \n",
              "2  2016-03-14 12:52:21   9800         suv              2004    auto    163   \n",
              "3  2016-03-17 16:54:04   1500       small              2001  manual     75   \n",
              "4  2016-03-31 17:25:20   3600       small              2008  manual     69   \n",
              "\n",
              "   Model  Kilometer  RegistrationMonth  FuelType       Brand NotRepaired  \\\n",
              "0   golf     150000                  0    petrol  volkswagen         NaN   \n",
              "1    NaN     125000                  5  gasoline        audi         yes   \n",
              "2  grand     125000                  8  gasoline        jeep         NaN   \n",
              "3   golf     150000                  6    petrol  volkswagen          no   \n",
              "4  fabia      90000                  7  gasoline       skoda          no   \n",
              "\n",
              "           DateCreated  NumberOfPictures  PostalCode             LastSeen  \n",
              "0  2016-03-24 00:00:00                 0       70435  2016-04-07 03:16:57  \n",
              "1  2016-03-24 00:00:00                 0       66954  2016-04-07 01:46:50  \n",
              "2  2016-03-14 00:00:00                 0       90480  2016-04-05 12:47:46  \n",
              "3  2016-03-17 00:00:00                 0       91074  2016-03-17 17:40:17  \n",
              "4  2016-03-31 00:00:00                 0       60437  2016-04-06 10:17:21  "
            ]
          },
          "execution_count": 2,
          "metadata": {},
          "output_type": "execute_result"
        }
      ]
    },
    {
      "cell_type": "code",
      "metadata": {
        "id": "HDE9CoM3wI_n",
        "outputId": "4b3f45a3-1d5b-4160-b9ec-efb7c31b1d47"
      },
      "source": [
        "display(data.info())"
      ],
      "execution_count": null,
      "outputs": [
        {
          "name": "stdout",
          "output_type": "stream",
          "text": [
            "<class 'pandas.core.frame.DataFrame'>\n",
            "RangeIndex: 354369 entries, 0 to 354368\n",
            "Data columns (total 16 columns):\n",
            "DateCrawled          354369 non-null object\n",
            "Price                354369 non-null int64\n",
            "VehicleType          316879 non-null object\n",
            "RegistrationYear     354369 non-null int64\n",
            "Gearbox              334536 non-null object\n",
            "Power                354369 non-null int64\n",
            "Model                334664 non-null object\n",
            "Kilometer            354369 non-null int64\n",
            "RegistrationMonth    354369 non-null int64\n",
            "FuelType             321474 non-null object\n",
            "Brand                354369 non-null object\n",
            "NotRepaired          283215 non-null object\n",
            "DateCreated          354369 non-null object\n",
            "NumberOfPictures     354369 non-null int64\n",
            "PostalCode           354369 non-null int64\n",
            "LastSeen             354369 non-null object\n",
            "dtypes: int64(7), object(9)\n",
            "memory usage: 43.3+ MB\n"
          ]
        },
        {
          "data": {
            "text/plain": [
              "None"
            ]
          },
          "metadata": {},
          "output_type": "display_data"
        }
      ]
    },
    {
      "cell_type": "markdown",
      "metadata": {
        "id": "EKf2v4lvwI_n"
      },
      "source": [
        "**Признаки**  \n",
        "DateCrawled — дата скачивания анкеты из базы  \n",
        "VehicleType — тип автомобильного кузова  \n",
        "RegistrationYear — год регистрации автомобиля  \n",
        "Gearbox — тип коробки передач  \n",
        "Power — мощность (л. с.)  \n",
        "Model — модель автомобиля  \n",
        "Kilometer — пробег (км)  \n",
        "RegistrationMonth — месяц регистрации автомобиля  \n",
        "FuelType — тип топлива  \n",
        "Brand — марка автомобиля  \n",
        "NotRepaired — была машина в ремонте или нет  \n",
        "DateCreated — дата создания анкеты  \n",
        "NumberOfPictures — количество фотографий автомобиля  \n",
        "PostalCode — почтовый индекс владельца анкеты (пользователя)  \n",
        "LastSeen — дата последней активности пользователя  \n",
        "**Целевой признак**  \n",
        "Price — цена (евро)  "
      ]
    },
    {
      "cell_type": "code",
      "metadata": {
        "id": "DNHDRituwI_o",
        "outputId": "515e318f-30a2-4378-fd88-96c2bfdd8511"
      },
      "source": [
        "data[data.duplicated(keep=False)]"
      ],
      "execution_count": null,
      "outputs": [
        {
          "data": {
            "text/html": [
              "<div>\n",
              "<style scoped>\n",
              "    .dataframe tbody tr th:only-of-type {\n",
              "        vertical-align: middle;\n",
              "    }\n",
              "\n",
              "    .dataframe tbody tr th {\n",
              "        vertical-align: top;\n",
              "    }\n",
              "\n",
              "    .dataframe thead th {\n",
              "        text-align: right;\n",
              "    }\n",
              "</style>\n",
              "<table border=\"1\" class=\"dataframe\">\n",
              "  <thead>\n",
              "    <tr style=\"text-align: right;\">\n",
              "      <th></th>\n",
              "      <th>DateCrawled</th>\n",
              "      <th>Price</th>\n",
              "      <th>VehicleType</th>\n",
              "      <th>RegistrationYear</th>\n",
              "      <th>Gearbox</th>\n",
              "      <th>Power</th>\n",
              "      <th>Model</th>\n",
              "      <th>Kilometer</th>\n",
              "      <th>RegistrationMonth</th>\n",
              "      <th>FuelType</th>\n",
              "      <th>Brand</th>\n",
              "      <th>NotRepaired</th>\n",
              "      <th>DateCreated</th>\n",
              "      <th>NumberOfPictures</th>\n",
              "      <th>PostalCode</th>\n",
              "      <th>LastSeen</th>\n",
              "    </tr>\n",
              "  </thead>\n",
              "  <tbody>\n",
              "    <tr>\n",
              "      <td>41529</td>\n",
              "      <td>2016-03-18 18:46:15</td>\n",
              "      <td>1999</td>\n",
              "      <td>wagon</td>\n",
              "      <td>2001</td>\n",
              "      <td>manual</td>\n",
              "      <td>131</td>\n",
              "      <td>passat</td>\n",
              "      <td>150000</td>\n",
              "      <td>7</td>\n",
              "      <td>gasoline</td>\n",
              "      <td>volkswagen</td>\n",
              "      <td>no</td>\n",
              "      <td>2016-03-18 00:00:00</td>\n",
              "      <td>0</td>\n",
              "      <td>36391</td>\n",
              "      <td>2016-03-18 18:46:15</td>\n",
              "    </tr>\n",
              "    <tr>\n",
              "      <td>88087</td>\n",
              "      <td>2016-03-08 18:42:48</td>\n",
              "      <td>1799</td>\n",
              "      <td>coupe</td>\n",
              "      <td>1999</td>\n",
              "      <td>auto</td>\n",
              "      <td>193</td>\n",
              "      <td>clk</td>\n",
              "      <td>20000</td>\n",
              "      <td>7</td>\n",
              "      <td>petrol</td>\n",
              "      <td>mercedes_benz</td>\n",
              "      <td>no</td>\n",
              "      <td>2016-03-08 00:00:00</td>\n",
              "      <td>0</td>\n",
              "      <td>89518</td>\n",
              "      <td>2016-03-09 09:46:57</td>\n",
              "    </tr>\n",
              "    <tr>\n",
              "      <td>90964</td>\n",
              "      <td>2016-03-28 00:56:10</td>\n",
              "      <td>1000</td>\n",
              "      <td>small</td>\n",
              "      <td>2002</td>\n",
              "      <td>manual</td>\n",
              "      <td>83</td>\n",
              "      <td>other</td>\n",
              "      <td>150000</td>\n",
              "      <td>1</td>\n",
              "      <td>petrol</td>\n",
              "      <td>suzuki</td>\n",
              "      <td>no</td>\n",
              "      <td>2016-03-28 00:00:00</td>\n",
              "      <td>0</td>\n",
              "      <td>66589</td>\n",
              "      <td>2016-03-28 08:46:21</td>\n",
              "    </tr>\n",
              "    <tr>\n",
              "      <td>171088</td>\n",
              "      <td>2016-03-08 18:42:48</td>\n",
              "      <td>1799</td>\n",
              "      <td>coupe</td>\n",
              "      <td>1999</td>\n",
              "      <td>auto</td>\n",
              "      <td>193</td>\n",
              "      <td>clk</td>\n",
              "      <td>20000</td>\n",
              "      <td>7</td>\n",
              "      <td>petrol</td>\n",
              "      <td>mercedes_benz</td>\n",
              "      <td>no</td>\n",
              "      <td>2016-03-08 00:00:00</td>\n",
              "      <td>0</td>\n",
              "      <td>89518</td>\n",
              "      <td>2016-03-09 09:46:57</td>\n",
              "    </tr>\n",
              "    <tr>\n",
              "      <td>187735</td>\n",
              "      <td>2016-04-03 09:01:15</td>\n",
              "      <td>4699</td>\n",
              "      <td>coupe</td>\n",
              "      <td>2003</td>\n",
              "      <td>auto</td>\n",
              "      <td>218</td>\n",
              "      <td>clk</td>\n",
              "      <td>125000</td>\n",
              "      <td>6</td>\n",
              "      <td>petrol</td>\n",
              "      <td>mercedes_benz</td>\n",
              "      <td>yes</td>\n",
              "      <td>2016-04-03 00:00:00</td>\n",
              "      <td>0</td>\n",
              "      <td>75196</td>\n",
              "      <td>2016-04-07 09:44:54</td>\n",
              "    </tr>\n",
              "    <tr>\n",
              "      <td>231258</td>\n",
              "      <td>2016-03-28 00:56:10</td>\n",
              "      <td>1000</td>\n",
              "      <td>small</td>\n",
              "      <td>2002</td>\n",
              "      <td>manual</td>\n",
              "      <td>83</td>\n",
              "      <td>other</td>\n",
              "      <td>150000</td>\n",
              "      <td>1</td>\n",
              "      <td>petrol</td>\n",
              "      <td>suzuki</td>\n",
              "      <td>no</td>\n",
              "      <td>2016-03-28 00:00:00</td>\n",
              "      <td>0</td>\n",
              "      <td>66589</td>\n",
              "      <td>2016-03-28 08:46:21</td>\n",
              "    </tr>\n",
              "    <tr>\n",
              "      <td>258109</td>\n",
              "      <td>2016-04-03 09:01:15</td>\n",
              "      <td>4699</td>\n",
              "      <td>coupe</td>\n",
              "      <td>2003</td>\n",
              "      <td>auto</td>\n",
              "      <td>218</td>\n",
              "      <td>clk</td>\n",
              "      <td>125000</td>\n",
              "      <td>6</td>\n",
              "      <td>petrol</td>\n",
              "      <td>mercedes_benz</td>\n",
              "      <td>yes</td>\n",
              "      <td>2016-04-03 00:00:00</td>\n",
              "      <td>0</td>\n",
              "      <td>75196</td>\n",
              "      <td>2016-04-07 09:44:54</td>\n",
              "    </tr>\n",
              "    <tr>\n",
              "      <td>325651</td>\n",
              "      <td>2016-03-18 18:46:15</td>\n",
              "      <td>1999</td>\n",
              "      <td>wagon</td>\n",
              "      <td>2001</td>\n",
              "      <td>manual</td>\n",
              "      <td>131</td>\n",
              "      <td>passat</td>\n",
              "      <td>150000</td>\n",
              "      <td>7</td>\n",
              "      <td>gasoline</td>\n",
              "      <td>volkswagen</td>\n",
              "      <td>no</td>\n",
              "      <td>2016-03-18 00:00:00</td>\n",
              "      <td>0</td>\n",
              "      <td>36391</td>\n",
              "      <td>2016-03-18 18:46:15</td>\n",
              "    </tr>\n",
              "  </tbody>\n",
              "</table>\n",
              "</div>"
            ],
            "text/plain": [
              "                DateCrawled  Price VehicleType  RegistrationYear Gearbox  \\\n",
              "41529   2016-03-18 18:46:15   1999       wagon              2001  manual   \n",
              "88087   2016-03-08 18:42:48   1799       coupe              1999    auto   \n",
              "90964   2016-03-28 00:56:10   1000       small              2002  manual   \n",
              "171088  2016-03-08 18:42:48   1799       coupe              1999    auto   \n",
              "187735  2016-04-03 09:01:15   4699       coupe              2003    auto   \n",
              "231258  2016-03-28 00:56:10   1000       small              2002  manual   \n",
              "258109  2016-04-03 09:01:15   4699       coupe              2003    auto   \n",
              "325651  2016-03-18 18:46:15   1999       wagon              2001  manual   \n",
              "\n",
              "        Power   Model  Kilometer  RegistrationMonth  FuelType          Brand  \\\n",
              "41529     131  passat     150000                  7  gasoline     volkswagen   \n",
              "88087     193     clk      20000                  7    petrol  mercedes_benz   \n",
              "90964      83   other     150000                  1    petrol         suzuki   \n",
              "171088    193     clk      20000                  7    petrol  mercedes_benz   \n",
              "187735    218     clk     125000                  6    petrol  mercedes_benz   \n",
              "231258     83   other     150000                  1    petrol         suzuki   \n",
              "258109    218     clk     125000                  6    petrol  mercedes_benz   \n",
              "325651    131  passat     150000                  7  gasoline     volkswagen   \n",
              "\n",
              "       NotRepaired          DateCreated  NumberOfPictures  PostalCode  \\\n",
              "41529           no  2016-03-18 00:00:00                 0       36391   \n",
              "88087           no  2016-03-08 00:00:00                 0       89518   \n",
              "90964           no  2016-03-28 00:00:00                 0       66589   \n",
              "171088          no  2016-03-08 00:00:00                 0       89518   \n",
              "187735         yes  2016-04-03 00:00:00                 0       75196   \n",
              "231258          no  2016-03-28 00:00:00                 0       66589   \n",
              "258109         yes  2016-04-03 00:00:00                 0       75196   \n",
              "325651          no  2016-03-18 00:00:00                 0       36391   \n",
              "\n",
              "                   LastSeen  \n",
              "41529   2016-03-18 18:46:15  \n",
              "88087   2016-03-09 09:46:57  \n",
              "90964   2016-03-28 08:46:21  \n",
              "171088  2016-03-09 09:46:57  \n",
              "187735  2016-04-07 09:44:54  \n",
              "231258  2016-03-28 08:46:21  \n",
              "258109  2016-04-07 09:44:54  \n",
              "325651  2016-03-18 18:46:15  "
            ]
          },
          "execution_count": 4,
          "metadata": {},
          "output_type": "execute_result"
        }
      ]
    },
    {
      "cell_type": "code",
      "metadata": {
        "id": "-YTifVGUwI_o",
        "outputId": "f60d3f1c-b17b-4c71-f157-be0b6fff60c0"
      },
      "source": [
        "data.describe()"
      ],
      "execution_count": null,
      "outputs": [
        {
          "data": {
            "text/html": [
              "<div>\n",
              "<style scoped>\n",
              "    .dataframe tbody tr th:only-of-type {\n",
              "        vertical-align: middle;\n",
              "    }\n",
              "\n",
              "    .dataframe tbody tr th {\n",
              "        vertical-align: top;\n",
              "    }\n",
              "\n",
              "    .dataframe thead th {\n",
              "        text-align: right;\n",
              "    }\n",
              "</style>\n",
              "<table border=\"1\" class=\"dataframe\">\n",
              "  <thead>\n",
              "    <tr style=\"text-align: right;\">\n",
              "      <th></th>\n",
              "      <th>Price</th>\n",
              "      <th>RegistrationYear</th>\n",
              "      <th>Power</th>\n",
              "      <th>Kilometer</th>\n",
              "      <th>RegistrationMonth</th>\n",
              "      <th>NumberOfPictures</th>\n",
              "      <th>PostalCode</th>\n",
              "    </tr>\n",
              "  </thead>\n",
              "  <tbody>\n",
              "    <tr>\n",
              "      <td>count</td>\n",
              "      <td>354369.000000</td>\n",
              "      <td>354369.000000</td>\n",
              "      <td>354369.000000</td>\n",
              "      <td>354369.000000</td>\n",
              "      <td>354369.000000</td>\n",
              "      <td>354369.0</td>\n",
              "      <td>354369.000000</td>\n",
              "    </tr>\n",
              "    <tr>\n",
              "      <td>mean</td>\n",
              "      <td>4416.656776</td>\n",
              "      <td>2004.234448</td>\n",
              "      <td>110.094337</td>\n",
              "      <td>128211.172535</td>\n",
              "      <td>5.714645</td>\n",
              "      <td>0.0</td>\n",
              "      <td>50508.689087</td>\n",
              "    </tr>\n",
              "    <tr>\n",
              "      <td>std</td>\n",
              "      <td>4514.158514</td>\n",
              "      <td>90.227958</td>\n",
              "      <td>189.850405</td>\n",
              "      <td>37905.341530</td>\n",
              "      <td>3.726421</td>\n",
              "      <td>0.0</td>\n",
              "      <td>25783.096248</td>\n",
              "    </tr>\n",
              "    <tr>\n",
              "      <td>min</td>\n",
              "      <td>0.000000</td>\n",
              "      <td>1000.000000</td>\n",
              "      <td>0.000000</td>\n",
              "      <td>5000.000000</td>\n",
              "      <td>0.000000</td>\n",
              "      <td>0.0</td>\n",
              "      <td>1067.000000</td>\n",
              "    </tr>\n",
              "    <tr>\n",
              "      <td>25%</td>\n",
              "      <td>1050.000000</td>\n",
              "      <td>1999.000000</td>\n",
              "      <td>69.000000</td>\n",
              "      <td>125000.000000</td>\n",
              "      <td>3.000000</td>\n",
              "      <td>0.0</td>\n",
              "      <td>30165.000000</td>\n",
              "    </tr>\n",
              "    <tr>\n",
              "      <td>50%</td>\n",
              "      <td>2700.000000</td>\n",
              "      <td>2003.000000</td>\n",
              "      <td>105.000000</td>\n",
              "      <td>150000.000000</td>\n",
              "      <td>6.000000</td>\n",
              "      <td>0.0</td>\n",
              "      <td>49413.000000</td>\n",
              "    </tr>\n",
              "    <tr>\n",
              "      <td>75%</td>\n",
              "      <td>6400.000000</td>\n",
              "      <td>2008.000000</td>\n",
              "      <td>143.000000</td>\n",
              "      <td>150000.000000</td>\n",
              "      <td>9.000000</td>\n",
              "      <td>0.0</td>\n",
              "      <td>71083.000000</td>\n",
              "    </tr>\n",
              "    <tr>\n",
              "      <td>max</td>\n",
              "      <td>20000.000000</td>\n",
              "      <td>9999.000000</td>\n",
              "      <td>20000.000000</td>\n",
              "      <td>150000.000000</td>\n",
              "      <td>12.000000</td>\n",
              "      <td>0.0</td>\n",
              "      <td>99998.000000</td>\n",
              "    </tr>\n",
              "  </tbody>\n",
              "</table>\n",
              "</div>"
            ],
            "text/plain": [
              "               Price  RegistrationYear          Power      Kilometer  \\\n",
              "count  354369.000000     354369.000000  354369.000000  354369.000000   \n",
              "mean     4416.656776       2004.234448     110.094337  128211.172535   \n",
              "std      4514.158514         90.227958     189.850405   37905.341530   \n",
              "min         0.000000       1000.000000       0.000000    5000.000000   \n",
              "25%      1050.000000       1999.000000      69.000000  125000.000000   \n",
              "50%      2700.000000       2003.000000     105.000000  150000.000000   \n",
              "75%      6400.000000       2008.000000     143.000000  150000.000000   \n",
              "max     20000.000000       9999.000000   20000.000000  150000.000000   \n",
              "\n",
              "       RegistrationMonth  NumberOfPictures     PostalCode  \n",
              "count      354369.000000          354369.0  354369.000000  \n",
              "mean            5.714645               0.0   50508.689087  \n",
              "std             3.726421               0.0   25783.096248  \n",
              "min             0.000000               0.0    1067.000000  \n",
              "25%             3.000000               0.0   30165.000000  \n",
              "50%             6.000000               0.0   49413.000000  \n",
              "75%             9.000000               0.0   71083.000000  \n",
              "max            12.000000               0.0   99998.000000  "
            ]
          },
          "execution_count": 5,
          "metadata": {},
          "output_type": "execute_result"
        }
      ]
    },
    {
      "cell_type": "markdown",
      "metadata": {
        "id": "oX8npd_SwI_p"
      },
      "source": [
        "**Важные признаки**: VehicleType, Gearbox, Power, Kilometer, FuelType, Brand, NotRepaired, RegistrationYear, Model.  \n",
        "\n",
        "Признаки NumberOfPictures, PostalCode не несут полезной информации, их можно удалить.  \n",
        "DateCrawled, LastSeen, NumberOfPictures могли быть полезными для прогнозирования скорости продажи но для прогнозирования цены авто они не нужны.  \n",
        "DateCreated может быть полезна для анализа с учетом инфляции.\n",
        "\n",
        "По многим важным параметрам есть пропуски и нулевые значеня необходимо будет восстановить их или удалить.  \n",
        "Есть неадекватные значения параметров необходимо будет восстановить их или удалить  \n",
        "Найдено небольшое количество дубликатов необходимо их удалить"
      ]
    },
    {
      "cell_type": "markdown",
      "metadata": {
        "id": "K5CEape1wI_p"
      },
      "source": [
        "### Предобработка данных"
      ]
    },
    {
      "cell_type": "markdown",
      "metadata": {
        "id": "bVycn9OPwI_p"
      },
      "source": [
        "Обраотаем целевой признак price, пропусков данных нет, но есть цена равная нулю, восстановить по среднему было бы некоректно, так как признак целевой и это напрямую повлияет на прогноз."
      ]
    },
    {
      "cell_type": "code",
      "metadata": {
        "id": "fXZBklbWwI_p",
        "outputId": "a949d88c-9a0b-4a03-d283-58600f8e5bcb"
      },
      "source": [
        "print(\"Колличество объявлений с нулевой ценой:\",len(data.loc[data['Price'] == 0]))"
      ],
      "execution_count": null,
      "outputs": [
        {
          "name": "stdout",
          "output_type": "stream",
          "text": [
            "Колличество объявлений с нулевой ценой: 10772\n"
          ]
        }
      ]
    },
    {
      "cell_type": "code",
      "metadata": {
        "id": "fze-HARbwI_q"
      },
      "source": [
        "data = data.loc[data['Price'] != 0]"
      ],
      "execution_count": null,
      "outputs": []
    },
    {
      "cell_type": "markdown",
      "metadata": {
        "id": "G1teHCCywI_q"
      },
      "source": [
        "Имеются пропуски в Model к сожалению их нельзя восстановит по Brand придется удалить"
      ]
    },
    {
      "cell_type": "code",
      "metadata": {
        "id": "u8jX2rLCwI_q",
        "outputId": "f0aa1cde-ddb2-4227-cb75-75f930a0a3a9"
      },
      "source": [
        "print(\"Колличество объявлений с пропущенной моделью:\", len(data.loc[data['Model'].isna()]))"
      ],
      "execution_count": null,
      "outputs": [
        {
          "name": "stdout",
          "output_type": "stream",
          "text": [
            "Колличество объявлений с пропущенной моделью: 17521\n"
          ]
        }
      ]
    },
    {
      "cell_type": "code",
      "metadata": {
        "id": "RW1yRLh9wI_r"
      },
      "source": [
        "data = data.loc[~data['Model'].isna()]"
      ],
      "execution_count": null,
      "outputs": []
    },
    {
      "cell_type": "markdown",
      "metadata": {
        "id": "B2rfneJ3wI_r"
      },
      "source": [
        "Колличество пропусков в VehicleType около 10 процентов, данных слишком много чтобы просто от них избавится, если заменить на среднюю это тоже может сказаться на точности предсказания. Если брать в расчет что в дальнейшем пользователи при оценке автомобиля могут так же не вводить тип кузова, то стоит заменить пропущенные значения на unknown"
      ]
    },
    {
      "cell_type": "code",
      "metadata": {
        "id": "UV6wcw7PwI_r",
        "outputId": "0a811820-a840-4228-9545-93f74ba0f2de"
      },
      "source": [
        "print(\"Колличество объявлений с незаполненным типом кузова:\", len(data.loc[data['VehicleType'].isna()]))"
      ],
      "execution_count": null,
      "outputs": [
        {
          "name": "stdout",
          "output_type": "stream",
          "text": [
            "Колличество объявлений с незаполненным типом кузова: 28166\n"
          ]
        }
      ]
    },
    {
      "cell_type": "code",
      "metadata": {
        "id": "yYVIUJOywI_r"
      },
      "source": [
        "data['VehicleType'] = data['VehicleType'].fillna('unknown')"
      ],
      "execution_count": null,
      "outputs": []
    },
    {
      "cell_type": "markdown",
      "metadata": {
        "id": "2UBrDnHYwI_s"
      },
      "source": [
        "Количество явных некорректных данных RegistrationYear незначительно, можно их удалить"
      ]
    },
    {
      "cell_type": "code",
      "metadata": {
        "id": "MLvpzqOGwI_s",
        "outputId": "4209f382-949f-469a-df2b-6ffec862d066"
      },
      "source": [
        "print(\"Колличество объявлений с некорректной годом:\",len(data.loc[(data['RegistrationYear'] > 2021) | (data['RegistrationYear'] < 1769)]))"
      ],
      "execution_count": null,
      "outputs": [
        {
          "name": "stdout",
          "output_type": "stream",
          "text": [
            "Колличество объявлений с некорректной годом: 83\n"
          ]
        }
      ]
    },
    {
      "cell_type": "code",
      "metadata": {
        "id": "qGIfuF-jwI_s"
      },
      "source": [
        "data = data.loc[(data['RegistrationYear'] <= 2021) & (data['RegistrationYear'] >= 1900)]"
      ],
      "execution_count": null,
      "outputs": []
    },
    {
      "cell_type": "markdown",
      "metadata": {
        "id": "sJz_csLBwI_s"
      },
      "source": [
        "Колличество пропусков в Gearbox тоже велико. Заменю на наиболее встречающийся тип коробки в модели.  "
      ]
    },
    {
      "cell_type": "code",
      "metadata": {
        "id": "hiATcqejwI_t",
        "outputId": "584ae71b-47d4-4b8c-cdff-15962dfb02b8"
      },
      "source": [
        "print(\"Колличество объявлений с незаполненным типом коробки:\", len(data.loc[data['Gearbox'].isna()]))\n"
      ],
      "execution_count": null,
      "outputs": [
        {
          "name": "stdout",
          "output_type": "stream",
          "text": [
            "Колличество объявлений с незаполненным типом коробки: 14205\n"
          ]
        }
      ]
    },
    {
      "cell_type": "code",
      "metadata": {
        "id": "JGBAQ8fvwI_t"
      },
      "source": [
        "\n",
        "data['Gearbox'] = data['Gearbox'].fillna(data\n",
        "                                         .groupby('Model')['Gearbox']\n",
        "                                         .transform(lambda x: x.value_counts().idxmax())\n",
        "                                        )"
      ],
      "execution_count": null,
      "outputs": []
    },
    {
      "cell_type": "markdown",
      "metadata": {
        "id": "pbHoQI03wI_t"
      },
      "source": [
        "Имеются значения Power равные 0 и больше 1000 что являеться некорректным, можно заменить их на медиану по модели"
      ]
    },
    {
      "cell_type": "code",
      "metadata": {
        "id": "4378IPUXwI_t",
        "outputId": "578ee9fe-3f83-4ea7-968c-27cd5b88a72a"
      },
      "source": [
        "print(\"Колличество объявлений с некорректной мощностью:\",len(data.loc[(data['Power'] > 1000) | (data['Power'] <= 0)]))"
      ],
      "execution_count": null,
      "outputs": [
        {
          "name": "stdout",
          "output_type": "stream",
          "text": [
            "Колличество объявлений с некорректной мощностью: 31519\n"
          ]
        }
      ]
    },
    {
      "cell_type": "code",
      "metadata": {
        "id": "-C4yywNbwI_t"
      },
      "source": [
        "data.loc[(data['Power'] > 1000) | (data['Power'] <= 0), 'Power'] = None\n",
        "data['Power'] = data['Power'].fillna(data.groupby('Model')['Power'].transform('median'))\n",
        "data = data.loc[~data['Power'].isna()]\n",
        "data['Power'] = data['Power'].astype('int64')"
      ],
      "execution_count": null,
      "outputs": []
    },
    {
      "cell_type": "markdown",
      "metadata": {
        "id": "argFMBqowI_u"
      },
      "source": [
        "Пропуски в FuelType заменю на среднее по моделям"
      ]
    },
    {
      "cell_type": "code",
      "metadata": {
        "id": "Wi1VywlMwI_u"
      },
      "source": [
        "data['FuelType'] = data['FuelType'].fillna(data.groupby('Model')['FuelType'].transform(lambda x: x.value_counts().idxmax()))"
      ],
      "execution_count": null,
      "outputs": []
    },
    {
      "cell_type": "markdown",
      "metadata": {
        "id": "KeHLf_06wI_u"
      },
      "source": [
        "Пропуски в NotRepaired состоявляют треть от данных. Скорее всего если автомобиль не был поврежден то этот параметр просто не заполнялся. Заменю на \"yes\""
      ]
    },
    {
      "cell_type": "code",
      "metadata": {
        "id": "76KXrIQFwI_u"
      },
      "source": [
        "data[\"NotRepaired\"].fillna(\"yes\", inplace=True)"
      ],
      "execution_count": null,
      "outputs": []
    },
    {
      "cell_type": "markdown",
      "metadata": {
        "id": "LmF6OeURwI_u"
      },
      "source": [
        "Признак DateCreated преобразуем в количество дней с момента 2014-03-01."
      ]
    },
    {
      "cell_type": "code",
      "metadata": {
        "id": "tHp29l94wI_u",
        "outputId": "450fbf37-a568-4a2f-e898-a72a115bf164"
      },
      "source": [
        "print(\"Минимальная дата создания объявления:\", min(data['DateCreated']))"
      ],
      "execution_count": null,
      "outputs": [
        {
          "name": "stdout",
          "output_type": "stream",
          "text": [
            "Минимальная дата создания объявления: 2014-03-10 00:00:00\n"
          ]
        }
      ]
    },
    {
      "cell_type": "code",
      "metadata": {
        "id": "NVyT9ajhwI_u"
      },
      "source": [
        "base_date = pd.Timestamp(min(data['DateCreated']))\n",
        "data['DateCreated'] = data['DateCreated'].map(lambda date : (pd.Timestamp(date) - base_date).days)"
      ],
      "execution_count": null,
      "outputs": []
    },
    {
      "cell_type": "markdown",
      "metadata": {
        "id": "I-I0p1Y-wI_v"
      },
      "source": [
        "Удалим дубликаты"
      ]
    },
    {
      "cell_type": "code",
      "metadata": {
        "id": "Wvxok0DmwI_v"
      },
      "source": [
        "data = data.drop_duplicates()"
      ],
      "execution_count": null,
      "outputs": []
    },
    {
      "cell_type": "markdown",
      "metadata": {
        "id": "2m6hTs2dwI_v"
      },
      "source": [
        "Удалю ненужные признаки NumberOfPictures, PostalCode, DateCrawled, LastSeen, "
      ]
    },
    {
      "cell_type": "code",
      "metadata": {
        "id": "vy7fs8mawI_v"
      },
      "source": [
        "data = data.drop(['NumberOfPictures', 'PostalCode', 'DateCrawled', 'LastSeen'], axis=1)"
      ],
      "execution_count": null,
      "outputs": []
    },
    {
      "cell_type": "code",
      "metadata": {
        "id": "1sarttjBwI_v"
      },
      "source": [
        "data = data.reset_index(drop=True)"
      ],
      "execution_count": null,
      "outputs": []
    },
    {
      "cell_type": "code",
      "metadata": {
        "id": "Nc4qDo-TwI_v",
        "outputId": "dd8c488e-1735-4bc7-f511-ef815bffd1d9"
      },
      "source": [
        "data.info()"
      ],
      "execution_count": null,
      "outputs": [
        {
          "name": "stdout",
          "output_type": "stream",
          "text": [
            "<class 'pandas.core.frame.DataFrame'>\n",
            "RangeIndex: 325985 entries, 0 to 325984\n",
            "Data columns (total 12 columns):\n",
            "Price                325985 non-null int64\n",
            "VehicleType          325985 non-null object\n",
            "RegistrationYear     325985 non-null int64\n",
            "Gearbox              325985 non-null object\n",
            "Power                325985 non-null int64\n",
            "Model                325985 non-null object\n",
            "Kilometer            325985 non-null int64\n",
            "RegistrationMonth    325985 non-null int64\n",
            "FuelType             325985 non-null object\n",
            "Brand                325985 non-null object\n",
            "NotRepaired          325985 non-null object\n",
            "DateCreated          325985 non-null int64\n",
            "dtypes: int64(6), object(6)\n",
            "memory usage: 29.8+ MB\n"
          ]
        }
      ]
    },
    {
      "cell_type": "code",
      "metadata": {
        "id": "cxNKL7LuwI_v",
        "outputId": "718b6a33-f334-40d1-842f-55b912ce8717"
      },
      "source": [
        "data.describe()"
      ],
      "execution_count": null,
      "outputs": [
        {
          "data": {
            "text/html": [
              "<div>\n",
              "<style scoped>\n",
              "    .dataframe tbody tr th:only-of-type {\n",
              "        vertical-align: middle;\n",
              "    }\n",
              "\n",
              "    .dataframe tbody tr th {\n",
              "        vertical-align: top;\n",
              "    }\n",
              "\n",
              "    .dataframe thead th {\n",
              "        text-align: right;\n",
              "    }\n",
              "</style>\n",
              "<table border=\"1\" class=\"dataframe\">\n",
              "  <thead>\n",
              "    <tr style=\"text-align: right;\">\n",
              "      <th></th>\n",
              "      <th>Price</th>\n",
              "      <th>RegistrationYear</th>\n",
              "      <th>Power</th>\n",
              "      <th>Kilometer</th>\n",
              "      <th>RegistrationMonth</th>\n",
              "      <th>DateCreated</th>\n",
              "    </tr>\n",
              "  </thead>\n",
              "  <tbody>\n",
              "    <tr>\n",
              "      <td>count</td>\n",
              "      <td>325985.000000</td>\n",
              "      <td>325985.000000</td>\n",
              "      <td>325985.000000</td>\n",
              "      <td>325985.000000</td>\n",
              "      <td>325985.000000</td>\n",
              "      <td>325985.000000</td>\n",
              "    </tr>\n",
              "    <tr>\n",
              "      <td>mean</td>\n",
              "      <td>4623.374517</td>\n",
              "      <td>2003.268147</td>\n",
              "      <td>119.117377</td>\n",
              "      <td>128597.067350</td>\n",
              "      <td>5.853966</td>\n",
              "      <td>741.798098</td>\n",
              "    </tr>\n",
              "    <tr>\n",
              "      <td>std</td>\n",
              "      <td>4530.487896</td>\n",
              "      <td>7.061790</td>\n",
              "      <td>53.172506</td>\n",
              "      <td>36963.747615</td>\n",
              "      <td>3.665989</td>\n",
              "      <td>9.399255</td>\n",
              "    </tr>\n",
              "    <tr>\n",
              "      <td>min</td>\n",
              "      <td>1.000000</td>\n",
              "      <td>1910.000000</td>\n",
              "      <td>1.000000</td>\n",
              "      <td>5000.000000</td>\n",
              "      <td>0.000000</td>\n",
              "      <td>0.000000</td>\n",
              "    </tr>\n",
              "    <tr>\n",
              "      <td>25%</td>\n",
              "      <td>1200.000000</td>\n",
              "      <td>1999.000000</td>\n",
              "      <td>75.000000</td>\n",
              "      <td>125000.000000</td>\n",
              "      <td>3.000000</td>\n",
              "      <td>734.000000</td>\n",
              "    </tr>\n",
              "    <tr>\n",
              "      <td>50%</td>\n",
              "      <td>2950.000000</td>\n",
              "      <td>2003.000000</td>\n",
              "      <td>110.000000</td>\n",
              "      <td>150000.000000</td>\n",
              "      <td>6.000000</td>\n",
              "      <td>742.000000</td>\n",
              "    </tr>\n",
              "    <tr>\n",
              "      <td>75%</td>\n",
              "      <td>6650.000000</td>\n",
              "      <td>2008.000000</td>\n",
              "      <td>145.000000</td>\n",
              "      <td>150000.000000</td>\n",
              "      <td>9.000000</td>\n",
              "      <td>750.000000</td>\n",
              "    </tr>\n",
              "    <tr>\n",
              "      <td>max</td>\n",
              "      <td>20000.000000</td>\n",
              "      <td>2019.000000</td>\n",
              "      <td>1000.000000</td>\n",
              "      <td>150000.000000</td>\n",
              "      <td>12.000000</td>\n",
              "      <td>759.000000</td>\n",
              "    </tr>\n",
              "  </tbody>\n",
              "</table>\n",
              "</div>"
            ],
            "text/plain": [
              "               Price  RegistrationYear          Power      Kilometer  \\\n",
              "count  325985.000000     325985.000000  325985.000000  325985.000000   \n",
              "mean     4623.374517       2003.268147     119.117377  128597.067350   \n",
              "std      4530.487896          7.061790      53.172506   36963.747615   \n",
              "min         1.000000       1910.000000       1.000000    5000.000000   \n",
              "25%      1200.000000       1999.000000      75.000000  125000.000000   \n",
              "50%      2950.000000       2003.000000     110.000000  150000.000000   \n",
              "75%      6650.000000       2008.000000     145.000000  150000.000000   \n",
              "max     20000.000000       2019.000000    1000.000000  150000.000000   \n",
              "\n",
              "       RegistrationMonth    DateCreated  \n",
              "count      325985.000000  325985.000000  \n",
              "mean            5.853966     741.798098  \n",
              "std             3.665989       9.399255  \n",
              "min             0.000000       0.000000  \n",
              "25%             3.000000     734.000000  \n",
              "50%             6.000000     742.000000  \n",
              "75%             9.000000     750.000000  \n",
              "max            12.000000     759.000000  "
            ]
          },
          "execution_count": 26,
          "metadata": {},
          "output_type": "execute_result"
        }
      ]
    },
    {
      "cell_type": "markdown",
      "metadata": {
        "id": "6TUgRUIiwI_w"
      },
      "source": [
        "### Кодирование категориальных признаков"
      ]
    },
    {
      "cell_type": "markdown",
      "metadata": {
        "id": "Ic_dDx0YwI_w"
      },
      "source": [
        "Преобразую категориальные признаки с большим колличеством категорий техникой Ordinal Encoding."
      ]
    },
    {
      "cell_type": "code",
      "metadata": {
        "id": "DXz397MqwI_w"
      },
      "source": [
        "data_reg = data"
      ],
      "execution_count": null,
      "outputs": []
    },
    {
      "cell_type": "code",
      "metadata": {
        "id": "qD3pFX-ZwI_w"
      },
      "source": [
        "encoder = OrdinalEncoder()\n",
        "encoder.fit(data) \n",
        "data_ordinal = pd.DataFrame(encoder.transform(data), columns=data.columns)\n",
        "\n",
        "data_ordinal.reset_index()\n",
        "data.loc[:,['Brand', 'Model']] = data_ordinal.loc[:,['Brand', 'Model']]\n",
        "data['Brand'] = data['Brand'].astype(int)\n",
        "data['Model'] = data['Model'].astype(int)"
      ],
      "execution_count": null,
      "outputs": []
    },
    {
      "cell_type": "markdown",
      "metadata": {
        "id": "81Qg3vm5wI_w"
      },
      "source": [
        "Признаки VehicleType, Gearbox, FuelType, NotRepaired закодируем one-hot encoding."
      ]
    },
    {
      "cell_type": "code",
      "metadata": {
        "id": "eoQZNKXbwI_x"
      },
      "source": [
        "def dum(data, column):\n",
        "    df = pd.get_dummies(data[column], prefix=column, drop_first=True)\n",
        "    data = data.drop(column, axis=1)\n",
        "    return data.join(df)"
      ],
      "execution_count": null,
      "outputs": []
    },
    {
      "cell_type": "code",
      "metadata": {
        "id": "LSXsULHJwI_x"
      },
      "source": [
        "data = dum(data, 'VehicleType')\n",
        "data = dum(data, 'Gearbox')\n",
        "data = dum(data, 'FuelType')\n",
        "data = dum(data, 'NotRepaired')"
      ],
      "execution_count": null,
      "outputs": []
    },
    {
      "cell_type": "markdown",
      "metadata": {
        "id": "FZDNYkODwI_x"
      },
      "source": [
        "Разобью данные на тестовую и валидационную выборки и на признаки и целевой признак"
      ]
    },
    {
      "cell_type": "code",
      "metadata": {
        "id": "uR29EUcAwI_x"
      },
      "source": [
        "target = data['Price']\n",
        "features = data.drop('Price', axis=1)\n",
        "features_train, features_test, target_train, target_test = train_test_split(\n",
        "    features, target, test_size=0.25, random_state=12345)\n",
        "\n"
      ],
      "execution_count": null,
      "outputs": []
    },
    {
      "cell_type": "code",
      "metadata": {
        "id": "gk7hmAhbwI_x",
        "outputId": "d152d459-d3bd-4efc-9397-e33f7fa3074c"
      },
      "source": [
        "features_train"
      ],
      "execution_count": null,
      "outputs": [
        {
          "data": {
            "text/html": [
              "<div>\n",
              "<style scoped>\n",
              "    .dataframe tbody tr th:only-of-type {\n",
              "        vertical-align: middle;\n",
              "    }\n",
              "\n",
              "    .dataframe tbody tr th {\n",
              "        vertical-align: top;\n",
              "    }\n",
              "\n",
              "    .dataframe thead th {\n",
              "        text-align: right;\n",
              "    }\n",
              "</style>\n",
              "<table border=\"1\" class=\"dataframe\">\n",
              "  <thead>\n",
              "    <tr style=\"text-align: right;\">\n",
              "      <th></th>\n",
              "      <th>RegistrationYear</th>\n",
              "      <th>Power</th>\n",
              "      <th>Model</th>\n",
              "      <th>Kilometer</th>\n",
              "      <th>RegistrationMonth</th>\n",
              "      <th>Brand</th>\n",
              "      <th>DateCreated</th>\n",
              "      <th>VehicleType_convertible</th>\n",
              "      <th>VehicleType_coupe</th>\n",
              "      <th>VehicleType_other</th>\n",
              "      <th>...</th>\n",
              "      <th>VehicleType_unknown</th>\n",
              "      <th>VehicleType_wagon</th>\n",
              "      <th>Gearbox_manual</th>\n",
              "      <th>FuelType_electric</th>\n",
              "      <th>FuelType_gasoline</th>\n",
              "      <th>FuelType_hybrid</th>\n",
              "      <th>FuelType_lpg</th>\n",
              "      <th>FuelType_other</th>\n",
              "      <th>FuelType_petrol</th>\n",
              "      <th>NotRepaired_yes</th>\n",
              "    </tr>\n",
              "  </thead>\n",
              "  <tbody>\n",
              "    <tr>\n",
              "      <td>236576</td>\n",
              "      <td>2004</td>\n",
              "      <td>163</td>\n",
              "      <td>80</td>\n",
              "      <td>150000</td>\n",
              "      <td>4</td>\n",
              "      <td>21</td>\n",
              "      <td>732</td>\n",
              "      <td>0</td>\n",
              "      <td>1</td>\n",
              "      <td>0</td>\n",
              "      <td>...</td>\n",
              "      <td>0</td>\n",
              "      <td>0</td>\n",
              "      <td>1</td>\n",
              "      <td>0</td>\n",
              "      <td>0</td>\n",
              "      <td>0</td>\n",
              "      <td>0</td>\n",
              "      <td>0</td>\n",
              "      <td>1</td>\n",
              "      <td>1</td>\n",
              "    </tr>\n",
              "    <tr>\n",
              "      <td>11305</td>\n",
              "      <td>2006</td>\n",
              "      <td>435</td>\n",
              "      <td>31</td>\n",
              "      <td>150000</td>\n",
              "      <td>11</td>\n",
              "      <td>1</td>\n",
              "      <td>729</td>\n",
              "      <td>0</td>\n",
              "      <td>0</td>\n",
              "      <td>0</td>\n",
              "      <td>...</td>\n",
              "      <td>0</td>\n",
              "      <td>1</td>\n",
              "      <td>0</td>\n",
              "      <td>0</td>\n",
              "      <td>0</td>\n",
              "      <td>0</td>\n",
              "      <td>0</td>\n",
              "      <td>0</td>\n",
              "      <td>1</td>\n",
              "      <td>0</td>\n",
              "    </tr>\n",
              "    <tr>\n",
              "      <td>158561</td>\n",
              "      <td>2005</td>\n",
              "      <td>150</td>\n",
              "      <td>28</td>\n",
              "      <td>150000</td>\n",
              "      <td>11</td>\n",
              "      <td>1</td>\n",
              "      <td>754</td>\n",
              "      <td>0</td>\n",
              "      <td>1</td>\n",
              "      <td>0</td>\n",
              "      <td>...</td>\n",
              "      <td>0</td>\n",
              "      <td>0</td>\n",
              "      <td>0</td>\n",
              "      <td>0</td>\n",
              "      <td>0</td>\n",
              "      <td>0</td>\n",
              "      <td>0</td>\n",
              "      <td>0</td>\n",
              "      <td>1</td>\n",
              "      <td>0</td>\n",
              "    </tr>\n",
              "    <tr>\n",
              "      <td>90386</td>\n",
              "      <td>2000</td>\n",
              "      <td>60</td>\n",
              "      <td>166</td>\n",
              "      <td>125000</td>\n",
              "      <td>3</td>\n",
              "      <td>5</td>\n",
              "      <td>731</td>\n",
              "      <td>0</td>\n",
              "      <td>0</td>\n",
              "      <td>0</td>\n",
              "      <td>...</td>\n",
              "      <td>0</td>\n",
              "      <td>0</td>\n",
              "      <td>1</td>\n",
              "      <td>0</td>\n",
              "      <td>0</td>\n",
              "      <td>0</td>\n",
              "      <td>0</td>\n",
              "      <td>0</td>\n",
              "      <td>1</td>\n",
              "      <td>0</td>\n",
              "    </tr>\n",
              "    <tr>\n",
              "      <td>81972</td>\n",
              "      <td>1999</td>\n",
              "      <td>50</td>\n",
              "      <td>143</td>\n",
              "      <td>150000</td>\n",
              "      <td>7</td>\n",
              "      <td>37</td>\n",
              "      <td>742</td>\n",
              "      <td>0</td>\n",
              "      <td>0</td>\n",
              "      <td>0</td>\n",
              "      <td>...</td>\n",
              "      <td>0</td>\n",
              "      <td>0</td>\n",
              "      <td>1</td>\n",
              "      <td>0</td>\n",
              "      <td>0</td>\n",
              "      <td>0</td>\n",
              "      <td>0</td>\n",
              "      <td>0</td>\n",
              "      <td>1</td>\n",
              "      <td>0</td>\n",
              "    </tr>\n",
              "    <tr>\n",
              "      <td>...</td>\n",
              "      <td>...</td>\n",
              "      <td>...</td>\n",
              "      <td>...</td>\n",
              "      <td>...</td>\n",
              "      <td>...</td>\n",
              "      <td>...</td>\n",
              "      <td>...</td>\n",
              "      <td>...</td>\n",
              "      <td>...</td>\n",
              "      <td>...</td>\n",
              "      <td>...</td>\n",
              "      <td>...</td>\n",
              "      <td>...</td>\n",
              "      <td>...</td>\n",
              "      <td>...</td>\n",
              "      <td>...</td>\n",
              "      <td>...</td>\n",
              "      <td>...</td>\n",
              "      <td>...</td>\n",
              "      <td>...</td>\n",
              "      <td>...</td>\n",
              "    </tr>\n",
              "    <tr>\n",
              "      <td>158838</td>\n",
              "      <td>2005</td>\n",
              "      <td>224</td>\n",
              "      <td>31</td>\n",
              "      <td>150000</td>\n",
              "      <td>4</td>\n",
              "      <td>1</td>\n",
              "      <td>742</td>\n",
              "      <td>0</td>\n",
              "      <td>0</td>\n",
              "      <td>0</td>\n",
              "      <td>...</td>\n",
              "      <td>0</td>\n",
              "      <td>1</td>\n",
              "      <td>0</td>\n",
              "      <td>0</td>\n",
              "      <td>1</td>\n",
              "      <td>0</td>\n",
              "      <td>0</td>\n",
              "      <td>0</td>\n",
              "      <td>0</td>\n",
              "      <td>0</td>\n",
              "    </tr>\n",
              "    <tr>\n",
              "      <td>47873</td>\n",
              "      <td>1997</td>\n",
              "      <td>320</td>\n",
              "      <td>206</td>\n",
              "      <td>150000</td>\n",
              "      <td>8</td>\n",
              "      <td>20</td>\n",
              "      <td>730</td>\n",
              "      <td>1</td>\n",
              "      <td>0</td>\n",
              "      <td>0</td>\n",
              "      <td>...</td>\n",
              "      <td>0</td>\n",
              "      <td>0</td>\n",
              "      <td>0</td>\n",
              "      <td>0</td>\n",
              "      <td>0</td>\n",
              "      <td>0</td>\n",
              "      <td>0</td>\n",
              "      <td>0</td>\n",
              "      <td>1</td>\n",
              "      <td>0</td>\n",
              "    </tr>\n",
              "    <tr>\n",
              "      <td>86398</td>\n",
              "      <td>2003</td>\n",
              "      <td>142</td>\n",
              "      <td>11</td>\n",
              "      <td>150000</td>\n",
              "      <td>6</td>\n",
              "      <td>2</td>\n",
              "      <td>749</td>\n",
              "      <td>0</td>\n",
              "      <td>0</td>\n",
              "      <td>0</td>\n",
              "      <td>...</td>\n",
              "      <td>0</td>\n",
              "      <td>0</td>\n",
              "      <td>1</td>\n",
              "      <td>0</td>\n",
              "      <td>0</td>\n",
              "      <td>0</td>\n",
              "      <td>0</td>\n",
              "      <td>0</td>\n",
              "      <td>1</td>\n",
              "      <td>1</td>\n",
              "    </tr>\n",
              "    <tr>\n",
              "      <td>77285</td>\n",
              "      <td>1994</td>\n",
              "      <td>143</td>\n",
              "      <td>59</td>\n",
              "      <td>5000</td>\n",
              "      <td>10</td>\n",
              "      <td>20</td>\n",
              "      <td>737</td>\n",
              "      <td>0</td>\n",
              "      <td>0</td>\n",
              "      <td>0</td>\n",
              "      <td>...</td>\n",
              "      <td>0</td>\n",
              "      <td>0</td>\n",
              "      <td>1</td>\n",
              "      <td>0</td>\n",
              "      <td>0</td>\n",
              "      <td>0</td>\n",
              "      <td>0</td>\n",
              "      <td>0</td>\n",
              "      <td>1</td>\n",
              "      <td>0</td>\n",
              "    </tr>\n",
              "    <tr>\n",
              "      <td>217570</td>\n",
              "      <td>1999</td>\n",
              "      <td>136</td>\n",
              "      <td>166</td>\n",
              "      <td>150000</td>\n",
              "      <td>3</td>\n",
              "      <td>24</td>\n",
              "      <td>736</td>\n",
              "      <td>0</td>\n",
              "      <td>0</td>\n",
              "      <td>0</td>\n",
              "      <td>...</td>\n",
              "      <td>0</td>\n",
              "      <td>0</td>\n",
              "      <td>1</td>\n",
              "      <td>0</td>\n",
              "      <td>0</td>\n",
              "      <td>0</td>\n",
              "      <td>0</td>\n",
              "      <td>0</td>\n",
              "      <td>1</td>\n",
              "      <td>0</td>\n",
              "    </tr>\n",
              "  </tbody>\n",
              "</table>\n",
              "<p>244488 rows × 23 columns</p>\n",
              "</div>"
            ],
            "text/plain": [
              "        RegistrationYear  Power  Model  Kilometer  RegistrationMonth  Brand  \\\n",
              "236576              2004    163     80     150000                  4     21   \n",
              "11305               2006    435     31     150000                 11      1   \n",
              "158561              2005    150     28     150000                 11      1   \n",
              "90386               2000     60    166     125000                  3      5   \n",
              "81972               1999     50    143     150000                  7     37   \n",
              "...                  ...    ...    ...        ...                ...    ...   \n",
              "158838              2005    224     31     150000                  4      1   \n",
              "47873               1997    320    206     150000                  8     20   \n",
              "86398               2003    142     11     150000                  6      2   \n",
              "77285               1994    143     59       5000                 10     20   \n",
              "217570              1999    136    166     150000                  3     24   \n",
              "\n",
              "        DateCreated  VehicleType_convertible  VehicleType_coupe  \\\n",
              "236576          732                        0                  1   \n",
              "11305           729                        0                  0   \n",
              "158561          754                        0                  1   \n",
              "90386           731                        0                  0   \n",
              "81972           742                        0                  0   \n",
              "...             ...                      ...                ...   \n",
              "158838          742                        0                  0   \n",
              "47873           730                        1                  0   \n",
              "86398           749                        0                  0   \n",
              "77285           737                        0                  0   \n",
              "217570          736                        0                  0   \n",
              "\n",
              "        VehicleType_other  ...  VehicleType_unknown  VehicleType_wagon  \\\n",
              "236576                  0  ...                    0                  0   \n",
              "11305                   0  ...                    0                  1   \n",
              "158561                  0  ...                    0                  0   \n",
              "90386                   0  ...                    0                  0   \n",
              "81972                   0  ...                    0                  0   \n",
              "...                   ...  ...                  ...                ...   \n",
              "158838                  0  ...                    0                  1   \n",
              "47873                   0  ...                    0                  0   \n",
              "86398                   0  ...                    0                  0   \n",
              "77285                   0  ...                    0                  0   \n",
              "217570                  0  ...                    0                  0   \n",
              "\n",
              "        Gearbox_manual  FuelType_electric  FuelType_gasoline  FuelType_hybrid  \\\n",
              "236576               1                  0                  0                0   \n",
              "11305                0                  0                  0                0   \n",
              "158561               0                  0                  0                0   \n",
              "90386                1                  0                  0                0   \n",
              "81972                1                  0                  0                0   \n",
              "...                ...                ...                ...              ...   \n",
              "158838               0                  0                  1                0   \n",
              "47873                0                  0                  0                0   \n",
              "86398                1                  0                  0                0   \n",
              "77285                1                  0                  0                0   \n",
              "217570               1                  0                  0                0   \n",
              "\n",
              "        FuelType_lpg  FuelType_other  FuelType_petrol  NotRepaired_yes  \n",
              "236576             0               0                1                1  \n",
              "11305              0               0                1                0  \n",
              "158561             0               0                1                0  \n",
              "90386              0               0                1                0  \n",
              "81972              0               0                1                0  \n",
              "...              ...             ...              ...              ...  \n",
              "158838             0               0                0                0  \n",
              "47873              0               0                1                0  \n",
              "86398              0               0                1                1  \n",
              "77285              0               0                1                0  \n",
              "217570             0               0                1                0  \n",
              "\n",
              "[244488 rows x 23 columns]"
            ]
          },
          "execution_count": 32,
          "metadata": {},
          "output_type": "execute_result"
        }
      ]
    },
    {
      "cell_type": "markdown",
      "metadata": {
        "id": "PvrTMv9ywI_x"
      },
      "source": [
        "Стандартизирую численные признаки и преобразованные техникой Ordinal Encoding."
      ]
    },
    {
      "cell_type": "code",
      "metadata": {
        "id": "R5TKAdz0wI_y"
      },
      "source": [
        "numeric = ['RegistrationYear', 'Power', 'Model', 'Kilometer', 'RegistrationMonth', 'Brand',  'DateCreated']"
      ],
      "execution_count": null,
      "outputs": []
    },
    {
      "cell_type": "code",
      "metadata": {
        "id": "g8pSmqOxwI_y",
        "outputId": "48556401-1452-44e9-a040-b7140901d767"
      },
      "source": [
        "scaler = StandardScaler()\n",
        "scaler.fit(features_train[numeric])\n",
        "features_train[numeric] = scaler.transform(features_train[numeric])\n",
        "features_test[numeric] = scaler.transform(features_test[numeric]) \n",
        "print(features_train.head())"
      ],
      "execution_count": null,
      "outputs": [
        {
          "name": "stdout",
          "output_type": "stream",
          "text": [
            "        RegistrationYear     Power     Model  Kilometer  RegistrationMonth  \\\n",
            "236576          0.102262  0.822256 -0.410821   0.580456          -0.506371   \n",
            "11305           0.385380  5.921662 -1.106259   0.580456           1.402882   \n",
            "158561          0.243821  0.578534 -1.148836   0.580456           1.402882   \n",
            "90386          -0.463974 -1.108769  0.809743  -0.095333          -0.779122   \n",
            "81972          -0.605533 -1.296248  0.483313   0.580456           0.311880   \n",
            "\n",
            "           Brand  DateCreated  VehicleType_convertible  VehicleType_coupe  \\\n",
            "236576  0.036914    -1.044481                        0                  1   \n",
            "11305  -1.503673    -1.363732                        0                  0   \n",
            "158561 -1.503673     1.296699                        0                  1   \n",
            "90386  -1.195556    -1.150898                        0                  0   \n",
            "81972   1.269385     0.019692                        0                  0   \n",
            "\n",
            "        VehicleType_other  ...  VehicleType_unknown  VehicleType_wagon  \\\n",
            "236576                  0  ...                    0                  0   \n",
            "11305                   0  ...                    0                  1   \n",
            "158561                  0  ...                    0                  0   \n",
            "90386                   0  ...                    0                  0   \n",
            "81972                   0  ...                    0                  0   \n",
            "\n",
            "        Gearbox_manual  FuelType_electric  FuelType_gasoline  FuelType_hybrid  \\\n",
            "236576               1                  0                  0                0   \n",
            "11305                0                  0                  0                0   \n",
            "158561               0                  0                  0                0   \n",
            "90386                1                  0                  0                0   \n",
            "81972                1                  0                  0                0   \n",
            "\n",
            "        FuelType_lpg  FuelType_other  FuelType_petrol  NotRepaired_yes  \n",
            "236576             0               0                1                1  \n",
            "11305              0               0                1                0  \n",
            "158561             0               0                1                0  \n",
            "90386              0               0                1                0  \n",
            "81972              0               0                1                0  \n",
            "\n",
            "[5 rows x 23 columns]\n"
          ]
        }
      ]
    },
    {
      "cell_type": "markdown",
      "metadata": {
        "id": "uU7WvM2ewI_y"
      },
      "source": [
        "**Вывод**  \n",
        "Дубликаты удалены.\n",
        "Отобраны признаки, необходимые для построения моделей.  \n",
        "Пропущенные значения, выбросы, неправдоподобные значения в признаках заполнены на основе имеющейся инфрмации или удалены.  \n",
        "Категориальные признаки преобразованы с помощью one-hot encoding.   \n",
        "Признак с большим колличеством категорий закодирован техникой Ordinal Encoding.  \n",
        "Данные разделены на тестовую и обучающую выборки и стандартизированны  "
      ]
    },
    {
      "cell_type": "markdown",
      "metadata": {
        "id": "BwwdR6BNwI_y"
      },
      "source": [
        "## Анализ моделей"
      ]
    },
    {
      "cell_type": "markdown",
      "metadata": {
        "id": "2BXCb5j6wI_y"
      },
      "source": [
        "###  Linear Regression"
      ]
    },
    {
      "cell_type": "code",
      "metadata": {
        "id": "JINSMYNSwI_y",
        "outputId": "f4c491a8-1772-49a9-d30c-79819df47835"
      },
      "source": [
        "%%time\n",
        "lmodel = LinearRegression()\n",
        "lmodel.fit(features_train, target_train)"
      ],
      "execution_count": null,
      "outputs": [
        {
          "name": "stdout",
          "output_type": "stream",
          "text": [
            "CPU times: user 310 ms, sys: 178 ms, total: 489 ms\n",
            "Wall time: 476 ms\n"
          ]
        },
        {
          "data": {
            "text/plain": [
              "LinearRegression(copy_X=True, fit_intercept=True, n_jobs=None, normalize=False)"
            ]
          },
          "execution_count": 35,
          "metadata": {},
          "output_type": "execute_result"
        }
      ]
    },
    {
      "cell_type": "code",
      "metadata": {
        "id": "jlYq5r9gwI_y",
        "outputId": "61a953a1-5c4a-484e-d175-626273aa1a14"
      },
      "source": [
        "%%time\n",
        "preds_lmodel = lmodel.predict(features_test)"
      ],
      "execution_count": null,
      "outputs": [
        {
          "name": "stdout",
          "output_type": "stream",
          "text": [
            "CPU times: user 24.7 ms, sys: 8.36 ms, total: 33 ms\n",
            "Wall time: 81.5 ms\n"
          ]
        }
      ]
    },
    {
      "cell_type": "code",
      "metadata": {
        "id": "C5HyXQVcwI_y",
        "outputId": "62365423-52a1-4ee2-cb38-0fc8c8370c64"
      },
      "source": [
        "mse_lmodel = mean_squared_error(target_test, preds_lmodel)\n",
        "print(\"RMSE для линейной модели на тестовой выборке:\", round((mse_lmodel) ** 0.5, 2))"
      ],
      "execution_count": null,
      "outputs": [
        {
          "name": "stdout",
          "output_type": "stream",
          "text": [
            "RMSE для линейной модели на тестовой выборке: 2892.27\n"
          ]
        }
      ]
    },
    {
      "cell_type": "markdown",
      "metadata": {
        "id": "fjXukJvFwI_z"
      },
      "source": [
        "###  Регрессия Ridge"
      ]
    },
    {
      "cell_type": "code",
      "metadata": {
        "id": "f4AO6bnywI_z"
      },
      "source": [
        "from sklearn.model_selection import GridSearchCV"
      ],
      "execution_count": null,
      "outputs": []
    },
    {
      "cell_type": "code",
      "metadata": {
        "id": "pmAZiVD6wI_z",
        "outputId": "5c7a0ad2-2b93-45ee-886c-6daaaeee091f"
      },
      "source": [
        "%%time\n",
        "\n",
        "rmodel = Ridge()\n",
        "hyperparams = [{'solver':['auto', 'svd', 'cholesky', 'lsqr','sparse_cg']}]\n",
        "rmodel = GridSearchCV(rmodel, hyperparams, scoring='neg_mean_squared_error')\n",
        "rmodel.fit(features_train, target_train)\n",
        "print(rmodel.best_params_)"
      ],
      "execution_count": null,
      "outputs": [
        {
          "name": "stdout",
          "output_type": "stream",
          "text": [
            "{'solver': 'auto'}\n",
            "CPU times: user 5.41 s, sys: 3.39 s, total: 8.8 s\n",
            "Wall time: 8.79 s\n"
          ]
        }
      ]
    },
    {
      "cell_type": "code",
      "metadata": {
        "id": "GdOUmZfwwI_z",
        "outputId": "50ff461f-5b52-4f34-dcb7-eec8a274e199"
      },
      "source": [
        "%%time\n",
        "preds_rmodel = rmodel.predict(features_test)"
      ],
      "execution_count": null,
      "outputs": [
        {
          "name": "stdout",
          "output_type": "stream",
          "text": [
            "CPU times: user 11.9 ms, sys: 12.5 ms, total: 24.3 ms\n",
            "Wall time: 86.9 ms\n"
          ]
        }
      ]
    },
    {
      "cell_type": "code",
      "metadata": {
        "id": "JAt6nKqIwI_z",
        "outputId": "19cfaf44-e327-4a46-869a-db9a6f6e3146"
      },
      "source": [
        "mse_rmodel = mean_squared_error(target_test, preds_rmodel)\n",
        "print(\"RMSE для Ridge модели на тестовой выборке:\", round((mse_rmodel) ** 0.5, 2))"
      ],
      "execution_count": null,
      "outputs": [
        {
          "name": "stdout",
          "output_type": "stream",
          "text": [
            "RMSE для Ridge модели на тестовой выборке: 2892.26\n"
          ]
        }
      ]
    },
    {
      "cell_type": "markdown",
      "metadata": {
        "id": "2H2pKVXrwI_z"
      },
      "source": [
        "### Регрессия DecisionTreeRegresso"
      ]
    },
    {
      "cell_type": "code",
      "metadata": {
        "id": "aTYxn1bowI_z",
        "outputId": "202cea79-d3aa-4b40-feb9-1636df1e6225"
      },
      "source": [
        "%%time\n",
        "\n",
        "trmodel = DecisionTreeRegressor(criterion='mse', \n",
        "                              max_depth=8, \n",
        "                              random_state=12345) \n",
        "trmodel.fit(features_train, target_train)"
      ],
      "execution_count": null,
      "outputs": [
        {
          "name": "stdout",
          "output_type": "stream",
          "text": [
            "CPU times: user 835 ms, sys: 9.08 ms, total: 844 ms\n",
            "Wall time: 854 ms\n"
          ]
        },
        {
          "data": {
            "text/plain": [
              "DecisionTreeRegressor(criterion='mse', max_depth=8, max_features=None,\n",
              "                      max_leaf_nodes=None, min_impurity_decrease=0.0,\n",
              "                      min_impurity_split=None, min_samples_leaf=1,\n",
              "                      min_samples_split=2, min_weight_fraction_leaf=0.0,\n",
              "                      presort=False, random_state=12345, splitter='best')"
            ]
          },
          "execution_count": 42,
          "metadata": {},
          "output_type": "execute_result"
        }
      ]
    },
    {
      "cell_type": "code",
      "metadata": {
        "id": "xfCCBc2KwI_0",
        "outputId": "8418e910-a939-447a-e7e2-02e7a99984db"
      },
      "source": [
        "%%time\n",
        "preds_trmodel = trmodel.predict(features_test)"
      ],
      "execution_count": null,
      "outputs": [
        {
          "name": "stdout",
          "output_type": "stream",
          "text": [
            "CPU times: user 17.2 ms, sys: 0 ns, total: 17.2 ms\n",
            "Wall time: 15.6 ms\n"
          ]
        }
      ]
    },
    {
      "cell_type": "code",
      "metadata": {
        "id": "_f3k3llrwI_0",
        "outputId": "557893d4-a6eb-4541-b48d-92f6da9ca6b8"
      },
      "source": [
        "mse_trmodel = mean_squared_error(target_test, preds_trmodel)\n",
        "print(\"RMSE для DecisionTreeRegresso модели на тестовой выборке:\", round((mse_trmodel) ** 0.5, 2))"
      ],
      "execution_count": null,
      "outputs": [
        {
          "name": "stdout",
          "output_type": "stream",
          "text": [
            "RMSE для DecisionTreeRegresso модели на тестовой выборке: 2120.34\n"
          ]
        }
      ]
    },
    {
      "cell_type": "markdown",
      "metadata": {
        "id": "SoDXo8iFwI_0"
      },
      "source": [
        "### Регрессия CatBoostRegressor"
      ]
    },
    {
      "cell_type": "code",
      "metadata": {
        "id": "eCZ1fVcVwI_0"
      },
      "source": [
        "numerical_features = ['DateCreated', 'Price', 'RegistrationYear', 'Power', 'Kilometer']\n"
      ],
      "execution_count": null,
      "outputs": []
    },
    {
      "cell_type": "code",
      "metadata": {
        "id": "B1MKMJtzwI_0"
      },
      "source": [
        "categorical_features = [col for col in list(features_train.columns) if col not in numerical_features]"
      ],
      "execution_count": null,
      "outputs": []
    },
    {
      "cell_type": "markdown",
      "metadata": {
        "id": "cGOTqL_PwI_0"
      },
      "source": [
        "связи с тем, что CatBoostRegressor принемает только целые числа или строки в категориях, пришлость пересобрать признаки.  \n",
        "    Так же попробывал оставить категориальные признаки без one-hot encoding, качество немного выросло на CatBoost и LGBM, но время обработки многократно увеличилось\n",
        "\n"
      ]
    },
    {
      "cell_type": "code",
      "metadata": {
        "id": "440HGwplwI_0"
      },
      "source": [
        "data_reg.loc[:,['VehicleType','Gearbox', 'Brand', 'FuelType', 'NotRepaired']] = data_ordinal.loc[:,['VehicleType','Gearbox', 'Brand', 'FuelType', 'NotRepaired']]\n",
        "catfeatures = data_reg.drop('Price', axis=1)\n",
        "cattarget = data_reg['Price']\n",
        "catfeatures_train, catfeatures_test, cattarget_train, cattarget_test = train_test_split(features, target, test_size=0.25, random_state=12345)\n"
      ],
      "execution_count": null,
      "outputs": []
    },
    {
      "cell_type": "code",
      "metadata": {
        "id": "bdjSiuG1wI_0"
      },
      "source": [
        "numericcat = ['RegistrationYear', 'Power', 'Kilometer', 'DateCreated']\n",
        "scaler = StandardScaler()\n",
        "scaler.fit(catfeatures_train[numericcat])\n",
        "catfeatures_train[numericcat] = scaler.transform(catfeatures_train[numericcat])\n",
        "catfeatures_test[numericcat] = scaler.transform(catfeatures_test[numericcat]) "
      ],
      "execution_count": null,
      "outputs": []
    },
    {
      "cell_type": "code",
      "metadata": {
        "id": "8skoI93pwI_1"
      },
      "source": [
        "%%time\n",
        "catmodel = CatBoostRegressor(learning_rate=0.5, random_state=12345, verbose=False) \n",
        "catmodel.fit(catfeatures_train, target_train, cat_features=categorical_features)"
      ],
      "execution_count": null,
      "outputs": []
    },
    {
      "cell_type": "markdown",
      "metadata": {
        "id": "pCRVGttuwI_1"
      },
      "source": [
        "CPU times: user 8min 38s, sys: 1min 5s, total: 9min 43s  \n",
        "Wall time: 9min 46s"
      ]
    },
    {
      "cell_type": "code",
      "metadata": {
        "id": "ZkKOvs3swI_1"
      },
      "source": [
        "%%time\n",
        "\n",
        "cat_predict = catmodel.predict(catfeatures_test)"
      ],
      "execution_count": null,
      "outputs": []
    },
    {
      "cell_type": "markdown",
      "metadata": {
        "id": "fY8jf6tRwI_1"
      },
      "source": [
        "CPU times: user 5.22 s, sys: 45.4 ms, total: 5.27 s  \n",
        "Wall time: 5.22 s"
      ]
    },
    {
      "cell_type": "code",
      "metadata": {
        "id": "0UnPeoh-wI_1"
      },
      "source": [
        "mse_catmodel = mean_squared_error(target_test, cat_predict)\n",
        "print(\"RMSE для CatBoostRegressor модели на тестовой выборке:\", round((mse_catmodel) ** 0.5, 2))"
      ],
      "execution_count": null,
      "outputs": []
    },
    {
      "cell_type": "markdown",
      "metadata": {
        "id": "9j2sdd2gwI_1"
      },
      "source": [
        "RMSE для CatBoostRegressor модели на тестовой выборке: 1624.89"
      ]
    },
    {
      "cell_type": "markdown",
      "metadata": {
        "id": "2n8ugt8AwI_1"
      },
      "source": [
        "### Регрессия LGBMRegressor"
      ]
    },
    {
      "cell_type": "code",
      "metadata": {
        "id": "FrQ2Ei7dwI_1",
        "outputId": "046f7235-4427-4746-a69c-05d283873e7a"
      },
      "source": [
        "%%time\n",
        "\n",
        "lgbmmodel = LGBMRegressor(learning_rate=0.1, \n",
        "                      num_leaves=100, \n",
        "                      random_state=12345,\n",
        "                      cat_features=categorical_features)\n",
        "lgbmmodel.fit(features_train, target_train)"
      ],
      "execution_count": null,
      "outputs": [
        {
          "name": "stdout",
          "output_type": "stream",
          "text": [
            "CPU times: user 12.4 s, sys: 72.8 ms, total: 12.5 s\n",
            "Wall time: 12.6 s\n"
          ]
        },
        {
          "data": {
            "text/plain": [
              "LGBMRegressor(boosting_type='gbdt',\n",
              "              cat_features=['Model', 'RegistrationMonth', 'Brand',\n",
              "                            'VehicleType_convertible', 'VehicleType_coupe',\n",
              "                            'VehicleType_other', 'VehicleType_sedan',\n",
              "                            'VehicleType_small', 'VehicleType_suv',\n",
              "                            'VehicleType_unknown', 'VehicleType_wagon',\n",
              "                            'Gearbox_manual', 'FuelType_electric',\n",
              "                            'FuelType_gasoline', 'FuelType_hybrid',\n",
              "                            'FuelType_lpg', 'FuelType...,\n",
              "                            'NotRepaired_yes'],\n",
              "              class_weight=None, colsample_bytree=1.0, importance_type='split',\n",
              "              learning_rate=0.1, max_depth=-1, min_child_samples=20,\n",
              "              min_child_weight=0.001, min_split_gain=0.0, n_estimators=100,\n",
              "              n_jobs=-1, num_leaves=100, objective=None, random_state=12345,\n",
              "              reg_alpha=0.0, reg_lambda=0.0, silent=True, subsample=1.0,\n",
              "              subsample_for_bin=200000, subsample_freq=0)"
            ]
          },
          "execution_count": 52,
          "metadata": {},
          "output_type": "execute_result"
        }
      ]
    },
    {
      "cell_type": "code",
      "metadata": {
        "id": "fV5_XP4gwI_1",
        "outputId": "05f65218-0c9b-4ab9-a7ca-98305eda02a1"
      },
      "source": [
        "%%time\n",
        "\n",
        "lgbm_predict = lgbmmodel.predict(features_test)"
      ],
      "execution_count": null,
      "outputs": [
        {
          "name": "stdout",
          "output_type": "stream",
          "text": [
            "CPU times: user 1.41 s, sys: 0 ns, total: 1.41 s\n",
            "Wall time: 1.41 s\n"
          ]
        }
      ]
    },
    {
      "cell_type": "code",
      "metadata": {
        "id": "lx1tKvqWwI_2",
        "outputId": "b850b1e8-c7a1-4fe2-cacc-e00d3a625b7a"
      },
      "source": [
        "mse_lgbmmodel = mean_squared_error(target_test, lgbm_predict)\n",
        "print(\"RMSE для LGBMRegressor модели на тестовой выборке:\", round((mse_lgbmmodel) ** 0.5, 2))"
      ],
      "execution_count": null,
      "outputs": [
        {
          "name": "stdout",
          "output_type": "stream",
          "text": [
            "RMSE для LGBMRegressor модели на тестовой выборке: 1664.7\n"
          ]
        }
      ]
    },
    {
      "cell_type": "markdown",
      "metadata": {
        "id": "gCiSivy9wI_2"
      },
      "source": [
        "Проведены измерения:  \n",
        " - времени обучения  \n",
        " - времени предсказания моделей  \n",
        " - качества предсказания по метрике RMSE"
      ]
    },
    {
      "cell_type": "markdown",
      "metadata": {
        "id": "N20YAi6mwI_2"
      },
      "source": [
        "## Анализ моделей"
      ]
    },
    {
      "cell_type": "code",
      "metadata": {
        "id": "YXYkgoQpwI_2"
      },
      "source": [
        "df = [[\"495 ms\", \"50 ms\", 2898.79],\n",
        "        [\"916 ms\", \"63.4 ms\", 2898.78],\n",
        "        [\"892 ms\", \"16.9 ms\", 2118.02],\n",
        "        [\"9min 46s\", \"5.22 s\", 1624.89],\n",
        "        [\"12.3 s\", \"1.41 s\", 1651.87]]\n",
        "model = [\"Linear Regression\", \"Ridge\", \"DecisionTreeRegresso\", \"CatBoostRegressor\", \"LGBMRegressor\"]"
      ],
      "execution_count": null,
      "outputs": []
    },
    {
      "cell_type": "code",
      "metadata": {
        "id": "mx5Z37newI_2",
        "outputId": "97de9a59-5f9f-4724-fd3f-897273f76fec"
      },
      "source": [
        "pd.DataFrame(data=df, index=model, columns=[\"fit_time\", \"predict_time\", \"RMSE\"])"
      ],
      "execution_count": null,
      "outputs": [
        {
          "data": {
            "text/html": [
              "<div>\n",
              "<style scoped>\n",
              "    .dataframe tbody tr th:only-of-type {\n",
              "        vertical-align: middle;\n",
              "    }\n",
              "\n",
              "    .dataframe tbody tr th {\n",
              "        vertical-align: top;\n",
              "    }\n",
              "\n",
              "    .dataframe thead th {\n",
              "        text-align: right;\n",
              "    }\n",
              "</style>\n",
              "<table border=\"1\" class=\"dataframe\">\n",
              "  <thead>\n",
              "    <tr style=\"text-align: right;\">\n",
              "      <th></th>\n",
              "      <th>fit_time</th>\n",
              "      <th>predict_time</th>\n",
              "      <th>RMSE</th>\n",
              "    </tr>\n",
              "  </thead>\n",
              "  <tbody>\n",
              "    <tr>\n",
              "      <td>Linear Regression</td>\n",
              "      <td>495 ms</td>\n",
              "      <td>50 ms</td>\n",
              "      <td>2898.79</td>\n",
              "    </tr>\n",
              "    <tr>\n",
              "      <td>Ridge</td>\n",
              "      <td>916 ms</td>\n",
              "      <td>63.4 ms</td>\n",
              "      <td>2898.78</td>\n",
              "    </tr>\n",
              "    <tr>\n",
              "      <td>DecisionTreeRegresso</td>\n",
              "      <td>892 ms</td>\n",
              "      <td>16.9 ms</td>\n",
              "      <td>2118.02</td>\n",
              "    </tr>\n",
              "    <tr>\n",
              "      <td>CatBoostRegressor</td>\n",
              "      <td>9min 46s</td>\n",
              "      <td>5.22 s</td>\n",
              "      <td>1624.89</td>\n",
              "    </tr>\n",
              "    <tr>\n",
              "      <td>LGBMRegressor</td>\n",
              "      <td>12.3 s</td>\n",
              "      <td>1.41 s</td>\n",
              "      <td>1651.87</td>\n",
              "    </tr>\n",
              "  </tbody>\n",
              "</table>\n",
              "</div>"
            ],
            "text/plain": [
              "                      fit_time predict_time     RMSE\n",
              "Linear Regression       495 ms        50 ms  2898.79\n",
              "Ridge                   916 ms      63.4 ms  2898.78\n",
              "DecisionTreeRegresso    892 ms      16.9 ms  2118.02\n",
              "CatBoostRegressor     9min 46s       5.22 s  1624.89\n",
              "LGBMRegressor           12.3 s       1.41 s  1651.87"
            ]
          },
          "execution_count": 56,
          "metadata": {},
          "output_type": "execute_result"
        }
      ]
    },
    {
      "cell_type": "markdown",
      "metadata": {
        "id": "if1XF_WiwI_3"
      },
      "source": [
        "**Вывод**:  \n",
        "Наилучшее качество получилось на модели Catboost, время обучения было дольше остальных и составило 9 min 46s.  \n",
        "LGBMRegressor предсказала незначительно хуже, но обучилась заметно быстрее на данных гиперпараметрах 12.2 s,"
      ]
    }
  ]
}