{
  "nbformat": 4,
  "nbformat_minor": 0,
  "metadata": {
    "kernelspec": {
      "display_name": "Python 3",
      "language": "python",
      "name": "python3"
    },
    "language_info": {
      "codemirror_mode": {
        "name": "ipython",
        "version": 3
      },
      "file_extension": ".py",
      "mimetype": "text/x-python",
      "name": "python",
      "nbconvert_exporter": "python",
      "pygments_lexer": "ipython3",
      "version": "3.7.8"
    },
    "toc": {
      "base_numbering": 1,
      "nav_menu": {},
      "number_sections": true,
      "sideBar": true,
      "skip_h1_title": true,
      "title_cell": "Оглавление",
      "title_sidebar": "Contents",
      "toc_cell": true,
      "toc_position": {},
      "toc_section_display": true,
      "toc_window_display": false
    },
    "colab": {
      "name": "c6e11f1e-c6e9-4d48-ab16-1d5c2c50653a.ipynb",
      "provenance": []
    }
  },
  "cells": [
    {
      "cell_type": "markdown",
      "metadata": {
        "id": "rZu2epSIrZsd"
      },
      "source": [
        "## Описание проекта"
      ]
    },
    {
      "cell_type": "markdown",
      "metadata": {
        "id": "u7_aOtMurXWU"
      },
      "source": [
        "Вам нужно защитить данные клиентов страховой компании «Хоть потоп». Разработайте такой метод преобразования данных, чтобы по ним было сложно восстановить персональную информацию. Обоснуйте корректность его работы.\n",
        "\n",
        "Нужно защитить данные, чтобы при преобразовании качество моделей машинного обучения не ухудшилось. Подбирать наилучшую модель не требуется."
      ]
    },
    {
      "cell_type": "markdown",
      "metadata": {
        "id": "Rbfa8yPsrXWW"
      },
      "source": [
        "## Загрузка данных"
      ]
    },
    {
      "cell_type": "code",
      "metadata": {
        "id": "-5qg37vCrXWX"
      },
      "source": [
        "# импорт библиотек\n",
        "\n",
        "import pandas as pd\n",
        "import sklearn\n",
        "import numpy as np\n",
        "from sklearn.linear_model import LinearRegression\n",
        "from sklearn.metrics import r2_score"
      ],
      "execution_count": null,
      "outputs": []
    },
    {
      "cell_type": "code",
      "metadata": {
        "id": "chKbhGnarXWX"
      },
      "source": [
        "# <чтение файла с данными с сохранением в data_full>\n",
        "\n",
        "data = pd.read_csv('/datasets/insurance.csv')"
      ],
      "execution_count": null,
      "outputs": []
    },
    {
      "cell_type": "code",
      "metadata": {
        "id": "aDKo4GcXrXWY",
        "outputId": "6ba5ddd6-b214-4ae6-978d-7bfbfd8150f7"
      },
      "source": [
        "# изучаю датафрейм\n",
        "\n",
        "print(data.info())\n",
        "data.head()"
      ],
      "execution_count": null,
      "outputs": [
        {
          "name": "stdout",
          "output_type": "stream",
          "text": [
            "<class 'pandas.core.frame.DataFrame'>\n",
            "RangeIndex: 5000 entries, 0 to 4999\n",
            "Data columns (total 5 columns):\n",
            "Пол                  5000 non-null int64\n",
            "Возраст              5000 non-null float64\n",
            "Зарплата             5000 non-null float64\n",
            "Члены семьи          5000 non-null int64\n",
            "Страховые выплаты    5000 non-null int64\n",
            "dtypes: float64(2), int64(3)\n",
            "memory usage: 195.4 KB\n",
            "None\n"
          ]
        },
        {
          "data": {
            "text/html": [
              "<div>\n",
              "<style scoped>\n",
              "    .dataframe tbody tr th:only-of-type {\n",
              "        vertical-align: middle;\n",
              "    }\n",
              "\n",
              "    .dataframe tbody tr th {\n",
              "        vertical-align: top;\n",
              "    }\n",
              "\n",
              "    .dataframe thead th {\n",
              "        text-align: right;\n",
              "    }\n",
              "</style>\n",
              "<table border=\"1\" class=\"dataframe\">\n",
              "  <thead>\n",
              "    <tr style=\"text-align: right;\">\n",
              "      <th></th>\n",
              "      <th>Пол</th>\n",
              "      <th>Возраст</th>\n",
              "      <th>Зарплата</th>\n",
              "      <th>Члены семьи</th>\n",
              "      <th>Страховые выплаты</th>\n",
              "    </tr>\n",
              "  </thead>\n",
              "  <tbody>\n",
              "    <tr>\n",
              "      <td>0</td>\n",
              "      <td>1</td>\n",
              "      <td>41.0</td>\n",
              "      <td>49600.0</td>\n",
              "      <td>1</td>\n",
              "      <td>0</td>\n",
              "    </tr>\n",
              "    <tr>\n",
              "      <td>1</td>\n",
              "      <td>0</td>\n",
              "      <td>46.0</td>\n",
              "      <td>38000.0</td>\n",
              "      <td>1</td>\n",
              "      <td>1</td>\n",
              "    </tr>\n",
              "    <tr>\n",
              "      <td>2</td>\n",
              "      <td>0</td>\n",
              "      <td>29.0</td>\n",
              "      <td>21000.0</td>\n",
              "      <td>0</td>\n",
              "      <td>0</td>\n",
              "    </tr>\n",
              "    <tr>\n",
              "      <td>3</td>\n",
              "      <td>0</td>\n",
              "      <td>21.0</td>\n",
              "      <td>41700.0</td>\n",
              "      <td>2</td>\n",
              "      <td>0</td>\n",
              "    </tr>\n",
              "    <tr>\n",
              "      <td>4</td>\n",
              "      <td>1</td>\n",
              "      <td>28.0</td>\n",
              "      <td>26100.0</td>\n",
              "      <td>0</td>\n",
              "      <td>0</td>\n",
              "    </tr>\n",
              "  </tbody>\n",
              "</table>\n",
              "</div>"
            ],
            "text/plain": [
              "   Пол  Возраст  Зарплата  Члены семьи  Страховые выплаты\n",
              "0    1     41.0   49600.0            1                  0\n",
              "1    0     46.0   38000.0            1                  1\n",
              "2    0     29.0   21000.0            0                  0\n",
              "3    0     21.0   41700.0            2                  0\n",
              "4    1     28.0   26100.0            0                  0"
            ]
          },
          "execution_count": 3,
          "metadata": {},
          "output_type": "execute_result"
        }
      ]
    },
    {
      "cell_type": "code",
      "metadata": {
        "id": "Z6uZnDDmrXWa",
        "outputId": "4eb92d9f-e796-4976-e22a-b4ea0d0f22b2"
      },
      "source": [
        "data.describe()"
      ],
      "execution_count": null,
      "outputs": [
        {
          "data": {
            "text/html": [
              "<div>\n",
              "<style scoped>\n",
              "    .dataframe tbody tr th:only-of-type {\n",
              "        vertical-align: middle;\n",
              "    }\n",
              "\n",
              "    .dataframe tbody tr th {\n",
              "        vertical-align: top;\n",
              "    }\n",
              "\n",
              "    .dataframe thead th {\n",
              "        text-align: right;\n",
              "    }\n",
              "</style>\n",
              "<table border=\"1\" class=\"dataframe\">\n",
              "  <thead>\n",
              "    <tr style=\"text-align: right;\">\n",
              "      <th></th>\n",
              "      <th>Пол</th>\n",
              "      <th>Возраст</th>\n",
              "      <th>Зарплата</th>\n",
              "      <th>Члены семьи</th>\n",
              "      <th>Страховые выплаты</th>\n",
              "    </tr>\n",
              "  </thead>\n",
              "  <tbody>\n",
              "    <tr>\n",
              "      <td>count</td>\n",
              "      <td>5000.000000</td>\n",
              "      <td>5000.000000</td>\n",
              "      <td>5000.000000</td>\n",
              "      <td>5000.000000</td>\n",
              "      <td>5000.000000</td>\n",
              "    </tr>\n",
              "    <tr>\n",
              "      <td>mean</td>\n",
              "      <td>0.499000</td>\n",
              "      <td>30.952800</td>\n",
              "      <td>39916.360000</td>\n",
              "      <td>1.194200</td>\n",
              "      <td>0.148000</td>\n",
              "    </tr>\n",
              "    <tr>\n",
              "      <td>std</td>\n",
              "      <td>0.500049</td>\n",
              "      <td>8.440807</td>\n",
              "      <td>9900.083569</td>\n",
              "      <td>1.091387</td>\n",
              "      <td>0.463183</td>\n",
              "    </tr>\n",
              "    <tr>\n",
              "      <td>min</td>\n",
              "      <td>0.000000</td>\n",
              "      <td>18.000000</td>\n",
              "      <td>5300.000000</td>\n",
              "      <td>0.000000</td>\n",
              "      <td>0.000000</td>\n",
              "    </tr>\n",
              "    <tr>\n",
              "      <td>25%</td>\n",
              "      <td>0.000000</td>\n",
              "      <td>24.000000</td>\n",
              "      <td>33300.000000</td>\n",
              "      <td>0.000000</td>\n",
              "      <td>0.000000</td>\n",
              "    </tr>\n",
              "    <tr>\n",
              "      <td>50%</td>\n",
              "      <td>0.000000</td>\n",
              "      <td>30.000000</td>\n",
              "      <td>40200.000000</td>\n",
              "      <td>1.000000</td>\n",
              "      <td>0.000000</td>\n",
              "    </tr>\n",
              "    <tr>\n",
              "      <td>75%</td>\n",
              "      <td>1.000000</td>\n",
              "      <td>37.000000</td>\n",
              "      <td>46600.000000</td>\n",
              "      <td>2.000000</td>\n",
              "      <td>0.000000</td>\n",
              "    </tr>\n",
              "    <tr>\n",
              "      <td>max</td>\n",
              "      <td>1.000000</td>\n",
              "      <td>65.000000</td>\n",
              "      <td>79000.000000</td>\n",
              "      <td>6.000000</td>\n",
              "      <td>5.000000</td>\n",
              "    </tr>\n",
              "  </tbody>\n",
              "</table>\n",
              "</div>"
            ],
            "text/plain": [
              "               Пол      Возраст      Зарплата  Члены семьи  Страховые выплаты\n",
              "count  5000.000000  5000.000000   5000.000000  5000.000000        5000.000000\n",
              "mean      0.499000    30.952800  39916.360000     1.194200           0.148000\n",
              "std       0.500049     8.440807   9900.083569     1.091387           0.463183\n",
              "min       0.000000    18.000000   5300.000000     0.000000           0.000000\n",
              "25%       0.000000    24.000000  33300.000000     0.000000           0.000000\n",
              "50%       0.000000    30.000000  40200.000000     1.000000           0.000000\n",
              "75%       1.000000    37.000000  46600.000000     2.000000           0.000000\n",
              "max       1.000000    65.000000  79000.000000     6.000000           5.000000"
            ]
          },
          "execution_count": 4,
          "metadata": {},
          "output_type": "execute_result"
        }
      ]
    },
    {
      "cell_type": "code",
      "metadata": {
        "id": "rMS6hlmTrXWb",
        "outputId": "0ecabf99-8a26-4d54-c30a-11221966e0c5"
      },
      "source": [
        "data[\"Пол\"].value_counts()"
      ],
      "execution_count": null,
      "outputs": [
        {
          "data": {
            "text/plain": [
              "0    2505\n",
              "1    2495\n",
              "Name: Пол, dtype: int64"
            ]
          },
          "execution_count": 5,
          "metadata": {},
          "output_type": "execute_result"
        }
      ]
    },
    {
      "cell_type": "markdown",
      "metadata": {
        "id": "I_MWdJUGrXWb"
      },
      "source": [
        "**Вывод:**  \n",
        "Данные состроят из 5000 строк  \n",
        "Признаки: Пол, Возраст, Зарплата, Члены, семьи  \n",
        "Целевой признак: количество страховых выплат  \n",
        "Данные в предобработке не нуждаются  \n",
        "Данные разделены по полу почти в равном колличестве\n"
      ]
    },
    {
      "cell_type": "markdown",
      "metadata": {
        "id": "Lko5pFEvrXWc"
      },
      "source": [
        "## Умножение матриц"
      ]
    },
    {
      "cell_type": "markdown",
      "metadata": {
        "id": "nkExqqXNrXWc"
      },
      "source": [
        "В этом задании вы можете записывать формулы в *Jupyter Notebook.*\n",
        "\n",
        "Чтобы записать формулу внутри текста, окружите её символами доллара \\\\$; если снаружи —  двойными символами \\\\$\\\\$. Эти формулы записываются на языке вёрстки *LaTeX.* \n",
        "\n",
        "Для примера мы записали формулы линейной регрессии. Можете их скопировать и отредактировать, чтобы решить задачу.\n",
        "\n",
        "Работать в *LaTeX* необязательно."
      ]
    },
    {
      "cell_type": "markdown",
      "metadata": {
        "id": "7jMkpF0hrXWd"
      },
      "source": [
        "Обозначения:\n",
        "\n",
        "- $X$ — матрица признаков (нулевой столбец состоит из единиц)\n",
        "\n",
        "- $y$ — вектор целевого признака\n",
        "\n",
        "- $P$ — матрица, на которую умножаются признаки\n",
        "\n",
        "- $w$ — вектор весов линейной регрессии (нулевой элемент равен сдвигу)"
      ]
    },
    {
      "cell_type": "markdown",
      "metadata": {
        "id": "l2TDj_kqrXWd"
      },
      "source": [
        "Предсказания:\n",
        "\n",
        "$$\n",
        "a = Xw\n",
        "$$\n",
        "\n",
        "Задача обучения:\n",
        "\n",
        "$$\n",
        "w = \\arg\\min_w MSE(Xw, y)\n",
        "$$\n",
        "\n",
        "Формула обучения:\n",
        "\n",
        "$$\n",
        "w = (X^T X)^{-1} X^T y\n",
        "$$"
      ]
    },
    {
      "cell_type": "markdown",
      "metadata": {
        "id": "FWDAgstArXWd"
      },
      "source": [
        "**Признаки умножают на обратимую матрицу. Изменится ли качество линейной регрессии?**"
      ]
    },
    {
      "cell_type": "markdown",
      "metadata": {
        "id": "mra26nHbrXWd"
      },
      "source": [
        "**Ответ:** Не изменится."
      ]
    },
    {
      "cell_type": "markdown",
      "metadata": {
        "id": "8PGxjXs1rXWd"
      },
      "source": [
        "**Обоснование:**  \n",
        "\n",
        "Признаки умножают на обратимую матрицу $P$ : \n",
        "\n",
        "$$\n",
        "w_1 = ((XP)^T XP)^{-1} (XP)^T y\n",
        "$$\n"
      ]
    },
    {
      "cell_type": "markdown",
      "metadata": {
        "id": "rQ7zcyrLrXWe"
      },
      "source": [
        "Транспонированное произведение матриц равно произведению транспонированных матриц, взятых в обратном порядке\n",
        "\n",
        "$$\n",
        "w_1 = (P^T X^T XP)^{-1} P^T X^T  y\n",
        "$$"
      ]
    },
    {
      "cell_type": "markdown",
      "metadata": {
        "id": "7qUYavFlrXWe"
      },
      "source": [
        "Используя формулу\n",
        "$$\n",
        "(A * B)^{-1} = B^{-1} * A^{-1}  \n",
        "$$  \n",
        "\n",
        "где $A$ и $B$ квадратные  \n",
        "\n",
        "$P$, $P^T$ и $X^T X$ квадратные  \n",
        "\n",
        "\n",
        "$$\n",
        "w_1= P^{-1} (X^T X)^{-1} (P^T)^{-1} P^T X^T  y\n",
        "$$\n"
      ]
    },
    {
      "cell_type": "markdown",
      "metadata": {
        "id": "qmcp_gw6rXWe"
      },
      "source": [
        "Умножение матрицы на обратную матрицу равно единичной матрице  \n",
        "$$\n",
        "w_1= P^{-1} (X^T X)^{-1} I X^T  y\n",
        "$$\n",
        "\n",
        "Умножение любой матрицы на единичную равно этой самой матрице.\n",
        "$$\n",
        "w_1= P^{-1} (X^T X)^{-1} X^T  y\n",
        "$$"
      ]
    },
    {
      "cell_type": "markdown",
      "metadata": {
        "id": "EnE4CATLrXWe"
      },
      "source": [
        "$$\n",
        "a_1 = XPw_1\n",
        "$$  \n",
        "\n",
        "$$\n",
        "a_1 = X P P^{-1} (X^T X)^{-1} X^T  y\n",
        "$$  \n",
        "\n",
        "$$\n",
        "a_1 = X (X^T X)^{-1} X^T  y\n",
        "$$  \n",
        "\n",
        "$$\n",
        "a_1 = Xw\n",
        "$$"
      ]
    },
    {
      "cell_type": "markdown",
      "metadata": {
        "id": "idzwAHGzrXWe"
      },
      "source": [
        "**Вывод:**  \n",
        "Преобразовав формулы мы выяснили что при умножении признаков на обратимую матрицу качество не меняется"
      ]
    },
    {
      "cell_type": "markdown",
      "metadata": {
        "id": "Oc2y32RprXWf"
      },
      "source": [
        "## Алгоритм преобразования"
      ]
    },
    {
      "cell_type": "markdown",
      "metadata": {
        "id": "BTZpgaocrXWf"
      },
      "source": [
        "**Алгоритм**  \n",
        "Необходимо умножить матрицу признаков на матрицу шифрования так как при умножении количество столбцов матрицы A должно быть равно количеству строк матрицы, полученная матрица будет иметь количество строк матрицы A и количество столбцов матрицы B. Поэтому размер матрицы щифрования на которую умножают равен 4х4\n",
        "\n",
        "Матрицу шифрования сгенерируем с помощью np.random.normal()"
      ]
    },
    {
      "cell_type": "markdown",
      "metadata": {
        "id": "IWw1tDSNrXWf"
      },
      "source": [
        "**Обоснование**\n"
      ]
    },
    {
      "cell_type": "code",
      "metadata": {
        "id": "RPu11P6MrXWf"
      },
      "source": [
        "#разобьем data на признаки и целевой признак\n",
        "features = data.drop('Страховые выплаты', axis=1)\n",
        "target = data['Страховые выплаты']"
      ],
      "execution_count": null,
      "outputs": []
    },
    {
      "cell_type": "code",
      "metadata": {
        "id": "UYyxUrNvrXWf"
      },
      "source": [
        "# Создадим обратимую квадратную матрицу со случайными числами размерностью столбцов features\n",
        "state = np.random.RandomState(12345)\n",
        "matrix_cr=np.random.normal(size=(features.shape[1],features.shape[1]))"
      ],
      "execution_count": null,
      "outputs": []
    },
    {
      "cell_type": "code",
      "metadata": {
        "id": "2HSrVcMvrXWg",
        "outputId": "eecbf0ba-3479-468b-f681-4b0fe845c004"
      },
      "source": [
        "# зашифруем даннные путем умножения матриц\n",
        "features_cr=features @ matrix_cr\n",
        "features_cr"
      ],
      "execution_count": null,
      "outputs": [
        {
          "data": {
            "text/html": [
              "<div>\n",
              "<style scoped>\n",
              "    .dataframe tbody tr th:only-of-type {\n",
              "        vertical-align: middle;\n",
              "    }\n",
              "\n",
              "    .dataframe tbody tr th {\n",
              "        vertical-align: top;\n",
              "    }\n",
              "\n",
              "    .dataframe thead th {\n",
              "        text-align: right;\n",
              "    }\n",
              "</style>\n",
              "<table border=\"1\" class=\"dataframe\">\n",
              "  <thead>\n",
              "    <tr style=\"text-align: right;\">\n",
              "      <th></th>\n",
              "      <th>0</th>\n",
              "      <th>1</th>\n",
              "      <th>2</th>\n",
              "      <th>3</th>\n",
              "    </tr>\n",
              "  </thead>\n",
              "  <tbody>\n",
              "    <tr>\n",
              "      <td>0</td>\n",
              "      <td>30993.856535</td>\n",
              "      <td>-24217.279968</td>\n",
              "      <td>21561.850518</td>\n",
              "      <td>4641.038069</td>\n",
              "    </tr>\n",
              "    <tr>\n",
              "      <td>1</td>\n",
              "      <td>23743.752600</td>\n",
              "      <td>-18554.023274</td>\n",
              "      <td>16509.182987</td>\n",
              "      <td>3572.734854</td>\n",
              "    </tr>\n",
              "    <tr>\n",
              "      <td>2</td>\n",
              "      <td>13121.220017</td>\n",
              "      <td>-10253.719555</td>\n",
              "      <td>9122.178171</td>\n",
              "      <td>1978.932944</td>\n",
              "    </tr>\n",
              "    <tr>\n",
              "      <td>3</td>\n",
              "      <td>26059.386000</td>\n",
              "      <td>-20358.323444</td>\n",
              "      <td>18134.741121</td>\n",
              "      <td>3883.972971</td>\n",
              "    </tr>\n",
              "    <tr>\n",
              "      <td>4</td>\n",
              "      <td>16308.233196</td>\n",
              "      <td>-12744.293695</td>\n",
              "      <td>11342.566236</td>\n",
              "      <td>2450.763677</td>\n",
              "    </tr>\n",
              "    <tr>\n",
              "      <td>...</td>\n",
              "      <td>...</td>\n",
              "      <td>...</td>\n",
              "      <td>...</td>\n",
              "      <td>...</td>\n",
              "    </tr>\n",
              "    <tr>\n",
              "      <td>4995</td>\n",
              "      <td>22308.391863</td>\n",
              "      <td>-17429.970674</td>\n",
              "      <td>15518.099368</td>\n",
              "      <td>3337.475325</td>\n",
              "    </tr>\n",
              "    <tr>\n",
              "      <td>4996</td>\n",
              "      <td>32745.487213</td>\n",
              "      <td>-25582.472300</td>\n",
              "      <td>22785.887189</td>\n",
              "      <td>4890.267851</td>\n",
              "    </tr>\n",
              "    <tr>\n",
              "      <td>4997</td>\n",
              "      <td>21184.464100</td>\n",
              "      <td>-16550.618169</td>\n",
              "      <td>14739.915935</td>\n",
              "      <td>3161.030126</td>\n",
              "    </tr>\n",
              "    <tr>\n",
              "      <td>4998</td>\n",
              "      <td>20433.237499</td>\n",
              "      <td>-15966.273739</td>\n",
              "      <td>14213.781144</td>\n",
              "      <td>3053.477467</td>\n",
              "    </tr>\n",
              "    <tr>\n",
              "      <td>4999</td>\n",
              "      <td>25370.554065</td>\n",
              "      <td>-19822.780827</td>\n",
              "      <td>17652.730826</td>\n",
              "      <td>3792.216968</td>\n",
              "    </tr>\n",
              "  </tbody>\n",
              "</table>\n",
              "<p>5000 rows × 4 columns</p>\n",
              "</div>"
            ],
            "text/plain": [
              "                 0             1             2            3\n",
              "0     30993.856535 -24217.279968  21561.850518  4641.038069\n",
              "1     23743.752600 -18554.023274  16509.182987  3572.734854\n",
              "2     13121.220017 -10253.719555   9122.178171  1978.932944\n",
              "3     26059.386000 -20358.323444  18134.741121  3883.972971\n",
              "4     16308.233196 -12744.293695  11342.566236  2450.763677\n",
              "...            ...           ...           ...          ...\n",
              "4995  22308.391863 -17429.970674  15518.099368  3337.475325\n",
              "4996  32745.487213 -25582.472300  22785.887189  4890.267851\n",
              "4997  21184.464100 -16550.618169  14739.915935  3161.030126\n",
              "4998  20433.237499 -15966.273739  14213.781144  3053.477467\n",
              "4999  25370.554065 -19822.780827  17652.730826  3792.216968\n",
              "\n",
              "[5000 rows x 4 columns]"
            ]
          },
          "execution_count": 8,
          "metadata": {},
          "output_type": "execute_result"
        }
      ]
    },
    {
      "cell_type": "markdown",
      "metadata": {
        "id": "A2Md7T9ArXWg"
      },
      "source": [
        "**Вывод**  \n",
        "После умножения размер матрицы признаков и кодированных признаков совпадает"
      ]
    },
    {
      "cell_type": "markdown",
      "metadata": {
        "id": "Vlk6jqXLrXWg"
      },
      "source": [
        "## Проверка алгоритма"
      ]
    },
    {
      "cell_type": "markdown",
      "metadata": {
        "id": "hprTM_KOrXWh"
      },
      "source": [
        "### Качество линейной регресии на нешифрованных данных"
      ]
    },
    {
      "cell_type": "code",
      "metadata": {
        "id": "xL-OH_9urXWh",
        "outputId": "1c9080b0-2ac7-4b88-f2bf-0bcd5044a253"
      },
      "source": [
        "model = LinearRegression()\n",
        "\n",
        "model.fit(features, target)\n",
        "\n",
        "predictions = model.predict(features)\n",
        "\n",
        "print('R2:', r2_score(target,predictions))"
      ],
      "execution_count": null,
      "outputs": [
        {
          "name": "stdout",
          "output_type": "stream",
          "text": [
            "R2: 0.42494550286668\n"
          ]
        }
      ]
    },
    {
      "cell_type": "markdown",
      "metadata": {
        "id": "K_TuNZPVrXWh"
      },
      "source": [
        "### Качество линейной регресии c шифрованием данных"
      ]
    },
    {
      "cell_type": "code",
      "metadata": {
        "id": "ZwZpHkn9rXWh",
        "outputId": "31cf4086-ba1c-4621-8108-b79c492e0d83"
      },
      "source": [
        "model = LinearRegression()\n",
        "\n",
        "model.fit(features_cr, target)\n",
        "\n",
        "predictions = model.predict(features_cr)\n",
        "\n",
        "print('R2:', r2_score(target,predictions))"
      ],
      "execution_count": null,
      "outputs": [
        {
          "name": "stdout",
          "output_type": "stream",
          "text": [
            "R2: 0.4249455028666821\n"
          ]
        }
      ]
    },
    {
      "cell_type": "markdown",
      "metadata": {
        "id": "fgfygenKrXWh"
      },
      "source": [
        "**Вывод:**  \n",
        "Качество моделей с шифрованием при помощи умножения на обратимую матрицу со случайными числами не изменяется  \n",
        "Небольшое расхождение предположу связанно с тем, что операции с float накапливают небольшую погрешность."
      ]
    }
  ]
}