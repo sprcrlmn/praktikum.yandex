{
  "nbformat": 4,
  "nbformat_minor": 0,
  "metadata": {
    "kernelspec": {
      "display_name": "Python 3",
      "language": "python",
      "name": "python3"
    },
    "language_info": {
      "codemirror_mode": {
        "name": "ipython",
        "version": 3
      },
      "file_extension": ".py",
      "mimetype": "text/x-python",
      "name": "python",
      "nbconvert_exporter": "python",
      "pygments_lexer": "ipython3",
      "version": "3.7.8"
    },
    "toc": {
      "base_numbering": 1,
      "nav_menu": {},
      "number_sections": true,
      "sideBar": true,
      "skip_h1_title": true,
      "title_cell": "Table of Contents",
      "title_sidebar": "Contents",
      "toc_cell": false,
      "toc_position": {},
      "toc_section_display": true,
      "toc_window_display": false
    },
    "colab": {
      "name": "e9362a5d-de9d-4641-9755-20edf63bfe54.ipynb",
      "provenance": []
    }
  },
  "cells": [
    {
      "cell_type": "markdown",
      "metadata": {
        "id": "sOoQkdFTKZUS"
      },
      "source": [
        "# Отток клиентов"
      ]
    },
    {
      "cell_type": "markdown",
      "metadata": {
        "id": "xNO81JHbKZUS"
      },
      "source": [
        "Из «Бета-Банка» стали уходить клиенты. Каждый месяц. Немного, но заметно. Банковские маркетологи посчитали: сохранять текущих клиентов дешевле, чем привлекать новых.\n",
        "\n",
        "Нужно спрогнозировать, уйдёт клиент из банка в ближайшее время или нет. Вам предоставлены исторические данные о поведении клиентов и расторжении договоров с банком. \n",
        "\n",
        "Постройте модель с предельно большим значением *F1*-меры. Чтобы сдать проект успешно, нужно довести метрику до 0.59. Проверьте *F1*-меру на тестовой выборке самостоятельно.\n",
        "\n",
        "Дополнительно измеряйте *AUC-ROC*, сравнивайте её значение с *F1*-мерой.\n",
        "\n",
        "Источник данных: [https://www.kaggle.com/barelydedicated/bank-customer-churn-modeling](https://www.kaggle.com/barelydedicated/bank-customer-churn-modeling)"
      ]
    },
    {
      "cell_type": "markdown",
      "metadata": {
        "id": "LAdkUmJpKZUS"
      },
      "source": [
        "<a id=\"1\"></a>\n",
        "# 1. Подготовка данных"
      ]
    },
    {
      "cell_type": "code",
      "metadata": {
        "id": "nxSXqGKWKZUT"
      },
      "source": [
        "import pandas as pd\n",
        "import matplotlib.pyplot as plt\n",
        "from sklearn.tree import DecisionTreeClassifier\n",
        "from sklearn.ensemble import RandomForestClassifier\n",
        "from sklearn.linear_model import LogisticRegression\n",
        "from sklearn.model_selection import train_test_split\n",
        "from sklearn.preprocessing import StandardScaler\n",
        "from sklearn.utils import shuffle\n",
        "from sklearn.metrics import accuracy_score, precision_score, recall_score, roc_auc_score, roc_curve, f1_score\n",
        "import warnings\n",
        "warnings.filterwarnings('ignore')"
      ],
      "execution_count": null,
      "outputs": []
    },
    {
      "cell_type": "code",
      "metadata": {
        "id": "uuJFwmk-KZUT",
        "outputId": "1c82ab2f-253f-4697-e92c-e25a5a10c6c8"
      },
      "source": [
        "data = pd.read_csv('/datasets/Churn.csv')\n",
        "data.info()"
      ],
      "execution_count": null,
      "outputs": [
        {
          "name": "stdout",
          "output_type": "stream",
          "text": [
            "<class 'pandas.core.frame.DataFrame'>\n",
            "RangeIndex: 10000 entries, 0 to 9999\n",
            "Data columns (total 14 columns):\n",
            "RowNumber          10000 non-null int64\n",
            "CustomerId         10000 non-null int64\n",
            "Surname            10000 non-null object\n",
            "CreditScore        10000 non-null int64\n",
            "Geography          10000 non-null object\n",
            "Gender             10000 non-null object\n",
            "Age                10000 non-null int64\n",
            "Tenure             9091 non-null float64\n",
            "Balance            10000 non-null float64\n",
            "NumOfProducts      10000 non-null int64\n",
            "HasCrCard          10000 non-null int64\n",
            "IsActiveMember     10000 non-null int64\n",
            "EstimatedSalary    10000 non-null float64\n",
            "Exited             10000 non-null int64\n",
            "dtypes: float64(3), int64(8), object(3)\n",
            "memory usage: 1.1+ MB\n"
          ]
        }
      ]
    },
    {
      "cell_type": "markdown",
      "metadata": {
        "id": "es8jYZsNKZUT"
      },
      "source": [
        "Признаки  \n",
        "RowNumber — индекс строки в данных  \n",
        "CustomerId — уникальный идентификатор клиента  \n",
        "Surname — фамилия  \n",
        "CreditScore — кредитный рейтинг  \n",
        "Geography — страна проживания  \n",
        "Gender — пол  \n",
        "Age — возраст  \n",
        "Tenure — количество недвижимости у клиента  \n",
        "Balance — баланс на счёте  \n",
        "NumOfProducts — количество продуктов банка, используемых клиентом  \n",
        "HasCrCard — наличие кредитной карты  \n",
        "IsActiveMember — активность клиента  \n",
        "EstimatedSalary — предполагаемая зарплата  \n",
        "Целевой признак  \n",
        "Exited — факт ухода клиента  "
      ]
    },
    {
      "cell_type": "code",
      "metadata": {
        "id": "QAsxgr4-KZUT",
        "outputId": "5d6bb631-3009-4c2e-a38e-989429ebd347"
      },
      "source": [
        "data.head()"
      ],
      "execution_count": null,
      "outputs": [
        {
          "data": {
            "text/html": [
              "<div>\n",
              "<style scoped>\n",
              "    .dataframe tbody tr th:only-of-type {\n",
              "        vertical-align: middle;\n",
              "    }\n",
              "\n",
              "    .dataframe tbody tr th {\n",
              "        vertical-align: top;\n",
              "    }\n",
              "\n",
              "    .dataframe thead th {\n",
              "        text-align: right;\n",
              "    }\n",
              "</style>\n",
              "<table border=\"1\" class=\"dataframe\">\n",
              "  <thead>\n",
              "    <tr style=\"text-align: right;\">\n",
              "      <th></th>\n",
              "      <th>RowNumber</th>\n",
              "      <th>CustomerId</th>\n",
              "      <th>Surname</th>\n",
              "      <th>CreditScore</th>\n",
              "      <th>Geography</th>\n",
              "      <th>Gender</th>\n",
              "      <th>Age</th>\n",
              "      <th>Tenure</th>\n",
              "      <th>Balance</th>\n",
              "      <th>NumOfProducts</th>\n",
              "      <th>HasCrCard</th>\n",
              "      <th>IsActiveMember</th>\n",
              "      <th>EstimatedSalary</th>\n",
              "      <th>Exited</th>\n",
              "    </tr>\n",
              "  </thead>\n",
              "  <tbody>\n",
              "    <tr>\n",
              "      <td>0</td>\n",
              "      <td>1</td>\n",
              "      <td>15634602</td>\n",
              "      <td>Hargrave</td>\n",
              "      <td>619</td>\n",
              "      <td>France</td>\n",
              "      <td>Female</td>\n",
              "      <td>42</td>\n",
              "      <td>2.0</td>\n",
              "      <td>0.00</td>\n",
              "      <td>1</td>\n",
              "      <td>1</td>\n",
              "      <td>1</td>\n",
              "      <td>101348.88</td>\n",
              "      <td>1</td>\n",
              "    </tr>\n",
              "    <tr>\n",
              "      <td>1</td>\n",
              "      <td>2</td>\n",
              "      <td>15647311</td>\n",
              "      <td>Hill</td>\n",
              "      <td>608</td>\n",
              "      <td>Spain</td>\n",
              "      <td>Female</td>\n",
              "      <td>41</td>\n",
              "      <td>1.0</td>\n",
              "      <td>83807.86</td>\n",
              "      <td>1</td>\n",
              "      <td>0</td>\n",
              "      <td>1</td>\n",
              "      <td>112542.58</td>\n",
              "      <td>0</td>\n",
              "    </tr>\n",
              "    <tr>\n",
              "      <td>2</td>\n",
              "      <td>3</td>\n",
              "      <td>15619304</td>\n",
              "      <td>Onio</td>\n",
              "      <td>502</td>\n",
              "      <td>France</td>\n",
              "      <td>Female</td>\n",
              "      <td>42</td>\n",
              "      <td>8.0</td>\n",
              "      <td>159660.80</td>\n",
              "      <td>3</td>\n",
              "      <td>1</td>\n",
              "      <td>0</td>\n",
              "      <td>113931.57</td>\n",
              "      <td>1</td>\n",
              "    </tr>\n",
              "    <tr>\n",
              "      <td>3</td>\n",
              "      <td>4</td>\n",
              "      <td>15701354</td>\n",
              "      <td>Boni</td>\n",
              "      <td>699</td>\n",
              "      <td>France</td>\n",
              "      <td>Female</td>\n",
              "      <td>39</td>\n",
              "      <td>1.0</td>\n",
              "      <td>0.00</td>\n",
              "      <td>2</td>\n",
              "      <td>0</td>\n",
              "      <td>0</td>\n",
              "      <td>93826.63</td>\n",
              "      <td>0</td>\n",
              "    </tr>\n",
              "    <tr>\n",
              "      <td>4</td>\n",
              "      <td>5</td>\n",
              "      <td>15737888</td>\n",
              "      <td>Mitchell</td>\n",
              "      <td>850</td>\n",
              "      <td>Spain</td>\n",
              "      <td>Female</td>\n",
              "      <td>43</td>\n",
              "      <td>2.0</td>\n",
              "      <td>125510.82</td>\n",
              "      <td>1</td>\n",
              "      <td>1</td>\n",
              "      <td>1</td>\n",
              "      <td>79084.10</td>\n",
              "      <td>0</td>\n",
              "    </tr>\n",
              "  </tbody>\n",
              "</table>\n",
              "</div>"
            ],
            "text/plain": [
              "   RowNumber  CustomerId   Surname  CreditScore Geography  Gender  Age  \\\n",
              "0          1    15634602  Hargrave          619    France  Female   42   \n",
              "1          2    15647311      Hill          608     Spain  Female   41   \n",
              "2          3    15619304      Onio          502    France  Female   42   \n",
              "3          4    15701354      Boni          699    France  Female   39   \n",
              "4          5    15737888  Mitchell          850     Spain  Female   43   \n",
              "\n",
              "   Tenure    Balance  NumOfProducts  HasCrCard  IsActiveMember  \\\n",
              "0     2.0       0.00              1          1               1   \n",
              "1     1.0   83807.86              1          0               1   \n",
              "2     8.0  159660.80              3          1               0   \n",
              "3     1.0       0.00              2          0               0   \n",
              "4     2.0  125510.82              1          1               1   \n",
              "\n",
              "   EstimatedSalary  Exited  \n",
              "0        101348.88       1  \n",
              "1        112542.58       0  \n",
              "2        113931.57       1  \n",
              "3         93826.63       0  \n",
              "4         79084.10       0  "
            ]
          },
          "execution_count": 3,
          "metadata": {},
          "output_type": "execute_result"
        }
      ]
    },
    {
      "cell_type": "markdown",
      "metadata": {
        "id": "5JO-pXSbKZUT"
      },
      "source": [
        "#### Вывод\n",
        "RowNumber — столбец дублирует индекс, можно удалить.  \n",
        "CustomerId — уникальный id тоже удаляем.  \n",
        "Surname — фамилия, если не верить в гороскопы имен), тоже не несет полезной информации, удаляем.   \n",
        "Geography, Gender — преобразовать методом One hot encoder.  \n",
        "Tenure — заменим пропуски нулями.  \n",
        "CreditScore, Age, Tenur, Balance, NumOfProducts, EstimatedSalary — масштабируем.  "
      ]
    },
    {
      "cell_type": "markdown",
      "metadata": {
        "id": "X5b0vSe0KZUU"
      },
      "source": [
        "<a id=\"11\"></a>\n",
        "### Предобработка данных"
      ]
    },
    {
      "cell_type": "code",
      "metadata": {
        "id": "bIYNRUj6KZUU"
      },
      "source": [
        "# Удаляю лишние столбцы\n",
        "data = data.drop(['RowNumber','CustomerId','Surname'], axis=1)"
      ],
      "execution_count": null,
      "outputs": []
    },
    {
      "cell_type": "code",
      "metadata": {
        "id": "TwLrSPwFLUgl"
      },
      "source": [
        "# Заполняю пропуски на среднее\n",
        "data['Tenure'] = data['Tenure'].fillna(data['Tenure'].mean()).astype('int64')"
      ],
      "execution_count": null,
      "outputs": []
    },
    {
      "cell_type": "code",
      "metadata": {
        "id": "EUhrEbhPKZUV",
        "outputId": "9b21c684-293b-41e3-ac15-ac8f0c188aa2"
      },
      "source": [
        "# Избавляюсь от категориальных признаков\n",
        "data = pd.get_dummies(data, drop_first=True)\n",
        "data.head()"
      ],
      "execution_count": null,
      "outputs": [
        {
          "data": {
            "text/html": [
              "<div>\n",
              "<style scoped>\n",
              "    .dataframe tbody tr th:only-of-type {\n",
              "        vertical-align: middle;\n",
              "    }\n",
              "\n",
              "    .dataframe tbody tr th {\n",
              "        vertical-align: top;\n",
              "    }\n",
              "\n",
              "    .dataframe thead th {\n",
              "        text-align: right;\n",
              "    }\n",
              "</style>\n",
              "<table border=\"1\" class=\"dataframe\">\n",
              "  <thead>\n",
              "    <tr style=\"text-align: right;\">\n",
              "      <th></th>\n",
              "      <th>CreditScore</th>\n",
              "      <th>Age</th>\n",
              "      <th>Tenure</th>\n",
              "      <th>Balance</th>\n",
              "      <th>NumOfProducts</th>\n",
              "      <th>HasCrCard</th>\n",
              "      <th>IsActiveMember</th>\n",
              "      <th>EstimatedSalary</th>\n",
              "      <th>Exited</th>\n",
              "      <th>Geography_Germany</th>\n",
              "      <th>Geography_Spain</th>\n",
              "      <th>Gender_Male</th>\n",
              "    </tr>\n",
              "  </thead>\n",
              "  <tbody>\n",
              "    <tr>\n",
              "      <td>0</td>\n",
              "      <td>619</td>\n",
              "      <td>42</td>\n",
              "      <td>2</td>\n",
              "      <td>0.00</td>\n",
              "      <td>1</td>\n",
              "      <td>1</td>\n",
              "      <td>1</td>\n",
              "      <td>101348.88</td>\n",
              "      <td>1</td>\n",
              "      <td>0</td>\n",
              "      <td>0</td>\n",
              "      <td>0</td>\n",
              "    </tr>\n",
              "    <tr>\n",
              "      <td>1</td>\n",
              "      <td>608</td>\n",
              "      <td>41</td>\n",
              "      <td>1</td>\n",
              "      <td>83807.86</td>\n",
              "      <td>1</td>\n",
              "      <td>0</td>\n",
              "      <td>1</td>\n",
              "      <td>112542.58</td>\n",
              "      <td>0</td>\n",
              "      <td>0</td>\n",
              "      <td>1</td>\n",
              "      <td>0</td>\n",
              "    </tr>\n",
              "    <tr>\n",
              "      <td>2</td>\n",
              "      <td>502</td>\n",
              "      <td>42</td>\n",
              "      <td>8</td>\n",
              "      <td>159660.80</td>\n",
              "      <td>3</td>\n",
              "      <td>1</td>\n",
              "      <td>0</td>\n",
              "      <td>113931.57</td>\n",
              "      <td>1</td>\n",
              "      <td>0</td>\n",
              "      <td>0</td>\n",
              "      <td>0</td>\n",
              "    </tr>\n",
              "    <tr>\n",
              "      <td>3</td>\n",
              "      <td>699</td>\n",
              "      <td>39</td>\n",
              "      <td>1</td>\n",
              "      <td>0.00</td>\n",
              "      <td>2</td>\n",
              "      <td>0</td>\n",
              "      <td>0</td>\n",
              "      <td>93826.63</td>\n",
              "      <td>0</td>\n",
              "      <td>0</td>\n",
              "      <td>0</td>\n",
              "      <td>0</td>\n",
              "    </tr>\n",
              "    <tr>\n",
              "      <td>4</td>\n",
              "      <td>850</td>\n",
              "      <td>43</td>\n",
              "      <td>2</td>\n",
              "      <td>125510.82</td>\n",
              "      <td>1</td>\n",
              "      <td>1</td>\n",
              "      <td>1</td>\n",
              "      <td>79084.10</td>\n",
              "      <td>0</td>\n",
              "      <td>0</td>\n",
              "      <td>1</td>\n",
              "      <td>0</td>\n",
              "    </tr>\n",
              "  </tbody>\n",
              "</table>\n",
              "</div>"
            ],
            "text/plain": [
              "   CreditScore  Age  Tenure    Balance  NumOfProducts  HasCrCard  \\\n",
              "0          619   42       2       0.00              1          1   \n",
              "1          608   41       1   83807.86              1          0   \n",
              "2          502   42       8  159660.80              3          1   \n",
              "3          699   39       1       0.00              2          0   \n",
              "4          850   43       2  125510.82              1          1   \n",
              "\n",
              "   IsActiveMember  EstimatedSalary  Exited  Geography_Germany  \\\n",
              "0               1        101348.88       1                  0   \n",
              "1               1        112542.58       0                  0   \n",
              "2               0        113931.57       1                  0   \n",
              "3               0         93826.63       0                  0   \n",
              "4               1         79084.10       0                  0   \n",
              "\n",
              "   Geography_Spain  Gender_Male  \n",
              "0                0            0  \n",
              "1                1            0  \n",
              "2                0            0  \n",
              "3                0            0  \n",
              "4                1            0  "
            ]
          },
          "execution_count": 8,
          "metadata": {},
          "output_type": "execute_result"
        }
      ]
    },
    {
      "cell_type": "markdown",
      "metadata": {
        "id": "NfrfMDrfKZUV"
      },
      "source": [
        "<a id=\"12\"></a>\n",
        "### Формирование выборок"
      ]
    },
    {
      "cell_type": "code",
      "metadata": {
        "id": "izvRjwZxKZUV"
      },
      "source": [
        "# Разбиваем на параметры и целевой признак\n",
        "features=data.drop(['Exited'],axis=1)\n",
        "target=data['Exited']"
      ],
      "execution_count": null,
      "outputs": []
    },
    {
      "cell_type": "code",
      "metadata": {
        "id": "NlKOGaJfKZUV",
        "outputId": "f178d389-1bac-4e02-97ca-4c29820566b2"
      },
      "source": [
        "# Разбиваем на тренировочную, тестовую и валидационную выборки\n",
        "\n",
        "target = data['Exited']\n",
        "features = data.drop('Exited', axis=1)\n",
        "\n",
        "train_features, valid_features, train_target, valid_target = train_test_split(features, target, test_size=0.4, \n",
        "                                                                              random_state=12345)\n",
        "valid_features, test_features, valid_target, test_target = train_test_split(valid_features, valid_target, test_size=0.5, \n",
        "                                                                              random_state=12345 )\n",
        "print(train_features.shape, valid_features.shape, test_features.shape)\n",
        "print(train_target.shape, valid_target.shape, test_target.shape)\n"
      ],
      "execution_count": null,
      "outputs": [
        {
          "name": "stdout",
          "output_type": "stream",
          "text": [
            "(6000, 11) (2000, 11) (2000, 11)\n",
            "(6000,) (2000,) (2000,)\n"
          ]
        }
      ]
    },
    {
      "cell_type": "code",
      "metadata": {
        "id": "NY_7zdA5KZUW",
        "outputId": "3bca103a-85df-45b8-bc6a-0c79436f71be"
      },
      "source": [
        "# Масштабируем численные признаки выборок для выравнивания весов\n",
        "numeric=['CreditScore', 'Age', 'Tenure', 'Balance', 'NumOfProducts', 'EstimatedSalary']\n",
        "scaler=StandardScaler()\n",
        "scaler.fit(train_features[numeric])\n",
        "train_features[numeric]=scaler.transform(train_features[numeric])\n",
        "valid_features[numeric]=scaler.transform(valid_features[numeric])\n",
        "test_features[numeric]=scaler.transform(test_features[numeric])\n",
        "train_features.head()"
      ],
      "execution_count": null,
      "outputs": [
        {
          "data": {
            "text/html": [
              "<div>\n",
              "<style scoped>\n",
              "    .dataframe tbody tr th:only-of-type {\n",
              "        vertical-align: middle;\n",
              "    }\n",
              "\n",
              "    .dataframe tbody tr th {\n",
              "        vertical-align: top;\n",
              "    }\n",
              "\n",
              "    .dataframe thead th {\n",
              "        text-align: right;\n",
              "    }\n",
              "</style>\n",
              "<table border=\"1\" class=\"dataframe\">\n",
              "  <thead>\n",
              "    <tr style=\"text-align: right;\">\n",
              "      <th></th>\n",
              "      <th>CreditScore</th>\n",
              "      <th>Age</th>\n",
              "      <th>Tenure</th>\n",
              "      <th>Balance</th>\n",
              "      <th>NumOfProducts</th>\n",
              "      <th>HasCrCard</th>\n",
              "      <th>IsActiveMember</th>\n",
              "      <th>EstimatedSalary</th>\n",
              "      <th>Geography_Germany</th>\n",
              "      <th>Geography_Spain</th>\n",
              "      <th>Gender_Male</th>\n",
              "    </tr>\n",
              "  </thead>\n",
              "  <tbody>\n",
              "    <tr>\n",
              "      <td>7479</td>\n",
              "      <td>-0.886751</td>\n",
              "      <td>-0.373192</td>\n",
              "      <td>1.109334</td>\n",
              "      <td>1.232271</td>\n",
              "      <td>-0.891560</td>\n",
              "      <td>1</td>\n",
              "      <td>0</td>\n",
              "      <td>-0.187705</td>\n",
              "      <td>0</td>\n",
              "      <td>1</td>\n",
              "      <td>1</td>\n",
              "    </tr>\n",
              "    <tr>\n",
              "      <td>3411</td>\n",
              "      <td>0.608663</td>\n",
              "      <td>-0.183385</td>\n",
              "      <td>1.109334</td>\n",
              "      <td>0.600563</td>\n",
              "      <td>-0.891560</td>\n",
              "      <td>0</td>\n",
              "      <td>0</td>\n",
              "      <td>-0.333945</td>\n",
              "      <td>0</td>\n",
              "      <td>0</td>\n",
              "      <td>0</td>\n",
              "    </tr>\n",
              "    <tr>\n",
              "      <td>6027</td>\n",
              "      <td>2.052152</td>\n",
              "      <td>0.480939</td>\n",
              "      <td>-0.700051</td>\n",
              "      <td>1.027098</td>\n",
              "      <td>0.830152</td>\n",
              "      <td>0</td>\n",
              "      <td>1</td>\n",
              "      <td>1.503095</td>\n",
              "      <td>1</td>\n",
              "      <td>0</td>\n",
              "      <td>1</td>\n",
              "    </tr>\n",
              "    <tr>\n",
              "      <td>1247</td>\n",
              "      <td>-1.457915</td>\n",
              "      <td>-1.417129</td>\n",
              "      <td>0.385580</td>\n",
              "      <td>-1.233163</td>\n",
              "      <td>0.830152</td>\n",
              "      <td>1</td>\n",
              "      <td>0</td>\n",
              "      <td>-1.071061</td>\n",
              "      <td>0</td>\n",
              "      <td>0</td>\n",
              "      <td>1</td>\n",
              "    </tr>\n",
              "    <tr>\n",
              "      <td>3716</td>\n",
              "      <td>0.130961</td>\n",
              "      <td>-1.132419</td>\n",
              "      <td>-1.061928</td>\n",
              "      <td>1.140475</td>\n",
              "      <td>-0.891560</td>\n",
              "      <td>0</td>\n",
              "      <td>0</td>\n",
              "      <td>1.524268</td>\n",
              "      <td>1</td>\n",
              "      <td>0</td>\n",
              "      <td>0</td>\n",
              "    </tr>\n",
              "  </tbody>\n",
              "</table>\n",
              "</div>"
            ],
            "text/plain": [
              "      CreditScore       Age    Tenure   Balance  NumOfProducts  HasCrCard  \\\n",
              "7479    -0.886751 -0.373192  1.109334  1.232271      -0.891560          1   \n",
              "3411     0.608663 -0.183385  1.109334  0.600563      -0.891560          0   \n",
              "6027     2.052152  0.480939 -0.700051  1.027098       0.830152          0   \n",
              "1247    -1.457915 -1.417129  0.385580 -1.233163       0.830152          1   \n",
              "3716     0.130961 -1.132419 -1.061928  1.140475      -0.891560          0   \n",
              "\n",
              "      IsActiveMember  EstimatedSalary  Geography_Germany  Geography_Spain  \\\n",
              "7479               0        -0.187705                  0                1   \n",
              "3411               0        -0.333945                  0                0   \n",
              "6027               1         1.503095                  1                0   \n",
              "1247               0        -1.071061                  0                0   \n",
              "3716               0         1.524268                  1                0   \n",
              "\n",
              "      Gender_Male  \n",
              "7479            1  \n",
              "3411            0  \n",
              "6027            1  \n",
              "1247            1  \n",
              "3716            0  "
            ]
          },
          "execution_count": 11,
          "metadata": {},
          "output_type": "execute_result"
        }
      ]
    },
    {
      "cell_type": "markdown",
      "metadata": {
        "id": "koQwXGkvKZUW"
      },
      "source": [
        "<a id=\"2\"></a>\n",
        "# 2. Исследование задачи"
      ]
    },
    {
      "cell_type": "markdown",
      "metadata": {
        "id": "Q7GaJ0HRKZUW"
      },
      "source": [
        "<a id=\"21\"></a>\n",
        "### Баланс данных"
      ]
    },
    {
      "cell_type": "code",
      "metadata": {
        "id": "NxpehYk5KZUW",
        "outputId": "22422dcc-cb3e-4f37-eaeb-40686c0d80a8"
      },
      "source": [
        "data['Exited'].value_counts().plot(kind='bar', grid=True,figsize=(10,6),title='Соотношение ушедших к оставшимся клиентам')\n",
        "data['Exited'].value_counts()"
      ],
      "execution_count": null,
      "outputs": [
        {
          "data": {
            "text/plain": [
              "0    7963\n",
              "1    2037\n",
              "Name: Exited, dtype: int64"
            ]
          },
          "execution_count": 12,
          "metadata": {},
          "output_type": "execute_result"
        },
        {
          "data": {
            "image/png": "[encoded data removed]",
            "text/plain": [
              "<Figure size 720x432 with 1 Axes>"
            ]
          },
          "metadata": {
            "needs_background": "light"
          },
          "output_type": "display_data"
        }
      ]
    },
    {
      "cell_type": "markdown",
      "metadata": {
        "id": "LhMV1To-KZUW"
      },
      "source": [
        "#### Вывод:\n",
        "Имеется дисбаланс классов. 1:4 в пользу оставшихся клиентов. Это может привести модель к склонению в распространённый вариант ответа."
      ]
    },
    {
      "cell_type": "markdown",
      "metadata": {
        "id": "ZcbmpBMfKZUX"
      },
      "source": [
        "<a id=\"22\"></a>\n",
        "### Обучение моделей:\n",
        "Решающее дерево  \n",
        "Случайный лес  \n",
        "Логистическая регрессия  "
      ]
    },
    {
      "cell_type": "markdown",
      "metadata": {
        "id": "YGycpYSdKZUX"
      },
      "source": [
        "#### Обучим модели случайного дерева с перебором глубины, найдем гиперпараметры с наибольшей метрикой f1."
      ]
    },
    {
      "cell_type": "code",
      "metadata": {
        "id": "K1KDK9ymKZUX",
        "outputId": "360a8a3f-407d-48da-d1e3-bcd2857a524e"
      },
      "source": [
        "f1_best = 0\n",
        "depth_best = 0\n",
        "for depth in range(7, 11):\n",
        "    model = DecisionTreeClassifier(random_state=12345, max_depth=depth)\n",
        "    model.fit(train_features, train_target)\n",
        "    prediction = model.predict(valid_features)\n",
        "    f1 = f1_score(valid_target, prediction)\n",
        "    if f1>f1_best:\n",
        "            f1_best=f1\n",
        "            depth_best=depth\n",
        "print('Max depth', depth_best,'F1-score', f1_best)"
      ],
      "execution_count": null,
      "outputs": [
        {
          "name": "stdout",
          "output_type": "stream",
          "text": [
            "Max depth 9 F1-score 0.5722300140252455\n"
          ]
        }
      ]
    },
    {
      "cell_type": "markdown",
      "metadata": {
        "id": "DlZkiF0OKZUZ"
      },
      "source": [
        "Проведем оценку accuracy, precision, recall, F1, AUC-ROC на полученных гиперпараметрах"
      ]
    },
    {
      "cell_type": "code",
      "metadata": {
        "id": "Y5GMlqyMKZUZ",
        "outputId": "d50db5f3-e487-428a-babb-f9b9a430992d"
      },
      "source": [
        "model = DecisionTreeClassifier(random_state=12345, max_depth=9)\n",
        "model.fit(train_features, train_target)\n",
        "prediction = model.predict(valid_features)\n",
        "print('Accuracy', accuracy_score(valid_target, prediction))\n",
        "print('Precision', precision_score(valid_target, prediction))\n",
        "print('Recall', recall_score(valid_target, prediction))\n",
        "print('F1', f1_score(valid_target, prediction))\n",
        "probabilities_valid = model.predict_proba(valid_features)[:, 1]\n",
        "print(\"AUC-ROC\", roc_auc_score(valid_target, probabilities_valid))"
      ],
      "execution_count": null,
      "outputs": [
        {
          "name": "stdout",
          "output_type": "stream",
          "text": [
            "Accuracy 0.8475\n",
            "Precision 0.6915254237288135\n",
            "Recall 0.4880382775119617\n",
            "F1 0.5722300140252455\n",
            "AUC-ROC 0.78270041556022\n"
          ]
        }
      ]
    },
    {
      "cell_type": "markdown",
      "metadata": {
        "id": "0LOknJl5KZUa"
      },
      "source": [
        "#### Обучение модели случайного леса с перебором гиперпараметров, которые дают наибольшую метрику f1."
      ]
    },
    {
      "cell_type": "code",
      "metadata": {
        "id": "soJKUVbiKZUa",
        "outputId": "987e344a-05c3-486e-cef2-3eb9db6aac3e"
      },
      "source": [
        "f1_best = 0\n",
        "estim_best = 0\n",
        "depth_best = 0\n",
        "\n",
        "for estim in range (60, 63):\n",
        "    for depth in range(10, 12):\n",
        "        model = RandomForestClassifier(n_estimators=estim, max_depth=depth, random_state=12345)\n",
        "        model.fit(train_features, train_target)\n",
        "        prediction = model.predict(valid_features)\n",
        "        f1 = f1_score(valid_target, prediction)\n",
        "        if f1>f1_best:\n",
        "            f1_best=f1\n",
        "            estim_best=estim\n",
        "            depth_best=depth\n",
        "        \n",
        "\n",
        "print('n_estimators =', estim_best, 'Max depth', depth_best, 'F1-score', f1_best)"
      ],
      "execution_count": null,
      "outputs": [
        {
          "name": "stdout",
          "output_type": "stream",
          "text": [
            "n_estimators = 62 Max depth 11 F1-score 0.588957055214724\n"
          ]
        }
      ]
    },
    {
      "cell_type": "markdown",
      "metadata": {
        "id": "aSkW5Ta9KZUa"
      },
      "source": [
        "Проведем оценку accuracy, precision, recall, F1, AUC-ROC на полученных гиперпараметрах"
      ]
    },
    {
      "cell_type": "code",
      "metadata": {
        "id": "XKLQ4BYUKZUb",
        "outputId": "5740bc4d-2c25-4140-a852-a171464c3ef0"
      },
      "source": [
        "model = RandomForestClassifier(n_estimators=60, max_depth=11, random_state=12345)\n",
        "model.fit(train_features, train_target)\n",
        "prediction = model.predict(valid_features)\n",
        "print('Accuracy', accuracy_score(valid_target, prediction))\n",
        "print('Precision', precision_score(valid_target, prediction))\n",
        "print('Recall', recall_score(valid_target, prediction))\n",
        "print('F1', f1_score(valid_target, prediction))\n",
        "probabilities_valid = model.predict_proba(valid_features)[:, 1]\n",
        "print(\"AUC-ROC\", roc_auc_score(valid_target, probabilities_valid))"
      ],
      "execution_count": null,
      "outputs": [
        {
          "name": "stdout",
          "output_type": "stream",
          "text": [
            "Accuracy 0.8655\n",
            "Precision 0.8170212765957446\n",
            "Recall 0.45933014354066987\n",
            "F1 0.5880551301684532\n",
            "AUC-ROC 0.8474464520109607\n"
          ]
        }
      ]
    },
    {
      "cell_type": "markdown",
      "metadata": {
        "id": "nmRuxQaRKZUb"
      },
      "source": [
        "#### Обучение и оценка метрик с помощью модели Логистической регрессии"
      ]
    },
    {
      "cell_type": "code",
      "metadata": {
        "id": "pRZZYoXNKZUb",
        "outputId": "6a5de91f-bbbe-40b3-a6ac-afa6d0d784ad"
      },
      "source": [
        "model =  LogisticRegression()\n",
        "model.fit(train_features, train_target)\n",
        "prediction = model.predict(valid_features)\n",
        "print('Accuracy', accuracy_score(valid_target, prediction))\n",
        "print('Precision', precision_score(valid_target, prediction))\n",
        "print('Recall', recall_score(valid_target, prediction))\n",
        "print('F1', f1_score(valid_target, prediction))\n",
        "probabilities_valid = model.predict_proba(valid_features)[:, 1]\n",
        "print(\"AUC-ROC\", roc_auc_score(valid_target, probabilities_valid))"
      ],
      "execution_count": null,
      "outputs": [
        {
          "name": "stdout",
          "output_type": "stream",
          "text": [
            "Accuracy 0.8025\n",
            "Precision 0.5657142857142857\n",
            "Recall 0.23684210526315788\n",
            "F1 0.33389544688026984\n",
            "AUC-ROC 0.758722530380658\n"
          ]
        }
      ]
    },
    {
      "cell_type": "markdown",
      "metadata": {
        "id": "jA5c7AFCKZUc"
      },
      "source": [
        "#### Вывод  \n",
        "Из-за несбалансированности данных, все модели имеют recall ниже, чем percision, это влияет на F-меру. Модель случайного леса имеет метрику близкую к необходимой \n"
      ]
    },
    {
      "cell_type": "markdown",
      "metadata": {
        "id": "XUihXWjLKZUc"
      },
      "source": [
        "<a id=\"3\"></a>\n",
        "# 3. Борьба с дисбалансом"
      ]
    },
    {
      "cell_type": "markdown",
      "metadata": {
        "id": "Y1KJPv4HKZUc"
      },
      "source": [
        "<a id=\"31\"></a>\n",
        "#### Обучение моделей с параметром автоматической регулировки весов."
      ]
    },
    {
      "cell_type": "code",
      "metadata": {
        "id": "je9dX2jxKZUc",
        "outputId": "f743111f-e084-46f5-a3fa-3cf8c1d30a78"
      },
      "source": [
        "# Модель случайного дерева\n",
        "# Подбор гиперпараметров\n",
        "f1_best = 0\n",
        "depth_best = 0\n",
        "for depth in range(2, 18): \n",
        "    model = DecisionTreeClassifier(random_state=12345, max_depth=depth, class_weight='balanced')\n",
        "    model.fit(train_features, train_target)\n",
        "    prediction = model.predict(valid_features)\n",
        "    f1 = f1_score(valid_target, prediction)\n",
        "    if f1>f1_best:\n",
        "            f1_best=f1\n",
        "            depth_best=depth\n",
        "print('Max depth', depth_best,'F1-score', f1_best)\n",
        "\n",
        "# Расчет метрик\n",
        "model = DecisionTreeClassifier(random_state=12345, max_depth=depth_best, class_weight='balanced')\n",
        "model.fit(train_features, train_target)\n",
        "prediction = model.predict(valid_features)\n",
        "print('Accuracy', accuracy_score(valid_target, prediction))\n",
        "print('Precision', precision_score(valid_target, prediction))\n",
        "print('Recall', recall_score(valid_target, prediction))\n",
        "print('F1', f1_score(valid_target, prediction))\n",
        "probabilities_valid = model.predict_proba(valid_features)[:, 1]\n",
        "print(\"AUC-ROC\", roc_auc_score(valid_target, probabilities_valid))\n"
      ],
      "execution_count": null,
      "outputs": [
        {
          "name": "stdout",
          "output_type": "stream",
          "text": [
            "Max depth 5 F1-score 0.5963791267305644\n",
            "Accuracy 0.8105\n",
            "Precision 0.5374280230326296\n",
            "Recall 0.6698564593301436\n",
            "F1 0.5963791267305644\n",
            "AUC-ROC 0.8310244134068074\n"
          ]
        }
      ]
    },
    {
      "cell_type": "code",
      "metadata": {
        "id": "kxIdfRXqKZUd",
        "outputId": "2cabc474-2af3-415f-9ec3-488adfce1bb4"
      },
      "source": [
        "# Модель случайного леса\n",
        "# Подбор гиперпараметров\n",
        "f1_best = 0\n",
        "estim_best = 0\n",
        "depth_best = 0\n",
        "\n",
        "for estim in range (91, 93):\n",
        "    for depth in range(7, 9):\n",
        "        model = RandomForestClassifier(n_estimators=estim, max_depth=depth, random_state=12345, class_weight='balanced')\n",
        "        model.fit(train_features, train_target)\n",
        "        prediction = model.predict(valid_features)\n",
        "        f1 = f1_score(valid_target, prediction)\n",
        "        if f1>f1_best:\n",
        "            f1_best=f1\n",
        "            estim_best=estim\n",
        "            depth_best=depth      \n",
        "print('n_estimators =', estim_best, 'Max depth', depth_best, 'F1-score', f1_best)\n",
        "\n",
        "# Расчет метрик\n",
        "model = RandomForestClassifier(n_estimators=estim_best, max_depth=depth_best, random_state=12345, class_weight='balanced')\n",
        "model.fit(train_features, train_target)\n",
        "prediction = model.predict(valid_features)\n",
        "print('Accuracy', accuracy_score(valid_target, prediction))\n",
        "print('Precision', precision_score(valid_target, prediction))\n",
        "print('Recall', recall_score(valid_target, prediction))\n",
        "print('F1', f1_score(valid_target, prediction))\n",
        "probabilities_valid = model.predict_proba(valid_features)[:, 1]\n",
        "print(\"AUC-ROC\", roc_auc_score(valid_target, probabilities_valid))"
      ],
      "execution_count": null,
      "outputs": [
        {
          "name": "stdout",
          "output_type": "stream",
          "text": [
            "n_estimators = 92 Max depth 8 F1-score 0.6407982261640799\n",
            "Accuracy 0.838\n",
            "Precision 0.5971074380165289\n",
            "Recall 0.6913875598086124\n",
            "F1 0.6407982261640799\n",
            "AUC-ROC 0.8552949146801032\n"
          ]
        }
      ]
    },
    {
      "cell_type": "code",
      "metadata": {
        "id": "X-H2t7-4KZUd",
        "outputId": "0822b762-5d3f-41d9-ad0c-f348e6eb0184"
      },
      "source": [
        "# Модель логистическая регрессия\n",
        "model =  LogisticRegression(class_weight='balanced')\n",
        "model.fit(train_features, train_target)\n",
        "prediction = model.predict(valid_features)\n",
        "print('Accuracy', accuracy_score(valid_target, prediction))\n",
        "print('Precision', precision_score(valid_target, prediction))\n",
        "print('Recall', recall_score(valid_target, prediction))\n",
        "print('F1', f1_score(valid_target, prediction))\n",
        "probabilities_valid = model.predict_proba(valid_features)[:, 1]\n",
        "print(\"AUC-ROC\", roc_auc_score(valid_target, probabilities_valid))"
      ],
      "execution_count": null,
      "outputs": [
        {
          "name": "stdout",
          "output_type": "stream",
          "text": [
            "Accuracy 0.7015\n",
            "Precision 0.38050734312416556\n",
            "Recall 0.6818181818181818\n",
            "F1 0.48843187660668386\n",
            "AUC-ROC 0.6942592805424663\n"
          ]
        }
      ]
    },
    {
      "cell_type": "markdown",
      "metadata": {
        "id": "Q1wVWLIrKZUd"
      },
      "source": [
        "#### Вывод:  \n",
        "F1 мера стала лучше"
      ]
    },
    {
      "cell_type": "markdown",
      "metadata": {
        "id": "mvR_4UecKZUd"
      },
      "source": [
        "<a id=\"32\"></a>\n",
        "#### С помощью написанно функции Downsampling и уменьшим колличество target=0"
      ]
    },
    {
      "cell_type": "code",
      "metadata": {
        "id": "dFc4LmrUKZUe"
      },
      "source": [
        "def downsampling(features,target,fraction):\n",
        "    #Разделяем выборку по значениям целевой функции\n",
        "    features_null=features[target==0]\n",
        "    features_one=features[target==1]\n",
        "    target_null=target[target==0]\n",
        "    target_one=target[target==1]\n",
        "    \n",
        "    #уменьшаем путем умножения на десятую часть и соединяем обратно\n",
        "    downsampling_features=pd.concat([features_null.sample(frac=fraction,random_state=12345)]+[features_one])\n",
        "    downsampling_target=pd.concat([target_null.sample(frac=fraction,random_state=12345)]+[target_one])\n",
        "    \n",
        "    # Перемешиваем\n",
        "    downsampling_features,downsampling_target=shuffle(downsampling_features,downsampling_target,random_state=12345)\n",
        "    \n",
        "    return downsampling_features,downsampling_target"
      ],
      "execution_count": null,
      "outputs": []
    },
    {
      "cell_type": "code",
      "metadata": {
        "id": "uR3QPOSCKZUe"
      },
      "source": [
        "features_balance,target_balance=downsampling(features,target,0.25)"
      ],
      "execution_count": null,
      "outputs": []
    },
    {
      "cell_type": "code",
      "metadata": {
        "id": "yfnJUWpNKZUe",
        "outputId": "c4dbdd82-24cd-4ca0-cca7-0c02af95208d"
      },
      "source": [
        "# Модель случайного дерева\n",
        "# Подбор гиперпараметров\n",
        "f1_best = 0\n",
        "depth_best = 0\n",
        "for depth in range(2, 18): #(уменьшил ранг чтобы не грузить сервер, перебрал все заранее)\n",
        "    model = DecisionTreeClassifier(random_state=12345, max_depth=depth)\n",
        "    model.fit(features_balance,target_balance)\n",
        "    prediction = model.predict(valid_features)\n",
        "    f1 = f1_score(valid_target, prediction)\n",
        "    if f1>f1_best:\n",
        "            f1_best=f1\n",
        "            depth_best=depth\n",
        "print('Max depth', depth_best,'F1-score', f1_best)\n",
        "\n",
        "# Расчет метрик\n",
        "model = DecisionTreeClassifier(random_state=12345, max_depth=depth_best)\n",
        "model.fit(features_balance,target_balance)\n",
        "prediction = model.predict(valid_features)\n",
        "print('Accuracy', accuracy_score(valid_target, prediction))\n",
        "print('Precision', precision_score(valid_target, prediction))\n",
        "print('Recall', recall_score(valid_target, prediction))\n",
        "print('F1', f1_score(valid_target, prediction))\n",
        "probabilities_valid = model.predict_proba(valid_features)[:, 1]\n",
        "print(\"AUC-ROC\", roc_auc_score(valid_target, probabilities_valid))"
      ],
      "execution_count": null,
      "outputs": [
        {
          "name": "stdout",
          "output_type": "stream",
          "text": [
            "Max depth 4 F1-score 0.4020304568527919\n",
            "Accuracy 0.7055\n",
            "Precision 0.3492063492063492\n",
            "Recall 0.47368421052631576\n",
            "F1 0.4020304568527919\n",
            "AUC-ROC 0.6354404212461968\n"
          ]
        }
      ]
    },
    {
      "cell_type": "code",
      "metadata": {
        "id": "qQe_gs2nKZUe",
        "outputId": "44d1c333-2aff-46d1-d40f-99336097a71d"
      },
      "source": [
        "# Модель случайного леса\n",
        "# Подбор гиперпараметров\n",
        "f1_best = 0\n",
        "estim_best = 0\n",
        "depth_best = 0\n",
        "\n",
        "for estim in range (30, 31):\n",
        "    for depth in range(9, 10):\n",
        "        model = RandomForestClassifier(n_estimators=estim, max_depth=depth, random_state=12345)\n",
        "        model.fit(features_balance,target_balance)\n",
        "        prediction = model.predict(valid_features)\n",
        "        f1 = f1_score(valid_target, prediction)\n",
        "        if f1>f1_best:\n",
        "            f1_best=f1\n",
        "            estim_best=estim\n",
        "            depth_best=depth      \n",
        "print('n_estimators =', estim_best, 'Max depth', depth_best, 'F1-score', f1_best)\n",
        "\n",
        "# Расчет метрик\n",
        "model = RandomForestClassifier(n_estimators=estim_best, max_depth=depth_best, random_state=12345)\n",
        "model.fit(features_balance,target_balance)\n",
        "prediction = model.predict(valid_features)\n",
        "print('Accuracy', accuracy_score(valid_target, prediction))\n",
        "print('Precision', precision_score(valid_target, prediction))\n",
        "print('Recall', recall_score(valid_target, prediction))\n",
        "print('F1', f1_score(valid_target, prediction))\n",
        "probabilities_valid = model.predict_proba(valid_features)[:, 1]\n",
        "print(\"AUC-ROC\", roc_auc_score(valid_target, probabilities_valid))"
      ],
      "execution_count": null,
      "outputs": [
        {
          "name": "stdout",
          "output_type": "stream",
          "text": [
            "n_estimators = 30 Max depth 9 F1-score 0.34763948497854075\n",
            "Accuracy 0.544\n",
            "Precision 0.2479591836734694\n",
            "Recall 0.5813397129186603\n",
            "F1 0.34763948497854075\n",
            "AUC-ROC 0.555519934187843\n"
          ]
        }
      ]
    },
    {
      "cell_type": "code",
      "metadata": {
        "id": "Y4xtvZHRKZUf",
        "outputId": "894823f9-5006-4c4d-f5d7-8088b3574cd4"
      },
      "source": [
        "# Модель логистическая регрессия\n",
        "model =  LogisticRegression()\n",
        "model.fit(features_balance,target_balance)\n",
        "prediction = model.predict(valid_features)\n",
        "print('Accuracy', accuracy_score(valid_target, prediction))\n",
        "print('Precision', precision_score(valid_target, prediction))\n",
        "print('Recall', recall_score(valid_target, prediction))\n",
        "probabilities_valid = model.predict_proba(valid_features)[:, 1]\n",
        "print(\"AUC-ROC\", roc_auc_score(valid_target, probabilities_valid))"
      ],
      "execution_count": null,
      "outputs": [
        {
          "name": "stdout",
          "output_type": "stream",
          "text": [
            "Accuracy 0.7375\n",
            "Precision 0.4115702479338843\n",
            "Recall 0.5956937799043063\n",
            "AUC-ROC 0.7452198476884084\n"
          ]
        }
      ]
    },
    {
      "cell_type": "markdown",
      "metadata": {
        "id": "MA2uDQv1KZUf"
      },
      "source": [
        "#### Вывод:  \n",
        "Метрики стали заметно хуже, такой баланс данных не подходит"
      ]
    },
    {
      "cell_type": "markdown",
      "metadata": {
        "id": "Iw0KFqZdKZUf"
      },
      "source": [
        "<a id=\"33\"></a>\n",
        "#### С помощью написанно функции Upsampling увеличим количество колличество target=0"
      ]
    },
    {
      "cell_type": "code",
      "metadata": {
        "id": "e3HUmWRWKZUf"
      },
      "source": [
        "def upsampling (features,target,repeat):\n",
        "    #Разделяем выборку по значениям целевой функции\n",
        "    target_one=target[target==1]\n",
        "    target_null=target[target==0]\n",
        "    features_one=features[target==1]\n",
        "    features_null=features[target==0]\n",
        "    \n",
        "    #Увеличиваем и соединяем обратно\n",
        "    upsampling_features=pd.concat([features_null]+[features_one]*repeat)\n",
        "    upsampling_target=pd.concat([target_null]+[target_one]*repeat)\n",
        "    \n",
        "    # Перемешиваем\n",
        "    upsampling_features,upsampling_target=shuffle(upsampling_features,upsampling_target,random_state=12345)\n",
        "    \n",
        "    return upsampling_features,upsampling_target\n"
      ],
      "execution_count": null,
      "outputs": []
    },
    {
      "cell_type": "code",
      "metadata": {
        "id": "L9m4mflXKZUf"
      },
      "source": [
        "features_balance,target_balance=upsampling(train_features,train_target,4)"
      ],
      "execution_count": null,
      "outputs": []
    },
    {
      "cell_type": "code",
      "metadata": {
        "id": "L_ILREr1KZUf",
        "outputId": "02e9525e-238a-4904-fd10-5e8f9626111d"
      },
      "source": [
        "# Модель случайного дерева\n",
        "# Подбор гиперпараметров\n",
        "f1_best = 0\n",
        "depth_best = 0\n",
        "for depth in range(4, 8):\n",
        "    model = DecisionTreeClassifier(random_state=12345, max_depth=depth)\n",
        "    model.fit(features_balance,target_balance)\n",
        "    prediction = model.predict(valid_features)\n",
        "    f1 = f1_score(valid_target, prediction)\n",
        "    if f1>f1_best:\n",
        "            f1_best=f1\n",
        "            depth_best=depth\n",
        "print('Max depth', depth_best,'F1-score', f1_best)\n",
        "\n",
        "# Расчет метрик\n",
        "model = DecisionTreeClassifier(random_state=12345, max_depth=depth_best)\n",
        "model.fit(features_balance,target_balance)\n",
        "prediction = model.predict(valid_features)\n",
        "print('Accuracy', accuracy_score(valid_target, prediction))\n",
        "print('Precision', precision_score(valid_target, prediction))\n",
        "print('Recall', recall_score(valid_target, prediction))\n",
        "print('F1', f1_score(valid_target, prediction))\n",
        "probabilities_valid = model.predict_proba(valid_features)[:, 1]\n",
        "print(\"AUC-ROC\", roc_auc_score(valid_target, probabilities_valid))\n",
        "fpr_tree, tpr_tree, thresholds = roc_curve(valid_target, probabilities_valid)"
      ],
      "execution_count": null,
      "outputs": [
        {
          "name": "stdout",
          "output_type": "stream",
          "text": [
            "Max depth 5 F1-score 0.5963791267305644\n",
            "Accuracy 0.8105\n",
            "Precision 0.5374280230326296\n",
            "Recall 0.6698564593301436\n",
            "F1 0.5963791267305644\n",
            "AUC-ROC 0.8310244134068074\n"
          ]
        }
      ]
    },
    {
      "cell_type": "code",
      "metadata": {
        "id": "Ms729cnAKZUg",
        "outputId": "aa35d7a7-e18b-4b27-df41-433ac528a04b"
      },
      "source": [
        "# Модель случайного леса\n",
        "# Подбор гиперпараметров\n",
        "f1_best = 0\n",
        "estim_best = 0\n",
        "depth_best = 0\n",
        "\n",
        "for estim in range (56, 58):\n",
        "    for depth in range(8, 10):\n",
        "        model = RandomForestClassifier(n_estimators=estim, max_depth=depth, random_state=12345)\n",
        "        model.fit(features_balance,target_balance)\n",
        "        prediction = model.predict(valid_features)\n",
        "        f1 = f1_score(valid_target, prediction)\n",
        "        if f1>f1_best:\n",
        "            f1_best=f1\n",
        "            estim_best=estim\n",
        "            depth_best=depth      \n",
        "print('n_estimators =', estim_best, 'Max depth', depth_best, 'F1-score', f1_best)\n",
        "\n",
        "# Расчет метрик\n",
        "model = RandomForestClassifier(n_estimators=estim_best, max_depth=depth_best, random_state=12345)\n",
        "model.fit(features_balance,target_balance)\n",
        "prediction = model.predict(valid_features)\n",
        "print('Accuracy', accuracy_score(valid_target, prediction))\n",
        "print('Precision', precision_score(valid_target, prediction))\n",
        "print('Recall', recall_score(valid_target, prediction))\n",
        "print('F1', f1_score(valid_target, prediction))\n",
        "probabilities_valid = model.predict_proba(valid_features)[:, 1]\n",
        "print(\"AUC-ROC\", roc_auc_score(valid_target, probabilities_valid))\n",
        "fpr_forest, tpr_forest, thresholds = roc_curve(valid_target, probabilities_valid)"
      ],
      "execution_count": null,
      "outputs": [
        {
          "name": "stdout",
          "output_type": "stream",
          "text": [
            "n_estimators = 57 Max depth 9 F1-score 0.6328042328042329\n",
            "Accuracy 0.8185\n",
            "Precision 0.5500910746812386\n",
            "Recall 0.722488038277512\n",
            "F1 0.624612202688728\n",
            "AUC-ROC 0.8548669541915932\n"
          ]
        }
      ]
    },
    {
      "cell_type": "code",
      "metadata": {
        "id": "ccUA_Ah_KZUg",
        "outputId": "598c2222-b496-41e9-dbab-8638395e1f04"
      },
      "source": [
        "# Модель логистическая регрессия\n",
        "model =  LogisticRegression()\n",
        "model.fit(features_balance,target_balance)\n",
        "prediction = model.predict(valid_features)\n",
        "print('Accuracy', accuracy_score(valid_target, prediction))\n",
        "print('Precision', precision_score(valid_target, prediction))\n",
        "print('Recall', recall_score(valid_target, prediction))\n",
        "print('F1', f1_score(valid_target, prediction))\n",
        "probabilities_valid = model.predict_proba(valid_features)[:, 1]\n",
        "print(\"AUC-ROC\", roc_auc_score(valid_target, prediction))\n",
        "fpr_log, tpr_log, thresholds = roc_curve(valid_target, probabilities_valid)"
      ],
      "execution_count": null,
      "outputs": [
        {
          "name": "stdout",
          "output_type": "stream",
          "text": [
            "Accuracy 0.7015\n",
            "Precision 0.38050734312416556\n",
            "Recall 0.6818181818181818\n",
            "F1 0.48843187660668386\n",
            "AUC-ROC 0.6942592805424663\n"
          ]
        }
      ]
    },
    {
      "cell_type": "markdown",
      "metadata": {
        "id": "FNLeGyLkKZUg"
      },
      "source": [
        "<a id=\"34\"></a>\n",
        "#### Визуализируем AUC-ROC посредством графика площади"
      ]
    },
    {
      "cell_type": "code",
      "metadata": {
        "id": "bdPDsM3IKZUg",
        "outputId": "beeb47eb-8f77-4d00-d18e-7f1327ef987a"
      },
      "source": [
        "plt.figure()\n",
        "\n",
        "plt.figure(figsize=(10,7))\n",
        "plt.plot([0, 1], [0, 1], linestyle='--')\n",
        "plt.xlim([0.0, 1.0])\n",
        "plt.ylim([0.0, 1.0])\n",
        "plt.plot(fpr_forest,tpr_forest)\n",
        "plt.plot(fpr_log,tpr_log)\n",
        "plt.plot(fpr_tree,tpr_tree)\n",
        "\n",
        "plt.xlabel('False Positive Rate')\n",
        "plt.ylabel('True Positive Rate')\n",
        "plt.title('ROC-кривая')\n",
        "plt.legend(('Случайная модель','Случайный лес','Логистическая регрессия','Дерево решения'),\n",
        "           loc= 'upper left') \n",
        "plt.show()"
      ],
      "execution_count": null,
      "outputs": [
        {
          "data": {
            "text/plain": [
              "<Figure size 432x288 with 0 Axes>"
            ]
          },
          "metadata": {},
          "output_type": "display_data"
        },
        {
          "data": {
            "image/png": "[encoded data removed]",
            "text/plain": [
              "<Figure size 720x504 with 1 Axes>"
            ]
          },
          "metadata": {
            "needs_background": "light"
          },
          "output_type": "display_data"
        }
      ]
    },
    {
      "cell_type": "markdown",
      "metadata": {
        "id": "XK7c-ltwKZUh"
      },
      "source": [
        "Наилучшее качество модели было достигнуто при взвешивании классов параметром class_weight='balanced' с использование случайного леса. Так же метрика AUC-ROC Случайного леса лучше остальных"
      ]
    },
    {
      "cell_type": "markdown",
      "metadata": {
        "id": "22UZOl6fKZUh"
      },
      "source": [
        "<a id=\"4\"></a>\n",
        "# 4. Тестирование модели"
      ]
    },
    {
      "cell_type": "markdown",
      "metadata": {
        "id": "-IHz5-YaKZUh"
      },
      "source": [
        "<a id=\"41\"></a>\n",
        "### Обучение после балансировки данных"
      ]
    },
    {
      "cell_type": "markdown",
      "metadata": {
        "id": "_JzHWVtEKZUh"
      },
      "source": [
        "<a id=\"42\"></a>\n",
        "### Обучим финальную модель"
      ]
    },
    {
      "cell_type": "code",
      "metadata": {
        "id": "_Sbfzyw3KZUh",
        "outputId": "048fc6b9-6faa-4a13-a08f-473cf5abe7bc"
      },
      "source": [
        "model_final = RandomForestClassifier(n_estimators=92, max_depth=8, random_state=12345, class_weight='balanced')\n",
        "model_final.fit(train_features, train_target)\n",
        "prediction = model_final.predict(valid_features)\n",
        "print('Accuracy', accuracy_score(valid_target, prediction))\n",
        "print('Precision', precision_score(valid_target, prediction))\n",
        "print('Recall', recall_score(valid_target, prediction))\n",
        "print('F1', f1_score(valid_target, prediction))\n",
        "probabilities_valid = model_final.predict_proba(valid_features)[:, 1]\n",
        "print(\"AUC-ROC\", roc_auc_score(valid_target, probabilities_valid))"
      ],
      "execution_count": null,
      "outputs": [
        {
          "name": "stdout",
          "output_type": "stream",
          "text": [
            "Accuracy 0.838\n",
            "Precision 0.5971074380165289\n",
            "Recall 0.6913875598086124\n",
            "F1 0.6407982261640799\n",
            "AUC-ROC 0.8552949146801032\n"
          ]
        }
      ]
    },
    {
      "cell_type": "markdown",
      "metadata": {
        "id": "E6qA6v9pKZUh"
      },
      "source": [
        "#### Вывод:  \n",
        "Для финальной модели выберем модель случайного леса с параметрами: n_estimators = 159 Max depth 11"
      ]
    },
    {
      "cell_type": "markdown",
      "metadata": {
        "id": "Gd1zEW71KZUi"
      },
      "source": [
        "<a id=\"43\"></a>\n",
        "### Проверим на адекватность"
      ]
    },
    {
      "cell_type": "code",
      "metadata": {
        "id": "6N2jxaZoKZUi",
        "outputId": "fd6432ea-fd56-432e-a4e0-399d9f79b642"
      },
      "source": [
        "#Создаем константную модель\n",
        "target_predict_constant = pd.Series([0]*len(valid_target))\n",
        "target_predict_constant.value_counts()"
      ],
      "execution_count": null,
      "outputs": [
        {
          "data": {
            "text/plain": [
              "0    2000\n",
              "dtype: int64"
            ]
          },
          "execution_count": 35,
          "metadata": {},
          "output_type": "execute_result"
        }
      ]
    },
    {
      "cell_type": "code",
      "metadata": {
        "id": "8aNcxfHyKZUi",
        "outputId": "92dde586-8785-4422-eaaf-dd743a0543f8"
      },
      "source": [
        "#Сравним показатель точности (accuracy_score) константной модели и финальной\n",
        "print('accuracy_score константой модели:', accuracy_score(valid_target, target_predict_constant))\n",
        "print('accuracy_score финальной модели:', accuracy_score(valid_target, prediction))"
      ],
      "execution_count": null,
      "outputs": [
        {
          "name": "stdout",
          "output_type": "stream",
          "text": [
            "accuracy_score константой модели: 0.791\n",
            "accuracy_score финальной модели: 0.838\n"
          ]
        }
      ]
    },
    {
      "cell_type": "code",
      "metadata": {
        "id": "zC91r_QLKZUi",
        "outputId": "656a1eee-59d5-4e89-ba8c-bd8cecbb0d75"
      },
      "source": [
        "#Сравним AUC-ROC, остальные метрики не работают на константной модели.\n",
        "print('AUC-ROC константой модели:', roc_auc_score(valid_target, target_predict_constant))\n",
        "print('AUC-ROC финальной модели:', roc_auc_score(valid_target, probabilities_valid))"
      ],
      "execution_count": null,
      "outputs": [
        {
          "name": "stdout",
          "output_type": "stream",
          "text": [
            "AUC-ROC константой модели: 0.5\n",
            "AUC-ROC финальной модели: 0.8552949146801032\n"
          ]
        }
      ]
    },
    {
      "cell_type": "markdown",
      "metadata": {
        "id": "Dzhg0df0KZUi"
      },
      "source": [
        "#### Вывод:  \n",
        "Метрики финальной модели лучше, чем константной, модель является адекватной"
      ]
    },
    {
      "cell_type": "markdown",
      "metadata": {
        "id": "8dHMM64sKZUi"
      },
      "source": [
        "<a id=\"44\"></a>\n",
        "### Тестируем модель"
      ]
    },
    {
      "cell_type": "code",
      "metadata": {
        "id": "3XonNIFtKZUj",
        "outputId": "8d4cfcbf-232a-4b42-8e64-d41a0723c4e0"
      },
      "source": [
        "model_final\n",
        "prediction = model_final.predict(test_features)\n",
        "print('Accuracy', accuracy_score(test_target, prediction))\n",
        "print('Precision', precision_score(test_target, prediction))\n",
        "print('Recall', recall_score(test_target, prediction))\n",
        "print('F1', f1_score(test_target, prediction))\n",
        "probabilities_valid = model_final.predict_proba(test_features)[:, 1]\n",
        "print(\"AUC-ROC\", roc_auc_score(test_target, probabilities_valid))\n",
        "fpr, tpr, thresholds = roc_curve(test_target, probabilities_valid)"
      ],
      "execution_count": null,
      "outputs": [
        {
          "name": "stdout",
          "output_type": "stream",
          "text": [
            "Accuracy 0.8205\n",
            "Precision 0.564\n",
            "Recall 0.6666666666666666\n",
            "F1 0.6110509209100758\n",
            "AUC-ROC 0.8550948849522765\n"
          ]
        }
      ]
    },
    {
      "cell_type": "code",
      "metadata": {
        "id": "filMPtMtKZUj",
        "outputId": "a69929ce-3e07-4ff7-8815-07b933d3d50b"
      },
      "source": [
        "plt.figure()\n",
        "\n",
        "plt.figure(figsize=(10,7))\n",
        "plt.plot([0, 1], [0, 1], linestyle='--')\n",
        "plt.xlim([0.0, 1.0])\n",
        "plt.ylim([0.0, 1.0])\n",
        "plt.plot(fpr,tpr)\n",
        "plt.xlabel('False Positive Rate')\n",
        "plt.ylabel('True Positive Rate')\n",
        "plt.title('ROC-кривая')\n",
        "plt.legend(('Случайная модель','Тестируемая модель'),\n",
        "           loc= 'upper left') \n",
        "plt.show()"
      ],
      "execution_count": null,
      "outputs": [
        {
          "data": {
            "text/plain": [
              "<Figure size 432x288 with 0 Axes>"
            ]
          },
          "metadata": {},
          "output_type": "display_data"
        },
        {
          "data": {
            "image/png": "[encoded data removed]",
            "text/plain": [
              "<Figure size 720x504 with 1 Axes>"
            ]
          },
          "metadata": {
            "needs_background": "light"
          },
          "output_type": "display_data"
        }
      ]
    },
    {
      "cell_type": "markdown",
      "metadata": {
        "id": "lR9gEgdlKZUj"
      },
      "source": [
        "<a id=\"5\"></a>\n",
        "### Вывод: \n",
        "Модели со сбалансированными данными путем увеличения количества недостающих классов показали себя лучше других видов баланса и несбалансированных моделей.\n",
        "Финальная модель на тестовой выборке достигла заданного порога и показывает адекватные результаты (AUC-ROC 0.76)\n",
        "Модель с большой вероятностью предскажет уход клиента из банка за счет высокой точности (0.597)\n",
        "Модель находит большую часть ушедших клиентов на тестовой выборке (полнота = 0.65)"
      ]
    },
    {
      "cell_type": "markdown",
      "metadata": {
        "id": "5aerzPXYKZUj"
      },
      "source": [
        "#### Off top вывод"
      ]
    },
    {
      "cell_type": "markdown",
      "metadata": {
        "id": "18TgjxbJKZUj"
      },
      "source": [
        "На гистограмме видны всплески ухода клиентов в районе 50-60 лет. Этот возраст сопровождается высокой мужской смертностью. Возможно, отток клиентов связан с закрытием счетов по причине смерти. Этого параметра нахватает в данных."
      ]
    },
    {
      "cell_type": "code",
      "metadata": {
        "id": "7n9WcXePKZUj",
        "outputId": "ed2675c7-b8e0-41b8-a6fc-651586ded1a4"
      },
      "source": [
        "data.groupby('Age')['Exited'].mean().plot(figsize=(15,6),kind='bar',title='Гистограмма возраста и оттока')\n",
        "plt.show()"
      ],
      "execution_count": null,
      "outputs": [
        {
          "data": {
            "image/png": "[encoded data removed]",
            "text/plain": [
              "<Figure size 1080x432 with 1 Axes>"
            ]
          },
          "metadata": {
            "needs_background": "light"
          },
          "output_type": "display_data"
        }
      ]
    }
  ]
}