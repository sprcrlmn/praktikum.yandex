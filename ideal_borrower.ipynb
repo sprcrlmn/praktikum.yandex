{
  "nbformat": 4,
  "nbformat_minor": 0,
  "metadata": {
    "kernelspec": {
      "display_name": "Python 3",
      "language": "python",
      "name": "python3"
    },
    "language_info": {
      "codemirror_mode": {
        "name": "ipython",
        "version": 3
      },
      "file_extension": ".py",
      "mimetype": "text/x-python",
      "name": "python",
      "nbconvert_exporter": "python",
      "pygments_lexer": "ipython3",
      "version": "3.7.8"
    },
    "toc": {
      "base_numbering": 1,
      "nav_menu": {},
      "number_sections": true,
      "sideBar": true,
      "skip_h1_title": true,
      "title_cell": "Table of Contents",
      "title_sidebar": "Contents",
      "toc_cell": false,
      "toc_position": {},
      "toc_section_display": true,
      "toc_window_display": false
    },
    "colab": {
      "name": "a9bf9961-b792-4376-b522-c0aed1b67d60.ipynb",
      "provenance": [],
      "include_colab_link": true
    }
  },
  "cells": [
    {
      "cell_type": "markdown",
      "metadata": {
        "id": "view-in-github",
        "colab_type": "text"
      },
      "source": [
        "<a href=\"https://colab.research.google.com/github/supercurlyman/praktikum.yandex/blob/master/ideal_borrower.ipynb\" target=\"_parent\"><img src=\"https://colab.research.google.com/assets/colab-badge.svg\" alt=\"Open In Colab\"/></a>"
      ]
    },
    {
      "cell_type": "markdown",
      "metadata": {
        "id": "_IWKJaYMZTA_"
      },
      "source": [
        "# Проект «Предобработка данных»\n",
        "\n",
        "## Исследование надёжности заёмщиков\n",
        "\n",
        "Заказчик — кредитный отдел банка. Нужно разобраться, влияет ли семейное положение и количество детей клиента на факт погашения кредита в срок. Входные данные от банка — статистика о платёжеспособности клиентов.\n",
        "\n",
        "Результаты исследования будут учтены при построении модели **кредитного скоринга** — специальной системы, которая оценивает способность потенциального заёмщика вернуть кредит банку."
      ]
    },
    {
      "cell_type": "markdown",
      "metadata": {
        "id": "JesnFI2-ZTBA"
      },
      "source": [
        "### Открыть файл с данными и изучите общую информацию. \n",
        "<a id=\"ы\"></a>"
      ]
    },
    {
      "cell_type": "code",
      "metadata": {
        "id": "aj9dD8p7ZTBB"
      },
      "source": [
        "import pandas as pd\n",
        "credit = pd.read_csv('/datasets/data.csv')"
      ],
      "execution_count": null,
      "outputs": []
    },
    {
      "cell_type": "code",
      "metadata": {
        "id": "rDkEAFiEZTBC",
        "outputId": "bab91a98-7d0a-4a38-f943-3217a933d48b"
      },
      "source": [
        "credit"
      ],
      "execution_count": null,
      "outputs": [
        {
          "output_type": "execute_result",
          "data": {
            "text/html": [
              "<div>\n",
              "<style scoped>\n",
              "    .dataframe tbody tr th:only-of-type {\n",
              "        vertical-align: middle;\n",
              "    }\n",
              "\n",
              "    .dataframe tbody tr th {\n",
              "        vertical-align: top;\n",
              "    }\n",
              "\n",
              "    .dataframe thead th {\n",
              "        text-align: right;\n",
              "    }\n",
              "</style>\n",
              "<table border=\"1\" class=\"dataframe\">\n",
              "  <thead>\n",
              "    <tr style=\"text-align: right;\">\n",
              "      <th></th>\n",
              "      <th>children</th>\n",
              "      <th>days_employed</th>\n",
              "      <th>dob_years</th>\n",
              "      <th>education</th>\n",
              "      <th>education_id</th>\n",
              "      <th>family_status</th>\n",
              "      <th>family_status_id</th>\n",
              "      <th>gender</th>\n",
              "      <th>income_type</th>\n",
              "      <th>debt</th>\n",
              "      <th>total_income</th>\n",
              "      <th>purpose</th>\n",
              "    </tr>\n",
              "  </thead>\n",
              "  <tbody>\n",
              "    <tr>\n",
              "      <td>0</td>\n",
              "      <td>1</td>\n",
              "      <td>-8437.673028</td>\n",
              "      <td>42</td>\n",
              "      <td>высшее</td>\n",
              "      <td>0</td>\n",
              "      <td>женат / замужем</td>\n",
              "      <td>0</td>\n",
              "      <td>F</td>\n",
              "      <td>сотрудник</td>\n",
              "      <td>0</td>\n",
              "      <td>253875.639453</td>\n",
              "      <td>покупка жилья</td>\n",
              "    </tr>\n",
              "    <tr>\n",
              "      <td>1</td>\n",
              "      <td>1</td>\n",
              "      <td>-4024.803754</td>\n",
              "      <td>36</td>\n",
              "      <td>среднее</td>\n",
              "      <td>1</td>\n",
              "      <td>женат / замужем</td>\n",
              "      <td>0</td>\n",
              "      <td>F</td>\n",
              "      <td>сотрудник</td>\n",
              "      <td>0</td>\n",
              "      <td>112080.014102</td>\n",
              "      <td>приобретение автомобиля</td>\n",
              "    </tr>\n",
              "    <tr>\n",
              "      <td>2</td>\n",
              "      <td>0</td>\n",
              "      <td>-5623.422610</td>\n",
              "      <td>33</td>\n",
              "      <td>Среднее</td>\n",
              "      <td>1</td>\n",
              "      <td>женат / замужем</td>\n",
              "      <td>0</td>\n",
              "      <td>M</td>\n",
              "      <td>сотрудник</td>\n",
              "      <td>0</td>\n",
              "      <td>145885.952297</td>\n",
              "      <td>покупка жилья</td>\n",
              "    </tr>\n",
              "    <tr>\n",
              "      <td>3</td>\n",
              "      <td>3</td>\n",
              "      <td>-4124.747207</td>\n",
              "      <td>32</td>\n",
              "      <td>среднее</td>\n",
              "      <td>1</td>\n",
              "      <td>женат / замужем</td>\n",
              "      <td>0</td>\n",
              "      <td>M</td>\n",
              "      <td>сотрудник</td>\n",
              "      <td>0</td>\n",
              "      <td>267628.550329</td>\n",
              "      <td>дополнительное образование</td>\n",
              "    </tr>\n",
              "    <tr>\n",
              "      <td>4</td>\n",
              "      <td>0</td>\n",
              "      <td>340266.072047</td>\n",
              "      <td>53</td>\n",
              "      <td>среднее</td>\n",
              "      <td>1</td>\n",
              "      <td>гражданский брак</td>\n",
              "      <td>1</td>\n",
              "      <td>F</td>\n",
              "      <td>пенсионер</td>\n",
              "      <td>0</td>\n",
              "      <td>158616.077870</td>\n",
              "      <td>сыграть свадьбу</td>\n",
              "    </tr>\n",
              "    <tr>\n",
              "      <td>...</td>\n",
              "      <td>...</td>\n",
              "      <td>...</td>\n",
              "      <td>...</td>\n",
              "      <td>...</td>\n",
              "      <td>...</td>\n",
              "      <td>...</td>\n",
              "      <td>...</td>\n",
              "      <td>...</td>\n",
              "      <td>...</td>\n",
              "      <td>...</td>\n",
              "      <td>...</td>\n",
              "      <td>...</td>\n",
              "    </tr>\n",
              "    <tr>\n",
              "      <td>21520</td>\n",
              "      <td>1</td>\n",
              "      <td>-4529.316663</td>\n",
              "      <td>43</td>\n",
              "      <td>среднее</td>\n",
              "      <td>1</td>\n",
              "      <td>гражданский брак</td>\n",
              "      <td>1</td>\n",
              "      <td>F</td>\n",
              "      <td>компаньон</td>\n",
              "      <td>0</td>\n",
              "      <td>224791.862382</td>\n",
              "      <td>операции с жильем</td>\n",
              "    </tr>\n",
              "    <tr>\n",
              "      <td>21521</td>\n",
              "      <td>0</td>\n",
              "      <td>343937.404131</td>\n",
              "      <td>67</td>\n",
              "      <td>среднее</td>\n",
              "      <td>1</td>\n",
              "      <td>женат / замужем</td>\n",
              "      <td>0</td>\n",
              "      <td>F</td>\n",
              "      <td>пенсионер</td>\n",
              "      <td>0</td>\n",
              "      <td>155999.806512</td>\n",
              "      <td>сделка с автомобилем</td>\n",
              "    </tr>\n",
              "    <tr>\n",
              "      <td>21522</td>\n",
              "      <td>1</td>\n",
              "      <td>-2113.346888</td>\n",
              "      <td>38</td>\n",
              "      <td>среднее</td>\n",
              "      <td>1</td>\n",
              "      <td>гражданский брак</td>\n",
              "      <td>1</td>\n",
              "      <td>M</td>\n",
              "      <td>сотрудник</td>\n",
              "      <td>1</td>\n",
              "      <td>89672.561153</td>\n",
              "      <td>недвижимость</td>\n",
              "    </tr>\n",
              "    <tr>\n",
              "      <td>21523</td>\n",
              "      <td>3</td>\n",
              "      <td>-3112.481705</td>\n",
              "      <td>38</td>\n",
              "      <td>среднее</td>\n",
              "      <td>1</td>\n",
              "      <td>женат / замужем</td>\n",
              "      <td>0</td>\n",
              "      <td>M</td>\n",
              "      <td>сотрудник</td>\n",
              "      <td>1</td>\n",
              "      <td>244093.050500</td>\n",
              "      <td>на покупку своего автомобиля</td>\n",
              "    </tr>\n",
              "    <tr>\n",
              "      <td>21524</td>\n",
              "      <td>2</td>\n",
              "      <td>-1984.507589</td>\n",
              "      <td>40</td>\n",
              "      <td>среднее</td>\n",
              "      <td>1</td>\n",
              "      <td>женат / замужем</td>\n",
              "      <td>0</td>\n",
              "      <td>F</td>\n",
              "      <td>сотрудник</td>\n",
              "      <td>0</td>\n",
              "      <td>82047.418899</td>\n",
              "      <td>на покупку автомобиля</td>\n",
              "    </tr>\n",
              "  </tbody>\n",
              "</table>\n",
              "<p>21525 rows × 12 columns</p>\n",
              "</div>"
            ],
            "text/plain": [
              "       children  days_employed  dob_years education  education_id  \\\n",
              "0             1   -8437.673028         42    высшее             0   \n",
              "1             1   -4024.803754         36   среднее             1   \n",
              "2             0   -5623.422610         33   Среднее             1   \n",
              "3             3   -4124.747207         32   среднее             1   \n",
              "4             0  340266.072047         53   среднее             1   \n",
              "...         ...            ...        ...       ...           ...   \n",
              "21520         1   -4529.316663         43   среднее             1   \n",
              "21521         0  343937.404131         67   среднее             1   \n",
              "21522         1   -2113.346888         38   среднее             1   \n",
              "21523         3   -3112.481705         38   среднее             1   \n",
              "21524         2   -1984.507589         40   среднее             1   \n",
              "\n",
              "          family_status  family_status_id gender income_type  debt  \\\n",
              "0       женат / замужем                 0      F   сотрудник     0   \n",
              "1       женат / замужем                 0      F   сотрудник     0   \n",
              "2       женат / замужем                 0      M   сотрудник     0   \n",
              "3       женат / замужем                 0      M   сотрудник     0   \n",
              "4      гражданский брак                 1      F   пенсионер     0   \n",
              "...                 ...               ...    ...         ...   ...   \n",
              "21520  гражданский брак                 1      F   компаньон     0   \n",
              "21521   женат / замужем                 0      F   пенсионер     0   \n",
              "21522  гражданский брак                 1      M   сотрудник     1   \n",
              "21523   женат / замужем                 0      M   сотрудник     1   \n",
              "21524   женат / замужем                 0      F   сотрудник     0   \n",
              "\n",
              "        total_income                       purpose  \n",
              "0      253875.639453                 покупка жилья  \n",
              "1      112080.014102       приобретение автомобиля  \n",
              "2      145885.952297                 покупка жилья  \n",
              "3      267628.550329    дополнительное образование  \n",
              "4      158616.077870               сыграть свадьбу  \n",
              "...              ...                           ...  \n",
              "21520  224791.862382             операции с жильем  \n",
              "21521  155999.806512          сделка с автомобилем  \n",
              "21522   89672.561153                  недвижимость  \n",
              "21523  244093.050500  на покупку своего автомобиля  \n",
              "21524   82047.418899         на покупку автомобиля  \n",
              "\n",
              "[21525 rows x 12 columns]"
            ]
          },
          "metadata": {
            "tags": []
          },
          "execution_count": 2
        }
      ]
    },
    {
      "cell_type": "markdown",
      "metadata": {
        "id": "wU3T45uvZTBD"
      },
      "source": [
        "### Наблюдения\n",
        "Столбцы `days_employed` и `total_income` имеют лишние знаки после запятой\n"
      ]
    },
    {
      "cell_type": "markdown",
      "metadata": {
        "id": "78K3tomJZTBE"
      },
      "source": [
        "### Получим сведенья датафрейма"
      ]
    },
    {
      "cell_type": "code",
      "metadata": {
        "id": "o4Iw8DvLZTBF",
        "outputId": "371f6a2d-4a40-48cd-b178-0edeffa85729"
      },
      "source": [
        "credit.info()"
      ],
      "execution_count": null,
      "outputs": [
        {
          "output_type": "stream",
          "text": [
            "<class 'pandas.core.frame.DataFrame'>\n",
            "RangeIndex: 21525 entries, 0 to 21524\n",
            "Data columns (total 12 columns):\n",
            "children            21525 non-null int64\n",
            "days_employed       19351 non-null float64\n",
            "dob_years           21525 non-null int64\n",
            "education           21525 non-null object\n",
            "education_id        21525 non-null int64\n",
            "family_status       21525 non-null object\n",
            "family_status_id    21525 non-null int64\n",
            "gender              21525 non-null object\n",
            "income_type         21525 non-null object\n",
            "debt                21525 non-null int64\n",
            "total_income        19351 non-null float64\n",
            "purpose             21525 non-null object\n",
            "dtypes: float64(2), int64(5), object(5)\n",
            "memory usage: 2.0+ MB\n"
          ],
          "name": "stdout"
        }
      ]
    },
    {
      "cell_type": "markdown",
      "metadata": {
        "id": "4XPpumsBZTBF"
      },
      "source": [
        "### Наблюдения\n",
        "Столбцы `days_employed` и `total_income` имеют пропуски      "
      ]
    },
    {
      "cell_type": "markdown",
      "metadata": {
        "id": "eQU1FYEuZTBF"
      },
      "source": [
        "### Использую метод описательной статистики для поиска всех числовых аномалий."
      ]
    },
    {
      "cell_type": "code",
      "metadata": {
        "id": "Whb6n84SZTBG",
        "outputId": "113fef35-7e02-4bdc-d003-787eb5a02569"
      },
      "source": [
        "credit.describe()"
      ],
      "execution_count": null,
      "outputs": [
        {
          "output_type": "execute_result",
          "data": {
            "text/html": [
              "<div>\n",
              "<style scoped>\n",
              "    .dataframe tbody tr th:only-of-type {\n",
              "        vertical-align: middle;\n",
              "    }\n",
              "\n",
              "    .dataframe tbody tr th {\n",
              "        vertical-align: top;\n",
              "    }\n",
              "\n",
              "    .dataframe thead th {\n",
              "        text-align: right;\n",
              "    }\n",
              "</style>\n",
              "<table border=\"1\" class=\"dataframe\">\n",
              "  <thead>\n",
              "    <tr style=\"text-align: right;\">\n",
              "      <th></th>\n",
              "      <th>children</th>\n",
              "      <th>days_employed</th>\n",
              "      <th>dob_years</th>\n",
              "      <th>education_id</th>\n",
              "      <th>family_status_id</th>\n",
              "      <th>debt</th>\n",
              "      <th>total_income</th>\n",
              "    </tr>\n",
              "  </thead>\n",
              "  <tbody>\n",
              "    <tr>\n",
              "      <td>count</td>\n",
              "      <td>21525.000000</td>\n",
              "      <td>19351.000000</td>\n",
              "      <td>21525.000000</td>\n",
              "      <td>21525.000000</td>\n",
              "      <td>21525.000000</td>\n",
              "      <td>21525.000000</td>\n",
              "      <td>1.935100e+04</td>\n",
              "    </tr>\n",
              "    <tr>\n",
              "      <td>mean</td>\n",
              "      <td>0.538908</td>\n",
              "      <td>63046.497661</td>\n",
              "      <td>43.293380</td>\n",
              "      <td>0.817236</td>\n",
              "      <td>0.972544</td>\n",
              "      <td>0.080883</td>\n",
              "      <td>1.674223e+05</td>\n",
              "    </tr>\n",
              "    <tr>\n",
              "      <td>std</td>\n",
              "      <td>1.381587</td>\n",
              "      <td>140827.311974</td>\n",
              "      <td>12.574584</td>\n",
              "      <td>0.548138</td>\n",
              "      <td>1.420324</td>\n",
              "      <td>0.272661</td>\n",
              "      <td>1.029716e+05</td>\n",
              "    </tr>\n",
              "    <tr>\n",
              "      <td>min</td>\n",
              "      <td>-1.000000</td>\n",
              "      <td>-18388.949901</td>\n",
              "      <td>0.000000</td>\n",
              "      <td>0.000000</td>\n",
              "      <td>0.000000</td>\n",
              "      <td>0.000000</td>\n",
              "      <td>2.066726e+04</td>\n",
              "    </tr>\n",
              "    <tr>\n",
              "      <td>25%</td>\n",
              "      <td>0.000000</td>\n",
              "      <td>-2747.423625</td>\n",
              "      <td>33.000000</td>\n",
              "      <td>1.000000</td>\n",
              "      <td>0.000000</td>\n",
              "      <td>0.000000</td>\n",
              "      <td>1.030532e+05</td>\n",
              "    </tr>\n",
              "    <tr>\n",
              "      <td>50%</td>\n",
              "      <td>0.000000</td>\n",
              "      <td>-1203.369529</td>\n",
              "      <td>42.000000</td>\n",
              "      <td>1.000000</td>\n",
              "      <td>0.000000</td>\n",
              "      <td>0.000000</td>\n",
              "      <td>1.450179e+05</td>\n",
              "    </tr>\n",
              "    <tr>\n",
              "      <td>75%</td>\n",
              "      <td>1.000000</td>\n",
              "      <td>-291.095954</td>\n",
              "      <td>53.000000</td>\n",
              "      <td>1.000000</td>\n",
              "      <td>1.000000</td>\n",
              "      <td>0.000000</td>\n",
              "      <td>2.034351e+05</td>\n",
              "    </tr>\n",
              "    <tr>\n",
              "      <td>max</td>\n",
              "      <td>20.000000</td>\n",
              "      <td>401755.400475</td>\n",
              "      <td>75.000000</td>\n",
              "      <td>4.000000</td>\n",
              "      <td>4.000000</td>\n",
              "      <td>1.000000</td>\n",
              "      <td>2.265604e+06</td>\n",
              "    </tr>\n",
              "  </tbody>\n",
              "</table>\n",
              "</div>"
            ],
            "text/plain": [
              "           children  days_employed     dob_years  education_id  \\\n",
              "count  21525.000000   19351.000000  21525.000000  21525.000000   \n",
              "mean       0.538908   63046.497661     43.293380      0.817236   \n",
              "std        1.381587  140827.311974     12.574584      0.548138   \n",
              "min       -1.000000  -18388.949901      0.000000      0.000000   \n",
              "25%        0.000000   -2747.423625     33.000000      1.000000   \n",
              "50%        0.000000   -1203.369529     42.000000      1.000000   \n",
              "75%        1.000000    -291.095954     53.000000      1.000000   \n",
              "max       20.000000  401755.400475     75.000000      4.000000   \n",
              "\n",
              "       family_status_id          debt  total_income  \n",
              "count      21525.000000  21525.000000  1.935100e+04  \n",
              "mean           0.972544      0.080883  1.674223e+05  \n",
              "std            1.420324      0.272661  1.029716e+05  \n",
              "min            0.000000      0.000000  2.066726e+04  \n",
              "25%            0.000000      0.000000  1.030532e+05  \n",
              "50%            0.000000      0.000000  1.450179e+05  \n",
              "75%            1.000000      0.000000  2.034351e+05  \n",
              "max            4.000000      1.000000  2.265604e+06  "
            ]
          },
          "metadata": {
            "tags": []
          },
          "execution_count": 4
        }
      ]
    },
    {
      "cell_type": "markdown",
      "metadata": {
        "id": "6_pOAG22ZTBG"
      },
      "source": [
        "### Наблюдения\n",
        "\n",
        "1. Столбец `children` отрицательное минимальное значение((техническая ошибка? Пока не знаю причин по которым такое могло произойти)\n",
        "2. Столбец `children` высокое максимальное значение(необходимо проверить на ошибку)\n",
        "3. Столбец `days_employed` отрицательные минимальное значение (техническая ошибка? Пока не знаю причин по которым такое могло произойти)\n",
        "4. Столбец `ys_employed` завышенно максимальное значение (больше возможной продолжительности жизни)\n",
        "5. Столбец `ob_years` минимальное значение 0(должно быть > 18)"
      ]
    },
    {
      "cell_type": "markdown",
      "metadata": {
        "id": "WBmt_3VgZTBG"
      },
      "source": [
        "### Проведем поиск полных дубликатов, сгрупируем их по максимально вариабильным столбцам"
      ]
    },
    {
      "cell_type": "code",
      "metadata": {
        "id": "vqAtZ6CpZTBH",
        "outputId": "8f2ba0a2-8338-4686-8eb3-ed952424048a"
      },
      "source": [
        "print(credit.duplicated().sum())\n",
        "credit[credit.duplicated(keep=False)].sort_values(by=['total_income', 'days_employed'])"
      ],
      "execution_count": null,
      "outputs": [
        {
          "output_type": "stream",
          "text": [
            "54\n"
          ],
          "name": "stdout"
        },
        {
          "output_type": "execute_result",
          "data": {
            "text/html": [
              "<div>\n",
              "<style scoped>\n",
              "    .dataframe tbody tr th:only-of-type {\n",
              "        vertical-align: middle;\n",
              "    }\n",
              "\n",
              "    .dataframe tbody tr th {\n",
              "        vertical-align: top;\n",
              "    }\n",
              "\n",
              "    .dataframe thead th {\n",
              "        text-align: right;\n",
              "    }\n",
              "</style>\n",
              "<table border=\"1\" class=\"dataframe\">\n",
              "  <thead>\n",
              "    <tr style=\"text-align: right;\">\n",
              "      <th></th>\n",
              "      <th>children</th>\n",
              "      <th>days_employed</th>\n",
              "      <th>dob_years</th>\n",
              "      <th>education</th>\n",
              "      <th>education_id</th>\n",
              "      <th>family_status</th>\n",
              "      <th>family_status_id</th>\n",
              "      <th>gender</th>\n",
              "      <th>income_type</th>\n",
              "      <th>debt</th>\n",
              "      <th>total_income</th>\n",
              "      <th>purpose</th>\n",
              "    </tr>\n",
              "  </thead>\n",
              "  <tbody>\n",
              "    <tr>\n",
              "      <td>120</td>\n",
              "      <td>0</td>\n",
              "      <td>NaN</td>\n",
              "      <td>46</td>\n",
              "      <td>среднее</td>\n",
              "      <td>1</td>\n",
              "      <td>женат / замужем</td>\n",
              "      <td>0</td>\n",
              "      <td>F</td>\n",
              "      <td>сотрудник</td>\n",
              "      <td>0</td>\n",
              "      <td>NaN</td>\n",
              "      <td>высшее образование</td>\n",
              "    </tr>\n",
              "    <tr>\n",
              "      <td>520</td>\n",
              "      <td>0</td>\n",
              "      <td>NaN</td>\n",
              "      <td>35</td>\n",
              "      <td>среднее</td>\n",
              "      <td>1</td>\n",
              "      <td>гражданский брак</td>\n",
              "      <td>1</td>\n",
              "      <td>F</td>\n",
              "      <td>сотрудник</td>\n",
              "      <td>0</td>\n",
              "      <td>NaN</td>\n",
              "      <td>сыграть свадьбу</td>\n",
              "    </tr>\n",
              "    <tr>\n",
              "      <td>541</td>\n",
              "      <td>0</td>\n",
              "      <td>NaN</td>\n",
              "      <td>57</td>\n",
              "      <td>среднее</td>\n",
              "      <td>1</td>\n",
              "      <td>женат / замужем</td>\n",
              "      <td>0</td>\n",
              "      <td>F</td>\n",
              "      <td>сотрудник</td>\n",
              "      <td>0</td>\n",
              "      <td>NaN</td>\n",
              "      <td>сделка с подержанным автомобилем</td>\n",
              "    </tr>\n",
              "    <tr>\n",
              "      <td>554</td>\n",
              "      <td>0</td>\n",
              "      <td>NaN</td>\n",
              "      <td>60</td>\n",
              "      <td>среднее</td>\n",
              "      <td>1</td>\n",
              "      <td>женат / замужем</td>\n",
              "      <td>0</td>\n",
              "      <td>M</td>\n",
              "      <td>сотрудник</td>\n",
              "      <td>0</td>\n",
              "      <td>NaN</td>\n",
              "      <td>покупка недвижимости</td>\n",
              "    </tr>\n",
              "    <tr>\n",
              "      <td>680</td>\n",
              "      <td>1</td>\n",
              "      <td>NaN</td>\n",
              "      <td>30</td>\n",
              "      <td>высшее</td>\n",
              "      <td>0</td>\n",
              "      <td>женат / замужем</td>\n",
              "      <td>0</td>\n",
              "      <td>F</td>\n",
              "      <td>госслужащий</td>\n",
              "      <td>0</td>\n",
              "      <td>NaN</td>\n",
              "      <td>покупка жилья для семьи</td>\n",
              "    </tr>\n",
              "    <tr>\n",
              "      <td>...</td>\n",
              "      <td>...</td>\n",
              "      <td>...</td>\n",
              "      <td>...</td>\n",
              "      <td>...</td>\n",
              "      <td>...</td>\n",
              "      <td>...</td>\n",
              "      <td>...</td>\n",
              "      <td>...</td>\n",
              "      <td>...</td>\n",
              "      <td>...</td>\n",
              "      <td>...</td>\n",
              "      <td>...</td>\n",
              "    </tr>\n",
              "    <tr>\n",
              "      <td>20702</td>\n",
              "      <td>0</td>\n",
              "      <td>NaN</td>\n",
              "      <td>64</td>\n",
              "      <td>среднее</td>\n",
              "      <td>1</td>\n",
              "      <td>женат / замужем</td>\n",
              "      <td>0</td>\n",
              "      <td>F</td>\n",
              "      <td>пенсионер</td>\n",
              "      <td>0</td>\n",
              "      <td>NaN</td>\n",
              "      <td>дополнительное образование</td>\n",
              "    </tr>\n",
              "    <tr>\n",
              "      <td>21032</td>\n",
              "      <td>0</td>\n",
              "      <td>NaN</td>\n",
              "      <td>60</td>\n",
              "      <td>среднее</td>\n",
              "      <td>1</td>\n",
              "      <td>женат / замужем</td>\n",
              "      <td>0</td>\n",
              "      <td>F</td>\n",
              "      <td>пенсионер</td>\n",
              "      <td>0</td>\n",
              "      <td>NaN</td>\n",
              "      <td>заняться образованием</td>\n",
              "    </tr>\n",
              "    <tr>\n",
              "      <td>21132</td>\n",
              "      <td>0</td>\n",
              "      <td>NaN</td>\n",
              "      <td>47</td>\n",
              "      <td>среднее</td>\n",
              "      <td>1</td>\n",
              "      <td>женат / замужем</td>\n",
              "      <td>0</td>\n",
              "      <td>F</td>\n",
              "      <td>сотрудник</td>\n",
              "      <td>0</td>\n",
              "      <td>NaN</td>\n",
              "      <td>ремонт жилью</td>\n",
              "    </tr>\n",
              "    <tr>\n",
              "      <td>21281</td>\n",
              "      <td>1</td>\n",
              "      <td>NaN</td>\n",
              "      <td>30</td>\n",
              "      <td>высшее</td>\n",
              "      <td>0</td>\n",
              "      <td>женат / замужем</td>\n",
              "      <td>0</td>\n",
              "      <td>F</td>\n",
              "      <td>сотрудник</td>\n",
              "      <td>0</td>\n",
              "      <td>NaN</td>\n",
              "      <td>покупка коммерческой недвижимости</td>\n",
              "    </tr>\n",
              "    <tr>\n",
              "      <td>21415</td>\n",
              "      <td>0</td>\n",
              "      <td>NaN</td>\n",
              "      <td>54</td>\n",
              "      <td>среднее</td>\n",
              "      <td>1</td>\n",
              "      <td>женат / замужем</td>\n",
              "      <td>0</td>\n",
              "      <td>F</td>\n",
              "      <td>пенсионер</td>\n",
              "      <td>0</td>\n",
              "      <td>NaN</td>\n",
              "      <td>операции с жильем</td>\n",
              "    </tr>\n",
              "  </tbody>\n",
              "</table>\n",
              "<p>106 rows × 12 columns</p>\n",
              "</div>"
            ],
            "text/plain": [
              "       children  days_employed  dob_years education  education_id  \\\n",
              "120           0            NaN         46   среднее             1   \n",
              "520           0            NaN         35   среднее             1   \n",
              "541           0            NaN         57   среднее             1   \n",
              "554           0            NaN         60   среднее             1   \n",
              "680           1            NaN         30    высшее             0   \n",
              "...         ...            ...        ...       ...           ...   \n",
              "20702         0            NaN         64   среднее             1   \n",
              "21032         0            NaN         60   среднее             1   \n",
              "21132         0            NaN         47   среднее             1   \n",
              "21281         1            NaN         30    высшее             0   \n",
              "21415         0            NaN         54   среднее             1   \n",
              "\n",
              "          family_status  family_status_id gender  income_type  debt  \\\n",
              "120     женат / замужем                 0      F    сотрудник     0   \n",
              "520    гражданский брак                 1      F    сотрудник     0   \n",
              "541     женат / замужем                 0      F    сотрудник     0   \n",
              "554     женат / замужем                 0      M    сотрудник     0   \n",
              "680     женат / замужем                 0      F  госслужащий     0   \n",
              "...                 ...               ...    ...          ...   ...   \n",
              "20702   женат / замужем                 0      F    пенсионер     0   \n",
              "21032   женат / замужем                 0      F    пенсионер     0   \n",
              "21132   женат / замужем                 0      F    сотрудник     0   \n",
              "21281   женат / замужем                 0      F    сотрудник     0   \n",
              "21415   женат / замужем                 0      F    пенсионер     0   \n",
              "\n",
              "       total_income                            purpose  \n",
              "120             NaN                 высшее образование  \n",
              "520             NaN                    сыграть свадьбу  \n",
              "541             NaN   сделка с подержанным автомобилем  \n",
              "554             NaN               покупка недвижимости  \n",
              "680             NaN            покупка жилья для семьи  \n",
              "...             ...                                ...  \n",
              "20702           NaN         дополнительное образование  \n",
              "21032           NaN              заняться образованием  \n",
              "21132           NaN                       ремонт жилью  \n",
              "21281           NaN  покупка коммерческой недвижимости  \n",
              "21415           NaN                  операции с жильем  \n",
              "\n",
              "[106 rows x 12 columns]"
            ]
          },
          "metadata": {
            "tags": []
          },
          "execution_count": 5
        }
      ]
    },
    {
      "cell_type": "markdown",
      "metadata": {
        "id": "xLiCRKDXZTBH"
      },
      "source": [
        "### Наблюдения  \n",
        "- 54 Дубликата, в целом не так много, но лучше удалить"
      ]
    },
    {
      "cell_type": "markdown",
      "metadata": {
        "id": "LdLT9K1NZTBH"
      },
      "source": [
        "### Проверим вариабильность строковых данных таблицы"
      ]
    },
    {
      "cell_type": "markdown",
      "metadata": {
        "id": "KpumiiWBZTBI"
      },
      "source": [
        "### Вывод\n",
        "1. Имеются пропуски данных и нулевые значения в столбцах `days_employed1`, `total_income`, `dob_years`. Необходимо будет определить закономерность пропусков и нулевых значений, возможную связь. Определить метод замены пропуска.\n",
        "2. Необходимо выяснить закономерность и причины отрицательных значений данных.\n",
        "3. Проверить корректность указанного большого количества детей в `children`\n",
        "4. Исправить явно завышенные данные стажа в столбце `days_employed`\n",
        "5. Исправить дубликаты `educatio` и `purpose` методом лемматизации и выравниванием регистра\n",
        "6. Удалить полные дубликаты\n",
        "7. Данные пола полностью случайны, можно подставить любой.\n",
        "\n",
        "После исправление всех ошибок приступать к категоризации и анализу данных."
      ]
    },
    {
      "cell_type": "markdown",
      "metadata": {
        "id": "qdu2O_-OZTBI"
      },
      "source": [
        "### Шаг 2. Предобработка данных\n",
        "<a id=\"preprocessing\"></a>"
      ]
    },
    {
      "cell_type": "markdown",
      "metadata": {
        "id": "XVwqoEHvZTBI"
      },
      "source": [
        "### Обработка некоректных данных"
      ]
    },
    {
      "cell_type": "markdown",
      "metadata": {
        "id": "D-2rsn0yZTBI"
      },
      "source": [
        "1. Первая аномалия 'children' это отрицательное количество детей, не могу предположить причины таких данных. Исправлю по модулю\n",
        "2. Вторая аномалия 'children' это максимальное количество 20 детей, проверю методом уникальных значений \n",
        "Кроме числа 20, более 5 детей в столбце не встречается. \n",
        "Предполагаю что 20 детей это ошибка, 0 мог быть ошибкой ввода(находится рядом на numpad, возможно 0 стоял по дефолту в строке ввода количества детей).  \n",
        "Заменю все значения 20 на 2"
      ]
    },
    {
      "cell_type": "code",
      "metadata": {
        "id": "t0v6OpwDZTBJ",
        "outputId": "969feb8a-6360-4686-bba4-f881e5e6be58"
      },
      "source": [
        "credit['children'] = credit['children'].abs()\n",
        "print(credit['children'].value_counts())\n",
        "credit.loc[credit[\"children\"] == 20,\"children\"] = 2"
      ],
      "execution_count": null,
      "outputs": [
        {
          "output_type": "stream",
          "text": [
            "0     14149\n",
            "1      4865\n",
            "2      2055\n",
            "3       330\n",
            "20       76\n",
            "4        41\n",
            "5         9\n",
            "Name: children, dtype: int64\n"
          ],
          "name": "stdout"
        }
      ]
    },
    {
      "cell_type": "markdown",
      "metadata": {
        "id": "K0Ef0IsaZTBJ"
      },
      "source": [
        "Отрицательные значения `days_employed` не могу предположить причины таких данных. Исправлю по модулю"
      ]
    },
    {
      "cell_type": "code",
      "metadata": {
        "id": "IKdqrP6QZTBJ"
      },
      "source": [
        "credit['days_employed'] = credit['days_employed'].abs()"
      ],
      "execution_count": null,
      "outputs": []
    },
    {
      "cell_type": "markdown",
      "metadata": {
        "id": "noFlEbL7ZTBJ"
      },
      "source": [
        "- Максимальное количество отработанных дней является ошибкой.  \n",
        "Напишем функцию, которая будет искать повышенное значение отработанных дней и заменять их на медиану стажа данного возраста.  \n",
        "В случае если большинство показателей стажа данного возраста завышенны, тогда заменять на максимально возможный стаж по возрасту."
      ]
    },
    {
      "cell_type": "code",
      "metadata": {
        "id": "pqVu8A-lZTBJ"
      },
      "source": [
        "def err_days_employed(row):\n",
        "    if row['days_employed'] > (row['dob_years'] - 16) * 365:\n",
        "        if credit[credit['dob_years'] == row['dob_years']]['days_employed'].median() < (row['dob_years'] - 16) * 365:\n",
        "            return credit[credit['dob_years'] == row['dob_years']]['days_employed'].median()\n",
        "        else: \n",
        "            return (row['dob_years'] - 16) * 365\n",
        "    else:\n",
        "        return row['days_employed']\n",
        "credit['days_employed'] = credit.apply(err_days_employed, axis=1)"
      ],
      "execution_count": null,
      "outputs": []
    },
    {
      "cell_type": "markdown",
      "metadata": {
        "id": "mb-xaXdbZTBK"
      },
      "source": [
        "### Обработка пропусков\n",
        "<a id=\"null\"></a>"
      ]
    },
    {
      "cell_type": "code",
      "metadata": {
        "id": "5LAXhgvYZTBK",
        "outputId": "9025a581-bfab-4b42-e60a-d0b8e033d414"
      },
      "source": [
        "credit_null = (credit[credit['days_employed'].isnull()]).copy(deep=True) #Методом isnull() выведем пропуски по столбцу 'days_employed'\n",
        "credit_null"
      ],
      "execution_count": null,
      "outputs": [
        {
          "output_type": "execute_result",
          "data": {
            "text/html": [
              "<div>\n",
              "<style scoped>\n",
              "    .dataframe tbody tr th:only-of-type {\n",
              "        vertical-align: middle;\n",
              "    }\n",
              "\n",
              "    .dataframe tbody tr th {\n",
              "        vertical-align: top;\n",
              "    }\n",
              "\n",
              "    .dataframe thead th {\n",
              "        text-align: right;\n",
              "    }\n",
              "</style>\n",
              "<table border=\"1\" class=\"dataframe\">\n",
              "  <thead>\n",
              "    <tr style=\"text-align: right;\">\n",
              "      <th></th>\n",
              "      <th>children</th>\n",
              "      <th>days_employed</th>\n",
              "      <th>dob_years</th>\n",
              "      <th>education</th>\n",
              "      <th>education_id</th>\n",
              "      <th>family_status</th>\n",
              "      <th>family_status_id</th>\n",
              "      <th>gender</th>\n",
              "      <th>income_type</th>\n",
              "      <th>debt</th>\n",
              "      <th>total_income</th>\n",
              "      <th>purpose</th>\n",
              "    </tr>\n",
              "  </thead>\n",
              "  <tbody>\n",
              "    <tr>\n",
              "      <td>12</td>\n",
              "      <td>0</td>\n",
              "      <td>NaN</td>\n",
              "      <td>65</td>\n",
              "      <td>среднее</td>\n",
              "      <td>1</td>\n",
              "      <td>гражданский брак</td>\n",
              "      <td>1</td>\n",
              "      <td>M</td>\n",
              "      <td>пенсионер</td>\n",
              "      <td>0</td>\n",
              "      <td>NaN</td>\n",
              "      <td>сыграть свадьбу</td>\n",
              "    </tr>\n",
              "    <tr>\n",
              "      <td>26</td>\n",
              "      <td>0</td>\n",
              "      <td>NaN</td>\n",
              "      <td>41</td>\n",
              "      <td>среднее</td>\n",
              "      <td>1</td>\n",
              "      <td>женат / замужем</td>\n",
              "      <td>0</td>\n",
              "      <td>M</td>\n",
              "      <td>госслужащий</td>\n",
              "      <td>0</td>\n",
              "      <td>NaN</td>\n",
              "      <td>образование</td>\n",
              "    </tr>\n",
              "    <tr>\n",
              "      <td>29</td>\n",
              "      <td>0</td>\n",
              "      <td>NaN</td>\n",
              "      <td>63</td>\n",
              "      <td>среднее</td>\n",
              "      <td>1</td>\n",
              "      <td>Не женат / не замужем</td>\n",
              "      <td>4</td>\n",
              "      <td>F</td>\n",
              "      <td>пенсионер</td>\n",
              "      <td>0</td>\n",
              "      <td>NaN</td>\n",
              "      <td>строительство жилой недвижимости</td>\n",
              "    </tr>\n",
              "    <tr>\n",
              "      <td>41</td>\n",
              "      <td>0</td>\n",
              "      <td>NaN</td>\n",
              "      <td>50</td>\n",
              "      <td>среднее</td>\n",
              "      <td>1</td>\n",
              "      <td>женат / замужем</td>\n",
              "      <td>0</td>\n",
              "      <td>F</td>\n",
              "      <td>госслужащий</td>\n",
              "      <td>0</td>\n",
              "      <td>NaN</td>\n",
              "      <td>сделка с подержанным автомобилем</td>\n",
              "    </tr>\n",
              "    <tr>\n",
              "      <td>55</td>\n",
              "      <td>0</td>\n",
              "      <td>NaN</td>\n",
              "      <td>54</td>\n",
              "      <td>среднее</td>\n",
              "      <td>1</td>\n",
              "      <td>гражданский брак</td>\n",
              "      <td>1</td>\n",
              "      <td>F</td>\n",
              "      <td>пенсионер</td>\n",
              "      <td>1</td>\n",
              "      <td>NaN</td>\n",
              "      <td>сыграть свадьбу</td>\n",
              "    </tr>\n",
              "    <tr>\n",
              "      <td>...</td>\n",
              "      <td>...</td>\n",
              "      <td>...</td>\n",
              "      <td>...</td>\n",
              "      <td>...</td>\n",
              "      <td>...</td>\n",
              "      <td>...</td>\n",
              "      <td>...</td>\n",
              "      <td>...</td>\n",
              "      <td>...</td>\n",
              "      <td>...</td>\n",
              "      <td>...</td>\n",
              "      <td>...</td>\n",
              "    </tr>\n",
              "    <tr>\n",
              "      <td>21489</td>\n",
              "      <td>2</td>\n",
              "      <td>NaN</td>\n",
              "      <td>47</td>\n",
              "      <td>Среднее</td>\n",
              "      <td>1</td>\n",
              "      <td>женат / замужем</td>\n",
              "      <td>0</td>\n",
              "      <td>M</td>\n",
              "      <td>компаньон</td>\n",
              "      <td>0</td>\n",
              "      <td>NaN</td>\n",
              "      <td>сделка с автомобилем</td>\n",
              "    </tr>\n",
              "    <tr>\n",
              "      <td>21495</td>\n",
              "      <td>1</td>\n",
              "      <td>NaN</td>\n",
              "      <td>50</td>\n",
              "      <td>среднее</td>\n",
              "      <td>1</td>\n",
              "      <td>гражданский брак</td>\n",
              "      <td>1</td>\n",
              "      <td>F</td>\n",
              "      <td>сотрудник</td>\n",
              "      <td>0</td>\n",
              "      <td>NaN</td>\n",
              "      <td>свадьба</td>\n",
              "    </tr>\n",
              "    <tr>\n",
              "      <td>21497</td>\n",
              "      <td>0</td>\n",
              "      <td>NaN</td>\n",
              "      <td>48</td>\n",
              "      <td>ВЫСШЕЕ</td>\n",
              "      <td>0</td>\n",
              "      <td>женат / замужем</td>\n",
              "      <td>0</td>\n",
              "      <td>F</td>\n",
              "      <td>компаньон</td>\n",
              "      <td>0</td>\n",
              "      <td>NaN</td>\n",
              "      <td>строительство недвижимости</td>\n",
              "    </tr>\n",
              "    <tr>\n",
              "      <td>21502</td>\n",
              "      <td>1</td>\n",
              "      <td>NaN</td>\n",
              "      <td>42</td>\n",
              "      <td>среднее</td>\n",
              "      <td>1</td>\n",
              "      <td>женат / замужем</td>\n",
              "      <td>0</td>\n",
              "      <td>F</td>\n",
              "      <td>сотрудник</td>\n",
              "      <td>0</td>\n",
              "      <td>NaN</td>\n",
              "      <td>строительство жилой недвижимости</td>\n",
              "    </tr>\n",
              "    <tr>\n",
              "      <td>21510</td>\n",
              "      <td>2</td>\n",
              "      <td>NaN</td>\n",
              "      <td>28</td>\n",
              "      <td>среднее</td>\n",
              "      <td>1</td>\n",
              "      <td>женат / замужем</td>\n",
              "      <td>0</td>\n",
              "      <td>F</td>\n",
              "      <td>сотрудник</td>\n",
              "      <td>0</td>\n",
              "      <td>NaN</td>\n",
              "      <td>приобретение автомобиля</td>\n",
              "    </tr>\n",
              "  </tbody>\n",
              "</table>\n",
              "<p>2174 rows × 12 columns</p>\n",
              "</div>"
            ],
            "text/plain": [
              "       children  days_employed  dob_years education  education_id  \\\n",
              "12            0            NaN         65   среднее             1   \n",
              "26            0            NaN         41   среднее             1   \n",
              "29            0            NaN         63   среднее             1   \n",
              "41            0            NaN         50   среднее             1   \n",
              "55            0            NaN         54   среднее             1   \n",
              "...         ...            ...        ...       ...           ...   \n",
              "21489         2            NaN         47   Среднее             1   \n",
              "21495         1            NaN         50   среднее             1   \n",
              "21497         0            NaN         48    ВЫСШЕЕ             0   \n",
              "21502         1            NaN         42   среднее             1   \n",
              "21510         2            NaN         28   среднее             1   \n",
              "\n",
              "               family_status  family_status_id gender  income_type  debt  \\\n",
              "12          гражданский брак                 1      M    пенсионер     0   \n",
              "26           женат / замужем                 0      M  госслужащий     0   \n",
              "29     Не женат / не замужем                 4      F    пенсионер     0   \n",
              "41           женат / замужем                 0      F  госслужащий     0   \n",
              "55          гражданский брак                 1      F    пенсионер     1   \n",
              "...                      ...               ...    ...          ...   ...   \n",
              "21489        женат / замужем                 0      M    компаньон     0   \n",
              "21495       гражданский брак                 1      F    сотрудник     0   \n",
              "21497        женат / замужем                 0      F    компаньон     0   \n",
              "21502        женат / замужем                 0      F    сотрудник     0   \n",
              "21510        женат / замужем                 0      F    сотрудник     0   \n",
              "\n",
              "       total_income                           purpose  \n",
              "12              NaN                   сыграть свадьбу  \n",
              "26              NaN                       образование  \n",
              "29              NaN  строительство жилой недвижимости  \n",
              "41              NaN  сделка с подержанным автомобилем  \n",
              "55              NaN                   сыграть свадьбу  \n",
              "...             ...                               ...  \n",
              "21489           NaN              сделка с автомобилем  \n",
              "21495           NaN                           свадьба  \n",
              "21497           NaN        строительство недвижимости  \n",
              "21502           NaN  строительство жилой недвижимости  \n",
              "21510           NaN           приобретение автомобиля  \n",
              "\n",
              "[2174 rows x 12 columns]"
            ]
          },
          "metadata": {
            "tags": []
          },
          "execution_count": 10
        }
      ]
    },
    {
      "cell_type": "markdown",
      "metadata": {
        "id": "eqtOzeu6ZTBK"
      },
      "source": [
        "- Прослеживается закономерность в пропусках данных 'days_employed' и 'total_income'  \n",
        "Проверим, на закономерность пропуска"
      ]
    },
    {
      "cell_type": "code",
      "metadata": {
        "id": "SEyqSQzaZTBK",
        "outputId": "87193b77-e54f-4f70-83ac-390029b3ce9c"
      },
      "source": [
        "credit_null.info()"
      ],
      "execution_count": null,
      "outputs": [
        {
          "output_type": "stream",
          "text": [
            "<class 'pandas.core.frame.DataFrame'>\n",
            "Int64Index: 2174 entries, 12 to 21510\n",
            "Data columns (total 12 columns):\n",
            "children            2174 non-null int64\n",
            "days_employed       0 non-null float64\n",
            "dob_years           2174 non-null int64\n",
            "education           2174 non-null object\n",
            "education_id        2174 non-null int64\n",
            "family_status       2174 non-null object\n",
            "family_status_id    2174 non-null int64\n",
            "gender              2174 non-null object\n",
            "income_type         2174 non-null object\n",
            "debt                2174 non-null int64\n",
            "total_income        0 non-null float64\n",
            "purpose             2174 non-null object\n",
            "dtypes: float64(2), int64(5), object(5)\n",
            "memory usage: 220.8+ KB\n"
          ],
          "name": "stdout"
        }
      ]
    },
    {
      "cell_type": "markdown",
      "metadata": {
        "id": "uIWuQwKtZTBK"
      },
      "source": [
        "- дейсчтвительно, все строки с нулевыми значениями пересекаются   \n",
        "Проверим, может ли это быть связано со статусом безработного или пенсионера"
      ]
    },
    {
      "cell_type": "code",
      "metadata": {
        "id": "KTBuBL25ZTBL",
        "outputId": "a1e886b8-182b-4a5e-899d-7c1849ae0856"
      },
      "source": [
        "print(credit_null['income_type'].value_counts())"
      ],
      "execution_count": null,
      "outputs": [
        {
          "output_type": "stream",
          "text": [
            "сотрудник          1105\n",
            "компаньон           508\n",
            "пенсионер           413\n",
            "госслужащий         147\n",
            "предприниматель       1\n",
            "Name: income_type, dtype: int64\n"
          ],
          "name": "stdout"
        }
      ]
    },
    {
      "cell_type": "markdown",
      "metadata": {
        "id": "rwGMQp7CZTBL"
      },
      "source": [
        "- Нет пропуски имеются в различных категориях занятости  \n",
        "Предположу, что отсутствие данных связано с непредоставлением справки с места работы\n",
        "Буду заменять пропуски в категории `days_employed` средним по возрасту.  \n",
        "В категории `total_income` средним по категории занятости."
      ]
    },
    {
      "cell_type": "code",
      "metadata": {
        "id": "VFfhbSWYZTBL"
      },
      "source": [
        "credit[\"days_employed\"].fillna(-1, inplace = True) #заменил пропуски стажа на -1 чтобы с помощью функции заменить на медиану значений"
      ],
      "execution_count": null,
      "outputs": []
    },
    {
      "cell_type": "code",
      "metadata": {
        "id": "QoaSJTjBZTBL"
      },
      "source": [
        "credit[\"total_income\"].fillna(-1, inplace = True) #заменил пропуски зарплаты на -1 чтобы с помощью функции заменить на медиану значений"
      ],
      "execution_count": null,
      "outputs": []
    },
    {
      "cell_type": "code",
      "metadata": {
        "id": "DnfQ3Im9ZTBL"
      },
      "source": [
        "def non_total_income(row): # пишу функцию для замены пропусков стажа медианой стажа в соответствии с возрастом\n",
        "    if row['days_employed'] == -1:\n",
        "        return credit[credit['dob_years'] == row['dob_years']]['total_income'].median()\n",
        "    else:\n",
        "        return row['days_employed']\n",
        "credit['days_employed'] = credit.apply(non_total_income, axis=1)"
      ],
      "execution_count": null,
      "outputs": []
    },
    {
      "cell_type": "code",
      "metadata": {
        "id": "S5WvJDUMZTBL"
      },
      "source": [
        "def non_days_employed(row): # пишу функцию для замены пропусков зарплаты медианой зарплаты в соответствии с категорией занятости\n",
        "    if row['days_employed'] == -1:\n",
        "        return credit[credit['income_type'] == row['income_type']]['total_income'].median()\n",
        "    else:\n",
        "        return row['total_income']\n",
        "credit['total_income'] = credit.apply(non_days_employed, axis=1)\n",
        "# credit.info()"
      ],
      "execution_count": null,
      "outputs": []
    },
    {
      "cell_type": "markdown",
      "metadata": {
        "id": "B_B5adhAZTBL"
      },
      "source": [
        "Удалю все строки с отсутствием возраста просто потому что их меньше 0,5%, а методом dropna для удаления пропусков не удалось воспользоваться"
      ]
    },
    {
      "cell_type": "code",
      "metadata": {
        "id": "gZHyt0kwZTBL"
      },
      "source": [
        "credit = credit[credit['dob_years'] != 0]"
      ],
      "execution_count": null,
      "outputs": []
    },
    {
      "cell_type": "markdown",
      "metadata": {
        "id": "9ome2hTcZTBM"
      },
      "source": [
        "Удалю строчку с полом 'XNA', заметил days_employed и total_income одно и тоже число, что явно говорит о некоректности данных.       "
      ]
    },
    {
      "cell_type": "code",
      "metadata": {
        "id": "Qyyx11aeZTBM"
      },
      "source": [
        "credit = credit[credit['gender'] != 'XNA']"
      ],
      "execution_count": null,
      "outputs": []
    },
    {
      "cell_type": "markdown",
      "metadata": {
        "id": "4xKj5g0kZTBM"
      },
      "source": [
        "### Вывод"
      ]
    },
    {
      "cell_type": "markdown",
      "metadata": {
        "id": "nZhacvl3ZTBM"
      },
      "source": [
        "Очень важно знать каким образом формируются данные, для того чтобы найти подходящий метод замены случайных и не случайных пропусков. Полностью случайные пропуски в этой практической работе не влияют на анализ. "
      ]
    },
    {
      "cell_type": "markdown",
      "metadata": {
        "id": "gvkrA9YkZTBM"
      },
      "source": [
        "### Замена типа данных"
      ]
    },
    {
      "cell_type": "markdown",
      "metadata": {
        "id": "EP0oysZ8ZTBM"
      },
      "source": [
        "Зарплату `total_income` и стаж в днях `days_employed` переводим из 'float64' в 'int'. Данные после запятой на результат.\n",
        "Используем функцию 'astype'."
      ]
    },
    {
      "cell_type": "code",
      "metadata": {
        "id": "ARIVRSkJZTBM"
      },
      "source": [
        "credit['days_employed'] = credit['days_employed'].astype('int')\n",
        "credit['total_income'] = credit['total_income'].astype('int')\n",
        "#credit.dtypes #Проверим типы данных столбцов"
      ],
      "execution_count": null,
      "outputs": []
    },
    {
      "cell_type": "markdown",
      "metadata": {
        "id": "KJSnhVQXZTBM"
      },
      "source": [
        "### Вывод"
      ]
    },
    {
      "cell_type": "markdown",
      "metadata": {
        "id": "eWat_eFwZTBM"
      },
      "source": [
        "Замена типов данных в нашем случае улучшает визуальное восприятие, на больших таблицам сможет сэкономить вычислительные ресурсы. Если бы тип данных был строковый то возможно воспользоваться функцией 'to_numeric()'."
      ]
    },
    {
      "cell_type": "markdown",
      "metadata": {
        "id": "ovlyFcA9ZTBN"
      },
      "source": [
        "### Обработка дубликатов"
      ]
    },
    {
      "cell_type": "markdown",
      "metadata": {
        "id": "JBBOzHB5ZTBN"
      },
      "source": [
        "Удаляем дубликаты, проверяем."
      ]
    },
    {
      "cell_type": "code",
      "metadata": {
        "id": "N7K4HcpOZTBN",
        "outputId": "a8f6b5c2-ee20-4bd4-c868-c7436068331b"
      },
      "source": [
        "credit = credit.drop_duplicates()\n",
        "credit.duplicated().sum()"
      ],
      "execution_count": null,
      "outputs": [
        {
          "output_type": "execute_result",
          "data": {
            "text/plain": [
              "0"
            ]
          },
          "metadata": {
            "tags": []
          },
          "execution_count": 20
        }
      ]
    },
    {
      "cell_type": "markdown",
      "metadata": {
        "id": "YYa3vzTpZTBN"
      },
      "source": [
        "### Вывод"
      ]
    },
    {
      "cell_type": "markdown",
      "metadata": {
        "id": "SKOGFC-DZTBN"
      },
      "source": [
        "Причины задвоения данных в отличии от пропуска данных не столь важны. В нашем случае их не так много, но если их будет больше, это может вызвать смещение результатов. Поэтому лучше удалить."
      ]
    },
    {
      "cell_type": "markdown",
      "metadata": {
        "id": "6AJ7f6hGZTBO"
      },
      "source": [
        "### Лемматизация"
      ]
    },
    {
      "cell_type": "markdown",
      "metadata": {
        "id": "GJ1bbFKBZTBO"
      },
      "source": [
        "В столбце `purpose`содержатся похожие друг на друга цели, описанные разными словами. Катетеризируем цели с помощью лемматизации.\n",
        "\n",
        "Загрузим библиотеки необходимые для лемматизации. Снова выведем список уникальных целей"
      ]
    },
    {
      "cell_type": "code",
      "metadata": {
        "id": "NWU2pSkFZTBO",
        "outputId": "727d4b24-c910-4e18-84e0-30f12d84c9a8"
      },
      "source": [
        "from pymystem3 import Mystem\n",
        "m = Mystem()\n",
        "from nltk.stem import SnowballStemmer \n",
        "credit['purpose'].value_counts()"
      ],
      "execution_count": null,
      "outputs": [
        {
          "output_type": "execute_result",
          "data": {
            "text/plain": [
              "свадьба                                   788\n",
              "на проведение свадьбы                     769\n",
              "сыграть свадьбу                           764\n",
              "операции с недвижимостью                  672\n",
              "покупка коммерческой недвижимости         659\n",
              "покупка жилья для сдачи                   650\n",
              "операции с коммерческой недвижимостью     648\n",
              "операции с жильем                         646\n",
              "жилье                                     640\n",
              "покупка жилья                             640\n",
              "покупка жилья для семьи                   637\n",
              "строительство собственной недвижимости    633\n",
              "недвижимость                              629\n",
              "операции со своей недвижимостью           627\n",
              "строительство жилой недвижимости          622\n",
              "покупка своего жилья                      619\n",
              "строительство недвижимости                619\n",
              "покупка недвижимости                      617\n",
              "ремонт жилью                              605\n",
              "покупка жилой недвижимости                603\n",
              "на покупку своего автомобиля              502\n",
              "заняться высшим образованием              493\n",
              "автомобиль                                490\n",
              "сделка с подержанным автомобилем          484\n",
              "на покупку подержанного автомобиля        478\n",
              "свой автомобиль                           476\n",
              "автомобили                                476\n",
              "на покупку автомобиля                     467\n",
              "приобретение автомобиля                   459\n",
              "дополнительное образование                458\n",
              "сделка с автомобилем                      454\n",
              "высшее образование                        449\n",
              "получение дополнительного образования     445\n",
              "образование                               444\n",
              "получение образования                     441\n",
              "профильное образование                    435\n",
              "получение высшего образования             424\n",
              "заняться образованием                     407\n",
              "Name: purpose, dtype: int64"
            ]
          },
          "metadata": {
            "tags": []
          },
          "execution_count": 21
        }
      ]
    },
    {
      "cell_type": "markdown",
      "metadata": {
        "id": "_OarhmB6ZTBO"
      },
      "source": [
        "1. Создадим список лемм\n",
        "2. Выведем его по популярности"
      ]
    },
    {
      "cell_type": "code",
      "metadata": {
        "id": "HARiXTiJZTBO",
        "outputId": "939bbe3e-dd13-4880-ee40-e2e781263dff"
      },
      "source": [
        "list_of_lemmas = [] \n",
        "for element in credit['purpose']:\n",
        "    lemma = m.lemmatize(element)\n",
        "    list_of_lemmas.extend(lemma)\n",
        "from collections import Counter\n",
        "unique_lemmas = Counter(list_of_lemmas) #посчитаем леммы \n",
        "sorted(unique_lemmas.items(), key = lambda pair: pair[1], reverse=True) #отсартируем\n"
      ],
      "execution_count": null,
      "outputs": [
        {
          "output_type": "execute_result",
          "data": {
            "text/plain": [
              "[(' ', 33460),\n",
              " ('\\n', 21369),\n",
              " ('недвижимость', 6329),\n",
              " ('покупка', 5872),\n",
              " ('жилье', 4437),\n",
              " ('автомобиль', 4286),\n",
              " ('образование', 3996),\n",
              " ('с', 2904),\n",
              " ('операция', 2593),\n",
              " ('свадьба', 2321),\n",
              " ('свой', 2224),\n",
              " ('на', 2216),\n",
              " ('строительство', 1874),\n",
              " ('высокий', 1366),\n",
              " ('получение', 1310),\n",
              " ('коммерческий', 1307),\n",
              " ('для', 1287),\n",
              " ('жилой', 1225),\n",
              " ('сделка', 938),\n",
              " ('дополнительный', 903),\n",
              " ('заниматься', 900),\n",
              " ('проведение', 769),\n",
              " ('сыграть', 764),\n",
              " ('сдача', 650),\n",
              " ('семья', 637),\n",
              " ('собственный', 633),\n",
              " ('со', 627),\n",
              " ('ремонт', 605),\n",
              " ('подержанный', 484),\n",
              " ('подержать', 478),\n",
              " ('приобретение', 459),\n",
              " ('профильный', 435)]"
            ]
          },
          "metadata": {
            "tags": []
          },
          "execution_count": 22
        }
      ]
    },
    {
      "cell_type": "code",
      "metadata": {
        "id": "HKniaZCeZTBO"
      },
      "source": [
        "lemmas_word = ['недвижимость', 'жилье', 'автомобиль', 'образование', 'свадьба'] #выделил основные леммы не связаные с подлезжащими и глаголами"
      ],
      "execution_count": null,
      "outputs": []
    },
    {
      "cell_type": "markdown",
      "metadata": {
        "id": "6RFWVBedZTBO"
      },
      "source": [
        "- Напишем функцию для категоризации по определенным леммам"
      ]
    },
    {
      "cell_type": "code",
      "metadata": {
        "id": "wtdPXNbWZTBO"
      },
      "source": [
        "def purpose_group(row):\n",
        "    lema = m.lemmatize(row)\n",
        "    if 'автомобиль' in lema:\n",
        "        return 'автомобиль'\n",
        "    if 'недвижимость' in lema:\n",
        "        return 'недвижимость'\n",
        "    if 'жилье' in lema:\n",
        "        return 'недвижимость'\n",
        "    if 'образование' in lema:\n",
        "        return 'образование'\n",
        "    if 'свадьба' in lema:\n",
        "        return 'свадьба'\n",
        "credit['purpose_lemm'] = credit['purpose'].apply(purpose_group)\n"
      ],
      "execution_count": null,
      "outputs": []
    },
    {
      "cell_type": "code",
      "metadata": {
        "id": "JfpiqJVFZTBP",
        "outputId": "ec53215f-6d77-4cfb-b248-deb514ba9877"
      },
      "source": [
        "credit['education'] = credit['education'].str.lower() # переведем 'education' в нижний регистр\n",
        "credit"
      ],
      "execution_count": null,
      "outputs": [
        {
          "output_type": "execute_result",
          "data": {
            "text/html": [
              "<div>\n",
              "<style scoped>\n",
              "    .dataframe tbody tr th:only-of-type {\n",
              "        vertical-align: middle;\n",
              "    }\n",
              "\n",
              "    .dataframe tbody tr th {\n",
              "        vertical-align: top;\n",
              "    }\n",
              "\n",
              "    .dataframe thead th {\n",
              "        text-align: right;\n",
              "    }\n",
              "</style>\n",
              "<table border=\"1\" class=\"dataframe\">\n",
              "  <thead>\n",
              "    <tr style=\"text-align: right;\">\n",
              "      <th></th>\n",
              "      <th>children</th>\n",
              "      <th>days_employed</th>\n",
              "      <th>dob_years</th>\n",
              "      <th>education</th>\n",
              "      <th>education_id</th>\n",
              "      <th>family_status</th>\n",
              "      <th>family_status_id</th>\n",
              "      <th>gender</th>\n",
              "      <th>income_type</th>\n",
              "      <th>debt</th>\n",
              "      <th>total_income</th>\n",
              "      <th>purpose</th>\n",
              "      <th>purpose_lemm</th>\n",
              "    </tr>\n",
              "  </thead>\n",
              "  <tbody>\n",
              "    <tr>\n",
              "      <td>0</td>\n",
              "      <td>1</td>\n",
              "      <td>8437</td>\n",
              "      <td>42</td>\n",
              "      <td>высшее</td>\n",
              "      <td>0</td>\n",
              "      <td>женат / замужем</td>\n",
              "      <td>0</td>\n",
              "      <td>F</td>\n",
              "      <td>сотрудник</td>\n",
              "      <td>0</td>\n",
              "      <td>253875</td>\n",
              "      <td>покупка жилья</td>\n",
              "      <td>недвижимость</td>\n",
              "    </tr>\n",
              "    <tr>\n",
              "      <td>1</td>\n",
              "      <td>1</td>\n",
              "      <td>4024</td>\n",
              "      <td>36</td>\n",
              "      <td>среднее</td>\n",
              "      <td>1</td>\n",
              "      <td>женат / замужем</td>\n",
              "      <td>0</td>\n",
              "      <td>F</td>\n",
              "      <td>сотрудник</td>\n",
              "      <td>0</td>\n",
              "      <td>112080</td>\n",
              "      <td>приобретение автомобиля</td>\n",
              "      <td>автомобиль</td>\n",
              "    </tr>\n",
              "    <tr>\n",
              "      <td>2</td>\n",
              "      <td>0</td>\n",
              "      <td>5623</td>\n",
              "      <td>33</td>\n",
              "      <td>среднее</td>\n",
              "      <td>1</td>\n",
              "      <td>женат / замужем</td>\n",
              "      <td>0</td>\n",
              "      <td>M</td>\n",
              "      <td>сотрудник</td>\n",
              "      <td>0</td>\n",
              "      <td>145885</td>\n",
              "      <td>покупка жилья</td>\n",
              "      <td>недвижимость</td>\n",
              "    </tr>\n",
              "    <tr>\n",
              "      <td>3</td>\n",
              "      <td>3</td>\n",
              "      <td>4124</td>\n",
              "      <td>32</td>\n",
              "      <td>среднее</td>\n",
              "      <td>1</td>\n",
              "      <td>женат / замужем</td>\n",
              "      <td>0</td>\n",
              "      <td>M</td>\n",
              "      <td>сотрудник</td>\n",
              "      <td>0</td>\n",
              "      <td>267628</td>\n",
              "      <td>дополнительное образование</td>\n",
              "      <td>образование</td>\n",
              "    </tr>\n",
              "    <tr>\n",
              "      <td>4</td>\n",
              "      <td>0</td>\n",
              "      <td>3650</td>\n",
              "      <td>53</td>\n",
              "      <td>среднее</td>\n",
              "      <td>1</td>\n",
              "      <td>гражданский брак</td>\n",
              "      <td>1</td>\n",
              "      <td>F</td>\n",
              "      <td>пенсионер</td>\n",
              "      <td>0</td>\n",
              "      <td>158616</td>\n",
              "      <td>сыграть свадьбу</td>\n",
              "      <td>свадьба</td>\n",
              "    </tr>\n",
              "    <tr>\n",
              "      <td>...</td>\n",
              "      <td>...</td>\n",
              "      <td>...</td>\n",
              "      <td>...</td>\n",
              "      <td>...</td>\n",
              "      <td>...</td>\n",
              "      <td>...</td>\n",
              "      <td>...</td>\n",
              "      <td>...</td>\n",
              "      <td>...</td>\n",
              "      <td>...</td>\n",
              "      <td>...</td>\n",
              "      <td>...</td>\n",
              "      <td>...</td>\n",
              "    </tr>\n",
              "    <tr>\n",
              "      <td>21520</td>\n",
              "      <td>1</td>\n",
              "      <td>4529</td>\n",
              "      <td>43</td>\n",
              "      <td>среднее</td>\n",
              "      <td>1</td>\n",
              "      <td>гражданский брак</td>\n",
              "      <td>1</td>\n",
              "      <td>F</td>\n",
              "      <td>компаньон</td>\n",
              "      <td>0</td>\n",
              "      <td>224791</td>\n",
              "      <td>операции с жильем</td>\n",
              "      <td>недвижимость</td>\n",
              "    </tr>\n",
              "    <tr>\n",
              "      <td>21521</td>\n",
              "      <td>0</td>\n",
              "      <td>18615</td>\n",
              "      <td>67</td>\n",
              "      <td>среднее</td>\n",
              "      <td>1</td>\n",
              "      <td>женат / замужем</td>\n",
              "      <td>0</td>\n",
              "      <td>F</td>\n",
              "      <td>пенсионер</td>\n",
              "      <td>0</td>\n",
              "      <td>155999</td>\n",
              "      <td>сделка с автомобилем</td>\n",
              "      <td>автомобиль</td>\n",
              "    </tr>\n",
              "    <tr>\n",
              "      <td>21522</td>\n",
              "      <td>1</td>\n",
              "      <td>2113</td>\n",
              "      <td>38</td>\n",
              "      <td>среднее</td>\n",
              "      <td>1</td>\n",
              "      <td>гражданский брак</td>\n",
              "      <td>1</td>\n",
              "      <td>M</td>\n",
              "      <td>сотрудник</td>\n",
              "      <td>1</td>\n",
              "      <td>89672</td>\n",
              "      <td>недвижимость</td>\n",
              "      <td>недвижимость</td>\n",
              "    </tr>\n",
              "    <tr>\n",
              "      <td>21523</td>\n",
              "      <td>3</td>\n",
              "      <td>3112</td>\n",
              "      <td>38</td>\n",
              "      <td>среднее</td>\n",
              "      <td>1</td>\n",
              "      <td>женат / замужем</td>\n",
              "      <td>0</td>\n",
              "      <td>M</td>\n",
              "      <td>сотрудник</td>\n",
              "      <td>1</td>\n",
              "      <td>244093</td>\n",
              "      <td>на покупку своего автомобиля</td>\n",
              "      <td>автомобиль</td>\n",
              "    </tr>\n",
              "    <tr>\n",
              "      <td>21524</td>\n",
              "      <td>2</td>\n",
              "      <td>1984</td>\n",
              "      <td>40</td>\n",
              "      <td>среднее</td>\n",
              "      <td>1</td>\n",
              "      <td>женат / замужем</td>\n",
              "      <td>0</td>\n",
              "      <td>F</td>\n",
              "      <td>сотрудник</td>\n",
              "      <td>0</td>\n",
              "      <td>82047</td>\n",
              "      <td>на покупку автомобиля</td>\n",
              "      <td>автомобиль</td>\n",
              "    </tr>\n",
              "  </tbody>\n",
              "</table>\n",
              "<p>21369 rows × 13 columns</p>\n",
              "</div>"
            ],
            "text/plain": [
              "       children  days_employed  dob_years education  education_id  \\\n",
              "0             1           8437         42    высшее             0   \n",
              "1             1           4024         36   среднее             1   \n",
              "2             0           5623         33   среднее             1   \n",
              "3             3           4124         32   среднее             1   \n",
              "4             0           3650         53   среднее             1   \n",
              "...         ...            ...        ...       ...           ...   \n",
              "21520         1           4529         43   среднее             1   \n",
              "21521         0          18615         67   среднее             1   \n",
              "21522         1           2113         38   среднее             1   \n",
              "21523         3           3112         38   среднее             1   \n",
              "21524         2           1984         40   среднее             1   \n",
              "\n",
              "          family_status  family_status_id gender income_type  debt  \\\n",
              "0       женат / замужем                 0      F   сотрудник     0   \n",
              "1       женат / замужем                 0      F   сотрудник     0   \n",
              "2       женат / замужем                 0      M   сотрудник     0   \n",
              "3       женат / замужем                 0      M   сотрудник     0   \n",
              "4      гражданский брак                 1      F   пенсионер     0   \n",
              "...                 ...               ...    ...         ...   ...   \n",
              "21520  гражданский брак                 1      F   компаньон     0   \n",
              "21521   женат / замужем                 0      F   пенсионер     0   \n",
              "21522  гражданский брак                 1      M   сотрудник     1   \n",
              "21523   женат / замужем                 0      M   сотрудник     1   \n",
              "21524   женат / замужем                 0      F   сотрудник     0   \n",
              "\n",
              "       total_income                       purpose  purpose_lemm  \n",
              "0            253875                 покупка жилья  недвижимость  \n",
              "1            112080       приобретение автомобиля    автомобиль  \n",
              "2            145885                 покупка жилья  недвижимость  \n",
              "3            267628    дополнительное образование   образование  \n",
              "4            158616               сыграть свадьбу       свадьба  \n",
              "...             ...                           ...           ...  \n",
              "21520        224791             операции с жильем  недвижимость  \n",
              "21521        155999          сделка с автомобилем    автомобиль  \n",
              "21522         89672                  недвижимость  недвижимость  \n",
              "21523        244093  на покупку своего автомобиля    автомобиль  \n",
              "21524         82047         на покупку автомобиля    автомобиль  \n",
              "\n",
              "[21369 rows x 13 columns]"
            ]
          },
          "metadata": {
            "tags": []
          },
          "execution_count": 25
        }
      ]
    },
    {
      "cell_type": "markdown",
      "metadata": {
        "id": "iZqnlAXiZTBP"
      },
      "source": [
        "### Вывод"
      ]
    },
    {
      "cell_type": "markdown",
      "metadata": {
        "id": "WAXH60ttZTBP"
      },
      "source": [
        "Мы получили список целей получения кредита: 'недвижимость','автомобиль', 'образование', 'свадьба'"
      ]
    },
    {
      "cell_type": "code",
      "metadata": {
        "id": "7gvr6Ak8ZTBP"
      },
      "source": [
        ""
      ],
      "execution_count": null,
      "outputs": []
    },
    {
      "cell_type": "markdown",
      "metadata": {
        "id": "0XlZha3fZTBP"
      },
      "source": [
        "## Категоризация данных"
      ]
    },
    {
      "cell_type": "markdown",
      "metadata": {
        "id": "ZM7gtwpqZTBP"
      },
      "source": [
        "- Выше мы получили категории целей кредита\n",
        "- Проверим на ошибки уже имеющиеся категории 'education'-'education_id' и 'family_status'-'family_status_id'"
      ]
    },
    {
      "cell_type": "code",
      "metadata": {
        "id": "mIkmGe-6ZTBP",
        "outputId": "0e2a28d3-8a37-49c1-f7c7-f1c1e9797017"
      },
      "source": [
        "credit.groupby(['education', 'education_id']).size().to_frame('count').reset_index()"
      ],
      "execution_count": null,
      "outputs": [
        {
          "output_type": "execute_result",
          "data": {
            "text/html": [
              "<div>\n",
              "<style scoped>\n",
              "    .dataframe tbody tr th:only-of-type {\n",
              "        vertical-align: middle;\n",
              "    }\n",
              "\n",
              "    .dataframe tbody tr th {\n",
              "        vertical-align: top;\n",
              "    }\n",
              "\n",
              "    .dataframe thead th {\n",
              "        text-align: right;\n",
              "    }\n",
              "</style>\n",
              "<table border=\"1\" class=\"dataframe\">\n",
              "  <thead>\n",
              "    <tr style=\"text-align: right;\">\n",
              "      <th></th>\n",
              "      <th>education</th>\n",
              "      <th>education_id</th>\n",
              "      <th>count</th>\n",
              "    </tr>\n",
              "  </thead>\n",
              "  <tbody>\n",
              "    <tr>\n",
              "      <td>0</td>\n",
              "      <td>высшее</td>\n",
              "      <td>0</td>\n",
              "      <td>5216</td>\n",
              "    </tr>\n",
              "    <tr>\n",
              "      <td>1</td>\n",
              "      <td>начальное</td>\n",
              "      <td>3</td>\n",
              "      <td>282</td>\n",
              "    </tr>\n",
              "    <tr>\n",
              "      <td>2</td>\n",
              "      <td>неоконченное высшее</td>\n",
              "      <td>2</td>\n",
              "      <td>741</td>\n",
              "    </tr>\n",
              "    <tr>\n",
              "      <td>3</td>\n",
              "      <td>среднее</td>\n",
              "      <td>1</td>\n",
              "      <td>15124</td>\n",
              "    </tr>\n",
              "    <tr>\n",
              "      <td>4</td>\n",
              "      <td>ученая степень</td>\n",
              "      <td>4</td>\n",
              "      <td>6</td>\n",
              "    </tr>\n",
              "  </tbody>\n",
              "</table>\n",
              "</div>"
            ],
            "text/plain": [
              "             education  education_id  count\n",
              "0               высшее             0   5216\n",
              "1            начальное             3    282\n",
              "2  неоконченное высшее             2    741\n",
              "3              среднее             1  15124\n",
              "4       ученая степень             4      6"
            ]
          },
          "metadata": {
            "tags": []
          },
          "execution_count": 26
        }
      ]
    },
    {
      "cell_type": "code",
      "metadata": {
        "id": "ZtpluvbFZTBP",
        "outputId": "fbb973b2-8505-4bb6-e71d-826302af2711"
      },
      "source": [
        "credit.groupby(['family_status', 'family_status_id']).size().to_frame('count').reset_index()"
      ],
      "execution_count": null,
      "outputs": [
        {
          "output_type": "execute_result",
          "data": {
            "text/html": [
              "<div>\n",
              "<style scoped>\n",
              "    .dataframe tbody tr th:only-of-type {\n",
              "        vertical-align: middle;\n",
              "    }\n",
              "\n",
              "    .dataframe tbody tr th {\n",
              "        vertical-align: top;\n",
              "    }\n",
              "\n",
              "    .dataframe thead th {\n",
              "        text-align: right;\n",
              "    }\n",
              "</style>\n",
              "<table border=\"1\" class=\"dataframe\">\n",
              "  <thead>\n",
              "    <tr style=\"text-align: right;\">\n",
              "      <th></th>\n",
              "      <th>family_status</th>\n",
              "      <th>family_status_id</th>\n",
              "      <th>count</th>\n",
              "    </tr>\n",
              "  </thead>\n",
              "  <tbody>\n",
              "    <tr>\n",
              "      <td>0</td>\n",
              "      <td>Не женат / не замужем</td>\n",
              "      <td>4</td>\n",
              "      <td>2794</td>\n",
              "    </tr>\n",
              "    <tr>\n",
              "      <td>1</td>\n",
              "      <td>в разводе</td>\n",
              "      <td>3</td>\n",
              "      <td>1185</td>\n",
              "    </tr>\n",
              "    <tr>\n",
              "      <td>2</td>\n",
              "      <td>вдовец / вдова</td>\n",
              "      <td>2</td>\n",
              "      <td>954</td>\n",
              "    </tr>\n",
              "    <tr>\n",
              "      <td>3</td>\n",
              "      <td>гражданский брак</td>\n",
              "      <td>1</td>\n",
              "      <td>4141</td>\n",
              "    </tr>\n",
              "    <tr>\n",
              "      <td>4</td>\n",
              "      <td>женат / замужем</td>\n",
              "      <td>0</td>\n",
              "      <td>12295</td>\n",
              "    </tr>\n",
              "  </tbody>\n",
              "</table>\n",
              "</div>"
            ],
            "text/plain": [
              "           family_status  family_status_id  count\n",
              "0  Не женат / не замужем                 4   2794\n",
              "1              в разводе                 3   1185\n",
              "2         вдовец / вдова                 2    954\n",
              "3       гражданский брак                 1   4141\n",
              "4        женат / замужем                 0  12295"
            ]
          },
          "metadata": {
            "tags": []
          },
          "execution_count": 27
        }
      ]
    },
    {
      "cell_type": "markdown",
      "metadata": {
        "id": "aNxIphAUZTBQ"
      },
      "source": [
        "Разобьем на уровни дохода `total_income` Для этого воспользуемся квантилями 25%, 50% и 75%.\n"
      ]
    },
    {
      "cell_type": "code",
      "metadata": {
        "id": "OofP_ffbZTBQ",
        "outputId": "df563a5a-8546-45e5-c7ca-885aaf877df0"
      },
      "source": [
        "quan_total_income = credit['total_income'].describe()\n",
        "quan_total_income"
      ],
      "execution_count": null,
      "outputs": [
        {
          "output_type": "execute_result",
          "data": {
            "text/plain": [
              "count    2.136900e+04\n",
              "mean     1.509273e+05\n",
              "std      1.098811e+05\n",
              "min     -1.000000e+00\n",
              "25%      8.895100e+04\n",
              "50%      1.357180e+05\n",
              "75%      1.957370e+05\n",
              "max      2.265604e+06\n",
              "Name: total_income, dtype: float64"
            ]
          },
          "metadata": {
            "tags": []
          },
          "execution_count": 28
        }
      ]
    },
    {
      "cell_type": "markdown",
      "metadata": {
        "id": "CAcCTn2DZTBQ"
      },
      "source": [
        "Создадим функцию для присваивания номера определенной  долли по возрастанию дохода"
      ]
    },
    {
      "cell_type": "code",
      "metadata": {
        "scrolled": false,
        "id": "pe3sKRTcZTBQ",
        "outputId": "c3936a25-eaf1-4552-cf18-f362d3734f2c"
      },
      "source": [
        "def income_group_fun(row): \n",
        "    if row <= quan_total_income[4]:\n",
        "        return 1\n",
        "    elif quan_total_income[4] < row <= quan_total_income[5]: \n",
        "        return 2\n",
        "    elif quan_total_income[5] < row <= quan_total_income[6]: \n",
        "        return 3\n",
        "    else:\n",
        "        return 4\n",
        "\n",
        "\n",
        "credit['income_group'] = credit['total_income'].apply(income_group_fun) \n",
        "credit #проверю правильность работы функции"
      ],
      "execution_count": null,
      "outputs": [
        {
          "output_type": "execute_result",
          "data": {
            "text/html": [
              "<div>\n",
              "<style scoped>\n",
              "    .dataframe tbody tr th:only-of-type {\n",
              "        vertical-align: middle;\n",
              "    }\n",
              "\n",
              "    .dataframe tbody tr th {\n",
              "        vertical-align: top;\n",
              "    }\n",
              "\n",
              "    .dataframe thead th {\n",
              "        text-align: right;\n",
              "    }\n",
              "</style>\n",
              "<table border=\"1\" class=\"dataframe\">\n",
              "  <thead>\n",
              "    <tr style=\"text-align: right;\">\n",
              "      <th></th>\n",
              "      <th>children</th>\n",
              "      <th>days_employed</th>\n",
              "      <th>dob_years</th>\n",
              "      <th>education</th>\n",
              "      <th>education_id</th>\n",
              "      <th>family_status</th>\n",
              "      <th>family_status_id</th>\n",
              "      <th>gender</th>\n",
              "      <th>income_type</th>\n",
              "      <th>debt</th>\n",
              "      <th>total_income</th>\n",
              "      <th>purpose</th>\n",
              "      <th>purpose_lemm</th>\n",
              "      <th>income_group</th>\n",
              "    </tr>\n",
              "  </thead>\n",
              "  <tbody>\n",
              "    <tr>\n",
              "      <td>0</td>\n",
              "      <td>1</td>\n",
              "      <td>8437</td>\n",
              "      <td>42</td>\n",
              "      <td>высшее</td>\n",
              "      <td>0</td>\n",
              "      <td>женат / замужем</td>\n",
              "      <td>0</td>\n",
              "      <td>F</td>\n",
              "      <td>сотрудник</td>\n",
              "      <td>0</td>\n",
              "      <td>253875</td>\n",
              "      <td>покупка жилья</td>\n",
              "      <td>недвижимость</td>\n",
              "      <td>4</td>\n",
              "    </tr>\n",
              "    <tr>\n",
              "      <td>1</td>\n",
              "      <td>1</td>\n",
              "      <td>4024</td>\n",
              "      <td>36</td>\n",
              "      <td>среднее</td>\n",
              "      <td>1</td>\n",
              "      <td>женат / замужем</td>\n",
              "      <td>0</td>\n",
              "      <td>F</td>\n",
              "      <td>сотрудник</td>\n",
              "      <td>0</td>\n",
              "      <td>112080</td>\n",
              "      <td>приобретение автомобиля</td>\n",
              "      <td>автомобиль</td>\n",
              "      <td>2</td>\n",
              "    </tr>\n",
              "    <tr>\n",
              "      <td>2</td>\n",
              "      <td>0</td>\n",
              "      <td>5623</td>\n",
              "      <td>33</td>\n",
              "      <td>среднее</td>\n",
              "      <td>1</td>\n",
              "      <td>женат / замужем</td>\n",
              "      <td>0</td>\n",
              "      <td>M</td>\n",
              "      <td>сотрудник</td>\n",
              "      <td>0</td>\n",
              "      <td>145885</td>\n",
              "      <td>покупка жилья</td>\n",
              "      <td>недвижимость</td>\n",
              "      <td>3</td>\n",
              "    </tr>\n",
              "    <tr>\n",
              "      <td>3</td>\n",
              "      <td>3</td>\n",
              "      <td>4124</td>\n",
              "      <td>32</td>\n",
              "      <td>среднее</td>\n",
              "      <td>1</td>\n",
              "      <td>женат / замужем</td>\n",
              "      <td>0</td>\n",
              "      <td>M</td>\n",
              "      <td>сотрудник</td>\n",
              "      <td>0</td>\n",
              "      <td>267628</td>\n",
              "      <td>дополнительное образование</td>\n",
              "      <td>образование</td>\n",
              "      <td>4</td>\n",
              "    </tr>\n",
              "    <tr>\n",
              "      <td>4</td>\n",
              "      <td>0</td>\n",
              "      <td>3650</td>\n",
              "      <td>53</td>\n",
              "      <td>среднее</td>\n",
              "      <td>1</td>\n",
              "      <td>гражданский брак</td>\n",
              "      <td>1</td>\n",
              "      <td>F</td>\n",
              "      <td>пенсионер</td>\n",
              "      <td>0</td>\n",
              "      <td>158616</td>\n",
              "      <td>сыграть свадьбу</td>\n",
              "      <td>свадьба</td>\n",
              "      <td>3</td>\n",
              "    </tr>\n",
              "    <tr>\n",
              "      <td>...</td>\n",
              "      <td>...</td>\n",
              "      <td>...</td>\n",
              "      <td>...</td>\n",
              "      <td>...</td>\n",
              "      <td>...</td>\n",
              "      <td>...</td>\n",
              "      <td>...</td>\n",
              "      <td>...</td>\n",
              "      <td>...</td>\n",
              "      <td>...</td>\n",
              "      <td>...</td>\n",
              "      <td>...</td>\n",
              "      <td>...</td>\n",
              "      <td>...</td>\n",
              "    </tr>\n",
              "    <tr>\n",
              "      <td>21520</td>\n",
              "      <td>1</td>\n",
              "      <td>4529</td>\n",
              "      <td>43</td>\n",
              "      <td>среднее</td>\n",
              "      <td>1</td>\n",
              "      <td>гражданский брак</td>\n",
              "      <td>1</td>\n",
              "      <td>F</td>\n",
              "      <td>компаньон</td>\n",
              "      <td>0</td>\n",
              "      <td>224791</td>\n",
              "      <td>операции с жильем</td>\n",
              "      <td>недвижимость</td>\n",
              "      <td>4</td>\n",
              "    </tr>\n",
              "    <tr>\n",
              "      <td>21521</td>\n",
              "      <td>0</td>\n",
              "      <td>18615</td>\n",
              "      <td>67</td>\n",
              "      <td>среднее</td>\n",
              "      <td>1</td>\n",
              "      <td>женат / замужем</td>\n",
              "      <td>0</td>\n",
              "      <td>F</td>\n",
              "      <td>пенсионер</td>\n",
              "      <td>0</td>\n",
              "      <td>155999</td>\n",
              "      <td>сделка с автомобилем</td>\n",
              "      <td>автомобиль</td>\n",
              "      <td>3</td>\n",
              "    </tr>\n",
              "    <tr>\n",
              "      <td>21522</td>\n",
              "      <td>1</td>\n",
              "      <td>2113</td>\n",
              "      <td>38</td>\n",
              "      <td>среднее</td>\n",
              "      <td>1</td>\n",
              "      <td>гражданский брак</td>\n",
              "      <td>1</td>\n",
              "      <td>M</td>\n",
              "      <td>сотрудник</td>\n",
              "      <td>1</td>\n",
              "      <td>89672</td>\n",
              "      <td>недвижимость</td>\n",
              "      <td>недвижимость</td>\n",
              "      <td>2</td>\n",
              "    </tr>\n",
              "    <tr>\n",
              "      <td>21523</td>\n",
              "      <td>3</td>\n",
              "      <td>3112</td>\n",
              "      <td>38</td>\n",
              "      <td>среднее</td>\n",
              "      <td>1</td>\n",
              "      <td>женат / замужем</td>\n",
              "      <td>0</td>\n",
              "      <td>M</td>\n",
              "      <td>сотрудник</td>\n",
              "      <td>1</td>\n",
              "      <td>244093</td>\n",
              "      <td>на покупку своего автомобиля</td>\n",
              "      <td>автомобиль</td>\n",
              "      <td>4</td>\n",
              "    </tr>\n",
              "    <tr>\n",
              "      <td>21524</td>\n",
              "      <td>2</td>\n",
              "      <td>1984</td>\n",
              "      <td>40</td>\n",
              "      <td>среднее</td>\n",
              "      <td>1</td>\n",
              "      <td>женат / замужем</td>\n",
              "      <td>0</td>\n",
              "      <td>F</td>\n",
              "      <td>сотрудник</td>\n",
              "      <td>0</td>\n",
              "      <td>82047</td>\n",
              "      <td>на покупку автомобиля</td>\n",
              "      <td>автомобиль</td>\n",
              "      <td>1</td>\n",
              "    </tr>\n",
              "  </tbody>\n",
              "</table>\n",
              "<p>21369 rows × 14 columns</p>\n",
              "</div>"
            ],
            "text/plain": [
              "       children  days_employed  dob_years education  education_id  \\\n",
              "0             1           8437         42    высшее             0   \n",
              "1             1           4024         36   среднее             1   \n",
              "2             0           5623         33   среднее             1   \n",
              "3             3           4124         32   среднее             1   \n",
              "4             0           3650         53   среднее             1   \n",
              "...         ...            ...        ...       ...           ...   \n",
              "21520         1           4529         43   среднее             1   \n",
              "21521         0          18615         67   среднее             1   \n",
              "21522         1           2113         38   среднее             1   \n",
              "21523         3           3112         38   среднее             1   \n",
              "21524         2           1984         40   среднее             1   \n",
              "\n",
              "          family_status  family_status_id gender income_type  debt  \\\n",
              "0       женат / замужем                 0      F   сотрудник     0   \n",
              "1       женат / замужем                 0      F   сотрудник     0   \n",
              "2       женат / замужем                 0      M   сотрудник     0   \n",
              "3       женат / замужем                 0      M   сотрудник     0   \n",
              "4      гражданский брак                 1      F   пенсионер     0   \n",
              "...                 ...               ...    ...         ...   ...   \n",
              "21520  гражданский брак                 1      F   компаньон     0   \n",
              "21521   женат / замужем                 0      F   пенсионер     0   \n",
              "21522  гражданский брак                 1      M   сотрудник     1   \n",
              "21523   женат / замужем                 0      M   сотрудник     1   \n",
              "21524   женат / замужем                 0      F   сотрудник     0   \n",
              "\n",
              "       total_income                       purpose  purpose_lemm  income_group  \n",
              "0            253875                 покупка жилья  недвижимость             4  \n",
              "1            112080       приобретение автомобиля    автомобиль             2  \n",
              "2            145885                 покупка жилья  недвижимость             3  \n",
              "3            267628    дополнительное образование   образование             4  \n",
              "4            158616               сыграть свадьбу       свадьба             3  \n",
              "...             ...                           ...           ...           ...  \n",
              "21520        224791             операции с жильем  недвижимость             4  \n",
              "21521        155999          сделка с автомобилем    автомобиль             3  \n",
              "21522         89672                  недвижимость  недвижимость             2  \n",
              "21523        244093  на покупку своего автомобиля    автомобиль             4  \n",
              "21524         82047         на покупку автомобиля    автомобиль             1  \n",
              "\n",
              "[21369 rows x 14 columns]"
            ]
          },
          "metadata": {
            "tags": []
          },
          "execution_count": 29
        }
      ]
    },
    {
      "cell_type": "code",
      "metadata": {
        "id": "rLod3r59ZTBQ",
        "outputId": "1adb8b80-3efc-49c4-bbba-7aa57c2ab9de"
      },
      "source": [
        "credit['income_group'].value_counts() # проверяю равность групп по колличеству людей\n"
      ],
      "execution_count": null,
      "outputs": [
        {
          "output_type": "execute_result",
          "data": {
            "text/plain": [
              "1    5343\n",
              "4    5342\n",
              "3    5342\n",
              "2    5342\n",
              "Name: income_group, dtype: int64"
            ]
          },
          "metadata": {
            "tags": []
          },
          "execution_count": 30
        }
      ]
    },
    {
      "cell_type": "markdown",
      "metadata": {
        "id": "I0c2w-znZTBQ"
      },
      "source": [
        "- 1 Доход 5364 человек меньше или равен 107,6 тыс. рублей  зарабатывают меньше 75% всей выборки\n",
        "- 2 доход 5479 человек находится в диапазоне от 107,6 до 142,6 тыс. рублей или больше 25% всей выборки\n",
        "- 3 доход 5247 человек находится в диапазоне от 142,6 до 195,8 тыс. рублей  или больше 50% всей выборки\n",
        "- 4 доход, 5364 человек зарабатывают больше 195,8 тыс. рублей или больше 75% всей выборки"
      ]
    },
    {
      "cell_type": "markdown",
      "metadata": {
        "id": "boVzL9caZTBR"
      },
      "source": [
        "### Вывод"
      ]
    },
    {
      "cell_type": "markdown",
      "metadata": {
        "id": "wmsSlzxPZTBR"
      },
      "source": [
        "При категоризации необходимо самостоятельно принимать решения по разбивке по категориям, исходя из доступных данных или просто разделяя на равные доли."
      ]
    },
    {
      "cell_type": "markdown",
      "metadata": {
        "id": "pHDxM7dMZTBR"
      },
      "source": [
        "### Шаг 3. Ответьте на вопросы"
      ]
    },
    {
      "cell_type": "markdown",
      "metadata": {
        "id": "KbQ8_XecZTBR"
      },
      "source": [
        "- Есть ли зависимость между наличием детей и возвратом кредита в срок?"
      ]
    },
    {
      "cell_type": "code",
      "metadata": {
        "id": "l3cSZVdxZTBR",
        "outputId": "89c59ad1-eec7-45d3-9d86-a41b5800adb9"
      },
      "source": [
        "print(credit['children'].value_counts())#выведу перед глазами распространенность количества детей, для удобства выводов\n",
        "\n",
        "credit.groupby('income_group')['debt'].mean().to_frame().sort_values(by='debt') #отношение колличества детей с долей задолженности\n"
      ],
      "execution_count": null,
      "outputs": [
        {
          "output_type": "stream",
          "text": [
            "0    14037\n",
            "1     4840\n",
            "2     2114\n",
            "3      328\n",
            "4       41\n",
            "5        9\n",
            "Name: children, dtype: int64\n"
          ],
          "name": "stdout"
        },
        {
          "output_type": "execute_result",
          "data": {
            "text/html": [
              "<div>\n",
              "<style scoped>\n",
              "    .dataframe tbody tr th:only-of-type {\n",
              "        vertical-align: middle;\n",
              "    }\n",
              "\n",
              "    .dataframe tbody tr th {\n",
              "        vertical-align: top;\n",
              "    }\n",
              "\n",
              "    .dataframe thead th {\n",
              "        text-align: right;\n",
              "    }\n",
              "</style>\n",
              "<table border=\"1\" class=\"dataframe\">\n",
              "  <thead>\n",
              "    <tr style=\"text-align: right;\">\n",
              "      <th></th>\n",
              "      <th>debt</th>\n",
              "    </tr>\n",
              "    <tr>\n",
              "      <th>income_group</th>\n",
              "      <th></th>\n",
              "    </tr>\n",
              "  </thead>\n",
              "  <tbody>\n",
              "    <tr>\n",
              "      <td>4</td>\n",
              "      <td>0.071696</td>\n",
              "    </tr>\n",
              "    <tr>\n",
              "      <td>1</td>\n",
              "      <td>0.078420</td>\n",
              "    </tr>\n",
              "    <tr>\n",
              "      <td>2</td>\n",
              "      <td>0.084613</td>\n",
              "    </tr>\n",
              "    <tr>\n",
              "      <td>3</td>\n",
              "      <td>0.089667</td>\n",
              "    </tr>\n",
              "  </tbody>\n",
              "</table>\n",
              "</div>"
            ],
            "text/plain": [
              "                  debt\n",
              "income_group          \n",
              "4             0.071696\n",
              "1             0.078420\n",
              "2             0.084613\n",
              "3             0.089667"
            ]
          },
          "metadata": {
            "tags": []
          },
          "execution_count": 31
        }
      ]
    },
    {
      "cell_type": "markdown",
      "metadata": {
        "id": "IOxw1q_MZTBR"
      },
      "source": [
        "### Вывод"
      ]
    },
    {
      "cell_type": "markdown",
      "metadata": {
        "id": "vEmr3E87ZTBR"
      },
      "source": [
        "Как видно из простой группировки можно проследить зависимость не возврата долга от количества детей.  Судя по имеющимся данным, наличие детей увеличивает вероятность задолженности по сравнению с отсутствием детей у клиента. Идет прямое возрастание до 4‑х детей. Заемщики с 5 детьми не имеют просрочек. Но в данном дата фрейме выборка представлена малым количеством.\n",
        "Возможно задержка по кредитам - это следствие возрастающей финансовой нагрузкой с количеством детей."
      ]
    },
    {
      "cell_type": "markdown",
      "metadata": {
        "id": "YBOuNWvHZTBR"
      },
      "source": [
        "- Есть ли зависимость между семейным положением и возвратом кредита в срок?"
      ]
    },
    {
      "cell_type": "code",
      "metadata": {
        "id": "4Z_2xJlxZTBR",
        "outputId": "7e1c4357-495a-45d2-c2be-858b69461ff2"
      },
      "source": [
        "print(credit['family_status'].value_counts()) #выведу перед глазами распространенность частоты семейных статусов\n",
        "credit.groupby('family_status')['debt'].mean().to_frame().sort_values(by='debt') #отношение семейного статуса с долей задолженности"
      ],
      "execution_count": null,
      "outputs": [
        {
          "output_type": "stream",
          "text": [
            "женат / замужем          12295\n",
            "гражданский брак          4141\n",
            "Не женат / не замужем     2794\n",
            "в разводе                 1185\n",
            "вдовец / вдова             954\n",
            "Name: family_status, dtype: int64\n"
          ],
          "name": "stdout"
        },
        {
          "output_type": "execute_result",
          "data": {
            "text/html": [
              "<div>\n",
              "<style scoped>\n",
              "    .dataframe tbody tr th:only-of-type {\n",
              "        vertical-align: middle;\n",
              "    }\n",
              "\n",
              "    .dataframe tbody tr th {\n",
              "        vertical-align: top;\n",
              "    }\n",
              "\n",
              "    .dataframe thead th {\n",
              "        text-align: right;\n",
              "    }\n",
              "</style>\n",
              "<table border=\"1\" class=\"dataframe\">\n",
              "  <thead>\n",
              "    <tr style=\"text-align: right;\">\n",
              "      <th></th>\n",
              "      <th>debt</th>\n",
              "    </tr>\n",
              "    <tr>\n",
              "      <th>family_status</th>\n",
              "      <th></th>\n",
              "    </tr>\n",
              "  </thead>\n",
              "  <tbody>\n",
              "    <tr>\n",
              "      <td>вдовец / вдова</td>\n",
              "      <td>0.064990</td>\n",
              "    </tr>\n",
              "    <tr>\n",
              "      <td>в разводе</td>\n",
              "      <td>0.071730</td>\n",
              "    </tr>\n",
              "    <tr>\n",
              "      <td>женат / замужем</td>\n",
              "      <td>0.075397</td>\n",
              "    </tr>\n",
              "    <tr>\n",
              "      <td>гражданский брак</td>\n",
              "      <td>0.093214</td>\n",
              "    </tr>\n",
              "    <tr>\n",
              "      <td>Не женат / не замужем</td>\n",
              "      <td>0.097709</td>\n",
              "    </tr>\n",
              "  </tbody>\n",
              "</table>\n",
              "</div>"
            ],
            "text/plain": [
              "                           debt\n",
              "family_status                  \n",
              "вдовец / вдова         0.064990\n",
              "в разводе              0.071730\n",
              "женат / замужем        0.075397\n",
              "гражданский брак       0.093214\n",
              "Не женат / не замужем  0.097709"
            ]
          },
          "metadata": {
            "tags": []
          },
          "execution_count": 32
        }
      ]
    },
    {
      "cell_type": "markdown",
      "metadata": {
        "id": "3weAfLauZTBS"
      },
      "source": [
        "### Вывод"
      ]
    },
    {
      "cell_type": "markdown",
      "metadata": {
        "id": "dE5ETpEsZTBS"
      },
      "source": [
        "Как мы видим люди состоящие или состоявшие в официально зарегистрированном браке более дисциплинированны, чем люди не состоящие в браке или по каким либо причинам не вступающие в него. Соответственно документ о наличии супруга может быть положительно оценен при выдаче кредита."
      ]
    },
    {
      "cell_type": "markdown",
      "metadata": {
        "id": "J9ILG_HdZTBS"
      },
      "source": [
        "- Есть ли зависимость между уровнем дохода и возвратом кредита в срок?"
      ]
    },
    {
      "cell_type": "code",
      "metadata": {
        "id": "b4KhPD9MZTBS",
        "outputId": "df051b97-3786-4210-cfea-1bff862032c7"
      },
      "source": [
        "credit.groupby('income_group')['debt'].mean().to_frame().sort_values(by='debt') #отношение финансовой группы с долей задолженности"
      ],
      "execution_count": null,
      "outputs": [
        {
          "output_type": "execute_result",
          "data": {
            "text/html": [
              "<div>\n",
              "<style scoped>\n",
              "    .dataframe tbody tr th:only-of-type {\n",
              "        vertical-align: middle;\n",
              "    }\n",
              "\n",
              "    .dataframe tbody tr th {\n",
              "        vertical-align: top;\n",
              "    }\n",
              "\n",
              "    .dataframe thead th {\n",
              "        text-align: right;\n",
              "    }\n",
              "</style>\n",
              "<table border=\"1\" class=\"dataframe\">\n",
              "  <thead>\n",
              "    <tr style=\"text-align: right;\">\n",
              "      <th></th>\n",
              "      <th>debt</th>\n",
              "    </tr>\n",
              "    <tr>\n",
              "      <th>income_group</th>\n",
              "      <th></th>\n",
              "    </tr>\n",
              "  </thead>\n",
              "  <tbody>\n",
              "    <tr>\n",
              "      <td>4</td>\n",
              "      <td>0.071696</td>\n",
              "    </tr>\n",
              "    <tr>\n",
              "      <td>1</td>\n",
              "      <td>0.078420</td>\n",
              "    </tr>\n",
              "    <tr>\n",
              "      <td>2</td>\n",
              "      <td>0.084613</td>\n",
              "    </tr>\n",
              "    <tr>\n",
              "      <td>3</td>\n",
              "      <td>0.089667</td>\n",
              "    </tr>\n",
              "  </tbody>\n",
              "</table>\n",
              "</div>"
            ],
            "text/plain": [
              "                  debt\n",
              "income_group          \n",
              "4             0.071696\n",
              "1             0.078420\n",
              "2             0.084613\n",
              "3             0.089667"
            ]
          },
          "metadata": {
            "tags": []
          },
          "execution_count": 33
        }
      ]
    },
    {
      "cell_type": "markdown",
      "metadata": {
        "id": "k5OLD3I2ZTBS"
      },
      "source": [
        "### Вывод"
      ]
    },
    {
      "cell_type": "markdown",
      "metadata": {
        "id": "PU78Q9pUZTBS"
      },
      "source": [
        "Клиент зарабатывает больше, чем 75% других клиентов из выборки, он с наименьшей вероятностью окажется в должниках. Но в целом частота задолженности растет вместе с размером заработной платы. Предполагаю, что такая закономерность, в следствии завышения людьми показателей реальной заработной платы для получения более крупных кредитов, впоследствии они чаще сталкиваются с проблемами выплаты более крупных сум. "
      ]
    },
    {
      "cell_type": "markdown",
      "metadata": {
        "id": "Ygjcmfa0ZTBS"
      },
      "source": [
        "- Как разные цели кредита влияют на его возврат в срок?"
      ]
    },
    {
      "cell_type": "code",
      "metadata": {
        "id": "UUXCJIorZTBS",
        "outputId": "2dbba78e-ff05-47ab-cb9e-9eafec879d06"
      },
      "source": [
        "credit.groupby('purpose_lemm')['debt'].mean().to_frame().sort_values(by='debt')\n"
      ],
      "execution_count": null,
      "outputs": [
        {
          "output_type": "execute_result",
          "data": {
            "text/html": [
              "<div>\n",
              "<style scoped>\n",
              "    .dataframe tbody tr th:only-of-type {\n",
              "        vertical-align: middle;\n",
              "    }\n",
              "\n",
              "    .dataframe tbody tr th {\n",
              "        vertical-align: top;\n",
              "    }\n",
              "\n",
              "    .dataframe thead th {\n",
              "        text-align: right;\n",
              "    }\n",
              "</style>\n",
              "<table border=\"1\" class=\"dataframe\">\n",
              "  <thead>\n",
              "    <tr style=\"text-align: right;\">\n",
              "      <th></th>\n",
              "      <th>debt</th>\n",
              "    </tr>\n",
              "    <tr>\n",
              "      <th>purpose_lemm</th>\n",
              "      <th></th>\n",
              "    </tr>\n",
              "  </thead>\n",
              "  <tbody>\n",
              "    <tr>\n",
              "      <td>недвижимость</td>\n",
              "      <td>0.072357</td>\n",
              "    </tr>\n",
              "    <tr>\n",
              "      <td>свадьба</td>\n",
              "      <td>0.079276</td>\n",
              "    </tr>\n",
              "    <tr>\n",
              "      <td>образование</td>\n",
              "      <td>0.092593</td>\n",
              "    </tr>\n",
              "    <tr>\n",
              "      <td>автомобиль</td>\n",
              "      <td>0.093327</td>\n",
              "    </tr>\n",
              "  </tbody>\n",
              "</table>\n",
              "</div>"
            ],
            "text/plain": [
              "                  debt\n",
              "purpose_lemm          \n",
              "недвижимость  0.072357\n",
              "свадьба       0.079276\n",
              "образование   0.092593\n",
              "автомобиль    0.093327"
            ]
          },
          "metadata": {
            "tags": []
          },
          "execution_count": 34
        }
      ]
    },
    {
      "cell_type": "markdown",
      "metadata": {
        "id": "xoTJx03xZTBS"
      },
      "source": [
        "Получаем колличество заемщиков по каждой категории"
      ]
    },
    {
      "cell_type": "code",
      "metadata": {
        "id": "cMjOX8X6ZTBT"
      },
      "source": [
        "all_borrower = credit.pivot_table(index=['purpose_lemm'], values='debt', aggfunc='count')"
      ],
      "execution_count": null,
      "outputs": []
    },
    {
      "cell_type": "markdown",
      "metadata": {
        "id": "JqDSaFZzZTBT"
      },
      "source": [
        "Получаем колличество должников по каждой категории"
      ]
    },
    {
      "cell_type": "code",
      "metadata": {
        "id": "5a3-thwnZTBT"
      },
      "source": [
        "dept = credit.pivot_table(index=['purpose_lemm'], values='debt', aggfunc='sum')"
      ],
      "execution_count": null,
      "outputs": []
    },
    {
      "cell_type": "markdown",
      "metadata": {
        "id": "ScY2OyAeZTBT"
      },
      "source": [
        "Получаем процент должников по каждой категории"
      ]
    },
    {
      "cell_type": "code",
      "metadata": {
        "id": "88f273ZZZTBT",
        "outputId": "ac1078cb-468f-41d4-cc11-632237e87780"
      },
      "source": [
        "procent_debt = round(dept / all_borrower * 100, 2)\n",
        "print(procent_debt.sort_values(by = 'debt', ascending = True))"
      ],
      "execution_count": null,
      "outputs": [
        {
          "output_type": "stream",
          "text": [
            "              debt\n",
            "purpose_lemm      \n",
            "недвижимость  7.24\n",
            "свадьба       7.93\n",
            "образование   9.26\n",
            "автомобиль    9.33\n"
          ],
          "name": "stdout"
        }
      ]
    },
    {
      "cell_type": "markdown",
      "metadata": {
        "id": "0OtBzM-JZTBT"
      },
      "source": [
        "### Вывод"
      ]
    },
    {
      "cell_type": "markdown",
      "metadata": {
        "id": "-s04YdH_ZTBT"
      },
      "source": [
        "Самая низкая вероятность задолженности у людей берущих кредиты на недвижимость. Я думаю это связанно  с риском потери недвижимости при невыплатах кредита. Далее идут кредиты на свадьбу, как мы уже выяснили люди состоящие в браке в целом чаще выплачивают кредиты. А автомобиль является более рискованной покупкой связанной с его эксплуатацией, за счет маркетинга и статусности в глазах общественности, покупка автомобиля более импульсивное решение."
      ]
    },
    {
      "cell_type": "markdown",
      "metadata": {
        "id": "-wxbLHSRZTBT"
      },
      "source": [
        "### Шаг 4. Общий вывод"
      ]
    },
    {
      "cell_type": "markdown",
      "metadata": {
        "id": "re3-0UyDZTBU"
      },
      "source": [
        "Идеальный заемщик кредита это: состоящий в браке, без детей, зарабатывает больше 196 тыс. рублей в месяц, приобретатель недвижимости.\n",
        "1. Наличие и количество детей повышает риск невыплат по кредиту\n",
        "2. Люди официально состоящие в браке более ответственны\n",
        "3. Люди с доходом выше среднего являются более безопасными клиентами, но необходимо тщательно проверять достоверность представленных документов.\n",
        "4. Кредиты на недвижимость являются наиболее взвешенными, а покупка автомобилей наиболее импульсивными покупками."
      ]
    },
    {
      "cell_type": "code",
      "metadata": {
        "id": "u7ZnoAVTZTBU"
      },
      "source": [
        ""
      ],
      "execution_count": null,
      "outputs": []
    }
  ]
}