{
  "nbformat": 4,
  "nbformat_minor": 0,
  "metadata": {
    "kernelspec": {
      "display_name": "Python 3",
      "language": "python",
      "name": "python3"
    },
    "language_info": {
      "codemirror_mode": {
        "name": "ipython",
        "version": 3
      },
      "file_extension": ".py",
      "mimetype": "text/x-python",
      "name": "python",
      "nbconvert_exporter": "python",
      "pygments_lexer": "ipython3",
      "version": "3.7.8"
    },
    "toc": {
      "base_numbering": 1,
      "nav_menu": {},
      "number_sections": true,
      "sideBar": true,
      "skip_h1_title": true,
      "title_cell": "Table of Contents",
      "title_sidebar": "Contents",
      "toc_cell": false,
      "toc_position": {},
      "toc_section_display": true,
      "toc_window_display": false
    },
    "colab": {
      "name": "cdd91e41-05f8-4d51-9f00-974a34bb447e.ipynb",
      "provenance": []
    }
  },
  "cells": [
    {
      "cell_type": "markdown",
      "metadata": {
        "id": "omHYac_XbWju"
      },
      "source": [
        "Как музыка, которая звучит по дороге на работу в понедельник утром, отличается от той, что играет в среду или в конце рабочей недели? Возьмите данные для Москвы и Петербурга. Сравните, что и в каком режиме слушают их жители."
      ]
    },
    {
      "cell_type": "markdown",
      "metadata": {
        "deletable": false,
        "id": "5UYxO1GdF6Wy",
        "tags": [
          "f6c88c58-a82b-4f28-8bd6-fd55c0017917"
        ]
      },
      "source": [
        "# Этап 1. Получение данных"
      ]
    },
    {
      "cell_type": "markdown",
      "metadata": {
        "deletable": false,
        "id": "iI4ITclJaFWh"
      },
      "source": [
        "Изучим данные, предоставленные сервисом для проекта."
      ]
    },
    {
      "cell_type": "markdown",
      "metadata": {
        "deletable": false,
        "id": "0skiEFxDZ0Tr"
      },
      "source": [
        "## Импорт библиотек"
      ]
    },
    {
      "cell_type": "code",
      "metadata": {
        "deletable": false,
        "id": "HirRov5vZ3MT"
      },
      "source": [
        "import pandas as pd "
      ],
      "execution_count": 1,
      "outputs": []
    },
    {
      "cell_type": "markdown",
      "metadata": {
        "deletable": false,
        "id": "Tr8dl3PWGFIk"
      },
      "source": [
        "Прочитаем файл *music_project.csv* и сохраним его в переменной *df*. "
      ]
    },
    {
      "cell_type": "code",
      "metadata": {
        "deletable": false,
        "id": "NB6j931yS4hy"
      },
      "source": [
        "df = pd.read_csv('/content/sample_data/music_project.csv')"
      ],
      "execution_count": 2,
      "outputs": []
    },
    {
      "cell_type": "markdown",
      "metadata": {
        "deletable": false,
        "id": "y2usmNMlDLbY",
        "tags": [
          "f3a2f13f-d110-4558-a520-4805b5bd1dfe"
        ]
      },
      "source": [
        "Получение первых 10 строк таблицы."
      ]
    },
    {
      "cell_type": "code",
      "metadata": {
        "colab": {
          "base_uri": "https://localhost:8080/",
          "height": 359
        },
        "deletable": false,
        "id": "DY5i8tgXVDGj",
        "outputId": "511bb916-160a-47a6-f4bf-cec264c55486"
      },
      "source": [
        "df.head(10)"
      ],
      "execution_count": 3,
      "outputs": [
        {
          "output_type": "execute_result",
          "data": {
            "text/html": [
              "<div>\n",
              "<style scoped>\n",
              "    .dataframe tbody tr th:only-of-type {\n",
              "        vertical-align: middle;\n",
              "    }\n",
              "\n",
              "    .dataframe tbody tr th {\n",
              "        vertical-align: top;\n",
              "    }\n",
              "\n",
              "    .dataframe thead th {\n",
              "        text-align: right;\n",
              "    }\n",
              "</style>\n",
              "<table border=\"1\" class=\"dataframe\">\n",
              "  <thead>\n",
              "    <tr style=\"text-align: right;\">\n",
              "      <th></th>\n",
              "      <th>userID</th>\n",
              "      <th>Track</th>\n",
              "      <th>artist</th>\n",
              "      <th>genre</th>\n",
              "      <th>City</th>\n",
              "      <th>time</th>\n",
              "      <th>Day</th>\n",
              "    </tr>\n",
              "  </thead>\n",
              "  <tbody>\n",
              "    <tr>\n",
              "      <th>0</th>\n",
              "      <td>FFB692EC</td>\n",
              "      <td>Kamigata To Boots</td>\n",
              "      <td>The Mass Missile</td>\n",
              "      <td>rock</td>\n",
              "      <td>Saint-Petersburg</td>\n",
              "      <td>20:28:33</td>\n",
              "      <td>Wednesday</td>\n",
              "    </tr>\n",
              "    <tr>\n",
              "      <th>1</th>\n",
              "      <td>55204538</td>\n",
              "      <td>Delayed Because of Accident</td>\n",
              "      <td>Andreas Rönnberg</td>\n",
              "      <td>rock</td>\n",
              "      <td>Moscow</td>\n",
              "      <td>14:07:09</td>\n",
              "      <td>Friday</td>\n",
              "    </tr>\n",
              "    <tr>\n",
              "      <th>2</th>\n",
              "      <td>20EC38</td>\n",
              "      <td>Funiculì funiculà</td>\n",
              "      <td>Mario Lanza</td>\n",
              "      <td>pop</td>\n",
              "      <td>Saint-Petersburg</td>\n",
              "      <td>20:58:07</td>\n",
              "      <td>Wednesday</td>\n",
              "    </tr>\n",
              "    <tr>\n",
              "      <th>3</th>\n",
              "      <td>A3DD03C9</td>\n",
              "      <td>Dragons in the Sunset</td>\n",
              "      <td>Fire + Ice</td>\n",
              "      <td>folk</td>\n",
              "      <td>Saint-Petersburg</td>\n",
              "      <td>08:37:09</td>\n",
              "      <td>Monday</td>\n",
              "    </tr>\n",
              "    <tr>\n",
              "      <th>4</th>\n",
              "      <td>E2DC1FAE</td>\n",
              "      <td>Soul People</td>\n",
              "      <td>Space Echo</td>\n",
              "      <td>dance</td>\n",
              "      <td>Moscow</td>\n",
              "      <td>08:34:34</td>\n",
              "      <td>Monday</td>\n",
              "    </tr>\n",
              "    <tr>\n",
              "      <th>5</th>\n",
              "      <td>842029A1</td>\n",
              "      <td>Преданная</td>\n",
              "      <td>IMPERVTOR</td>\n",
              "      <td>rusrap</td>\n",
              "      <td>Saint-Petersburg</td>\n",
              "      <td>13:09:41</td>\n",
              "      <td>Friday</td>\n",
              "    </tr>\n",
              "    <tr>\n",
              "      <th>6</th>\n",
              "      <td>4CB90AA5</td>\n",
              "      <td>True</td>\n",
              "      <td>Roman Messer</td>\n",
              "      <td>dance</td>\n",
              "      <td>Moscow</td>\n",
              "      <td>13:00:07</td>\n",
              "      <td>Wednesday</td>\n",
              "    </tr>\n",
              "    <tr>\n",
              "      <th>7</th>\n",
              "      <td>F03E1C1F</td>\n",
              "      <td>Feeling This Way</td>\n",
              "      <td>Polina Griffith</td>\n",
              "      <td>dance</td>\n",
              "      <td>Moscow</td>\n",
              "      <td>20:47:49</td>\n",
              "      <td>Wednesday</td>\n",
              "    </tr>\n",
              "    <tr>\n",
              "      <th>8</th>\n",
              "      <td>8FA1D3BE</td>\n",
              "      <td>И вновь продолжается бой</td>\n",
              "      <td>NaN</td>\n",
              "      <td>ruspop</td>\n",
              "      <td>Moscow</td>\n",
              "      <td>09:17:40</td>\n",
              "      <td>Friday</td>\n",
              "    </tr>\n",
              "    <tr>\n",
              "      <th>9</th>\n",
              "      <td>E772D5C0</td>\n",
              "      <td>Pessimist</td>\n",
              "      <td>NaN</td>\n",
              "      <td>dance</td>\n",
              "      <td>Saint-Petersburg</td>\n",
              "      <td>21:20:49</td>\n",
              "      <td>Wednesday</td>\n",
              "    </tr>\n",
              "  </tbody>\n",
              "</table>\n",
              "</div>"
            ],
            "text/plain": [
              "     userID                        Track  ...      time        Day\n",
              "0  FFB692EC            Kamigata To Boots  ...  20:28:33  Wednesday\n",
              "1  55204538  Delayed Because of Accident  ...  14:07:09     Friday\n",
              "2    20EC38            Funiculì funiculà  ...  20:58:07  Wednesday\n",
              "3  A3DD03C9        Dragons in the Sunset  ...  08:37:09     Monday\n",
              "4  E2DC1FAE                  Soul People  ...  08:34:34     Monday\n",
              "5  842029A1                    Преданная  ...  13:09:41     Friday\n",
              "6  4CB90AA5                         True  ...  13:00:07  Wednesday\n",
              "7  F03E1C1F             Feeling This Way  ...  20:47:49  Wednesday\n",
              "8  8FA1D3BE     И вновь продолжается бой  ...  09:17:40     Friday\n",
              "9  E772D5C0                    Pessimist  ...  21:20:49  Wednesday\n",
              "\n",
              "[10 rows x 7 columns]"
            ]
          },
          "metadata": {
            "tags": []
          },
          "execution_count": 3
        }
      ]
    },
    {
      "cell_type": "markdown",
      "metadata": {
        "deletable": false,
        "id": "FrIiRHuHIBbN",
        "tags": [
          "0210c096-9595-4600-b91d-42ab36a6c3f0"
        ]
      },
      "source": [
        "Общая информация о данных таблицы *df*.\n",
        "\n",
        "\n"
      ]
    },
    {
      "cell_type": "code",
      "metadata": {
        "colab": {
          "base_uri": "https://localhost:8080/"
        },
        "deletable": false,
        "id": "K7t8OdZsYN2y",
        "outputId": "339047f9-7fa6-41c8-ebcf-ccf643be58e5"
      },
      "source": [
        "df.info()"
      ],
      "execution_count": 4,
      "outputs": [
        {
          "output_type": "stream",
          "text": [
            "<class 'pandas.core.frame.DataFrame'>\n",
            "RangeIndex: 65079 entries, 0 to 65078\n",
            "Data columns (total 7 columns):\n",
            " #   Column    Non-Null Count  Dtype \n",
            "---  ------    --------------  ----- \n",
            " 0     userID  65079 non-null  object\n",
            " 1   Track     63848 non-null  object\n",
            " 2   artist    57876 non-null  object\n",
            " 3   genre     63881 non-null  object\n",
            " 4     City    65079 non-null  object\n",
            " 5   time      65079 non-null  object\n",
            " 6   Day       65079 non-null  object\n",
            "dtypes: object(7)\n",
            "memory usage: 3.5+ MB\n"
          ],
          "name": "stdout"
        }
      ]
    },
    {
      "cell_type": "markdown",
      "metadata": {
        "deletable": false,
        "id": "CnHv9HZCc7LN"
      },
      "source": [
        "Рассмотрим полученную информацию подробнее.\n",
        "\n",
        "Всего в таблице 7 столбцов, тип данных у каждого столбца - < напишите название типа данных >.\n",
        "\n",
        "Подробно разберём, какие в *df* столбцы и какую информацию они содержат:\n",
        "\n",
        "* userID — идентификатор пользователя;\n",
        "* Track — название трека;  \n",
        "* artist — имя исполнителя;\n",
        "* genre — название жанра;\n",
        "* City — город, в котором происходило прослушивание;\n",
        "* time — время, в которое пользователь слушал трек;\n",
        "* Day — день недели.\n",
        "\n",
        "Количество значений в столбцах различается. Это говорит о том, что в данных есть <введите определение> значения.\n",
        "\n"
      ]
    },
    {
      "cell_type": "markdown",
      "metadata": {
        "deletable": false,
        "id": "DCYFm5VrevuB"
      },
      "source": [
        "**Выводы**"
      ]
    },
    {
      "cell_type": "markdown",
      "metadata": {
        "deletable": false,
        "id": "PCEtjdmvezRm"
      },
      "source": [
        "Каждая строка таблицы содержит информацию о композициях определённого жанра в определённом исполнении, которые пользователи слушали в одном из городов в определённое время и день недели. Две проблемы, которые нужно решать: пропуски и некачественные названия столбцов. Для проверки рабочих гипотез особенно ценны столбцы *time*, *day* и *City*. Данные из столбца *genre* позволят узнать самые популярные жанры."
      ]
    },
    {
      "cell_type": "markdown",
      "metadata": {
        "deletable": false,
        "id": "ZYaC0bU-IZ0a",
        "tags": [
          "2c946931-9c91-4e15-baf8-43fb79bcb454"
        ]
      },
      "source": [
        "# Этап 2. Предобработка данных"
      ]
    },
    {
      "cell_type": "markdown",
      "metadata": {
        "deletable": false,
        "id": "Dl8grmTrPxZi"
      },
      "source": [
        "Исключим пропуски, переименуем столбцы, а также проверим данные на наличие дубликатов."
      ]
    },
    {
      "cell_type": "markdown",
      "metadata": {
        "deletable": false,
        "id": "6OIhlsG_IjI8"
      },
      "source": [
        "Получаем перечень названий столбцов. Какая наблюдается проблема — кроме тех, что уже были названы ранее?"
      ]
    },
    {
      "cell_type": "code",
      "metadata": {
        "colab": {
          "base_uri": "https://localhost:8080/"
        },
        "deletable": false,
        "id": "Tag65F_Uitsx",
        "outputId": "39e0dcd7-a890-40bb-8b72-6b70fe0120db"
      },
      "source": [
        "df.columns"
      ],
      "execution_count": 5,
      "outputs": [
        {
          "output_type": "execute_result",
          "data": {
            "text/plain": [
              "Index(['  userID', 'Track', 'artist', 'genre', '  City  ', 'time', 'Day'], dtype='object')"
            ]
          },
          "metadata": {
            "tags": []
          },
          "execution_count": 5
        }
      ]
    },
    {
      "cell_type": "markdown",
      "metadata": {
        "deletable": false,
        "id": "x6iJC-cEhnRL"
      },
      "source": [
        "В названиях столбцов есть пробелы, которые могут затруднять доступ к данным."
      ]
    },
    {
      "cell_type": "markdown",
      "metadata": {
        "deletable": false,
        "id": "BK6m6-DZhlTs",
        "tags": [
          "c2b469cf-2148-4115-8806-0fbb00a9d55d"
        ]
      },
      "source": [
        "Переименуем столбцы для удобства дальнейшей работы. Проверим результат.\n",
        "\n"
      ]
    },
    {
      "cell_type": "code",
      "metadata": {
        "deletable": false,
        "id": "XintVfCniw2-"
      },
      "source": [
        "df.set_axis(['user_id', 'track_name', 'artist_name', 'genre_name', 'city', 'time', 'weekday'], axis = 'columns', inplace = True)"
      ],
      "execution_count": 6,
      "outputs": []
    },
    {
      "cell_type": "code",
      "metadata": {
        "colab": {
          "base_uri": "https://localhost:8080/"
        },
        "deletable": false,
        "id": "ozQL91G4izdp",
        "outputId": "a1ed97c6-de80-47ed-e4f2-b040346093d0"
      },
      "source": [
        "df.columns"
      ],
      "execution_count": 7,
      "outputs": [
        {
          "output_type": "execute_result",
          "data": {
            "text/plain": [
              "Index(['user_id', 'track_name', 'artist_name', 'genre_name', 'city', 'time',\n",
              "       'weekday'],\n",
              "      dtype='object')"
            ]
          },
          "metadata": {
            "tags": []
          },
          "execution_count": 7
        }
      ]
    },
    {
      "cell_type": "markdown",
      "metadata": {
        "deletable": false,
        "id": "oc2qS2UBIkQu",
        "tags": [
          "325fae3b-abce-4c7c-8c41-87ed8a26ff5d"
        ]
      },
      "source": [
        "Проверим данные на наличие пропусков вызовом набора методов для суммирования пропущенных значений."
      ]
    },
    {
      "cell_type": "code",
      "metadata": {
        "colab": {
          "base_uri": "https://localhost:8080/"
        },
        "deletable": false,
        "id": "BZh9yLHhjy_R",
        "outputId": "c306d8ce-bead-4f2c-a6f7-4c58367a33f5"
      },
      "source": [
        "df.isnull().sum()"
      ],
      "execution_count": 8,
      "outputs": [
        {
          "output_type": "execute_result",
          "data": {
            "text/plain": [
              "user_id           0\n",
              "track_name     1231\n",
              "artist_name    7203\n",
              "genre_name     1198\n",
              "city              0\n",
              "time              0\n",
              "weekday           0\n",
              "dtype: int64"
            ]
          },
          "metadata": {
            "tags": []
          },
          "execution_count": 8
        }
      ]
    },
    {
      "cell_type": "markdown",
      "metadata": {
        "deletable": false,
        "id": "OJXGaa02tSJJ"
      },
      "source": [
        "Пустые значения свидетельствуют, что для некоторых треков доступна не вся информация. Причины могут быть разные: скажем,  не назван конкретный исполнитель народной песни. Хуже, если проблемы с записью данных. Каждый отдельный случай необходимо разобрать и выявить причину."
      ]
    },
    {
      "cell_type": "markdown",
      "metadata": {
        "deletable": false,
        "id": "-fBDAWZUkAg-"
      },
      "source": [
        "Заменяем пропущенные значения в столбцах с названием трека и исполнителя на строку 'unknown'. После этой операции нужно убедиться, что таблица больше не содержит пропусков."
      ]
    },
    {
      "cell_type": "code",
      "metadata": {
        "deletable": false,
        "id": "EO8zFcJPlbvV"
      },
      "source": [
        "df['track_name'] = df['track_name'].fillna('unknown') "
      ],
      "execution_count": 9,
      "outputs": []
    },
    {
      "cell_type": "code",
      "metadata": {
        "deletable": false,
        "id": "3hsNZcLST0UW"
      },
      "source": [
        "df['artist_name'] = df['artist_name'].fillna('unknown')"
      ],
      "execution_count": 10,
      "outputs": []
    },
    {
      "cell_type": "code",
      "metadata": {
        "colab": {
          "base_uri": "https://localhost:8080/"
        },
        "deletable": false,
        "id": "Ua-Z8TAblgzC",
        "outputId": "7804cd54-9eae-4ccd-98da-3f61d08767a2"
      },
      "source": [
        "df.isnull().sum()"
      ],
      "execution_count": 11,
      "outputs": [
        {
          "output_type": "execute_result",
          "data": {
            "text/plain": [
              "user_id           0\n",
              "track_name        0\n",
              "artist_name       0\n",
              "genre_name     1198\n",
              "city              0\n",
              "time              0\n",
              "weekday           0\n",
              "dtype: int64"
            ]
          },
          "metadata": {
            "tags": []
          },
          "execution_count": 11
        }
      ]
    },
    {
      "cell_type": "markdown",
      "metadata": {
        "deletable": false,
        "id": "-cjfT0w2ln9C",
        "tags": [
          "9cb28dd4-e24e-4490-aebd-b37ba9e492c5"
        ]
      },
      "source": [
        "Удаляем в столбце с жанрами пустые значения; убеждаемся, что их больше не осталось."
      ]
    },
    {
      "cell_type": "code",
      "metadata": {
        "deletable": false,
        "id": "TIpk7lwtnZkZ"
      },
      "source": [
        "df.dropna(subset = ['genre_name'], inplace = True)"
      ],
      "execution_count": 12,
      "outputs": []
    },
    {
      "cell_type": "code",
      "metadata": {
        "colab": {
          "base_uri": "https://localhost:8080/"
        },
        "deletable": false,
        "id": "-1CT-CCZnzTA",
        "outputId": "363787b4-5962-4212-eb30-e9f778d8005a"
      },
      "source": [
        "df.isnull().sum()"
      ],
      "execution_count": 13,
      "outputs": [
        {
          "output_type": "execute_result",
          "data": {
            "text/plain": [
              "user_id        0\n",
              "track_name     0\n",
              "artist_name    0\n",
              "genre_name     0\n",
              "city           0\n",
              "time           0\n",
              "weekday        0\n",
              "dtype: int64"
            ]
          },
          "metadata": {
            "tags": []
          },
          "execution_count": 13
        }
      ]
    },
    {
      "cell_type": "markdown",
      "metadata": {
        "deletable": false,
        "id": "QsBXpJFzpxA9",
        "tags": [
          "ea46db29-6746-4c02-a47b-75283dde9025"
        ]
      },
      "source": [
        "Необходимо установить наличие дубликатов.  Если найдутся, удаляем, и проверяем, все ли удалились."
      ]
    },
    {
      "cell_type": "code",
      "metadata": {
        "colab": {
          "base_uri": "https://localhost:8080/"
        },
        "deletable": false,
        "id": "VRVI_B0RqIgT",
        "outputId": "8de5b0d0-5ec9-4408-b3c9-396a0591978d"
      },
      "source": [
        "df.duplicated().sum()"
      ],
      "execution_count": 14,
      "outputs": [
        {
          "output_type": "execute_result",
          "data": {
            "text/plain": [
              "3755"
            ]
          },
          "metadata": {
            "tags": []
          },
          "execution_count": 14
        }
      ]
    },
    {
      "cell_type": "code",
      "metadata": {
        "deletable": false,
        "id": "nSYF38OeqZn-"
      },
      "source": [
        "df = df.drop_duplicates().reset_index(drop=True)  "
      ],
      "execution_count": 15,
      "outputs": []
    },
    {
      "cell_type": "code",
      "metadata": {
        "colab": {
          "base_uri": "https://localhost:8080/"
        },
        "deletable": false,
        "id": "O-RfjmkCqIgV",
        "outputId": "86b2aa37-08cc-4069-e66f-6debf7265a53"
      },
      "source": [
        "df.duplicated().sum()"
      ],
      "execution_count": 16,
      "outputs": [
        {
          "output_type": "execute_result",
          "data": {
            "text/plain": [
              "0"
            ]
          },
          "metadata": {
            "tags": []
          },
          "execution_count": 16
        }
      ]
    },
    {
      "cell_type": "markdown",
      "metadata": {
        "deletable": false,
        "id": "e6cyWPTwsLKw"
      },
      "source": [
        "Дубликаты могли появиться вследствие сбоя в записи данных. Стоит обратить внимание и разобраться с причинами появления такого «информационного мусора»."
      ]
    },
    {
      "cell_type": "markdown",
      "metadata": {
        "deletable": false,
        "id": "QH-HgrApInjO",
        "tags": [
          "46fb87e8-2d9c-497d-9c6e-746eaa2631ab"
        ]
      },
      "source": [
        "Сохраняем список уникальных значений столбца с жанрами в переменной *genres_list*. \n",
        "\n",
        "Объявим функцию *find_genre()* для поиска неявных дубликатов в столбце с жанрами. Например, когда название одного и того же жанра написано разными словами.\n",
        "\n",
        "\n",
        "\n"
      ]
    },
    {
      "cell_type": "code",
      "metadata": {
        "deletable": false,
        "id": "FfaTfKAN-PCx"
      },
      "source": [
        "genres_list = df['genre_name'].unique()"
      ],
      "execution_count": 17,
      "outputs": []
    },
    {
      "cell_type": "code",
      "metadata": {
        "deletable": false,
        "id": "TA_k-VLi-S0R"
      },
      "source": [
        "def find_genre(genre):\n",
        "    count=0\n",
        "    for i in genres_list:\n",
        "        if i == genre:\n",
        "            count += 1\n",
        "    return count"
      ],
      "execution_count": 18,
      "outputs": []
    },
    {
      "cell_type": "markdown",
      "metadata": {
        "deletable": false,
        "id": "vb3CTOciIL27",
        "tags": [
          "b57e3325-29fc-4ade-83a3-91113c5dad32"
        ]
      },
      "source": [
        "Вызов функции *find_genre()* для поиска различных вариантов названия жанра хип-хоп в таблице.\n",
        "\n",
        "Правильное название — *hiphop*. Поищем другие варианты:\n",
        "\n",
        "* hip\n",
        "* hop\n",
        "* hip-hop\n"
      ]
    },
    {
      "cell_type": "code",
      "metadata": {
        "colab": {
          "base_uri": "https://localhost:8080/"
        },
        "deletable": false,
        "id": "YrwqExZS-dyQ",
        "outputId": "8148f57e-58b8-4210-bd9a-444dde817369"
      },
      "source": [
        "find_genre('hip')"
      ],
      "execution_count": 19,
      "outputs": [
        {
          "output_type": "execute_result",
          "data": {
            "text/plain": [
              "1"
            ]
          },
          "metadata": {
            "tags": []
          },
          "execution_count": 19
        }
      ]
    },
    {
      "cell_type": "code",
      "metadata": {
        "colab": {
          "base_uri": "https://localhost:8080/"
        },
        "deletable": false,
        "id": "ZoL4EEcR-dyU",
        "outputId": "bed5cd20-3adf-4a84-c7af-eb96d0f52b67"
      },
      "source": [
        "find_genre('hop')"
      ],
      "execution_count": 20,
      "outputs": [
        {
          "output_type": "execute_result",
          "data": {
            "text/plain": [
              "0"
            ]
          },
          "metadata": {
            "tags": []
          },
          "execution_count": 20
        }
      ]
    },
    {
      "cell_type": "code",
      "metadata": {
        "colab": {
          "base_uri": "https://localhost:8080/"
        },
        "deletable": false,
        "id": "MFowmiug-qZD",
        "outputId": "c59ea9a3-8b33-41db-943b-d23539296b3b"
      },
      "source": [
        "find_genre('hip-hop')"
      ],
      "execution_count": 21,
      "outputs": [
        {
          "output_type": "execute_result",
          "data": {
            "text/plain": [
              "0"
            ]
          },
          "metadata": {
            "tags": []
          },
          "execution_count": 21
        }
      ]
    },
    {
      "cell_type": "markdown",
      "metadata": {
        "deletable": false,
        "id": "a7BQY6ORLMSG",
        "tags": [
          "11f77aa1-5478-453d-b31e-f20041047bb7"
        ]
      },
      "source": [
        "Объявим функцию *find_hip_hop()*, которая заменяет  неправильное название этого жанра в столбце *'genre_name'* на *'hiphop'* и проверяет успешность выполнения замены.\n",
        "\n",
        "Так исправляем все варианты написания, которые выявила проверка."
      ]
    },
    {
      "cell_type": "code",
      "metadata": {
        "deletable": false,
        "id": "31xlzL_c_FgB"
      },
      "source": [
        "def find_hip_hop(df, wrong):\n",
        "    df['genre_name'] = df['genre_name'].replace(wrong, 'hiphop')\n",
        "    result = df.loc[df.loc[:,'genre_name'] == 'wrong']['genre_name'].count()\n",
        "    return result"
      ],
      "execution_count": 22,
      "outputs": []
    },
    {
      "cell_type": "code",
      "metadata": {
        "colab": {
          "base_uri": "https://localhost:8080/"
        },
        "deletable": false,
        "id": "ZFXMV2qW_FgE",
        "outputId": "12e13107-079a-4677-fffc-2fcd380ded24"
      },
      "source": [
        "find_hip_hop(df,'hip')"
      ],
      "execution_count": 23,
      "outputs": [
        {
          "output_type": "execute_result",
          "data": {
            "text/plain": [
              "0"
            ]
          },
          "metadata": {
            "tags": []
          },
          "execution_count": 23
        }
      ]
    },
    {
      "cell_type": "markdown",
      "metadata": {
        "deletable": false,
        "id": "i90BILA9JQpE",
        "tags": [
          "30535c8e-1643-4088-925b-2a32180e0333"
        ]
      },
      "source": [
        "Получаем общую информацию о данных. Убеждаемся, что чистка выполнена успешно."
      ]
    },
    {
      "cell_type": "code",
      "metadata": {
        "colab": {
          "base_uri": "https://localhost:8080/"
        },
        "deletable": false,
        "id": "-yyvdzHA_uJm",
        "outputId": "e52a09a0-b7d0-4480-ff30-b45de880a2a9"
      },
      "source": [
        "df.info()"
      ],
      "execution_count": 24,
      "outputs": [
        {
          "output_type": "stream",
          "text": [
            "<class 'pandas.core.frame.DataFrame'>\n",
            "RangeIndex: 60126 entries, 0 to 60125\n",
            "Data columns (total 7 columns):\n",
            " #   Column       Non-Null Count  Dtype \n",
            "---  ------       --------------  ----- \n",
            " 0   user_id      60126 non-null  object\n",
            " 1   track_name   60126 non-null  object\n",
            " 2   artist_name  60126 non-null  object\n",
            " 3   genre_name   60126 non-null  object\n",
            " 4   city         60126 non-null  object\n",
            " 5   time         60126 non-null  object\n",
            " 6   weekday      60126 non-null  object\n",
            "dtypes: object(7)\n",
            "memory usage: 3.2+ MB\n"
          ],
          "name": "stdout"
        }
      ]
    },
    {
      "cell_type": "markdown",
      "metadata": {
        "deletable": false,
        "id": "AReHO17cMRPM"
      },
      "source": [
        "**Вывод**"
      ]
    },
    {
      "cell_type": "markdown",
      "metadata": {
        "deletable": false,
        "id": "yscfstUqMS4c"
      },
      "source": [
        "На этапе предобработки в данных обнаружились не только пропуски и проблемы с названиями столбцов, но и дубликаты. Их удаление позволит провести анализ точнее. Поскольку сведения о жанрах важно сохранить для анализа, не удаляем все пропущенные значения, а заполним пропущенные имена исполнителей и названия треков. Имена столбцов теперь корректны и удобны для дальнейшей работы."
      ]
    },
    {
      "cell_type": "markdown",
      "metadata": {
        "deletable": false,
        "id": "MF4nnd1YJUrI",
        "tags": [
          "ac8df732-1797-479a-9c4c-a03745931a9d"
        ]
      },
      "source": [
        "# Действительно ли музыку в разных городах слушают по-разному?"
      ]
    },
    {
      "cell_type": "markdown",
      "metadata": {
        "deletable": false,
        "id": "AYSL1OvyM2pL"
      },
      "source": [
        "Была выдвинута гипотеза, что в Москве и Санкт-Петербурге пользователи слушают музыку по-разному. Проверяем это предположение по данным о трёх днях недели — понедельнике, среде и пятнице.\n",
        "\n",
        "Для каждого города устанавливаем количество прослушанных  в эти дни композиций с известным жанром, и сравниваем результаты."
      ]
    },
    {
      "cell_type": "markdown",
      "metadata": {
        "deletable": false,
        "id": "OM5Eeh7FNWC-"
      },
      "source": [
        "Группируем данные по городу и вызовом метода *count()* подсчитываем композиции, для которых известен жанр."
      ]
    },
    {
      "cell_type": "code",
      "metadata": {
        "colab": {
          "base_uri": "https://localhost:8080/"
        },
        "deletable": false,
        "id": "AtH_pP1i_0m1",
        "outputId": "411cfde7-24db-4c40-be35-fd27d01d91da"
      },
      "source": [
        "df.groupby('city')['genre_name'].count()"
      ],
      "execution_count": 25,
      "outputs": [
        {
          "output_type": "execute_result",
          "data": {
            "text/plain": [
              "city\n",
              "Moscow              41892\n",
              "Saint-Petersburg    18234\n",
              "Name: genre_name, dtype: int64"
            ]
          },
          "metadata": {
            "tags": []
          },
          "execution_count": 25
        }
      ]
    },
    {
      "cell_type": "markdown",
      "metadata": {
        "deletable": false,
        "id": "XBR226DMpIDf"
      },
      "source": [
        "В Москве прослушиваний больше, чем в Питере, но это не значит, что Москва более активна. У Яндекс.Музыки в целом больше пользователей в Москве, поэтому величины сопоставимы."
      ]
    },
    {
      "cell_type": "markdown",
      "metadata": {
        "deletable": false,
        "id": "P7EcNQuyNbNB",
        "tags": [
          "133ddd49-3b63-45b1-b50c-9e6ab5fc4175"
        ]
      },
      "source": [
        "Сгруппируем данные по дню недели и подсчитаем прослушанные в понедельник, среду и пятницу композиции, для которых известен жанр."
      ]
    },
    {
      "cell_type": "code",
      "metadata": {
        "colab": {
          "base_uri": "https://localhost:8080/"
        },
        "deletable": false,
        "id": "A8E_Tb2b_3un",
        "outputId": "fc707df2-2179-478f-cfe7-fcec8da816b9"
      },
      "source": [
        "df.groupby('weekday')['genre_name'].count() # <группировка данных по столбцу 'weekday' и подсчёт количества значений столбца 'genre_name'>\n"
      ],
      "execution_count": 26,
      "outputs": [
        {
          "output_type": "execute_result",
          "data": {
            "text/plain": [
              "weekday\n",
              "Friday       21482\n",
              "Monday       20866\n",
              "Wednesday    17778\n",
              "Name: genre_name, dtype: int64"
            ]
          },
          "metadata": {
            "tags": []
          },
          "execution_count": 26
        }
      ]
    },
    {
      "cell_type": "markdown",
      "metadata": {
        "deletable": false,
        "id": "Zhh6hehCpq_U"
      },
      "source": [
        "Понедельник и пятница — время для музыки; по средам пользователи немного больше вовлечены в работу."
      ]
    },
    {
      "cell_type": "markdown",
      "metadata": {
        "deletable": false,
        "id": "bYab2U5BNdmZ",
        "tags": [
          "bae0a168-5e2b-40f9-9701-bfb32d016517"
        ]
      },
      "source": [
        "Создаём функцию *number_tracks()*, которая принимает как параметры таблицу, день недели и название города, а возвращает количество прослушанных композиций, для которых известен жанр. Проверяем количество прослушанных композиций для каждого города и понедельника, затем среды и пятницы."
      ]
    },
    {
      "cell_type": "code",
      "metadata": {
        "deletable": false,
        "id": "4SqpGSi5_7hA"
      },
      "source": [
        "def number_tracks(df, day, city):\n",
        "    track_list=df[(df['weekday']==day) & (df['city']==city)]\n",
        "    track_list_count = track_list['genre_name'].count()\n",
        "    return track_list_count"
      ],
      "execution_count": 27,
      "outputs": []
    },
    {
      "cell_type": "code",
      "metadata": {
        "deletable": false,
        "colab": {
          "base_uri": "https://localhost:8080/"
        },
        "id": "eXauglcIJrQP",
        "outputId": "8dbf98f9-bbc2-497a-eb8e-7cd7e5cc1047"
      },
      "source": [
        "number_tracks(df, 'Monday', 'Moscow')"
      ],
      "execution_count": 28,
      "outputs": [
        {
          "output_type": "execute_result",
          "data": {
            "text/plain": [
              "15347"
            ]
          },
          "metadata": {
            "tags": []
          },
          "execution_count": 28
        }
      ]
    },
    {
      "cell_type": "code",
      "metadata": {
        "deletable": false,
        "colab": {
          "base_uri": "https://localhost:8080/"
        },
        "id": "_7pfhfxUJrQP",
        "outputId": "c49590de-2a72-4bf5-81ff-61bba2c82da4"
      },
      "source": [
        "number_tracks(df, 'Monday', 'Saint-Petersburg')"
      ],
      "execution_count": 29,
      "outputs": [
        {
          "output_type": "execute_result",
          "data": {
            "text/plain": [
              "5519"
            ]
          },
          "metadata": {
            "tags": []
          },
          "execution_count": 29
        }
      ]
    },
    {
      "cell_type": "code",
      "metadata": {
        "deletable": false,
        "colab": {
          "base_uri": "https://localhost:8080/"
        },
        "id": "7EouwSE2JrQP",
        "outputId": "4029388f-3bba-477d-da1c-e7825394ee39"
      },
      "source": [
        "number_tracks(df, 'Wednesday', 'Moscow')"
      ],
      "execution_count": 30,
      "outputs": [
        {
          "output_type": "execute_result",
          "data": {
            "text/plain": [
              "10865"
            ]
          },
          "metadata": {
            "tags": []
          },
          "execution_count": 30
        }
      ]
    },
    {
      "cell_type": "code",
      "metadata": {
        "deletable": false,
        "colab": {
          "base_uri": "https://localhost:8080/"
        },
        "id": "LUCIMXcNJrQP",
        "outputId": "9d24e72c-2867-465c-9811-2b4f26c7d34c"
      },
      "source": [
        "number_tracks(df, 'Wednesday', 'Saint-Petersburg')"
      ],
      "execution_count": 31,
      "outputs": [
        {
          "output_type": "execute_result",
          "data": {
            "text/plain": [
              "6913"
            ]
          },
          "metadata": {
            "tags": []
          },
          "execution_count": 31
        }
      ]
    },
    {
      "cell_type": "code",
      "metadata": {
        "deletable": false,
        "colab": {
          "base_uri": "https://localhost:8080/"
        },
        "id": "Wu93m-I8JrQP",
        "outputId": "14867a61-8af0-4303-f4f5-8197c387b6e2"
      },
      "source": [
        "number_tracks(df, 'Friday', 'Moscow')"
      ],
      "execution_count": 32,
      "outputs": [
        {
          "output_type": "execute_result",
          "data": {
            "text/plain": [
              "15680"
            ]
          },
          "metadata": {
            "tags": []
          },
          "execution_count": 32
        }
      ]
    },
    {
      "cell_type": "code",
      "metadata": {
        "deletable": false,
        "colab": {
          "base_uri": "https://localhost:8080/"
        },
        "id": "65R_yAjVJrQQ",
        "outputId": "958ab880-7bfc-4519-802d-2e709b355681"
      },
      "source": [
        "number_tracks(df, 'Friday', 'Saint-Petersburg')"
      ],
      "execution_count": 33,
      "outputs": [
        {
          "output_type": "execute_result",
          "data": {
            "text/plain": [
              "5802"
            ]
          },
          "metadata": {
            "tags": []
          },
          "execution_count": 33
        }
      ]
    },
    {
      "cell_type": "markdown",
      "metadata": {
        "deletable": false,
        "id": "tCB9zwzzqZ8g",
        "tags": [
          "d73e12bf-3635-484b-8fb6-c7ccc2101671"
        ]
      },
      "source": [
        "Сведём полученную информацию в одну таблицу, где ['city', 'monday', 'wednesday', 'friday'] названия столбцов.\n"
      ]
    },
    {
      "cell_type": "code",
      "metadata": {
        "deletable": false,
        "colab": {
          "base_uri": "https://localhost:8080/",
          "height": 111
        },
        "id": "wzznVVM5JrQQ",
        "outputId": "ce02142e-cd59-4271-b5c4-0bf4c30615e0"
      },
      "source": [
        "data = [['Moscow', 15347, 10865, 15680],\n",
        "       ['Saint-Petersburg', 5519, 6913, 5802]]\n",
        "columns = ['city','monday','wednesday','friday']\n",
        "table = pd.DataFrame(data = data, columns = columns)\n",
        "table"
      ],
      "execution_count": 34,
      "outputs": [
        {
          "output_type": "execute_result",
          "data": {
            "text/html": [
              "<div>\n",
              "<style scoped>\n",
              "    .dataframe tbody tr th:only-of-type {\n",
              "        vertical-align: middle;\n",
              "    }\n",
              "\n",
              "    .dataframe tbody tr th {\n",
              "        vertical-align: top;\n",
              "    }\n",
              "\n",
              "    .dataframe thead th {\n",
              "        text-align: right;\n",
              "    }\n",
              "</style>\n",
              "<table border=\"1\" class=\"dataframe\">\n",
              "  <thead>\n",
              "    <tr style=\"text-align: right;\">\n",
              "      <th></th>\n",
              "      <th>city</th>\n",
              "      <th>monday</th>\n",
              "      <th>wednesday</th>\n",
              "      <th>friday</th>\n",
              "    </tr>\n",
              "  </thead>\n",
              "  <tbody>\n",
              "    <tr>\n",
              "      <th>0</th>\n",
              "      <td>Moscow</td>\n",
              "      <td>15347</td>\n",
              "      <td>10865</td>\n",
              "      <td>15680</td>\n",
              "    </tr>\n",
              "    <tr>\n",
              "      <th>1</th>\n",
              "      <td>Saint-Petersburg</td>\n",
              "      <td>5519</td>\n",
              "      <td>6913</td>\n",
              "      <td>5802</td>\n",
              "    </tr>\n",
              "  </tbody>\n",
              "</table>\n",
              "</div>"
            ],
            "text/plain": [
              "               city  monday  wednesday  friday\n",
              "0            Moscow   15347      10865   15680\n",
              "1  Saint-Petersburg    5519       6913    5802"
            ]
          },
          "metadata": {
            "tags": []
          },
          "execution_count": 34
        }
      ]
    },
    {
      "cell_type": "markdown",
      "metadata": {
        "deletable": false,
        "id": "LKCYeMXgqPxD"
      },
      "source": [
        "**Вывод**"
      ]
    },
    {
      "cell_type": "markdown",
      "metadata": {
        "deletable": false,
        "id": "RJpg6I8jqQ0x"
      },
      "source": [
        "Результаты показывают, что в среду музыку в Петербурге и Москве слушают с различной нагрузкой: в Москве пики приходятся на понедельник и пятницу, а в среду время прослушивания снижается. Тогда как в Санкт-Петербурге среда — день самого большого интереса к музыке, а в понедельник и пятницу он меньше в равной степени."
      ]
    },
    {
      "cell_type": "markdown",
      "metadata": {
        "deletable": false,
        "id": "tLdpUGyewzGf",
        "tags": [
          "1eb8124a-f066-4c43-b1f4-bc672c5efd57"
        ]
      },
      "source": [
        "# Утро понедельника и вечер пятницы — разная музыка или одна и та же?"
      ]
    },
    {
      "cell_type": "markdown",
      "metadata": {
        "deletable": false,
        "id": "SaQlxcVntL3x"
      },
      "source": [
        "Ищем ответ на вопрос, какие жанры преобладают в разных городах в понедельник утром и в пятницу вечером. Есть предположение, что в понедельник утром пользователи слушают больше бодрящей музыки (например, жанра поп), а вечером пятницы — больше танцевальных (например, электронику)."
      ]
    },
    {
      "cell_type": "markdown",
      "metadata": {
        "deletable": false,
        "id": "lYGAneOaPBhS"
      },
      "source": [
        "Получим таблицы данных по Москве *moscow_general* и по Санкт-Петербургу *spb_general*."
      ]
    },
    {
      "cell_type": "code",
      "metadata": {
        "deletable": false,
        "id": "Pyz1i56nA5IS"
      },
      "source": [
        "moscow_general = df[df['city'] == 'Moscow'] # получение таблицы moscow_general из тех строк таблицы df, \n",
        "# для которых значение в столбце 'city' равно 'Moscow'"
      ],
      "execution_count": 35,
      "outputs": []
    },
    {
      "cell_type": "code",
      "metadata": {
        "deletable": false,
        "id": "w3NNN-2hA-al"
      },
      "source": [
        "spb_general = df[df['city'] == 'Saint-Petersburg']"
      ],
      "execution_count": 36,
      "outputs": []
    },
    {
      "cell_type": "markdown",
      "metadata": {
        "deletable": false,
        "id": "duDdH_WiPLky",
        "tags": [
          "7f7cae13-ec1c-45c4-9204-0a4354fe1766"
        ]
      },
      "source": [
        "Создаём функцию *genre_weekday()*, которая возвращает список жанров по запрошенному дню недели и времени суток с такого-то часа по такой-то."
      ]
    },
    {
      "cell_type": "code",
      "metadata": {
        "deletable": false,
        "id": "JhUdQynHBEYw"
      },
      "source": [
        "def genre_weekday(df, day, time1, time2):\n",
        "    genre_list=df[(df['weekday']==day) & (df['time']>time1)& (df['time']<=time2)]\n",
        "    genre_list_sorted = genre_list.groupby('genre_name')['genre_name'].count().sort_values(ascending = False).head(10)\n",
        "    return genre_list_sorted"
      ],
      "execution_count": 37,
      "outputs": []
    },
    {
      "cell_type": "markdown",
      "metadata": {
        "deletable": false,
        "id": "bxGC8kXkP7B-",
        "tags": [
          "63e2c3f3-fa64-4376-8221-e8b753264535"
        ]
      },
      "source": [
        "Cравниваем полученные результаты по таблице для Москвы и Санкт-Петербурга в понедельник утром (с 7 до 11) и в пятницу вечером (с 17 до 23)."
      ]
    },
    {
      "cell_type": "code",
      "metadata": {
        "colab": {
          "base_uri": "https://localhost:8080/"
        },
        "deletable": false,
        "id": "kbgeq-55BLEI",
        "outputId": "fabe9772-5347-43f5-81db-52bb26cabc45"
      },
      "source": [
        "genre_weekday(moscow_general, 'Monday', '07:00:00', '11:00:00')"
      ],
      "execution_count": 38,
      "outputs": [
        {
          "output_type": "execute_result",
          "data": {
            "text/plain": [
              "genre_name\n",
              "pop            781\n",
              "dance          549\n",
              "electronic     480\n",
              "rock           474\n",
              "hiphop         286\n",
              "ruspop         186\n",
              "world          181\n",
              "rusrap         175\n",
              "alternative    164\n",
              "classical      157\n",
              "Name: genre_name, dtype: int64"
            ]
          },
          "metadata": {
            "tags": []
          },
          "execution_count": 38
        }
      ]
    },
    {
      "cell_type": "code",
      "metadata": {
        "colab": {
          "base_uri": "https://localhost:8080/"
        },
        "deletable": false,
        "id": "YvdSbg2jBUeq",
        "outputId": "d4c890ce-f289-48fd-d36e-85c17fae4a18"
      },
      "source": [
        "genre_weekday(moscow_general, 'Friday', '17:00:00', '23:00:00')"
      ],
      "execution_count": 39,
      "outputs": [
        {
          "output_type": "execute_result",
          "data": {
            "text/plain": [
              "genre_name\n",
              "pop            713\n",
              "rock           517\n",
              "dance          495\n",
              "electronic     482\n",
              "hiphop         273\n",
              "world          208\n",
              "ruspop         170\n",
              "alternative    163\n",
              "classical      163\n",
              "rusrap         142\n",
              "Name: genre_name, dtype: int64"
            ]
          },
          "metadata": {
            "tags": []
          },
          "execution_count": 39
        }
      ]
    },
    {
      "cell_type": "code",
      "metadata": {
        "colab": {
          "base_uri": "https://localhost:8080/"
        },
        "deletable": false,
        "id": "XHwa8N2EBRXO",
        "outputId": "b894b566-0c39-49ef-d46f-367210397c8a"
      },
      "source": [
        "genre_weekday(spb_general, 'Monday', '07:00:00', '11:00:00')"
      ],
      "execution_count": 40,
      "outputs": [
        {
          "output_type": "execute_result",
          "data": {
            "text/plain": [
              "genre_name\n",
              "pop            218\n",
              "dance          182\n",
              "rock           162\n",
              "electronic     147\n",
              "hiphop          80\n",
              "ruspop          64\n",
              "alternative     58\n",
              "rusrap          55\n",
              "jazz            44\n",
              "classical       40\n",
              "Name: genre_name, dtype: int64"
            ]
          },
          "metadata": {
            "tags": []
          },
          "execution_count": 40
        }
      ]
    },
    {
      "cell_type": "code",
      "metadata": {
        "colab": {
          "base_uri": "https://localhost:8080/"
        },
        "deletable": false,
        "id": "Ew3ig4fPBUeu",
        "outputId": "a902d2f2-1c82-4369-8296-337aaf9ee72d"
      },
      "source": [
        "genre_weekday(spb_general, 'Friday', '17:00:00', '23:00:00')"
      ],
      "execution_count": 41,
      "outputs": [
        {
          "output_type": "execute_result",
          "data": {
            "text/plain": [
              "genre_name\n",
              "pop            256\n",
              "rock           216\n",
              "electronic     216\n",
              "dance          210\n",
              "hiphop          97\n",
              "alternative     63\n",
              "jazz            61\n",
              "classical       60\n",
              "rusrap          59\n",
              "world           54\n",
              "Name: genre_name, dtype: int64"
            ]
          },
          "metadata": {
            "tags": []
          },
          "execution_count": 41
        }
      ]
    },
    {
      "cell_type": "markdown",
      "metadata": {
        "deletable": false,
        "id": "UenYBZTIwYT-"
      },
      "source": [
        "Популярные жанры в понедельник утром в Питере и Москве оказались похожи: везде, как и предполагалось, популярен поп. Несмотря на это, концовка топ-10 для двух городов различается: в Питере в топ-10 входит джаз, а в Москве жанр *world*.\n",
        "\n",
        "В конце недели ситуация не меняется. Поп-музыка всё так же на первом месте. Опять разница заметна только в концовке топ-10, где в Питере пятничным вечером тоже присутствует жанр *world* и исключается ruspop          .\n",
        "\n",
        "Танцевальные и электронные жанры, как ни странно пользуются  популярностью больше по понедельникам."
      ]
    },
    {
      "cell_type": "markdown",
      "metadata": {
        "deletable": false,
        "id": "MBxfrKPAykp_"
      },
      "source": [
        "**Вывод**"
      ]
    },
    {
      "cell_type": "markdown",
      "metadata": {
        "deletable": false,
        "id": "j8ypBMwSymL6"
      },
      "source": [
        "Жанр поп безусловный лидер, а топ-5 в целом не различается в обеих столицах. При этом видно, что концовка списка более «живая»: для каждого города выделяются более характерные жанры, которые действительно меняют свои позиции в зависимости от дня недели и времени."
      ]
    },
    {
      "cell_type": "markdown",
      "metadata": {
        "deletable": false,
        "id": "D7YMmgKRw270",
        "tags": [
          "f363205e-76b1-4883-abf1-bf21c9572dc7"
        ]
      },
      "source": [
        "# Москва и Питер — две разные столицы, два разных направления в музыке. Правда?"
      ]
    },
    {
      "cell_type": "markdown",
      "metadata": {
        "deletable": false,
        "id": "Wc5srT13zb4Z"
      },
      "source": [
        "Гипотеза: население двух городов предпочитает разные музыкальные жанры.\n"
      ]
    },
    {
      "cell_type": "code",
      "metadata": {
        "id": "0NOINJQ0Vas3"
      },
      "source": [
        ""
      ],
      "execution_count": 41,
      "outputs": []
    },
    {
      "cell_type": "markdown",
      "metadata": {
        "deletable": false,
        "id": "2SFE9_RV2KEL"
      },
      "source": [
        "Сгруппируем таблицу *moscow_general* по жанру, сосчитаем численность композиций каждого жанра методом *count()*, отсортируем в порядке убывания и сохраним результат в таблице *moscow_genres*.\n",
        "\n",
        "Просмотрим первые 10 строк этой новой таблицы."
      ]
    },
    {
      "cell_type": "code",
      "metadata": {
        "deletable": false,
        "id": "OohoTcsYBheo"
      },
      "source": [
        "moscow_genres = moscow_general.groupby('genre_name')['genre_name'].count().sort_values(ascending = False) # \n",
        "# одной строкой: группировка таблицы moscow_general по столбцу 'genre_name', \n",
        "# подсчёт числа значений 'genre_name' в этой группировке методом count(), \n",
        "# сортировка Series в порядке убывания и сохранение в moscow_genres"
      ],
      "execution_count": 42,
      "outputs": []
    },
    {
      "cell_type": "code",
      "metadata": {
        "colab": {
          "base_uri": "https://localhost:8080/"
        },
        "deletable": false,
        "id": "h7IhIKDrBher",
        "outputId": "752695bd-f542-4ab2-8b1b-7cb577e2e9c8"
      },
      "source": [
        "moscow_genres.head(10)"
      ],
      "execution_count": 43,
      "outputs": [
        {
          "output_type": "execute_result",
          "data": {
            "text/plain": [
              "genre_name\n",
              "pop            5892\n",
              "dance          4435\n",
              "rock           3965\n",
              "electronic     3786\n",
              "hiphop         2096\n",
              "classical      1616\n",
              "world          1432\n",
              "alternative    1379\n",
              "ruspop         1372\n",
              "rusrap         1161\n",
              "Name: genre_name, dtype: int64"
            ]
          },
          "metadata": {
            "tags": []
          },
          "execution_count": 43
        }
      ]
    },
    {
      "cell_type": "markdown",
      "metadata": {
        "deletable": false,
        "id": "gjnf0lol2fUy",
        "tags": [
          "f7503a48-1b28-483d-9f7b-bae79fb182b5"
        ]
      },
      "source": [
        "Сгруппируем таблицу *spb_general* по жанру, сосчитаем численность композиций каждого жанра методом *count()*, отсортируем в порядке убывания и сохраним результат в таблице *spb_genres*.\n",
        "\n",
        "Просматриваем первые 10 строк этой таблицы. Теперь можно сравнивать два города."
      ]
    },
    {
      "cell_type": "code",
      "metadata": {
        "deletable": false,
        "id": "eQrdA85dB1LO"
      },
      "source": [
        "spb_genres = spb_general.groupby('genre_name')['genre_name'].count().sort_values(ascending = False)"
      ],
      "execution_count": 44,
      "outputs": []
    },
    {
      "cell_type": "code",
      "metadata": {
        "colab": {
          "base_uri": "https://localhost:8080/"
        },
        "deletable": false,
        "id": "AE-Z-1wCB1LS",
        "outputId": "5c68aa6f-74ae-4aa5-8ea0-0acc503f6f03"
      },
      "source": [
        "spb_genres.head(10)"
      ],
      "execution_count": 48,
      "outputs": [
        {
          "output_type": "execute_result",
          "data": {
            "text/plain": [
              "genre_name\n",
              "pop            2431\n",
              "dance          1932\n",
              "rock           1879\n",
              "electronic     1736\n",
              "hiphop          960\n",
              "alternative     649\n",
              "classical       646\n",
              "rusrap          564\n",
              "ruspop          538\n",
              "world           515\n",
              "Name: genre_name, dtype: int64"
            ]
          },
          "metadata": {
            "tags": []
          },
          "execution_count": 48
        }
      ]
    },
    {
      "cell_type": "markdown",
      "metadata": {
        "deletable": false,
        "id": "J5E-kLgK2piO"
      },
      "source": [
        "**Вывод**"
      ]
    },
    {
      "cell_type": "markdown",
      "metadata": {
        "deletable": false,
        "id": "-9R3-Qh02tNt"
      },
      "source": [
        "Списка 10 наиболее популярных жанров музыки в Санкт-Петербурге и Москве не имеют хорактерных различий. Популярность жанров может меняться к концу списка но цифры несущественные."
      ]
    },
    {
      "cell_type": "markdown",
      "metadata": {
        "deletable": false,
        "id": "gLlT9nKMQ3ky",
        "tags": [
          "0d44c8c0-390b-4c9e-b797-ddc3993f6e58"
        ]
      },
      "source": [
        "# Этап 4. Результаты исследования\n"
      ]
    },
    {
      "cell_type": "markdown",
      "metadata": {
        "deletable": false,
        "id": "GtvyRBbD7dv5"
      },
      "source": [
        "Рабочие гипотезы:\n",
        "\n",
        "* музыку в двух городах — Москве и Санкт-Петербурге — слушают в разном режиме;\n",
        "\n",
        "* списки десяти самых популярных жанров утром в понедельник и вечером в пятницу имеют небольшие отличия;\n",
        "\n",
        "* население двух городов предпочитает одинаковые музыкальные жанры.\n",
        "\n",
        "**Общие результаты**\n",
        "\n",
        "Москва и Петербург сходятся во вкусах: везде преобладает популярная музыка. При этом зависимости предпочтений от дня недели в каждом отдельном городе нет — люди постоянно слушают то, что им нравится. Но между городами наблюдается различная активность в течении недели: Москва больше слушает в понедельник и пятницу, а Петербург наоборот - больше в среду, но меньше в понедельник и пятницу.\n",
        "\n",
        "В результате первая гипотеза подтверждена, вторая гипотеза подтверждена, третья гипотеза не подтверждена."
      ]
    },
    {
      "cell_type": "code",
      "metadata": {
        "id": "TUzdNTAoYGJ5"
      },
      "source": [
        ""
      ],
      "execution_count": 45,
      "outputs": []
    }
  ]
}