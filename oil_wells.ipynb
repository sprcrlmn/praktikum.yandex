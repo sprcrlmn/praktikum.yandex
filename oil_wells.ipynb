{
  "nbformat": 4,
  "nbformat_minor": 0,
  "metadata": {
    "kernelspec": {
      "display_name": "Python 3",
      "language": "python",
      "name": "python3"
    },
    "language_info": {
      "codemirror_mode": {
        "name": "ipython",
        "version": 3
      },
      "file_extension": ".py",
      "mimetype": "text/x-python",
      "name": "python",
      "nbconvert_exporter": "python",
      "pygments_lexer": "ipython3",
      "version": "3.7.8"
    },
    "toc": {
      "base_numbering": 1,
      "nav_menu": {},
      "number_sections": true,
      "sideBar": true,
      "skip_h1_title": false,
      "title_cell": "Table of Contents",
      "title_sidebar": "Contents",
      "toc_cell": false,
      "toc_position": {},
      "toc_section_display": true,
      "toc_window_display": false
    },
    "colab": {
      "name": "9ff71122-adb4-4c29-b46e-c780462be976.ipynb",
      "provenance": []
    }
  },
  "cells": [
    {
      "cell_type": "markdown",
      "metadata": {
        "id": "4VCsskl0cyd7"
      },
      "source": [
        "# Описание проекта"
      ]
    },
    {
      "cell_type": "markdown",
      "metadata": {
        "id": "31Ur0v_scyd7"
      },
      "source": [
        "Допустим, вы работаете в добывающей компании «ГлавРосГосНефть». Нужно решить, где бурить новую скважину.\n",
        "\n",
        "Вам предоставлены пробы нефти в трёх регионах: в каждом 10 000 месторождений, где измерили качество нефти и объём её запасов. Постройте модель машинного обучения, которая поможет определить регион, где добыча принесёт наибольшую прибыль. Проанализируйте возможную прибыль и риски техникой *Bootstrap.*\n",
        "\n",
        "Шаги для выбора локации:\n",
        "\n",
        "- В избранном регионе ищут месторождения, для каждого определяют значения признаков;\n",
        "- Строят модель и оценивают объём запасов;\n",
        "- Выбирают месторождения с самым высокими оценками значений. Количество месторождений зависит от бюджета компании и стоимости разработки одной скважины;\n",
        "- Прибыль равна суммарной прибыли отобранных месторождений."
      ]
    },
    {
      "cell_type": "markdown",
      "metadata": {
        "id": "Xn75NcLzcyd8"
      },
      "source": [
        "<a id=\"1\"></a>\n",
        "# 1. Загрузка и подготовка данных"
      ]
    },
    {
      "cell_type": "code",
      "metadata": {
        "id": "dJbY0nFLcyd8"
      },
      "source": [
        "import pandas as pd\n",
        "import numpy as np\n",
        "from sklearn.linear_model import LinearRegression\n",
        "from sklearn.metrics import mean_squared_error\n",
        "from sklearn.model_selection import train_test_split\n",
        "import matplotlib.pyplot as plt\n",
        "from sklearn.preprocessing import StandardScaler\n",
        "import warnings\n",
        "warnings.filterwarnings(\"ignore\")\n"
      ],
      "execution_count": null,
      "outputs": []
    },
    {
      "cell_type": "code",
      "metadata": {
        "id": "qr9yr0T_cyd8"
      },
      "source": [
        "geo_data_0 = pd.read_csv('/datasets/geo_data_0.csv')\n",
        "geo_data_1 = pd.read_csv('/datasets/geo_data_1.csv')\n",
        "geo_data_2 = pd.read_csv('/datasets/geo_data_2.csv')"
      ],
      "execution_count": null,
      "outputs": []
    },
    {
      "cell_type": "code",
      "metadata": {
        "id": "BEcRYQt6cyd8"
      },
      "source": [
        "# функция для выведения данных для анализа датафреймов\n",
        "def research(data):\n",
        "\n",
        "    display(data.head())\n",
        "    print(data.info()) \n",
        "    display(data.describe())\n",
        "    print('дубликаты', geo_data_1.duplicated().sum())"
      ],
      "execution_count": null,
      "outputs": []
    },
    {
      "cell_type": "markdown",
      "metadata": {
        "id": "oJcjYPckcyd9"
      },
      "source": [
        "<a id=\"11\"></a>\n",
        "#### Регион 0"
      ]
    },
    {
      "cell_type": "code",
      "metadata": {
        "id": "XQuaX5xJcyd9",
        "outputId": "c08ffe29-e192-4ca7-e516-eb9100819082"
      },
      "source": [
        "research(geo_data_0)"
      ],
      "execution_count": null,
      "outputs": [
        {
          "data": {
            "text/html": [
              "<div>\n",
              "<style scoped>\n",
              "    .dataframe tbody tr th:only-of-type {\n",
              "        vertical-align: middle;\n",
              "    }\n",
              "\n",
              "    .dataframe tbody tr th {\n",
              "        vertical-align: top;\n",
              "    }\n",
              "\n",
              "    .dataframe thead th {\n",
              "        text-align: right;\n",
              "    }\n",
              "</style>\n",
              "<table border=\"1\" class=\"dataframe\">\n",
              "  <thead>\n",
              "    <tr style=\"text-align: right;\">\n",
              "      <th></th>\n",
              "      <th>id</th>\n",
              "      <th>f0</th>\n",
              "      <th>f1</th>\n",
              "      <th>f2</th>\n",
              "      <th>product</th>\n",
              "    </tr>\n",
              "  </thead>\n",
              "  <tbody>\n",
              "    <tr>\n",
              "      <td>0</td>\n",
              "      <td>txEyH</td>\n",
              "      <td>0.705745</td>\n",
              "      <td>-0.497823</td>\n",
              "      <td>1.221170</td>\n",
              "      <td>105.280062</td>\n",
              "    </tr>\n",
              "    <tr>\n",
              "      <td>1</td>\n",
              "      <td>2acmU</td>\n",
              "      <td>1.334711</td>\n",
              "      <td>-0.340164</td>\n",
              "      <td>4.365080</td>\n",
              "      <td>73.037750</td>\n",
              "    </tr>\n",
              "    <tr>\n",
              "      <td>2</td>\n",
              "      <td>409Wp</td>\n",
              "      <td>1.022732</td>\n",
              "      <td>0.151990</td>\n",
              "      <td>1.419926</td>\n",
              "      <td>85.265647</td>\n",
              "    </tr>\n",
              "    <tr>\n",
              "      <td>3</td>\n",
              "      <td>iJLyR</td>\n",
              "      <td>-0.032172</td>\n",
              "      <td>0.139033</td>\n",
              "      <td>2.978566</td>\n",
              "      <td>168.620776</td>\n",
              "    </tr>\n",
              "    <tr>\n",
              "      <td>4</td>\n",
              "      <td>Xdl7t</td>\n",
              "      <td>1.988431</td>\n",
              "      <td>0.155413</td>\n",
              "      <td>4.751769</td>\n",
              "      <td>154.036647</td>\n",
              "    </tr>\n",
              "  </tbody>\n",
              "</table>\n",
              "</div>"
            ],
            "text/plain": [
              "      id        f0        f1        f2     product\n",
              "0  txEyH  0.705745 -0.497823  1.221170  105.280062\n",
              "1  2acmU  1.334711 -0.340164  4.365080   73.037750\n",
              "2  409Wp  1.022732  0.151990  1.419926   85.265647\n",
              "3  iJLyR -0.032172  0.139033  2.978566  168.620776\n",
              "4  Xdl7t  1.988431  0.155413  4.751769  154.036647"
            ]
          },
          "metadata": {},
          "output_type": "display_data"
        },
        {
          "name": "stdout",
          "output_type": "stream",
          "text": [
            "<class 'pandas.core.frame.DataFrame'>\n",
            "RangeIndex: 100000 entries, 0 to 99999\n",
            "Data columns (total 5 columns):\n",
            "id         100000 non-null object\n",
            "f0         100000 non-null float64\n",
            "f1         100000 non-null float64\n",
            "f2         100000 non-null float64\n",
            "product    100000 non-null float64\n",
            "dtypes: float64(4), object(1)\n",
            "memory usage: 3.8+ MB\n",
            "None\n"
          ]
        },
        {
          "data": {
            "text/html": [
              "<div>\n",
              "<style scoped>\n",
              "    .dataframe tbody tr th:only-of-type {\n",
              "        vertical-align: middle;\n",
              "    }\n",
              "\n",
              "    .dataframe tbody tr th {\n",
              "        vertical-align: top;\n",
              "    }\n",
              "\n",
              "    .dataframe thead th {\n",
              "        text-align: right;\n",
              "    }\n",
              "</style>\n",
              "<table border=\"1\" class=\"dataframe\">\n",
              "  <thead>\n",
              "    <tr style=\"text-align: right;\">\n",
              "      <th></th>\n",
              "      <th>f0</th>\n",
              "      <th>f1</th>\n",
              "      <th>f2</th>\n",
              "      <th>product</th>\n",
              "    </tr>\n",
              "  </thead>\n",
              "  <tbody>\n",
              "    <tr>\n",
              "      <td>count</td>\n",
              "      <td>100000.000000</td>\n",
              "      <td>100000.000000</td>\n",
              "      <td>100000.000000</td>\n",
              "      <td>100000.000000</td>\n",
              "    </tr>\n",
              "    <tr>\n",
              "      <td>mean</td>\n",
              "      <td>0.500419</td>\n",
              "      <td>0.250143</td>\n",
              "      <td>2.502647</td>\n",
              "      <td>92.500000</td>\n",
              "    </tr>\n",
              "    <tr>\n",
              "      <td>std</td>\n",
              "      <td>0.871832</td>\n",
              "      <td>0.504433</td>\n",
              "      <td>3.248248</td>\n",
              "      <td>44.288691</td>\n",
              "    </tr>\n",
              "    <tr>\n",
              "      <td>min</td>\n",
              "      <td>-1.408605</td>\n",
              "      <td>-0.848218</td>\n",
              "      <td>-12.088328</td>\n",
              "      <td>0.000000</td>\n",
              "    </tr>\n",
              "    <tr>\n",
              "      <td>25%</td>\n",
              "      <td>-0.072580</td>\n",
              "      <td>-0.200881</td>\n",
              "      <td>0.287748</td>\n",
              "      <td>56.497507</td>\n",
              "    </tr>\n",
              "    <tr>\n",
              "      <td>50%</td>\n",
              "      <td>0.502360</td>\n",
              "      <td>0.250252</td>\n",
              "      <td>2.515969</td>\n",
              "      <td>91.849972</td>\n",
              "    </tr>\n",
              "    <tr>\n",
              "      <td>75%</td>\n",
              "      <td>1.073581</td>\n",
              "      <td>0.700646</td>\n",
              "      <td>4.715088</td>\n",
              "      <td>128.564089</td>\n",
              "    </tr>\n",
              "    <tr>\n",
              "      <td>max</td>\n",
              "      <td>2.362331</td>\n",
              "      <td>1.343769</td>\n",
              "      <td>16.003790</td>\n",
              "      <td>185.364347</td>\n",
              "    </tr>\n",
              "  </tbody>\n",
              "</table>\n",
              "</div>"
            ],
            "text/plain": [
              "                  f0             f1             f2        product\n",
              "count  100000.000000  100000.000000  100000.000000  100000.000000\n",
              "mean        0.500419       0.250143       2.502647      92.500000\n",
              "std         0.871832       0.504433       3.248248      44.288691\n",
              "min        -1.408605      -0.848218     -12.088328       0.000000\n",
              "25%        -0.072580      -0.200881       0.287748      56.497507\n",
              "50%         0.502360       0.250252       2.515969      91.849972\n",
              "75%         1.073581       0.700646       4.715088     128.564089\n",
              "max         2.362331       1.343769      16.003790     185.364347"
            ]
          },
          "metadata": {},
          "output_type": "display_data"
        },
        {
          "name": "stdout",
          "output_type": "stream",
          "text": [
            "дубликаты 0\n"
          ]
        }
      ]
    },
    {
      "cell_type": "markdown",
      "metadata": {
        "id": "2jQc7brecyd9"
      },
      "source": [
        "<a id=\"12\"></a>\n",
        "#### Регион 1"
      ]
    },
    {
      "cell_type": "code",
      "metadata": {
        "id": "HibxdKMncyd9",
        "outputId": "346b57c7-5c92-4b20-a2da-0bb9ce602d74"
      },
      "source": [
        "research(geo_data_1)"
      ],
      "execution_count": null,
      "outputs": [
        {
          "data": {
            "text/html": [
              "<div>\n",
              "<style scoped>\n",
              "    .dataframe tbody tr th:only-of-type {\n",
              "        vertical-align: middle;\n",
              "    }\n",
              "\n",
              "    .dataframe tbody tr th {\n",
              "        vertical-align: top;\n",
              "    }\n",
              "\n",
              "    .dataframe thead th {\n",
              "        text-align: right;\n",
              "    }\n",
              "</style>\n",
              "<table border=\"1\" class=\"dataframe\">\n",
              "  <thead>\n",
              "    <tr style=\"text-align: right;\">\n",
              "      <th></th>\n",
              "      <th>id</th>\n",
              "      <th>f0</th>\n",
              "      <th>f1</th>\n",
              "      <th>f2</th>\n",
              "      <th>product</th>\n",
              "    </tr>\n",
              "  </thead>\n",
              "  <tbody>\n",
              "    <tr>\n",
              "      <td>0</td>\n",
              "      <td>kBEdx</td>\n",
              "      <td>-15.001348</td>\n",
              "      <td>-8.276000</td>\n",
              "      <td>-0.005876</td>\n",
              "      <td>3.179103</td>\n",
              "    </tr>\n",
              "    <tr>\n",
              "      <td>1</td>\n",
              "      <td>62mP7</td>\n",
              "      <td>14.272088</td>\n",
              "      <td>-3.475083</td>\n",
              "      <td>0.999183</td>\n",
              "      <td>26.953261</td>\n",
              "    </tr>\n",
              "    <tr>\n",
              "      <td>2</td>\n",
              "      <td>vyE1P</td>\n",
              "      <td>6.263187</td>\n",
              "      <td>-5.948386</td>\n",
              "      <td>5.001160</td>\n",
              "      <td>134.766305</td>\n",
              "    </tr>\n",
              "    <tr>\n",
              "      <td>3</td>\n",
              "      <td>KcrkZ</td>\n",
              "      <td>-13.081196</td>\n",
              "      <td>-11.506057</td>\n",
              "      <td>4.999415</td>\n",
              "      <td>137.945408</td>\n",
              "    </tr>\n",
              "    <tr>\n",
              "      <td>4</td>\n",
              "      <td>AHL4O</td>\n",
              "      <td>12.702195</td>\n",
              "      <td>-8.147433</td>\n",
              "      <td>5.004363</td>\n",
              "      <td>134.766305</td>\n",
              "    </tr>\n",
              "  </tbody>\n",
              "</table>\n",
              "</div>"
            ],
            "text/plain": [
              "      id         f0         f1        f2     product\n",
              "0  kBEdx -15.001348  -8.276000 -0.005876    3.179103\n",
              "1  62mP7  14.272088  -3.475083  0.999183   26.953261\n",
              "2  vyE1P   6.263187  -5.948386  5.001160  134.766305\n",
              "3  KcrkZ -13.081196 -11.506057  4.999415  137.945408\n",
              "4  AHL4O  12.702195  -8.147433  5.004363  134.766305"
            ]
          },
          "metadata": {},
          "output_type": "display_data"
        },
        {
          "name": "stdout",
          "output_type": "stream",
          "text": [
            "<class 'pandas.core.frame.DataFrame'>\n",
            "RangeIndex: 100000 entries, 0 to 99999\n",
            "Data columns (total 5 columns):\n",
            "id         100000 non-null object\n",
            "f0         100000 non-null float64\n",
            "f1         100000 non-null float64\n",
            "f2         100000 non-null float64\n",
            "product    100000 non-null float64\n",
            "dtypes: float64(4), object(1)\n",
            "memory usage: 3.8+ MB\n",
            "None\n"
          ]
        },
        {
          "data": {
            "text/html": [
              "<div>\n",
              "<style scoped>\n",
              "    .dataframe tbody tr th:only-of-type {\n",
              "        vertical-align: middle;\n",
              "    }\n",
              "\n",
              "    .dataframe tbody tr th {\n",
              "        vertical-align: top;\n",
              "    }\n",
              "\n",
              "    .dataframe thead th {\n",
              "        text-align: right;\n",
              "    }\n",
              "</style>\n",
              "<table border=\"1\" class=\"dataframe\">\n",
              "  <thead>\n",
              "    <tr style=\"text-align: right;\">\n",
              "      <th></th>\n",
              "      <th>f0</th>\n",
              "      <th>f1</th>\n",
              "      <th>f2</th>\n",
              "      <th>product</th>\n",
              "    </tr>\n",
              "  </thead>\n",
              "  <tbody>\n",
              "    <tr>\n",
              "      <td>count</td>\n",
              "      <td>100000.000000</td>\n",
              "      <td>100000.000000</td>\n",
              "      <td>100000.000000</td>\n",
              "      <td>100000.000000</td>\n",
              "    </tr>\n",
              "    <tr>\n",
              "      <td>mean</td>\n",
              "      <td>1.141296</td>\n",
              "      <td>-4.796579</td>\n",
              "      <td>2.494541</td>\n",
              "      <td>68.825000</td>\n",
              "    </tr>\n",
              "    <tr>\n",
              "      <td>std</td>\n",
              "      <td>8.965932</td>\n",
              "      <td>5.119872</td>\n",
              "      <td>1.703572</td>\n",
              "      <td>45.944423</td>\n",
              "    </tr>\n",
              "    <tr>\n",
              "      <td>min</td>\n",
              "      <td>-31.609576</td>\n",
              "      <td>-26.358598</td>\n",
              "      <td>-0.018144</td>\n",
              "      <td>0.000000</td>\n",
              "    </tr>\n",
              "    <tr>\n",
              "      <td>25%</td>\n",
              "      <td>-6.298551</td>\n",
              "      <td>-8.267985</td>\n",
              "      <td>1.000021</td>\n",
              "      <td>26.953261</td>\n",
              "    </tr>\n",
              "    <tr>\n",
              "      <td>50%</td>\n",
              "      <td>1.153055</td>\n",
              "      <td>-4.813172</td>\n",
              "      <td>2.011479</td>\n",
              "      <td>57.085625</td>\n",
              "    </tr>\n",
              "    <tr>\n",
              "      <td>75%</td>\n",
              "      <td>8.621015</td>\n",
              "      <td>-1.332816</td>\n",
              "      <td>3.999904</td>\n",
              "      <td>107.813044</td>\n",
              "    </tr>\n",
              "    <tr>\n",
              "      <td>max</td>\n",
              "      <td>29.421755</td>\n",
              "      <td>18.734063</td>\n",
              "      <td>5.019721</td>\n",
              "      <td>137.945408</td>\n",
              "    </tr>\n",
              "  </tbody>\n",
              "</table>\n",
              "</div>"
            ],
            "text/plain": [
              "                  f0             f1             f2        product\n",
              "count  100000.000000  100000.000000  100000.000000  100000.000000\n",
              "mean        1.141296      -4.796579       2.494541      68.825000\n",
              "std         8.965932       5.119872       1.703572      45.944423\n",
              "min       -31.609576     -26.358598      -0.018144       0.000000\n",
              "25%        -6.298551      -8.267985       1.000021      26.953261\n",
              "50%         1.153055      -4.813172       2.011479      57.085625\n",
              "75%         8.621015      -1.332816       3.999904     107.813044\n",
              "max        29.421755      18.734063       5.019721     137.945408"
            ]
          },
          "metadata": {},
          "output_type": "display_data"
        },
        {
          "name": "stdout",
          "output_type": "stream",
          "text": [
            "дубликаты 0\n"
          ]
        }
      ]
    },
    {
      "cell_type": "markdown",
      "metadata": {
        "id": "thjOCUsDcyd9"
      },
      "source": [
        "<a id=\"13\"></a>\n",
        "#### Регион 2"
      ]
    },
    {
      "cell_type": "code",
      "metadata": {
        "id": "QjJb_cTGcyd-",
        "outputId": "1d4e70e2-c247-41b9-81b4-2b003e3e612e"
      },
      "source": [
        "research(geo_data_2)"
      ],
      "execution_count": null,
      "outputs": [
        {
          "data": {
            "text/html": [
              "<div>\n",
              "<style scoped>\n",
              "    .dataframe tbody tr th:only-of-type {\n",
              "        vertical-align: middle;\n",
              "    }\n",
              "\n",
              "    .dataframe tbody tr th {\n",
              "        vertical-align: top;\n",
              "    }\n",
              "\n",
              "    .dataframe thead th {\n",
              "        text-align: right;\n",
              "    }\n",
              "</style>\n",
              "<table border=\"1\" class=\"dataframe\">\n",
              "  <thead>\n",
              "    <tr style=\"text-align: right;\">\n",
              "      <th></th>\n",
              "      <th>id</th>\n",
              "      <th>f0</th>\n",
              "      <th>f1</th>\n",
              "      <th>f2</th>\n",
              "      <th>product</th>\n",
              "    </tr>\n",
              "  </thead>\n",
              "  <tbody>\n",
              "    <tr>\n",
              "      <td>0</td>\n",
              "      <td>fwXo0</td>\n",
              "      <td>-1.146987</td>\n",
              "      <td>0.963328</td>\n",
              "      <td>-0.828965</td>\n",
              "      <td>27.758673</td>\n",
              "    </tr>\n",
              "    <tr>\n",
              "      <td>1</td>\n",
              "      <td>WJtFt</td>\n",
              "      <td>0.262778</td>\n",
              "      <td>0.269839</td>\n",
              "      <td>-2.530187</td>\n",
              "      <td>56.069697</td>\n",
              "    </tr>\n",
              "    <tr>\n",
              "      <td>2</td>\n",
              "      <td>ovLUW</td>\n",
              "      <td>0.194587</td>\n",
              "      <td>0.289035</td>\n",
              "      <td>-5.586433</td>\n",
              "      <td>62.871910</td>\n",
              "    </tr>\n",
              "    <tr>\n",
              "      <td>3</td>\n",
              "      <td>q6cA6</td>\n",
              "      <td>2.236060</td>\n",
              "      <td>-0.553760</td>\n",
              "      <td>0.930038</td>\n",
              "      <td>114.572842</td>\n",
              "    </tr>\n",
              "    <tr>\n",
              "      <td>4</td>\n",
              "      <td>WPMUX</td>\n",
              "      <td>-0.515993</td>\n",
              "      <td>1.716266</td>\n",
              "      <td>5.899011</td>\n",
              "      <td>149.600746</td>\n",
              "    </tr>\n",
              "  </tbody>\n",
              "</table>\n",
              "</div>"
            ],
            "text/plain": [
              "      id        f0        f1        f2     product\n",
              "0  fwXo0 -1.146987  0.963328 -0.828965   27.758673\n",
              "1  WJtFt  0.262778  0.269839 -2.530187   56.069697\n",
              "2  ovLUW  0.194587  0.289035 -5.586433   62.871910\n",
              "3  q6cA6  2.236060 -0.553760  0.930038  114.572842\n",
              "4  WPMUX -0.515993  1.716266  5.899011  149.600746"
            ]
          },
          "metadata": {},
          "output_type": "display_data"
        },
        {
          "name": "stdout",
          "output_type": "stream",
          "text": [
            "<class 'pandas.core.frame.DataFrame'>\n",
            "RangeIndex: 100000 entries, 0 to 99999\n",
            "Data columns (total 5 columns):\n",
            "id         100000 non-null object\n",
            "f0         100000 non-null float64\n",
            "f1         100000 non-null float64\n",
            "f2         100000 non-null float64\n",
            "product    100000 non-null float64\n",
            "dtypes: float64(4), object(1)\n",
            "memory usage: 3.8+ MB\n",
            "None\n"
          ]
        },
        {
          "data": {
            "text/html": [
              "<div>\n",
              "<style scoped>\n",
              "    .dataframe tbody tr th:only-of-type {\n",
              "        vertical-align: middle;\n",
              "    }\n",
              "\n",
              "    .dataframe tbody tr th {\n",
              "        vertical-align: top;\n",
              "    }\n",
              "\n",
              "    .dataframe thead th {\n",
              "        text-align: right;\n",
              "    }\n",
              "</style>\n",
              "<table border=\"1\" class=\"dataframe\">\n",
              "  <thead>\n",
              "    <tr style=\"text-align: right;\">\n",
              "      <th></th>\n",
              "      <th>f0</th>\n",
              "      <th>f1</th>\n",
              "      <th>f2</th>\n",
              "      <th>product</th>\n",
              "    </tr>\n",
              "  </thead>\n",
              "  <tbody>\n",
              "    <tr>\n",
              "      <td>count</td>\n",
              "      <td>100000.000000</td>\n",
              "      <td>100000.000000</td>\n",
              "      <td>100000.000000</td>\n",
              "      <td>100000.000000</td>\n",
              "    </tr>\n",
              "    <tr>\n",
              "      <td>mean</td>\n",
              "      <td>0.002023</td>\n",
              "      <td>-0.002081</td>\n",
              "      <td>2.495128</td>\n",
              "      <td>95.000000</td>\n",
              "    </tr>\n",
              "    <tr>\n",
              "      <td>std</td>\n",
              "      <td>1.732045</td>\n",
              "      <td>1.730417</td>\n",
              "      <td>3.473445</td>\n",
              "      <td>44.749921</td>\n",
              "    </tr>\n",
              "    <tr>\n",
              "      <td>min</td>\n",
              "      <td>-8.760004</td>\n",
              "      <td>-7.084020</td>\n",
              "      <td>-11.970335</td>\n",
              "      <td>0.000000</td>\n",
              "    </tr>\n",
              "    <tr>\n",
              "      <td>25%</td>\n",
              "      <td>-1.162288</td>\n",
              "      <td>-1.174820</td>\n",
              "      <td>0.130359</td>\n",
              "      <td>59.450441</td>\n",
              "    </tr>\n",
              "    <tr>\n",
              "      <td>50%</td>\n",
              "      <td>0.009424</td>\n",
              "      <td>-0.009482</td>\n",
              "      <td>2.484236</td>\n",
              "      <td>94.925613</td>\n",
              "    </tr>\n",
              "    <tr>\n",
              "      <td>75%</td>\n",
              "      <td>1.158535</td>\n",
              "      <td>1.163678</td>\n",
              "      <td>4.858794</td>\n",
              "      <td>130.595027</td>\n",
              "    </tr>\n",
              "    <tr>\n",
              "      <td>max</td>\n",
              "      <td>7.238262</td>\n",
              "      <td>7.844801</td>\n",
              "      <td>16.739402</td>\n",
              "      <td>190.029838</td>\n",
              "    </tr>\n",
              "  </tbody>\n",
              "</table>\n",
              "</div>"
            ],
            "text/plain": [
              "                  f0             f1             f2        product\n",
              "count  100000.000000  100000.000000  100000.000000  100000.000000\n",
              "mean        0.002023      -0.002081       2.495128      95.000000\n",
              "std         1.732045       1.730417       3.473445      44.749921\n",
              "min        -8.760004      -7.084020     -11.970335       0.000000\n",
              "25%        -1.162288      -1.174820       0.130359      59.450441\n",
              "50%         0.009424      -0.009482       2.484236      94.925613\n",
              "75%         1.158535       1.163678       4.858794     130.595027\n",
              "max         7.238262       7.844801      16.739402     190.029838"
            ]
          },
          "metadata": {},
          "output_type": "display_data"
        },
        {
          "name": "stdout",
          "output_type": "stream",
          "text": [
            "дубликаты 0\n"
          ]
        }
      ]
    },
    {
      "cell_type": "markdown",
      "metadata": {
        "id": "Q59Fr_HFcyd-"
      },
      "source": [
        "### Вывод:  \n",
        "* Дубликатов нет, \n",
        "* id не несет нужной для расчетов информации, можно удалить\n",
        "* Есть 0 значения product, необходимо проанализировать\n",
        "    "
      ]
    },
    {
      "cell_type": "markdown",
      "metadata": {
        "id": "3Y_0OdlXcyd-"
      },
      "source": [
        "Избавимся от столбцов id, так как они имеют для модели пользы"
      ]
    },
    {
      "cell_type": "code",
      "metadata": {
        "id": "5HaDIcL_cyd-"
      },
      "source": [
        "geo_data_0 = geo_data_0.drop(['id'], axis=1)\n",
        "geo_data_1 = geo_data_1.drop(['id'], axis=1)\n",
        "geo_data_2 = geo_data_2.drop(['id'], axis=1)"
      ],
      "execution_count": null,
      "outputs": []
    },
    {
      "cell_type": "markdown",
      "metadata": {
        "id": "JARcAUtvcyd-"
      },
      "source": [
        "<a id=\"14\"></a>\n",
        "#### Нулевые значения product"
      ]
    },
    {
      "cell_type": "code",
      "metadata": {
        "id": "HU3Ntaxdcyd-",
        "outputId": "822ca2ee-b860-4250-9055-8fac2b46833a"
      },
      "source": [
        "print(geo_data_0[geo_data_0['product'] == 0]['product'].count())\n",
        "print(geo_data_1[geo_data_1['product'] == 0]['product'].count())\n",
        "print(geo_data_2[geo_data_2['product'] == 0]['product'].count())"
      ],
      "execution_count": null,
      "outputs": [
        {
          "name": "stdout",
          "output_type": "stream",
          "text": [
            "1\n",
            "8235\n",
            "1\n"
          ]
        }
      ]
    },
    {
      "cell_type": "code",
      "metadata": {
        "id": "YPIfASFScyd_",
        "outputId": "60b983aa-74a1-408a-92ab-800ee5bce888"
      },
      "source": [
        "print(len(geo_data_0['product'].unique()))\n",
        "print(len(geo_data_1['product'].unique()))\n",
        "print(len(geo_data_2['product'].unique()))"
      ],
      "execution_count": null,
      "outputs": [
        {
          "name": "stdout",
          "output_type": "stream",
          "text": [
            "100000\n",
            "12\n",
            "100000\n"
          ]
        }
      ]
    },
    {
      "cell_type": "code",
      "metadata": {
        "id": "5_A3J6fScyd_",
        "outputId": "40d02dbd-0f72-4b5f-8eaf-580ef675962e"
      },
      "source": [
        "geo_data_1['product'].value_counts()"
      ],
      "execution_count": null,
      "outputs": [
        {
          "data": {
            "text/plain": [
              "53.906522     8472\n",
              "26.953261     8468\n",
              "84.038886     8431\n",
              "57.085625     8390\n",
              "3.179103      8337\n",
              "80.859783     8320\n",
              "30.132364     8306\n",
              "134.766305    8304\n",
              "110.992147    8303\n",
              "0.000000      8235\n",
              "137.945408    8233\n",
              "107.813044    8201\n",
              "Name: product, dtype: int64"
            ]
          },
          "execution_count": 10,
          "metadata": {},
          "output_type": "execute_result"
        }
      ]
    },
    {
      "cell_type": "code",
      "metadata": {
        "id": "aYLvoKRbcyd_",
        "outputId": "9f0552c2-b3af-4d9e-a964-c63c9d94a0d2"
      },
      "source": [
        "\n",
        "plt.figure(figsize=[12,9])\n",
        "plt.hist(geo_data_1['product'], bins = 12)\n",
        "plt.title(\"Гистограмма распределения по объему скважин\")\n",
        "plt.show()"
      ],
      "execution_count": null,
      "outputs": [
        {
          "data": {
            "image/png": "[encoded data removed]",
            "text/plain": [
              "<Figure size 864x648 with 1 Axes>"
            ]
          },
          "metadata": {
            "needs_background": "light"
          },
          "output_type": "display_data"
        }
      ]
    },
    {
      "cell_type": "markdown",
      "metadata": {
        "id": "ejKAOVGRcyeA"
      },
      "source": [
        "### Вывод\n",
        "Большое количество нулевых значений, равное распределение и малая вариабельность данных: возможно данные подверглись вручную категоризации, и вследствие этого получилось большое количество нулевых значений.  Нулевые значения нельзя заменить на среднее. В связи с большим количеством этих данных удалять тоже не стоит. "
      ]
    },
    {
      "cell_type": "markdown",
      "metadata": {
        "id": "uGaprVEPcyeA"
      },
      "source": [
        "<a id=\"2\"></a>\n",
        "# 2. Обучение и проверка модели"
      ]
    },
    {
      "cell_type": "markdown",
      "metadata": {
        "id": "5PdWI1QycyeA"
      },
      "source": [
        "<a id=\"21\"></a>\n",
        "Для обучения модели подходит только линейная регрессия  \n",
        "Напишем функцию: На вход она получает регион, делит его на признаки и целевой признак, разбивает данные на обучающую и валидационные выборки, делаем стандартизацию данных рассчитывает метрики RMSE.  \n",
        "Так же рассчитаем среднее значение запасов месторождений в регионе"
      ]
    },
    {
      "cell_type": "code",
      "metadata": {
        "id": "09p5fYCAcyeA"
      },
      "source": [
        "\n",
        "def region_prediction(data):\n",
        "   \n",
        "    features = data.drop([\"product\"], axis=1)\n",
        "    target = data[\"product\"]\n",
        "    features_train, features_valid, target_train, target_valid = train_test_split(features, target, test_size=0.25, random_state=12345)\n",
        "    scaler = StandardScaler()\n",
        "    features_train = scaler.fit_transform(features_train)\n",
        "    features_valid = scaler.transform(features_valid)\n",
        "    \n",
        "    lr = LinearRegression(normalize=False)\n",
        "    lr.fit(features_train, target_train)\n",
        "    predictions = lr.predict(features_valid)\n",
        "    predictions = pd.Series(predictions)\n",
        "    rmse = np.sqrt(mean_squared_error(target_valid, predictions))  \n",
        "    stock_mean = data['product'].mean()\n",
        "    stock_mean_pred = predictions.mean()\n",
        "    return predictions, rmse, stock_mean, stock_mean_pred, target_valid.reset_index(drop=True)"
      ],
      "execution_count": null,
      "outputs": []
    },
    {
      "cell_type": "code",
      "metadata": {
        "id": "zgMlYrd_cyeB",
        "outputId": "e9666281-4625-4955-9676-ae19c978d73f"
      },
      "source": [
        "pred_0, rmse_0, stock_mean_0, stock_mean_pred_0, target_valid_0 = region_prediction(geo_data_0)\n",
        "print('RMSE модели в регионе 0 = {:.3f}'.format(rmse_0))\n",
        "print('Средний запас предсказанного сырья 0 = {:.3f} т. баррелей'.format(stock_mean_pred_0))"
      ],
      "execution_count": null,
      "outputs": [
        {
          "name": "stdout",
          "output_type": "stream",
          "text": [
            "RMSE модели в регионе 0 = 37.579\n",
            "Средний запас предсказанного сырья 0 = 92.593 т. баррелей\n"
          ]
        }
      ]
    },
    {
      "cell_type": "code",
      "metadata": {
        "id": "2y1ke2GGcyeB",
        "outputId": "1814c725-81ec-46c9-cd69-a6aa5ebeff2f"
      },
      "source": [
        "pred_1, rmse_1, stock_mean_1, stock_mean_pred_1, target_valid_1 = region_prediction(geo_data_1)\n",
        "print('RMSE модели в регионе 1 = {:.3f}'.format(rmse_1))\n",
        "print('Средний запас предсказанного сырья 1 = {:.3f} т. баррелей'.format(stock_mean_pred_1))"
      ],
      "execution_count": null,
      "outputs": [
        {
          "name": "stdout",
          "output_type": "stream",
          "text": [
            "RMSE модели в регионе 1 = 0.893\n",
            "Средний запас предсказанного сырья 1 = 68.729 т. баррелей\n"
          ]
        }
      ]
    },
    {
      "cell_type": "code",
      "metadata": {
        "id": "jzEv9XYrcyeB",
        "outputId": "00338e51-58bc-421f-baa8-8d640b533907"
      },
      "source": [
        "pred_2, rmse_2, stock_mean_2, stock_mean_pred_2, target_valid_2 = region_prediction(geo_data_2)\n",
        "print('RMSE модели в регионе 2 = {:.3f}'.format(rmse_2))\n",
        "print('Средний запас предсказанного сырья 2 = {:.3f} т. баррелей'.format(stock_mean_pred_2))"
      ],
      "execution_count": null,
      "outputs": [
        {
          "name": "stdout",
          "output_type": "stream",
          "text": [
            "RMSE модели в регионе 2 = 40.030\n",
            "Средний запас предсказанного сырья 2 = 94.965 т. баррелей\n"
          ]
        }
      ]
    },
    {
      "cell_type": "markdown",
      "metadata": {
        "id": "9rxePOpAcyeC"
      },
      "source": [
        "### Вывод:\n",
        "Лучшие показатели RMSE модели в Регионе 1 (RMSE = 0.893), этот регион более предсказуем. Возможно это следствии явно отредактированных данных.  \n",
        "\n",
        "Средний запас предсказанного сырья 1 = 68.729 т. баррелей, что меньше чем в двух других регионах(92.593  и 94.965)  \n",
        "В этих регионах высокий показатель RMSE, что говорит о том что модель работает хуже, это дает более непредсказуемые результаты, RMSE для постоянного предсказания среднего таргета по Регионам = 44.67 и 44,66, соответственно)\n"
      ]
    },
    {
      "cell_type": "markdown",
      "metadata": {
        "id": "5Q8u9ZmOcyeC"
      },
      "source": [
        "<a id=\"3\"></a>\n",
        "# 3. Подготовка к расчёту прибыли"
      ]
    },
    {
      "cell_type": "markdown",
      "metadata": {
        "id": "zKYyxbzZcyeC"
      },
      "source": [
        "<a id=\"31\"></a>\n",
        "Сохраним ключевые значения для расчетов в отдельных переменных"
      ]
    },
    {
      "cell_type": "code",
      "metadata": {
        "id": "scrGXCY5cyeC"
      },
      "source": [
        "BUDGET = 10000000000 \n",
        "BEST_WELLS = 200\n",
        "BARREL_PROFIT = 450*1000\n",
        "TOTAL_WELLS = 500 \n",
        "RISK_LOSS = 0.025 "
      ],
      "execution_count": null,
      "outputs": []
    },
    {
      "cell_type": "code",
      "metadata": {
        "id": "chiGAjVOcyeC",
        "outputId": "97f4c351-f9f9-4bf3-edff-e26a77020f90"
      },
      "source": [
        "DRILLING_COST = BUDGET/BEST_WELLS\n",
        "print('Бюджет бурения одного месторождения, руб:', DRILLING_COST)"
      ],
      "execution_count": null,
      "outputs": [
        {
          "name": "stdout",
          "output_type": "stream",
          "text": [
            "Бюджет бурения одного месторождения, руб: 50000000.0\n"
          ]
        }
      ]
    },
    {
      "cell_type": "code",
      "metadata": {
        "id": "MkSb91rCcyeC",
        "outputId": "1f8be46a-ceb4-48d8-9c1b-9a825cc66d45"
      },
      "source": [
        "print('Объём сырья для безубыточной разработки новой скважины  = {:.3f} т. баррелей'.format(DRILLING_COST / BARREL_PROFIT))"
      ],
      "execution_count": null,
      "outputs": [
        {
          "name": "stdout",
          "output_type": "stream",
          "text": [
            "Объём сырья для безубыточной разработки новой скважины  = 111.111 т. баррелей\n"
          ]
        }
      ]
    },
    {
      "cell_type": "code",
      "metadata": {
        "id": "JkXt2t_4cyeD",
        "outputId": "f3d42c67-1522-4105-839d-31aa8d0a966a"
      },
      "source": [
        "print('Средний запас сырья региона 0 = {:.3f} т. баррелей'.format(stock_mean_0))\n",
        "print('Средний запас сырья региона 1 = {:.3f} т. баррелей'.format(stock_mean_1))\n",
        "print('Средний запас сырья региона 2 = {:.3f} т. баррелей'.format(stock_mean_2))"
      ],
      "execution_count": null,
      "outputs": [
        {
          "name": "stdout",
          "output_type": "stream",
          "text": [
            "Средний запас сырья региона 0 = 92.500 т. баррелей\n",
            "Средний запас сырья региона 1 = 68.825 т. баррелей\n",
            "Средний запас сырья региона 2 = 95.000 т. баррелей\n"
          ]
        }
      ]
    },
    {
      "cell_type": "markdown",
      "metadata": {
        "id": "MnMqJv41cyeD"
      },
      "source": [
        "### Вывод:  \n",
        "* Средний запас сырья в скважинах меньше, чем необходимый объем сырья для безубыточности.  \n",
        "* Необходимо для безубыточной разработки новой скважины  = 111.111 т. баррелей\n",
        "* Необходимо разрабатывать только перспективные скважины"
      ]
    },
    {
      "cell_type": "markdown",
      "metadata": {
        "id": "H14mMA3icyeD"
      },
      "source": [
        "<a id=\"4\"></a>\n",
        "# 4. Расчёт прибыли и рисков "
      ]
    },
    {
      "cell_type": "markdown",
      "metadata": {
        "id": "EzDeExcmcyeD"
      },
      "source": [
        "<a id=\"41\"></a>\n",
        "#### Функция для расчёта прибыли по выбранным скважинам и предсказаниям модели"
      ]
    },
    {
      "cell_type": "code",
      "metadata": {
        "id": "un7mKzzCcyeD"
      },
      "source": [
        "def profit(prediction, target):\n",
        "    data = pd.concat([prediction, target],axis=1)\n",
        "    data.columns = ['prediction','target']\n",
        "    data = data.sort_values(by = 'prediction', ascending = False)[:BEST_WELLS]\n",
        "    return (data['target'].sum() * BARREL_PROFIT - BUDGET)\n",
        "\n"
      ],
      "execution_count": null,
      "outputs": []
    },
    {
      "cell_type": "code",
      "metadata": {
        "id": "9GOYyj-7cyeE",
        "outputId": "31813246-1c4e-42e0-9d57-d27063c5eee9"
      },
      "source": [
        "revenue_0 = profit(pred_0, target_valid_0)\n",
        "\n",
        "print('Прибыль для полученного объёма сырья региона 0 = {} млн. руб'.format(revenue_0  / 10e6))"
      ],
      "execution_count": null,
      "outputs": [
        {
          "name": "stdout",
          "output_type": "stream",
          "text": [
            "Прибыль для полученного объёма сырья региона 0 = 332.08260431398526 млн. руб\n"
          ]
        }
      ]
    },
    {
      "cell_type": "code",
      "metadata": {
        "id": "S5lcPYddcyeE",
        "outputId": "49dee72b-4ed0-4d4c-a9af-50e21c8261f4"
      },
      "source": [
        "revenue_0 = profit(pred_1, target_valid_1)\n",
        "\n",
        "print('Прибыль для полученного объёма сырья региона 1 = {} млн. руб'.format(revenue_0 / 10e6))"
      ],
      "execution_count": null,
      "outputs": [
        {
          "name": "stdout",
          "output_type": "stream",
          "text": [
            "Прибыль для полученного объёма сырья региона 1 = 241.5086696681511 млн. руб\n"
          ]
        }
      ]
    },
    {
      "cell_type": "code",
      "metadata": {
        "id": "h24XNX8scyeE",
        "outputId": "10d90376-7555-488f-f02c-7f1786945361"
      },
      "source": [
        "revenue_0 = profit(pred_2, target_valid_2)\n",
        "\n",
        "print('Прибыль для полученного объёма сырья региона 2 = {} млн. руб'.format(revenue_0 / 10e6))"
      ],
      "execution_count": null,
      "outputs": [
        {
          "name": "stdout",
          "output_type": "stream",
          "text": [
            "Прибыль для полученного объёма сырья региона 2 = 271.03499635998327 млн. руб\n"
          ]
        }
      ]
    },
    {
      "cell_type": "markdown",
      "metadata": {
        "id": "VDHqbkdncyeE"
      },
      "source": [
        "<a id=\"42\"></a>\n",
        "#### Функция для расчетов прибыли и рисков для каждого региона с применением техники Bootstrap "
      ]
    },
    {
      "cell_type": "code",
      "metadata": {
        "id": "J6JflgGxcyeE"
      },
      "source": [
        "def estimate(prediction, target):\n",
        "    state = np.random.RandomState(12345)\n",
        "    values = []\n",
        "    for i in range(1000):\n",
        "        target_subsample = target.sample(n=500, replace=True, random_state=state)\n",
        "        pred_subsample = prediction[target_subsample.index]\n",
        "        values.append(profit(pred_subsample, target_subsample))\n",
        "    values = pd.Series(values)\n",
        "    mean = np.mean(values) / 10e6\n",
        "    lower = values.quantile(0.025) / 10e6\n",
        "    upper = values.quantile(0.975) / 10e6\n",
        "    confidence_interval = (lower, upper)\n",
        "    risk_of_loss = (values < 0).sum() / values.count()\n",
        "    \n",
        "    print('Средняя прибыль = {:.2f} млн.руб.'.format(mean))\n",
        "    print('95% доверительный интервал от {:.2f} до {:.2f} млн.руб.'.format(lower, upper))\n",
        "    print('Процент риска {:.1%}'.format(risk_of_loss))"
      ],
      "execution_count": null,
      "outputs": []
    },
    {
      "cell_type": "markdown",
      "metadata": {
        "id": "nG5Xkr5ecyeF"
      },
      "source": [
        "#### Регион 0"
      ]
    },
    {
      "cell_type": "code",
      "metadata": {
        "scrolled": true,
        "id": "M9-gEYPbcyeF",
        "outputId": "6ab198db-7be2-4b38-a1b4-a99ca6ce026b"
      },
      "source": [
        "region_0 = estimate(pred_0, target_valid_0)"
      ],
      "execution_count": null,
      "outputs": [
        {
          "name": "stdout",
          "output_type": "stream",
          "text": [
            "Средняя прибыль = 39.62 млн.руб.\n",
            "95% доверительный интервал от -11.12 до 90.98 млн.руб.\n",
            "Процент риска 6.9%\n"
          ]
        }
      ]
    },
    {
      "cell_type": "markdown",
      "metadata": {
        "id": "9WuSyZDdcyeF"
      },
      "source": [
        "#### Регион 1"
      ]
    },
    {
      "cell_type": "code",
      "metadata": {
        "scrolled": true,
        "id": "7vit0Ko_cyeF",
        "outputId": "e3451103-fc22-4833-c1e6-a0ef21b3c4f5"
      },
      "source": [
        "region_1 = estimate(pred_1, target_valid_1)"
      ],
      "execution_count": null,
      "outputs": [
        {
          "name": "stdout",
          "output_type": "stream",
          "text": [
            "Средняя прибыль = 45.60 млн.руб.\n",
            "95% доверительный интервал от 3.38 до 85.23 млн.руб.\n",
            "Процент риска 1.5%\n"
          ]
        }
      ]
    },
    {
      "cell_type": "markdown",
      "metadata": {
        "id": "41doVdrxcyeF"
      },
      "source": [
        "#### Регион 2"
      ]
    },
    {
      "cell_type": "code",
      "metadata": {
        "scrolled": true,
        "id": "i5F5u7jVcyeF",
        "outputId": "de4e6e2e-43de-4ca4-fb23-bba40beac801"
      },
      "source": [
        "region_2 = estimate(pred_2, target_valid_2)"
      ],
      "execution_count": null,
      "outputs": [
        {
          "name": "stdout",
          "output_type": "stream",
          "text": [
            "Средняя прибыль = 40.44 млн.руб.\n",
            "95% доверительный интервал от -16.34 до 95.04 млн.руб.\n",
            "Процент риска 7.6%\n"
          ]
        }
      ]
    },
    {
      "cell_type": "markdown",
      "metadata": {
        "id": "qeqzO_vUcyeF"
      },
      "source": [
        "<a id=\"5\"></a>\n",
        "### Общий вывод\n",
        "Изучили предоставленные данные трёх регионов, обучили модель линейной регрессии и сделали расчёт прибыли и рисков для каждого региона.  \n",
        "\n",
        "Наиболее перспективный регион 1. Добыча нефти в этом регионе связана с наименьшим риском и предполагается получит наибольшую среднюю прибыль.   \n",
        "Остальные регионы имеют вероятность убытков больше 2.5%, что не соответствует условию поставленной задачи."
      ]
    }
  ]
}