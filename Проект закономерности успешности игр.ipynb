{
  "nbformat": 4,
  "nbformat_minor": 0,
  "metadata": {
    "kernelspec": {
      "display_name": "Python 3",
      "language": "python",
      "name": "python3"
    },
    "language_info": {
      "codemirror_mode": {
        "name": "ipython",
        "version": 3
      },
      "file_extension": ".py",
      "mimetype": "text/x-python",
      "name": "python",
      "nbconvert_exporter": "python",
      "pygments_lexer": "ipython3",
      "version": "3.7.8"
    },
    "toc": {
      "base_numbering": 1,
      "nav_menu": {},
      "number_sections": true,
      "sideBar": true,
      "skip_h1_title": true,
      "title_cell": "Table of Contents",
      "title_sidebar": "Contents",
      "toc_cell": false,
      "toc_position": {},
      "toc_section_display": true,
      "toc_window_display": false
    },
    "colab": {
      "name": "6393e9c7-b4f3-4765-883b-ad426db186e4 (1).ipynb",
      "provenance": [],
      "include_colab_link": true
    }
  },
  "cells": [
    {
      "cell_type": "markdown",
      "metadata": {
        "id": "view-in-github",
        "colab_type": "text"
      },
      "source": [
        "<a href=\"https://colab.research.google.com/github/supercurlyman/praktikum.yandex/blob/master/%D0%9F%D1%80%D0%BE%D0%B5%D0%BA%D1%82%20%D0%B7%D0%B0%D0%BA%D0%BE%D0%BD%D0%BE%D0%BC%D0%B5%D1%80%D0%BD%D0%BE%D1%81%D1%82%D0%B8%20%D1%83%D1%81%D0%BF%D0%B5%D1%88%D0%BD%D0%BE%D1%81%D1%82%D0%B8%20%D0%B8%D0%B3%D1%80.ipynb\" target=\"_parent\"><img src=\"https://colab.research.google.com/assets/colab-badge.svg\" alt=\"Open In Colab\"/></a>"
      ]
    },
    {
      "cell_type": "markdown",
      "metadata": {
        "id": "lRU-17vOcjGn"
      },
      "source": [
        "# Сборный проект # 1"
      ]
    },
    {
      "cell_type": "markdown",
      "metadata": {
        "id": "RAOwid9_cjGp"
      },
      "source": [
        "нужно выявить определяющие успешность игры закономерности. Это позволит сделать ставку на потенциально популярный продукт и спланировать рекламные кампании."
      ]
    },
    {
      "cell_type": "code",
      "metadata": {
        "colab": {
          "base_uri": "https://localhost:8080/"
        },
        "id": "-4eRxvLzdOKH",
        "outputId": "dbb83522-dffc-4596-97f7-9db3bbb1ff27"
      },
      "source": [
        "from google.colab import drive\n",
        "drive.mount('/content/drive')"
      ],
      "execution_count": null,
      "outputs": [
        {
          "output_type": "stream",
          "text": [
            "Drive already mounted at /content/drive; to attempt to forcibly remount, call drive.mount(\"/content/drive\", force_remount=True).\n"
          ],
          "name": "stdout"
        }
      ]
    },
    {
      "cell_type": "markdown",
      "metadata": {
        "id": "OZGNXRkgcjGq"
      },
      "source": [
        "## Оглавление\n",
        "### [Часть 1. Откройте файл с данными и изучите общую информацию.](#1)\n",
        "### [Часть 2. Подготовка данных.](#2)\n",
        "#### [Приведем названия столбцов к нижнему регистру.](#21)\n",
        "#### [Обработка пропусков.](#22)\n",
        "#### [Преобразуйте данные в нужные типы.](#23)\n",
        "#### [Посчитайте суммарные продажи во всех регионах и запишите их в отдельный столбец.](#24)\n",
        "### [Часть 3. Исследовательский анализ данных](#3)\n",
        "#### [Cколько игр выпускалось в разные годы:](#31)\n",
        "#### [Продажи по платформам по годам](#32)\n",
        "#### [Возьмите данные за соответствующий актуальный период.](#33)\n",
        "#### [Выберите несколько потенциально прибыльных платформ.](#34)\n",
        "#### [Постройте график «ящик с усами» по глобальным продажам игр в разбивке по платформам.](#35)\n",
        "#### [Постройте диаграмму рассеяния и посчитайте корреляцию между отзывами и продажами.](#36)\n",
        "#### [Соотнесите выводы с продажами игр на других платформах](#37)\n",
        "#### [Общее распределение игр по жанрам. ](#38)\n",
        "### [Часть 4. Составьте портрет пользователя каждого региона](#4)\n",
        "#### [Самые популярные платформы (топ-5).](#41)\n",
        "#### [Самые популярные жанры (топ-5).](#42)\n",
        "#### [Влияние рейтинга ESRB на продажи в отдельном регионе](#43)\n",
        "### [Часть 5. Проверка гипотезы](#5)\n",
        "#### [Средние пользовательские рейтинги платформ Xbox One и PC одинаковые.](#51)\n",
        "#### [Средние пользовательские рейтинги жанров Action и Sportsразные.](#52)\n",
        "### [Часть 6. Общий вывод](#6)"
      ]
    },
    {
      "cell_type": "markdown",
      "metadata": {
        "id": "QMjE2T3IcjGs"
      },
      "source": [
        "<a id=\"1\"></a>\n",
        "## Часть 1. Откройте файл с данными и изучите общую информацию"
      ]
    },
    {
      "cell_type": "code",
      "metadata": {
        "id": "Am1onsQ9cjGt"
      },
      "source": [
        "import pandas as pd\n",
        "import seaborn as sns\n",
        "import matplotlib.pyplot as plt\n",
        "from scipy import stats as st\n",
        "from statistics import mean\n",
        "import numpy as np"
      ],
      "execution_count": null,
      "outputs": []
    },
    {
      "cell_type": "code",
      "metadata": {
        "colab": {
          "base_uri": "https://localhost:8080/",
          "height": 979
        },
        "id": "nPtO9uvlcjGv",
        "outputId": "f5d7d9ea-621b-48bb-ee83-92209b7932c0"
      },
      "source": [
        "games = pd.read_csv('/content/drive/MyDrive/Colab Notebooks/datasets/games.csv')\n",
        "games.head(30)"
      ],
      "execution_count": null,
      "outputs": [
        {
          "output_type": "execute_result",
          "data": {
            "text/html": [
              "<div>\n",
              "<style scoped>\n",
              "    .dataframe tbody tr th:only-of-type {\n",
              "        vertical-align: middle;\n",
              "    }\n",
              "\n",
              "    .dataframe tbody tr th {\n",
              "        vertical-align: top;\n",
              "    }\n",
              "\n",
              "    .dataframe thead th {\n",
              "        text-align: right;\n",
              "    }\n",
              "</style>\n",
              "<table border=\"1\" class=\"dataframe\">\n",
              "  <thead>\n",
              "    <tr style=\"text-align: right;\">\n",
              "      <th></th>\n",
              "      <th>Name</th>\n",
              "      <th>Platform</th>\n",
              "      <th>Year_of_Release</th>\n",
              "      <th>Genre</th>\n",
              "      <th>NA_sales</th>\n",
              "      <th>EU_sales</th>\n",
              "      <th>JP_sales</th>\n",
              "      <th>Other_sales</th>\n",
              "      <th>Critic_Score</th>\n",
              "      <th>User_Score</th>\n",
              "      <th>Rating</th>\n",
              "    </tr>\n",
              "  </thead>\n",
              "  <tbody>\n",
              "    <tr>\n",
              "      <th>0</th>\n",
              "      <td>Wii Sports</td>\n",
              "      <td>Wii</td>\n",
              "      <td>2006.0</td>\n",
              "      <td>Sports</td>\n",
              "      <td>41.36</td>\n",
              "      <td>28.96</td>\n",
              "      <td>3.77</td>\n",
              "      <td>8.45</td>\n",
              "      <td>76.0</td>\n",
              "      <td>8</td>\n",
              "      <td>E</td>\n",
              "    </tr>\n",
              "    <tr>\n",
              "      <th>1</th>\n",
              "      <td>Super Mario Bros.</td>\n",
              "      <td>NES</td>\n",
              "      <td>1985.0</td>\n",
              "      <td>Platform</td>\n",
              "      <td>29.08</td>\n",
              "      <td>3.58</td>\n",
              "      <td>6.81</td>\n",
              "      <td>0.77</td>\n",
              "      <td>NaN</td>\n",
              "      <td>NaN</td>\n",
              "      <td>NaN</td>\n",
              "    </tr>\n",
              "    <tr>\n",
              "      <th>2</th>\n",
              "      <td>Mario Kart Wii</td>\n",
              "      <td>Wii</td>\n",
              "      <td>2008.0</td>\n",
              "      <td>Racing</td>\n",
              "      <td>15.68</td>\n",
              "      <td>12.76</td>\n",
              "      <td>3.79</td>\n",
              "      <td>3.29</td>\n",
              "      <td>82.0</td>\n",
              "      <td>8.3</td>\n",
              "      <td>E</td>\n",
              "    </tr>\n",
              "    <tr>\n",
              "      <th>3</th>\n",
              "      <td>Wii Sports Resort</td>\n",
              "      <td>Wii</td>\n",
              "      <td>2009.0</td>\n",
              "      <td>Sports</td>\n",
              "      <td>15.61</td>\n",
              "      <td>10.93</td>\n",
              "      <td>3.28</td>\n",
              "      <td>2.95</td>\n",
              "      <td>80.0</td>\n",
              "      <td>8</td>\n",
              "      <td>E</td>\n",
              "    </tr>\n",
              "    <tr>\n",
              "      <th>4</th>\n",
              "      <td>Pokemon Red/Pokemon Blue</td>\n",
              "      <td>GB</td>\n",
              "      <td>1996.0</td>\n",
              "      <td>Role-Playing</td>\n",
              "      <td>11.27</td>\n",
              "      <td>8.89</td>\n",
              "      <td>10.22</td>\n",
              "      <td>1.00</td>\n",
              "      <td>NaN</td>\n",
              "      <td>NaN</td>\n",
              "      <td>NaN</td>\n",
              "    </tr>\n",
              "    <tr>\n",
              "      <th>5</th>\n",
              "      <td>Tetris</td>\n",
              "      <td>GB</td>\n",
              "      <td>1989.0</td>\n",
              "      <td>Puzzle</td>\n",
              "      <td>23.20</td>\n",
              "      <td>2.26</td>\n",
              "      <td>4.22</td>\n",
              "      <td>0.58</td>\n",
              "      <td>NaN</td>\n",
              "      <td>NaN</td>\n",
              "      <td>NaN</td>\n",
              "    </tr>\n",
              "    <tr>\n",
              "      <th>6</th>\n",
              "      <td>New Super Mario Bros.</td>\n",
              "      <td>DS</td>\n",
              "      <td>2006.0</td>\n",
              "      <td>Platform</td>\n",
              "      <td>11.28</td>\n",
              "      <td>9.14</td>\n",
              "      <td>6.50</td>\n",
              "      <td>2.88</td>\n",
              "      <td>89.0</td>\n",
              "      <td>8.5</td>\n",
              "      <td>E</td>\n",
              "    </tr>\n",
              "    <tr>\n",
              "      <th>7</th>\n",
              "      <td>Wii Play</td>\n",
              "      <td>Wii</td>\n",
              "      <td>2006.0</td>\n",
              "      <td>Misc</td>\n",
              "      <td>13.96</td>\n",
              "      <td>9.18</td>\n",
              "      <td>2.93</td>\n",
              "      <td>2.84</td>\n",
              "      <td>58.0</td>\n",
              "      <td>6.6</td>\n",
              "      <td>E</td>\n",
              "    </tr>\n",
              "    <tr>\n",
              "      <th>8</th>\n",
              "      <td>New Super Mario Bros. Wii</td>\n",
              "      <td>Wii</td>\n",
              "      <td>2009.0</td>\n",
              "      <td>Platform</td>\n",
              "      <td>14.44</td>\n",
              "      <td>6.94</td>\n",
              "      <td>4.70</td>\n",
              "      <td>2.24</td>\n",
              "      <td>87.0</td>\n",
              "      <td>8.4</td>\n",
              "      <td>E</td>\n",
              "    </tr>\n",
              "    <tr>\n",
              "      <th>9</th>\n",
              "      <td>Duck Hunt</td>\n",
              "      <td>NES</td>\n",
              "      <td>1984.0</td>\n",
              "      <td>Shooter</td>\n",
              "      <td>26.93</td>\n",
              "      <td>0.63</td>\n",
              "      <td>0.28</td>\n",
              "      <td>0.47</td>\n",
              "      <td>NaN</td>\n",
              "      <td>NaN</td>\n",
              "      <td>NaN</td>\n",
              "    </tr>\n",
              "    <tr>\n",
              "      <th>10</th>\n",
              "      <td>Nintendogs</td>\n",
              "      <td>DS</td>\n",
              "      <td>2005.0</td>\n",
              "      <td>Simulation</td>\n",
              "      <td>9.05</td>\n",
              "      <td>10.95</td>\n",
              "      <td>1.93</td>\n",
              "      <td>2.74</td>\n",
              "      <td>NaN</td>\n",
              "      <td>NaN</td>\n",
              "      <td>NaN</td>\n",
              "    </tr>\n",
              "    <tr>\n",
              "      <th>11</th>\n",
              "      <td>Mario Kart DS</td>\n",
              "      <td>DS</td>\n",
              "      <td>2005.0</td>\n",
              "      <td>Racing</td>\n",
              "      <td>9.71</td>\n",
              "      <td>7.47</td>\n",
              "      <td>4.13</td>\n",
              "      <td>1.90</td>\n",
              "      <td>91.0</td>\n",
              "      <td>8.6</td>\n",
              "      <td>E</td>\n",
              "    </tr>\n",
              "    <tr>\n",
              "      <th>12</th>\n",
              "      <td>Pokemon Gold/Pokemon Silver</td>\n",
              "      <td>GB</td>\n",
              "      <td>1999.0</td>\n",
              "      <td>Role-Playing</td>\n",
              "      <td>9.00</td>\n",
              "      <td>6.18</td>\n",
              "      <td>7.20</td>\n",
              "      <td>0.71</td>\n",
              "      <td>NaN</td>\n",
              "      <td>NaN</td>\n",
              "      <td>NaN</td>\n",
              "    </tr>\n",
              "    <tr>\n",
              "      <th>13</th>\n",
              "      <td>Wii Fit</td>\n",
              "      <td>Wii</td>\n",
              "      <td>2007.0</td>\n",
              "      <td>Sports</td>\n",
              "      <td>8.92</td>\n",
              "      <td>8.03</td>\n",
              "      <td>3.60</td>\n",
              "      <td>2.15</td>\n",
              "      <td>80.0</td>\n",
              "      <td>7.7</td>\n",
              "      <td>E</td>\n",
              "    </tr>\n",
              "    <tr>\n",
              "      <th>14</th>\n",
              "      <td>Kinect Adventures!</td>\n",
              "      <td>X360</td>\n",
              "      <td>2010.0</td>\n",
              "      <td>Misc</td>\n",
              "      <td>15.00</td>\n",
              "      <td>4.89</td>\n",
              "      <td>0.24</td>\n",
              "      <td>1.69</td>\n",
              "      <td>61.0</td>\n",
              "      <td>6.3</td>\n",
              "      <td>E</td>\n",
              "    </tr>\n",
              "    <tr>\n",
              "      <th>15</th>\n",
              "      <td>Wii Fit Plus</td>\n",
              "      <td>Wii</td>\n",
              "      <td>2009.0</td>\n",
              "      <td>Sports</td>\n",
              "      <td>9.01</td>\n",
              "      <td>8.49</td>\n",
              "      <td>2.53</td>\n",
              "      <td>1.77</td>\n",
              "      <td>80.0</td>\n",
              "      <td>7.4</td>\n",
              "      <td>E</td>\n",
              "    </tr>\n",
              "    <tr>\n",
              "      <th>16</th>\n",
              "      <td>Grand Theft Auto V</td>\n",
              "      <td>PS3</td>\n",
              "      <td>2013.0</td>\n",
              "      <td>Action</td>\n",
              "      <td>7.02</td>\n",
              "      <td>9.09</td>\n",
              "      <td>0.98</td>\n",
              "      <td>3.96</td>\n",
              "      <td>97.0</td>\n",
              "      <td>8.2</td>\n",
              "      <td>M</td>\n",
              "    </tr>\n",
              "    <tr>\n",
              "      <th>17</th>\n",
              "      <td>Grand Theft Auto: San Andreas</td>\n",
              "      <td>PS2</td>\n",
              "      <td>2004.0</td>\n",
              "      <td>Action</td>\n",
              "      <td>9.43</td>\n",
              "      <td>0.40</td>\n",
              "      <td>0.41</td>\n",
              "      <td>10.57</td>\n",
              "      <td>95.0</td>\n",
              "      <td>9</td>\n",
              "      <td>M</td>\n",
              "    </tr>\n",
              "    <tr>\n",
              "      <th>18</th>\n",
              "      <td>Super Mario World</td>\n",
              "      <td>SNES</td>\n",
              "      <td>1990.0</td>\n",
              "      <td>Platform</td>\n",
              "      <td>12.78</td>\n",
              "      <td>3.75</td>\n",
              "      <td>3.54</td>\n",
              "      <td>0.55</td>\n",
              "      <td>NaN</td>\n",
              "      <td>NaN</td>\n",
              "      <td>NaN</td>\n",
              "    </tr>\n",
              "    <tr>\n",
              "      <th>19</th>\n",
              "      <td>Brain Age: Train Your Brain in Minutes a Day</td>\n",
              "      <td>DS</td>\n",
              "      <td>2005.0</td>\n",
              "      <td>Misc</td>\n",
              "      <td>4.74</td>\n",
              "      <td>9.20</td>\n",
              "      <td>4.16</td>\n",
              "      <td>2.04</td>\n",
              "      <td>77.0</td>\n",
              "      <td>7.9</td>\n",
              "      <td>E</td>\n",
              "    </tr>\n",
              "    <tr>\n",
              "      <th>20</th>\n",
              "      <td>Pokemon Diamond/Pokemon Pearl</td>\n",
              "      <td>DS</td>\n",
              "      <td>2006.0</td>\n",
              "      <td>Role-Playing</td>\n",
              "      <td>6.38</td>\n",
              "      <td>4.46</td>\n",
              "      <td>6.04</td>\n",
              "      <td>1.36</td>\n",
              "      <td>NaN</td>\n",
              "      <td>NaN</td>\n",
              "      <td>NaN</td>\n",
              "    </tr>\n",
              "    <tr>\n",
              "      <th>21</th>\n",
              "      <td>Super Mario Land</td>\n",
              "      <td>GB</td>\n",
              "      <td>1989.0</td>\n",
              "      <td>Platform</td>\n",
              "      <td>10.83</td>\n",
              "      <td>2.71</td>\n",
              "      <td>4.18</td>\n",
              "      <td>0.42</td>\n",
              "      <td>NaN</td>\n",
              "      <td>NaN</td>\n",
              "      <td>NaN</td>\n",
              "    </tr>\n",
              "    <tr>\n",
              "      <th>22</th>\n",
              "      <td>Super Mario Bros. 3</td>\n",
              "      <td>NES</td>\n",
              "      <td>1988.0</td>\n",
              "      <td>Platform</td>\n",
              "      <td>9.54</td>\n",
              "      <td>3.44</td>\n",
              "      <td>3.84</td>\n",
              "      <td>0.46</td>\n",
              "      <td>NaN</td>\n",
              "      <td>NaN</td>\n",
              "      <td>NaN</td>\n",
              "    </tr>\n",
              "    <tr>\n",
              "      <th>23</th>\n",
              "      <td>Grand Theft Auto V</td>\n",
              "      <td>X360</td>\n",
              "      <td>2013.0</td>\n",
              "      <td>Action</td>\n",
              "      <td>9.66</td>\n",
              "      <td>5.14</td>\n",
              "      <td>0.06</td>\n",
              "      <td>1.41</td>\n",
              "      <td>97.0</td>\n",
              "      <td>8.1</td>\n",
              "      <td>M</td>\n",
              "    </tr>\n",
              "    <tr>\n",
              "      <th>24</th>\n",
              "      <td>Grand Theft Auto: Vice City</td>\n",
              "      <td>PS2</td>\n",
              "      <td>2002.0</td>\n",
              "      <td>Action</td>\n",
              "      <td>8.41</td>\n",
              "      <td>5.49</td>\n",
              "      <td>0.47</td>\n",
              "      <td>1.78</td>\n",
              "      <td>95.0</td>\n",
              "      <td>8.7</td>\n",
              "      <td>M</td>\n",
              "    </tr>\n",
              "    <tr>\n",
              "      <th>25</th>\n",
              "      <td>Pokemon Ruby/Pokemon Sapphire</td>\n",
              "      <td>GBA</td>\n",
              "      <td>2002.0</td>\n",
              "      <td>Role-Playing</td>\n",
              "      <td>6.06</td>\n",
              "      <td>3.90</td>\n",
              "      <td>5.38</td>\n",
              "      <td>0.50</td>\n",
              "      <td>NaN</td>\n",
              "      <td>NaN</td>\n",
              "      <td>NaN</td>\n",
              "    </tr>\n",
              "    <tr>\n",
              "      <th>26</th>\n",
              "      <td>Brain Age 2: More Training in Minutes a Day</td>\n",
              "      <td>DS</td>\n",
              "      <td>2005.0</td>\n",
              "      <td>Puzzle</td>\n",
              "      <td>3.43</td>\n",
              "      <td>5.35</td>\n",
              "      <td>5.32</td>\n",
              "      <td>1.18</td>\n",
              "      <td>77.0</td>\n",
              "      <td>7.1</td>\n",
              "      <td>E</td>\n",
              "    </tr>\n",
              "    <tr>\n",
              "      <th>27</th>\n",
              "      <td>Pokemon Black/Pokemon White</td>\n",
              "      <td>DS</td>\n",
              "      <td>2010.0</td>\n",
              "      <td>Role-Playing</td>\n",
              "      <td>5.51</td>\n",
              "      <td>3.17</td>\n",
              "      <td>5.65</td>\n",
              "      <td>0.80</td>\n",
              "      <td>NaN</td>\n",
              "      <td>NaN</td>\n",
              "      <td>NaN</td>\n",
              "    </tr>\n",
              "    <tr>\n",
              "      <th>28</th>\n",
              "      <td>Gran Turismo 3: A-Spec</td>\n",
              "      <td>PS2</td>\n",
              "      <td>2001.0</td>\n",
              "      <td>Racing</td>\n",
              "      <td>6.85</td>\n",
              "      <td>5.09</td>\n",
              "      <td>1.87</td>\n",
              "      <td>1.16</td>\n",
              "      <td>95.0</td>\n",
              "      <td>8.4</td>\n",
              "      <td>E</td>\n",
              "    </tr>\n",
              "    <tr>\n",
              "      <th>29</th>\n",
              "      <td>Call of Duty: Modern Warfare 3</td>\n",
              "      <td>X360</td>\n",
              "      <td>2011.0</td>\n",
              "      <td>Shooter</td>\n",
              "      <td>9.04</td>\n",
              "      <td>4.24</td>\n",
              "      <td>0.13</td>\n",
              "      <td>1.32</td>\n",
              "      <td>88.0</td>\n",
              "      <td>3.4</td>\n",
              "      <td>M</td>\n",
              "    </tr>\n",
              "  </tbody>\n",
              "</table>\n",
              "</div>"
            ],
            "text/plain": [
              "                                            Name Platform  ...  User_Score Rating\n",
              "0                                     Wii Sports      Wii  ...           8      E\n",
              "1                              Super Mario Bros.      NES  ...         NaN    NaN\n",
              "2                                 Mario Kart Wii      Wii  ...         8.3      E\n",
              "3                              Wii Sports Resort      Wii  ...           8      E\n",
              "4                       Pokemon Red/Pokemon Blue       GB  ...         NaN    NaN\n",
              "5                                         Tetris       GB  ...         NaN    NaN\n",
              "6                          New Super Mario Bros.       DS  ...         8.5      E\n",
              "7                                       Wii Play      Wii  ...         6.6      E\n",
              "8                      New Super Mario Bros. Wii      Wii  ...         8.4      E\n",
              "9                                      Duck Hunt      NES  ...         NaN    NaN\n",
              "10                                    Nintendogs       DS  ...         NaN    NaN\n",
              "11                                 Mario Kart DS       DS  ...         8.6      E\n",
              "12                   Pokemon Gold/Pokemon Silver       GB  ...         NaN    NaN\n",
              "13                                       Wii Fit      Wii  ...         7.7      E\n",
              "14                            Kinect Adventures!     X360  ...         6.3      E\n",
              "15                                  Wii Fit Plus      Wii  ...         7.4      E\n",
              "16                            Grand Theft Auto V      PS3  ...         8.2      M\n",
              "17                 Grand Theft Auto: San Andreas      PS2  ...           9      M\n",
              "18                             Super Mario World     SNES  ...         NaN    NaN\n",
              "19  Brain Age: Train Your Brain in Minutes a Day       DS  ...         7.9      E\n",
              "20                 Pokemon Diamond/Pokemon Pearl       DS  ...         NaN    NaN\n",
              "21                              Super Mario Land       GB  ...         NaN    NaN\n",
              "22                           Super Mario Bros. 3      NES  ...         NaN    NaN\n",
              "23                            Grand Theft Auto V     X360  ...         8.1      M\n",
              "24                   Grand Theft Auto: Vice City      PS2  ...         8.7      M\n",
              "25                 Pokemon Ruby/Pokemon Sapphire      GBA  ...         NaN    NaN\n",
              "26   Brain Age 2: More Training in Minutes a Day       DS  ...         7.1      E\n",
              "27                   Pokemon Black/Pokemon White       DS  ...         NaN    NaN\n",
              "28                        Gran Turismo 3: A-Spec      PS2  ...         8.4      E\n",
              "29                Call of Duty: Modern Warfare 3     X360  ...         3.4      M\n",
              "\n",
              "[30 rows x 11 columns]"
            ]
          },
          "metadata": {
            "tags": []
          },
          "execution_count": 15
        }
      ]
    },
    {
      "cell_type": "markdown",
      "metadata": {
        "id": "ldIcK-pZgeAC"
      },
      "source": [
        ""
      ]
    },
    {
      "cell_type": "code",
      "metadata": {
        "colab": {
          "base_uri": "https://localhost:8080/"
        },
        "id": "F_hecC9FcjGz",
        "outputId": "4da5ccc2-6608-46f1-9d11-0e437a54cc6f"
      },
      "source": [
        "games.info()"
      ],
      "execution_count": null,
      "outputs": [
        {
          "output_type": "stream",
          "text": [
            "<class 'pandas.core.frame.DataFrame'>\n",
            "RangeIndex: 16715 entries, 0 to 16714\n",
            "Data columns (total 11 columns):\n",
            " #   Column           Non-Null Count  Dtype  \n",
            "---  ------           --------------  -----  \n",
            " 0   name             16715 non-null  object \n",
            " 1   platform         16715 non-null  object \n",
            " 2   year_of_release  16446 non-null  float64\n",
            " 3   genre            16715 non-null  object \n",
            " 4   na_sales         16715 non-null  float64\n",
            " 5   eu_sales         16715 non-null  float64\n",
            " 6   jp_sales         16715 non-null  float64\n",
            " 7   other_sales      16715 non-null  float64\n",
            " 8   critic_score     8137 non-null   float64\n",
            " 9   user_score       10014 non-null  object \n",
            " 10  rating           9949 non-null   object \n",
            "dtypes: float64(6), object(5)\n",
            "memory usage: 1.4+ MB\n"
          ],
          "name": "stdout"
        }
      ]
    },
    {
      "cell_type": "code",
      "metadata": {
        "colab": {
          "base_uri": "https://localhost:8080/",
          "height": 297
        },
        "id": "GOOMJEtocjG1",
        "outputId": "07cf80e7-efa5-4946-df7c-13cca9cf2d6d"
      },
      "source": [
        "games.describe()\n"
      ],
      "execution_count": null,
      "outputs": [
        {
          "output_type": "execute_result",
          "data": {
            "text/html": [
              "<div>\n",
              "<style scoped>\n",
              "    .dataframe tbody tr th:only-of-type {\n",
              "        vertical-align: middle;\n",
              "    }\n",
              "\n",
              "    .dataframe tbody tr th {\n",
              "        vertical-align: top;\n",
              "    }\n",
              "\n",
              "    .dataframe thead th {\n",
              "        text-align: right;\n",
              "    }\n",
              "</style>\n",
              "<table border=\"1\" class=\"dataframe\">\n",
              "  <thead>\n",
              "    <tr style=\"text-align: right;\">\n",
              "      <th></th>\n",
              "      <th>year_of_release</th>\n",
              "      <th>na_sales</th>\n",
              "      <th>eu_sales</th>\n",
              "      <th>jp_sales</th>\n",
              "      <th>other_sales</th>\n",
              "      <th>critic_score</th>\n",
              "    </tr>\n",
              "  </thead>\n",
              "  <tbody>\n",
              "    <tr>\n",
              "      <th>count</th>\n",
              "      <td>16446.000000</td>\n",
              "      <td>16715.000000</td>\n",
              "      <td>16715.000000</td>\n",
              "      <td>16715.000000</td>\n",
              "      <td>16715.000000</td>\n",
              "      <td>8137.000000</td>\n",
              "    </tr>\n",
              "    <tr>\n",
              "      <th>mean</th>\n",
              "      <td>2006.484616</td>\n",
              "      <td>0.263377</td>\n",
              "      <td>0.145060</td>\n",
              "      <td>0.077617</td>\n",
              "      <td>0.047342</td>\n",
              "      <td>68.967679</td>\n",
              "    </tr>\n",
              "    <tr>\n",
              "      <th>std</th>\n",
              "      <td>5.877050</td>\n",
              "      <td>0.813604</td>\n",
              "      <td>0.503339</td>\n",
              "      <td>0.308853</td>\n",
              "      <td>0.186731</td>\n",
              "      <td>13.938165</td>\n",
              "    </tr>\n",
              "    <tr>\n",
              "      <th>min</th>\n",
              "      <td>1980.000000</td>\n",
              "      <td>0.000000</td>\n",
              "      <td>0.000000</td>\n",
              "      <td>0.000000</td>\n",
              "      <td>0.000000</td>\n",
              "      <td>13.000000</td>\n",
              "    </tr>\n",
              "    <tr>\n",
              "      <th>25%</th>\n",
              "      <td>2003.000000</td>\n",
              "      <td>0.000000</td>\n",
              "      <td>0.000000</td>\n",
              "      <td>0.000000</td>\n",
              "      <td>0.000000</td>\n",
              "      <td>60.000000</td>\n",
              "    </tr>\n",
              "    <tr>\n",
              "      <th>50%</th>\n",
              "      <td>2007.000000</td>\n",
              "      <td>0.080000</td>\n",
              "      <td>0.020000</td>\n",
              "      <td>0.000000</td>\n",
              "      <td>0.010000</td>\n",
              "      <td>71.000000</td>\n",
              "    </tr>\n",
              "    <tr>\n",
              "      <th>75%</th>\n",
              "      <td>2010.000000</td>\n",
              "      <td>0.240000</td>\n",
              "      <td>0.110000</td>\n",
              "      <td>0.040000</td>\n",
              "      <td>0.030000</td>\n",
              "      <td>79.000000</td>\n",
              "    </tr>\n",
              "    <tr>\n",
              "      <th>max</th>\n",
              "      <td>2016.000000</td>\n",
              "      <td>41.360000</td>\n",
              "      <td>28.960000</td>\n",
              "      <td>10.220000</td>\n",
              "      <td>10.570000</td>\n",
              "      <td>98.000000</td>\n",
              "    </tr>\n",
              "  </tbody>\n",
              "</table>\n",
              "</div>"
            ],
            "text/plain": [
              "       year_of_release      na_sales  ...   other_sales  critic_score\n",
              "count     16446.000000  16715.000000  ...  16715.000000   8137.000000\n",
              "mean       2006.484616      0.263377  ...      0.047342     68.967679\n",
              "std           5.877050      0.813604  ...      0.186731     13.938165\n",
              "min        1980.000000      0.000000  ...      0.000000     13.000000\n",
              "25%        2003.000000      0.000000  ...      0.000000     60.000000\n",
              "50%        2007.000000      0.080000  ...      0.010000     71.000000\n",
              "75%        2010.000000      0.240000  ...      0.030000     79.000000\n",
              "max        2016.000000     41.360000  ...     10.570000     98.000000\n",
              "\n",
              "[8 rows x 6 columns]"
            ]
          },
          "metadata": {
            "tags": []
          },
          "execution_count": 24
        }
      ]
    },
    {
      "cell_type": "markdown",
      "metadata": {
        "id": "3H-2tOKHcjG3"
      },
      "source": [
        "<a id=\"2\"></a>\n",
        "## Часть 2. Подготовка данных"
      ]
    },
    {
      "cell_type": "markdown",
      "metadata": {
        "id": "muihtWZ1cjG4"
      },
      "source": [
        "- Замените названия столбцов (приведите к нижнему регистру);  \n",
        "- Преобразуйте данные в нужные типы. Опишите, в каких столбцах заменили тип данных и почему;  \n",
        "- Обработайте пропуски при необходимости:  \n",
        "- Объясните, почему заполнили пропуски определённым образом или почему не стали это делать;  \n",
        "- Опишите причины, которые могли привести к пропускам;  \n",
        "- Обратите внимание на аббревиатуру 'tbd' в столбцах с рейтингом. Отдельно разберите это значение и опишите, как его обработать;  \n",
        "- Посчитайте суммарные продажи во всех регионах и запишите их в отдельный столбец.  "
      ]
    },
    {
      "cell_type": "markdown",
      "metadata": {
        "id": "FwN_01G0cjG5"
      },
      "source": [
        "<a id=\"21\"></a>\n",
        "### Приведем названия столбцов к нижнему регистру"
      ]
    },
    {
      "cell_type": "code",
      "metadata": {
        "id": "64KO2ocBcjG6"
      },
      "source": [
        "games.columns = map(str.lower, games.columns)"
      ],
      "execution_count": null,
      "outputs": []
    },
    {
      "cell_type": "markdown",
      "metadata": {
        "id": "J-1Ue5VvcjG6"
      },
      "source": [
        "<a id=\"22\"></a>\n",
        "### Обработка пропусков"
      ]
    },
    {
      "cell_type": "markdown",
      "metadata": {
        "id": "FmENzwaVcjG7"
      },
      "source": [
        "##### name & Genre              "
      ]
    },
    {
      "cell_type": "code",
      "metadata": {
        "colab": {
          "base_uri": "https://localhost:8080/",
          "height": 306
        },
        "id": "PDJAECH7cjG8",
        "outputId": "8b51073e-ae92-41c0-c89d-65894f20d14a"
      },
      "source": [
        "games.query('name.isnull()')"
      ],
      "execution_count": null,
      "outputs": [
        {
          "output_type": "error",
          "ename": "TypeError",
          "evalue": "ignored",
          "traceback": [
            "\u001b[0;31m---------------------------------------------------------------------------\u001b[0m",
            "\u001b[0;31mTypeError\u001b[0m                                 Traceback (most recent call last)",
            "\u001b[0;32m<ipython-input-26-27ae1177ea91>\u001b[0m in \u001b[0;36m<module>\u001b[0;34m()\u001b[0m\n\u001b[0;32m----> 1\u001b[0;31m \u001b[0mgames\u001b[0m\u001b[0;34m.\u001b[0m\u001b[0mquery\u001b[0m\u001b[0;34m(\u001b[0m\u001b[0;34m'name.isnull()'\u001b[0m\u001b[0;34m)\u001b[0m\u001b[0;34m\u001b[0m\u001b[0;34m\u001b[0m\u001b[0m\n\u001b[0m",
            "\u001b[0;32m/usr/local/lib/python3.7/dist-packages/pandas/core/frame.py\u001b[0m in \u001b[0;36mquery\u001b[0;34m(self, expr, inplace, **kwargs)\u001b[0m\n\u001b[1;32m   3343\u001b[0m         \u001b[0mkwargs\u001b[0m\u001b[0;34m[\u001b[0m\u001b[0;34m\"level\"\u001b[0m\u001b[0;34m]\u001b[0m \u001b[0;34m=\u001b[0m \u001b[0mkwargs\u001b[0m\u001b[0;34m.\u001b[0m\u001b[0mpop\u001b[0m\u001b[0;34m(\u001b[0m\u001b[0;34m\"level\"\u001b[0m\u001b[0;34m,\u001b[0m \u001b[0;36m0\u001b[0m\u001b[0;34m)\u001b[0m \u001b[0;34m+\u001b[0m \u001b[0;36m1\u001b[0m\u001b[0;34m\u001b[0m\u001b[0;34m\u001b[0m\u001b[0m\n\u001b[1;32m   3344\u001b[0m         \u001b[0mkwargs\u001b[0m\u001b[0;34m[\u001b[0m\u001b[0;34m\"target\"\u001b[0m\u001b[0;34m]\u001b[0m \u001b[0;34m=\u001b[0m \u001b[0;32mNone\u001b[0m\u001b[0;34m\u001b[0m\u001b[0;34m\u001b[0m\u001b[0m\n\u001b[0;32m-> 3345\u001b[0;31m         \u001b[0mres\u001b[0m \u001b[0;34m=\u001b[0m \u001b[0mself\u001b[0m\u001b[0;34m.\u001b[0m\u001b[0meval\u001b[0m\u001b[0;34m(\u001b[0m\u001b[0mexpr\u001b[0m\u001b[0;34m,\u001b[0m \u001b[0;34m**\u001b[0m\u001b[0mkwargs\u001b[0m\u001b[0;34m)\u001b[0m\u001b[0;34m\u001b[0m\u001b[0;34m\u001b[0m\u001b[0m\n\u001b[0m\u001b[1;32m   3346\u001b[0m \u001b[0;34m\u001b[0m\u001b[0m\n\u001b[1;32m   3347\u001b[0m         \u001b[0;32mtry\u001b[0m\u001b[0;34m:\u001b[0m\u001b[0;34m\u001b[0m\u001b[0;34m\u001b[0m\u001b[0m\n",
            "\u001b[0;32m/usr/local/lib/python3.7/dist-packages/pandas/core/frame.py\u001b[0m in \u001b[0;36meval\u001b[0;34m(self, expr, inplace, **kwargs)\u001b[0m\n\u001b[1;32m   3473\u001b[0m         \u001b[0mkwargs\u001b[0m\u001b[0;34m[\u001b[0m\u001b[0;34m\"resolvers\"\u001b[0m\u001b[0;34m]\u001b[0m \u001b[0;34m=\u001b[0m \u001b[0mkwargs\u001b[0m\u001b[0;34m.\u001b[0m\u001b[0mget\u001b[0m\u001b[0;34m(\u001b[0m\u001b[0;34m\"resolvers\"\u001b[0m\u001b[0;34m,\u001b[0m \u001b[0;34m(\u001b[0m\u001b[0;34m)\u001b[0m\u001b[0;34m)\u001b[0m \u001b[0;34m+\u001b[0m \u001b[0mtuple\u001b[0m\u001b[0;34m(\u001b[0m\u001b[0mresolvers\u001b[0m\u001b[0;34m)\u001b[0m\u001b[0;34m\u001b[0m\u001b[0;34m\u001b[0m\u001b[0m\n\u001b[1;32m   3474\u001b[0m \u001b[0;34m\u001b[0m\u001b[0m\n\u001b[0;32m-> 3475\u001b[0;31m         \u001b[0;32mreturn\u001b[0m \u001b[0m_eval\u001b[0m\u001b[0;34m(\u001b[0m\u001b[0mexpr\u001b[0m\u001b[0;34m,\u001b[0m \u001b[0minplace\u001b[0m\u001b[0;34m=\u001b[0m\u001b[0minplace\u001b[0m\u001b[0;34m,\u001b[0m \u001b[0;34m**\u001b[0m\u001b[0mkwargs\u001b[0m\u001b[0;34m)\u001b[0m\u001b[0;34m\u001b[0m\u001b[0;34m\u001b[0m\u001b[0m\n\u001b[0m\u001b[1;32m   3476\u001b[0m \u001b[0;34m\u001b[0m\u001b[0m\n\u001b[1;32m   3477\u001b[0m     \u001b[0;32mdef\u001b[0m \u001b[0mselect_dtypes\u001b[0m\u001b[0;34m(\u001b[0m\u001b[0mself\u001b[0m\u001b[0;34m,\u001b[0m \u001b[0minclude\u001b[0m\u001b[0;34m=\u001b[0m\u001b[0;32mNone\u001b[0m\u001b[0;34m,\u001b[0m \u001b[0mexclude\u001b[0m\u001b[0;34m=\u001b[0m\u001b[0;32mNone\u001b[0m\u001b[0;34m)\u001b[0m \u001b[0;34m->\u001b[0m \u001b[0;34m\"DataFrame\"\u001b[0m\u001b[0;34m:\u001b[0m\u001b[0;34m\u001b[0m\u001b[0;34m\u001b[0m\u001b[0m\n",
            "\u001b[0;32m/usr/local/lib/python3.7/dist-packages/pandas/core/computation/eval.py\u001b[0m in \u001b[0;36meval\u001b[0;34m(expr, parser, engine, truediv, local_dict, global_dict, resolvers, level, target, inplace)\u001b[0m\n\u001b[1;32m    344\u001b[0m         \u001b[0meng\u001b[0m \u001b[0;34m=\u001b[0m \u001b[0m_engines\u001b[0m\u001b[0;34m[\u001b[0m\u001b[0mengine\u001b[0m\u001b[0;34m]\u001b[0m\u001b[0;34m\u001b[0m\u001b[0;34m\u001b[0m\u001b[0m\n\u001b[1;32m    345\u001b[0m         \u001b[0meng_inst\u001b[0m \u001b[0;34m=\u001b[0m \u001b[0meng\u001b[0m\u001b[0;34m(\u001b[0m\u001b[0mparsed_expr\u001b[0m\u001b[0;34m)\u001b[0m\u001b[0;34m\u001b[0m\u001b[0;34m\u001b[0m\u001b[0m\n\u001b[0;32m--> 346\u001b[0;31m         \u001b[0mret\u001b[0m \u001b[0;34m=\u001b[0m \u001b[0meng_inst\u001b[0m\u001b[0;34m.\u001b[0m\u001b[0mevaluate\u001b[0m\u001b[0;34m(\u001b[0m\u001b[0;34m)\u001b[0m\u001b[0;34m\u001b[0m\u001b[0;34m\u001b[0m\u001b[0m\n\u001b[0m\u001b[1;32m    347\u001b[0m \u001b[0;34m\u001b[0m\u001b[0m\n\u001b[1;32m    348\u001b[0m         \u001b[0;32mif\u001b[0m \u001b[0mparsed_expr\u001b[0m\u001b[0;34m.\u001b[0m\u001b[0massigner\u001b[0m \u001b[0;32mis\u001b[0m \u001b[0;32mNone\u001b[0m\u001b[0;34m:\u001b[0m\u001b[0;34m\u001b[0m\u001b[0;34m\u001b[0m\u001b[0m\n",
            "\u001b[0;32m/usr/local/lib/python3.7/dist-packages/pandas/core/computation/engines.py\u001b[0m in \u001b[0;36mevaluate\u001b[0;34m(self)\u001b[0m\n\u001b[1;32m     71\u001b[0m \u001b[0;34m\u001b[0m\u001b[0m\n\u001b[1;32m     72\u001b[0m         \u001b[0;31m# make sure no names in resolvers and locals/globals clash\u001b[0m\u001b[0;34m\u001b[0m\u001b[0;34m\u001b[0m\u001b[0;34m\u001b[0m\u001b[0m\n\u001b[0;32m---> 73\u001b[0;31m         \u001b[0mres\u001b[0m \u001b[0;34m=\u001b[0m \u001b[0mself\u001b[0m\u001b[0;34m.\u001b[0m\u001b[0m_evaluate\u001b[0m\u001b[0;34m(\u001b[0m\u001b[0;34m)\u001b[0m\u001b[0;34m\u001b[0m\u001b[0;34m\u001b[0m\u001b[0m\n\u001b[0m\u001b[1;32m     74\u001b[0m         return reconstruct_object(\n\u001b[1;32m     75\u001b[0m             \u001b[0mself\u001b[0m\u001b[0;34m.\u001b[0m\u001b[0mresult_type\u001b[0m\u001b[0;34m,\u001b[0m \u001b[0mres\u001b[0m\u001b[0;34m,\u001b[0m \u001b[0mself\u001b[0m\u001b[0;34m.\u001b[0m\u001b[0maligned_axes\u001b[0m\u001b[0;34m,\u001b[0m \u001b[0mself\u001b[0m\u001b[0;34m.\u001b[0m\u001b[0mexpr\u001b[0m\u001b[0;34m.\u001b[0m\u001b[0mterms\u001b[0m\u001b[0;34m.\u001b[0m\u001b[0mreturn_type\u001b[0m\u001b[0;34m\u001b[0m\u001b[0;34m\u001b[0m\u001b[0m\n",
            "\u001b[0;32m/usr/local/lib/python3.7/dist-packages/pandas/core/computation/engines.py\u001b[0m in \u001b[0;36m_evaluate\u001b[0;34m(self)\u001b[0m\n\u001b[1;32m    111\u001b[0m         \u001b[0menv\u001b[0m \u001b[0;34m=\u001b[0m \u001b[0mself\u001b[0m\u001b[0;34m.\u001b[0m\u001b[0mexpr\u001b[0m\u001b[0;34m.\u001b[0m\u001b[0menv\u001b[0m\u001b[0;34m\u001b[0m\u001b[0;34m\u001b[0m\u001b[0m\n\u001b[1;32m    112\u001b[0m         \u001b[0mscope\u001b[0m \u001b[0;34m=\u001b[0m \u001b[0menv\u001b[0m\u001b[0;34m.\u001b[0m\u001b[0mfull_scope\u001b[0m\u001b[0;34m\u001b[0m\u001b[0;34m\u001b[0m\u001b[0m\n\u001b[0;32m--> 113\u001b[0;31m         \u001b[0m_check_ne_builtin_clash\u001b[0m\u001b[0;34m(\u001b[0m\u001b[0mself\u001b[0m\u001b[0;34m.\u001b[0m\u001b[0mexpr\u001b[0m\u001b[0;34m)\u001b[0m\u001b[0;34m\u001b[0m\u001b[0;34m\u001b[0m\u001b[0m\n\u001b[0m\u001b[1;32m    114\u001b[0m         \u001b[0;32mreturn\u001b[0m \u001b[0mne\u001b[0m\u001b[0;34m.\u001b[0m\u001b[0mevaluate\u001b[0m\u001b[0;34m(\u001b[0m\u001b[0ms\u001b[0m\u001b[0;34m,\u001b[0m \u001b[0mlocal_dict\u001b[0m\u001b[0;34m=\u001b[0m\u001b[0mscope\u001b[0m\u001b[0;34m)\u001b[0m\u001b[0;34m\u001b[0m\u001b[0;34m\u001b[0m\u001b[0m\n\u001b[1;32m    115\u001b[0m \u001b[0;34m\u001b[0m\u001b[0m\n",
            "\u001b[0;32m/usr/local/lib/python3.7/dist-packages/pandas/core/computation/engines.py\u001b[0m in \u001b[0;36m_check_ne_builtin_clash\u001b[0;34m(expr)\u001b[0m\n\u001b[1;32m     27\u001b[0m         \u001b[0mTerms\u001b[0m \u001b[0mcan\u001b[0m \u001b[0mcontain\u001b[0m\u001b[0;34m\u001b[0m\u001b[0;34m\u001b[0m\u001b[0m\n\u001b[1;32m     28\u001b[0m     \"\"\"\n\u001b[0;32m---> 29\u001b[0;31m     \u001b[0mnames\u001b[0m \u001b[0;34m=\u001b[0m \u001b[0mexpr\u001b[0m\u001b[0;34m.\u001b[0m\u001b[0mnames\u001b[0m\u001b[0;34m\u001b[0m\u001b[0;34m\u001b[0m\u001b[0m\n\u001b[0m\u001b[1;32m     30\u001b[0m     \u001b[0moverlap\u001b[0m \u001b[0;34m=\u001b[0m \u001b[0mnames\u001b[0m \u001b[0;34m&\u001b[0m \u001b[0m_ne_builtins\u001b[0m\u001b[0;34m\u001b[0m\u001b[0;34m\u001b[0m\u001b[0m\n\u001b[1;32m     31\u001b[0m \u001b[0;34m\u001b[0m\u001b[0m\n",
            "\u001b[0;32m/usr/local/lib/python3.7/dist-packages/pandas/core/computation/expr.py\u001b[0m in \u001b[0;36mnames\u001b[0;34m(self)\u001b[0m\n\u001b[1;32m    812\u001b[0m         \"\"\"\n\u001b[1;32m    813\u001b[0m         \u001b[0;32mif\u001b[0m \u001b[0mis_term\u001b[0m\u001b[0;34m(\u001b[0m\u001b[0mself\u001b[0m\u001b[0;34m.\u001b[0m\u001b[0mterms\u001b[0m\u001b[0;34m)\u001b[0m\u001b[0;34m:\u001b[0m\u001b[0;34m\u001b[0m\u001b[0;34m\u001b[0m\u001b[0m\n\u001b[0;32m--> 814\u001b[0;31m             \u001b[0;32mreturn\u001b[0m \u001b[0mfrozenset\u001b[0m\u001b[0;34m(\u001b[0m\u001b[0;34m[\u001b[0m\u001b[0mself\u001b[0m\u001b[0;34m.\u001b[0m\u001b[0mterms\u001b[0m\u001b[0;34m.\u001b[0m\u001b[0mname\u001b[0m\u001b[0;34m]\u001b[0m\u001b[0;34m)\u001b[0m\u001b[0;34m\u001b[0m\u001b[0;34m\u001b[0m\u001b[0m\n\u001b[0m\u001b[1;32m    815\u001b[0m         \u001b[0;32mreturn\u001b[0m \u001b[0mfrozenset\u001b[0m\u001b[0;34m(\u001b[0m\u001b[0mterm\u001b[0m\u001b[0;34m.\u001b[0m\u001b[0mname\u001b[0m \u001b[0;32mfor\u001b[0m \u001b[0mterm\u001b[0m \u001b[0;32min\u001b[0m \u001b[0mcom\u001b[0m\u001b[0;34m.\u001b[0m\u001b[0mflatten\u001b[0m\u001b[0;34m(\u001b[0m\u001b[0mself\u001b[0m\u001b[0;34m.\u001b[0m\u001b[0mterms\u001b[0m\u001b[0;34m)\u001b[0m\u001b[0;34m)\u001b[0m\u001b[0;34m\u001b[0m\u001b[0;34m\u001b[0m\u001b[0m\n\u001b[1;32m    816\u001b[0m \u001b[0;34m\u001b[0m\u001b[0m\n",
            "\u001b[0;32m/usr/local/lib/python3.7/dist-packages/pandas/core/generic.py\u001b[0m in \u001b[0;36m__hash__\u001b[0;34m(self)\u001b[0m\n\u001b[1;32m   1667\u001b[0m     \u001b[0;32mdef\u001b[0m \u001b[0m__hash__\u001b[0m\u001b[0;34m(\u001b[0m\u001b[0mself\u001b[0m\u001b[0;34m)\u001b[0m\u001b[0;34m:\u001b[0m\u001b[0;34m\u001b[0m\u001b[0;34m\u001b[0m\u001b[0m\n\u001b[1;32m   1668\u001b[0m         raise TypeError(\n\u001b[0;32m-> 1669\u001b[0;31m             \u001b[0;34mf\"{repr(type(self).__name__)} objects are mutable, \"\u001b[0m\u001b[0;34m\u001b[0m\u001b[0;34m\u001b[0m\u001b[0m\n\u001b[0m\u001b[1;32m   1670\u001b[0m             \u001b[0;34mf\"thus they cannot be hashed\"\u001b[0m\u001b[0;34m\u001b[0m\u001b[0;34m\u001b[0m\u001b[0m\n\u001b[1;32m   1671\u001b[0m         )\n",
            "\u001b[0;31mTypeError\u001b[0m: 'Series' objects are mutable, thus they cannot be hashed"
          ]
        }
      ]
    },
    {
      "cell_type": "code",
      "metadata": {
        "colab": {
          "base_uri": "https://localhost:8080/"
        },
        "id": "43eAWDdScjG8",
        "outputId": "c9ca6578-502e-41ae-9810-4bbc2cb3603e"
      },
      "source": [
        "games[games['platform'] == \"GEN\"]['platform'].count()"
      ],
      "execution_count": null,
      "outputs": [
        {
          "output_type": "execute_result",
          "data": {
            "text/plain": [
              "29"
            ]
          },
          "metadata": {
            "tags": []
          },
          "execution_count": 21
        }
      ]
    },
    {
      "cell_type": "markdown",
      "metadata": {
        "id": "wn4Uxu-pcjG8"
      },
      "source": [
        "Игр на приставке GEN представленных в датафрейме и так очень мало, поэтому не буду удалять их. (GEN ~ Sega Genesis или же известная во всем мире как Mega drive)  \n",
        "Причины пропуска имени и жанра вижу только в ошибке заполнения или парсинга датафрейма"
      ]
    },
    {
      "cell_type": "code",
      "metadata": {
        "id": "h7mT3_j8cjG9"
      },
      "source": [
        "games['name'] = games['name'].fillna('no_name') #заменю на no_name\n",
        "games['genre'] = games['genre'].fillna('no_genre') #заменю так же на no_genre"
      ],
      "execution_count": null,
      "outputs": []
    },
    {
      "cell_type": "markdown",
      "metadata": {
        "id": "P_zEnm68cjG9"
      },
      "source": [
        "<div style=\"border:solid green 2px; padding: 20px\"> <h1 style=\"color:green; margin-bottom:20px\">Комментарий ревьюера</h1>\n",
        "\n",
        "Правильный вариант заполнения пропуска\n",
        "</div>"
      ]
    },
    {
      "cell_type": "markdown",
      "metadata": {
        "id": "suDptPmDcjG-"
      },
      "source": [
        "##### Year_of_Release    "
      ]
    },
    {
      "cell_type": "code",
      "metadata": {
        "colab": {
          "base_uri": "https://localhost:8080/",
          "height": 306
        },
        "id": "tR_5V_90cjG-",
        "outputId": "d97d84af-9473-4067-de41-59416ecc01ed"
      },
      "source": [
        "games.query('year_of_release.isnull()').sample(10)"
      ],
      "execution_count": null,
      "outputs": [
        {
          "output_type": "error",
          "ename": "TypeError",
          "evalue": "ignored",
          "traceback": [
            "\u001b[0;31m---------------------------------------------------------------------------\u001b[0m",
            "\u001b[0;31mTypeError\u001b[0m                                 Traceback (most recent call last)",
            "\u001b[0;32m<ipython-input-27-bf9dce969abe>\u001b[0m in \u001b[0;36m<module>\u001b[0;34m()\u001b[0m\n\u001b[0;32m----> 1\u001b[0;31m \u001b[0mgames\u001b[0m\u001b[0;34m.\u001b[0m\u001b[0mquery\u001b[0m\u001b[0;34m(\u001b[0m\u001b[0;34m'year_of_release.isnull()'\u001b[0m\u001b[0;34m)\u001b[0m\u001b[0;34m.\u001b[0m\u001b[0msample\u001b[0m\u001b[0;34m(\u001b[0m\u001b[0;36m10\u001b[0m\u001b[0;34m)\u001b[0m\u001b[0;34m\u001b[0m\u001b[0;34m\u001b[0m\u001b[0m\n\u001b[0m",
            "\u001b[0;32m/usr/local/lib/python3.7/dist-packages/pandas/core/frame.py\u001b[0m in \u001b[0;36mquery\u001b[0;34m(self, expr, inplace, **kwargs)\u001b[0m\n\u001b[1;32m   3343\u001b[0m         \u001b[0mkwargs\u001b[0m\u001b[0;34m[\u001b[0m\u001b[0;34m\"level\"\u001b[0m\u001b[0;34m]\u001b[0m \u001b[0;34m=\u001b[0m \u001b[0mkwargs\u001b[0m\u001b[0;34m.\u001b[0m\u001b[0mpop\u001b[0m\u001b[0;34m(\u001b[0m\u001b[0;34m\"level\"\u001b[0m\u001b[0;34m,\u001b[0m \u001b[0;36m0\u001b[0m\u001b[0;34m)\u001b[0m \u001b[0;34m+\u001b[0m \u001b[0;36m1\u001b[0m\u001b[0;34m\u001b[0m\u001b[0;34m\u001b[0m\u001b[0m\n\u001b[1;32m   3344\u001b[0m         \u001b[0mkwargs\u001b[0m\u001b[0;34m[\u001b[0m\u001b[0;34m\"target\"\u001b[0m\u001b[0;34m]\u001b[0m \u001b[0;34m=\u001b[0m \u001b[0;32mNone\u001b[0m\u001b[0;34m\u001b[0m\u001b[0;34m\u001b[0m\u001b[0m\n\u001b[0;32m-> 3345\u001b[0;31m         \u001b[0mres\u001b[0m \u001b[0;34m=\u001b[0m \u001b[0mself\u001b[0m\u001b[0;34m.\u001b[0m\u001b[0meval\u001b[0m\u001b[0;34m(\u001b[0m\u001b[0mexpr\u001b[0m\u001b[0;34m,\u001b[0m \u001b[0;34m**\u001b[0m\u001b[0mkwargs\u001b[0m\u001b[0;34m)\u001b[0m\u001b[0;34m\u001b[0m\u001b[0;34m\u001b[0m\u001b[0m\n\u001b[0m\u001b[1;32m   3346\u001b[0m \u001b[0;34m\u001b[0m\u001b[0m\n\u001b[1;32m   3347\u001b[0m         \u001b[0;32mtry\u001b[0m\u001b[0;34m:\u001b[0m\u001b[0;34m\u001b[0m\u001b[0;34m\u001b[0m\u001b[0m\n",
            "\u001b[0;32m/usr/local/lib/python3.7/dist-packages/pandas/core/frame.py\u001b[0m in \u001b[0;36meval\u001b[0;34m(self, expr, inplace, **kwargs)\u001b[0m\n\u001b[1;32m   3473\u001b[0m         \u001b[0mkwargs\u001b[0m\u001b[0;34m[\u001b[0m\u001b[0;34m\"resolvers\"\u001b[0m\u001b[0;34m]\u001b[0m \u001b[0;34m=\u001b[0m \u001b[0mkwargs\u001b[0m\u001b[0;34m.\u001b[0m\u001b[0mget\u001b[0m\u001b[0;34m(\u001b[0m\u001b[0;34m\"resolvers\"\u001b[0m\u001b[0;34m,\u001b[0m \u001b[0;34m(\u001b[0m\u001b[0;34m)\u001b[0m\u001b[0;34m)\u001b[0m \u001b[0;34m+\u001b[0m \u001b[0mtuple\u001b[0m\u001b[0;34m(\u001b[0m\u001b[0mresolvers\u001b[0m\u001b[0;34m)\u001b[0m\u001b[0;34m\u001b[0m\u001b[0;34m\u001b[0m\u001b[0m\n\u001b[1;32m   3474\u001b[0m \u001b[0;34m\u001b[0m\u001b[0m\n\u001b[0;32m-> 3475\u001b[0;31m         \u001b[0;32mreturn\u001b[0m \u001b[0m_eval\u001b[0m\u001b[0;34m(\u001b[0m\u001b[0mexpr\u001b[0m\u001b[0;34m,\u001b[0m \u001b[0minplace\u001b[0m\u001b[0;34m=\u001b[0m\u001b[0minplace\u001b[0m\u001b[0;34m,\u001b[0m \u001b[0;34m**\u001b[0m\u001b[0mkwargs\u001b[0m\u001b[0;34m)\u001b[0m\u001b[0;34m\u001b[0m\u001b[0;34m\u001b[0m\u001b[0m\n\u001b[0m\u001b[1;32m   3476\u001b[0m \u001b[0;34m\u001b[0m\u001b[0m\n\u001b[1;32m   3477\u001b[0m     \u001b[0;32mdef\u001b[0m \u001b[0mselect_dtypes\u001b[0m\u001b[0;34m(\u001b[0m\u001b[0mself\u001b[0m\u001b[0;34m,\u001b[0m \u001b[0minclude\u001b[0m\u001b[0;34m=\u001b[0m\u001b[0;32mNone\u001b[0m\u001b[0;34m,\u001b[0m \u001b[0mexclude\u001b[0m\u001b[0;34m=\u001b[0m\u001b[0;32mNone\u001b[0m\u001b[0;34m)\u001b[0m \u001b[0;34m->\u001b[0m \u001b[0;34m\"DataFrame\"\u001b[0m\u001b[0;34m:\u001b[0m\u001b[0;34m\u001b[0m\u001b[0;34m\u001b[0m\u001b[0m\n",
            "\u001b[0;32m/usr/local/lib/python3.7/dist-packages/pandas/core/computation/eval.py\u001b[0m in \u001b[0;36meval\u001b[0;34m(expr, parser, engine, truediv, local_dict, global_dict, resolvers, level, target, inplace)\u001b[0m\n\u001b[1;32m    344\u001b[0m         \u001b[0meng\u001b[0m \u001b[0;34m=\u001b[0m \u001b[0m_engines\u001b[0m\u001b[0;34m[\u001b[0m\u001b[0mengine\u001b[0m\u001b[0;34m]\u001b[0m\u001b[0;34m\u001b[0m\u001b[0;34m\u001b[0m\u001b[0m\n\u001b[1;32m    345\u001b[0m         \u001b[0meng_inst\u001b[0m \u001b[0;34m=\u001b[0m \u001b[0meng\u001b[0m\u001b[0;34m(\u001b[0m\u001b[0mparsed_expr\u001b[0m\u001b[0;34m)\u001b[0m\u001b[0;34m\u001b[0m\u001b[0;34m\u001b[0m\u001b[0m\n\u001b[0;32m--> 346\u001b[0;31m         \u001b[0mret\u001b[0m \u001b[0;34m=\u001b[0m \u001b[0meng_inst\u001b[0m\u001b[0;34m.\u001b[0m\u001b[0mevaluate\u001b[0m\u001b[0;34m(\u001b[0m\u001b[0;34m)\u001b[0m\u001b[0;34m\u001b[0m\u001b[0;34m\u001b[0m\u001b[0m\n\u001b[0m\u001b[1;32m    347\u001b[0m \u001b[0;34m\u001b[0m\u001b[0m\n\u001b[1;32m    348\u001b[0m         \u001b[0;32mif\u001b[0m \u001b[0mparsed_expr\u001b[0m\u001b[0;34m.\u001b[0m\u001b[0massigner\u001b[0m \u001b[0;32mis\u001b[0m \u001b[0;32mNone\u001b[0m\u001b[0;34m:\u001b[0m\u001b[0;34m\u001b[0m\u001b[0;34m\u001b[0m\u001b[0m\n",
            "\u001b[0;32m/usr/local/lib/python3.7/dist-packages/pandas/core/computation/engines.py\u001b[0m in \u001b[0;36mevaluate\u001b[0;34m(self)\u001b[0m\n\u001b[1;32m     71\u001b[0m \u001b[0;34m\u001b[0m\u001b[0m\n\u001b[1;32m     72\u001b[0m         \u001b[0;31m# make sure no names in resolvers and locals/globals clash\u001b[0m\u001b[0;34m\u001b[0m\u001b[0;34m\u001b[0m\u001b[0;34m\u001b[0m\u001b[0m\n\u001b[0;32m---> 73\u001b[0;31m         \u001b[0mres\u001b[0m \u001b[0;34m=\u001b[0m \u001b[0mself\u001b[0m\u001b[0;34m.\u001b[0m\u001b[0m_evaluate\u001b[0m\u001b[0;34m(\u001b[0m\u001b[0;34m)\u001b[0m\u001b[0;34m\u001b[0m\u001b[0;34m\u001b[0m\u001b[0m\n\u001b[0m\u001b[1;32m     74\u001b[0m         return reconstruct_object(\n\u001b[1;32m     75\u001b[0m             \u001b[0mself\u001b[0m\u001b[0;34m.\u001b[0m\u001b[0mresult_type\u001b[0m\u001b[0;34m,\u001b[0m \u001b[0mres\u001b[0m\u001b[0;34m,\u001b[0m \u001b[0mself\u001b[0m\u001b[0;34m.\u001b[0m\u001b[0maligned_axes\u001b[0m\u001b[0;34m,\u001b[0m \u001b[0mself\u001b[0m\u001b[0;34m.\u001b[0m\u001b[0mexpr\u001b[0m\u001b[0;34m.\u001b[0m\u001b[0mterms\u001b[0m\u001b[0;34m.\u001b[0m\u001b[0mreturn_type\u001b[0m\u001b[0;34m\u001b[0m\u001b[0;34m\u001b[0m\u001b[0m\n",
            "\u001b[0;32m/usr/local/lib/python3.7/dist-packages/pandas/core/computation/engines.py\u001b[0m in \u001b[0;36m_evaluate\u001b[0;34m(self)\u001b[0m\n\u001b[1;32m    111\u001b[0m         \u001b[0menv\u001b[0m \u001b[0;34m=\u001b[0m \u001b[0mself\u001b[0m\u001b[0;34m.\u001b[0m\u001b[0mexpr\u001b[0m\u001b[0;34m.\u001b[0m\u001b[0menv\u001b[0m\u001b[0;34m\u001b[0m\u001b[0;34m\u001b[0m\u001b[0m\n\u001b[1;32m    112\u001b[0m         \u001b[0mscope\u001b[0m \u001b[0;34m=\u001b[0m \u001b[0menv\u001b[0m\u001b[0;34m.\u001b[0m\u001b[0mfull_scope\u001b[0m\u001b[0;34m\u001b[0m\u001b[0;34m\u001b[0m\u001b[0m\n\u001b[0;32m--> 113\u001b[0;31m         \u001b[0m_check_ne_builtin_clash\u001b[0m\u001b[0;34m(\u001b[0m\u001b[0mself\u001b[0m\u001b[0;34m.\u001b[0m\u001b[0mexpr\u001b[0m\u001b[0;34m)\u001b[0m\u001b[0;34m\u001b[0m\u001b[0;34m\u001b[0m\u001b[0m\n\u001b[0m\u001b[1;32m    114\u001b[0m         \u001b[0;32mreturn\u001b[0m \u001b[0mne\u001b[0m\u001b[0;34m.\u001b[0m\u001b[0mevaluate\u001b[0m\u001b[0;34m(\u001b[0m\u001b[0ms\u001b[0m\u001b[0;34m,\u001b[0m \u001b[0mlocal_dict\u001b[0m\u001b[0;34m=\u001b[0m\u001b[0mscope\u001b[0m\u001b[0;34m)\u001b[0m\u001b[0;34m\u001b[0m\u001b[0;34m\u001b[0m\u001b[0m\n\u001b[1;32m    115\u001b[0m \u001b[0;34m\u001b[0m\u001b[0m\n",
            "\u001b[0;32m/usr/local/lib/python3.7/dist-packages/pandas/core/computation/engines.py\u001b[0m in \u001b[0;36m_check_ne_builtin_clash\u001b[0;34m(expr)\u001b[0m\n\u001b[1;32m     27\u001b[0m         \u001b[0mTerms\u001b[0m \u001b[0mcan\u001b[0m \u001b[0mcontain\u001b[0m\u001b[0;34m\u001b[0m\u001b[0;34m\u001b[0m\u001b[0m\n\u001b[1;32m     28\u001b[0m     \"\"\"\n\u001b[0;32m---> 29\u001b[0;31m     \u001b[0mnames\u001b[0m \u001b[0;34m=\u001b[0m \u001b[0mexpr\u001b[0m\u001b[0;34m.\u001b[0m\u001b[0mnames\u001b[0m\u001b[0;34m\u001b[0m\u001b[0;34m\u001b[0m\u001b[0m\n\u001b[0m\u001b[1;32m     30\u001b[0m     \u001b[0moverlap\u001b[0m \u001b[0;34m=\u001b[0m \u001b[0mnames\u001b[0m \u001b[0;34m&\u001b[0m \u001b[0m_ne_builtins\u001b[0m\u001b[0;34m\u001b[0m\u001b[0;34m\u001b[0m\u001b[0m\n\u001b[1;32m     31\u001b[0m \u001b[0;34m\u001b[0m\u001b[0m\n",
            "\u001b[0;32m/usr/local/lib/python3.7/dist-packages/pandas/core/computation/expr.py\u001b[0m in \u001b[0;36mnames\u001b[0;34m(self)\u001b[0m\n\u001b[1;32m    812\u001b[0m         \"\"\"\n\u001b[1;32m    813\u001b[0m         \u001b[0;32mif\u001b[0m \u001b[0mis_term\u001b[0m\u001b[0;34m(\u001b[0m\u001b[0mself\u001b[0m\u001b[0;34m.\u001b[0m\u001b[0mterms\u001b[0m\u001b[0;34m)\u001b[0m\u001b[0;34m:\u001b[0m\u001b[0;34m\u001b[0m\u001b[0;34m\u001b[0m\u001b[0m\n\u001b[0;32m--> 814\u001b[0;31m             \u001b[0;32mreturn\u001b[0m \u001b[0mfrozenset\u001b[0m\u001b[0;34m(\u001b[0m\u001b[0;34m[\u001b[0m\u001b[0mself\u001b[0m\u001b[0;34m.\u001b[0m\u001b[0mterms\u001b[0m\u001b[0;34m.\u001b[0m\u001b[0mname\u001b[0m\u001b[0;34m]\u001b[0m\u001b[0;34m)\u001b[0m\u001b[0;34m\u001b[0m\u001b[0;34m\u001b[0m\u001b[0m\n\u001b[0m\u001b[1;32m    815\u001b[0m         \u001b[0;32mreturn\u001b[0m \u001b[0mfrozenset\u001b[0m\u001b[0;34m(\u001b[0m\u001b[0mterm\u001b[0m\u001b[0;34m.\u001b[0m\u001b[0mname\u001b[0m \u001b[0;32mfor\u001b[0m \u001b[0mterm\u001b[0m \u001b[0;32min\u001b[0m \u001b[0mcom\u001b[0m\u001b[0;34m.\u001b[0m\u001b[0mflatten\u001b[0m\u001b[0;34m(\u001b[0m\u001b[0mself\u001b[0m\u001b[0;34m.\u001b[0m\u001b[0mterms\u001b[0m\u001b[0;34m)\u001b[0m\u001b[0;34m)\u001b[0m\u001b[0;34m\u001b[0m\u001b[0;34m\u001b[0m\u001b[0m\n\u001b[1;32m    816\u001b[0m \u001b[0;34m\u001b[0m\u001b[0m\n",
            "\u001b[0;32m/usr/local/lib/python3.7/dist-packages/pandas/core/generic.py\u001b[0m in \u001b[0;36m__hash__\u001b[0;34m(self)\u001b[0m\n\u001b[1;32m   1667\u001b[0m     \u001b[0;32mdef\u001b[0m \u001b[0m__hash__\u001b[0m\u001b[0;34m(\u001b[0m\u001b[0mself\u001b[0m\u001b[0;34m)\u001b[0m\u001b[0;34m:\u001b[0m\u001b[0;34m\u001b[0m\u001b[0;34m\u001b[0m\u001b[0m\n\u001b[1;32m   1668\u001b[0m         raise TypeError(\n\u001b[0;32m-> 1669\u001b[0;31m             \u001b[0;34mf\"{repr(type(self).__name__)} objects are mutable, \"\u001b[0m\u001b[0;34m\u001b[0m\u001b[0;34m\u001b[0m\u001b[0m\n\u001b[0m\u001b[1;32m   1670\u001b[0m             \u001b[0;34mf\"thus they cannot be hashed\"\u001b[0m\u001b[0;34m\u001b[0m\u001b[0;34m\u001b[0m\u001b[0m\n\u001b[1;32m   1671\u001b[0m         )\n",
            "\u001b[0;31mTypeError\u001b[0m: 'Series' objects are mutable, thus they cannot be hashed"
          ]
        }
      ]
    },
    {
      "cell_type": "markdown",
      "metadata": {
        "id": "ELHTFdRCcjG_"
      },
      "source": [
        "При таком малом количестве можно просто нагуглить, но я заменю все на -1.   \n",
        "Искать похожие названия на других платформах и заменять на их значения считаю некорректным, т.к. за частую игры на разных платформах могут выходить в разные года. Или быть юбилейными ремастирангами."
      ]
    },
    {
      "cell_type": "code",
      "metadata": {
        "id": "idt5K7TlcjHA"
      },
      "source": [
        "games['year_of_release'] = games['year_of_release'].fillna(-1)"
      ],
      "execution_count": null,
      "outputs": []
    },
    {
      "cell_type": "markdown",
      "metadata": {
        "id": "RdUHKs-ZcjHA"
      },
      "source": [
        "<div style=\"border:solid gold 2px; padding: 20px\"> <h1 style=\"color:gold; margin-bottom:20px\">Комментарий ревьюера</h1>\n",
        "\n",
        "здесь не совсем точно. Весь дальнейший анализ будет вестись в разрезе года релиза, а значит -1 будут практически сразу отброшены. Нужно было рассмотреть вариант удаления пропусков при невозможности их восстановления, чтоб сразу посмотреть процент таких значений, ведь если их очень много, то и весь анализ под вопросом  \n",
        "</div>"
      ]
    },
    {
      "cell_type": "markdown",
      "metadata": {
        "id": "2RUpcRB9cjHA"
      },
      "source": [
        "<div style=\"border:solid blue 2px; padding: 20px\"> <h1 style=\"color:blue; margin-bottom:20px\">Комментарий студента</h1>\n",
        "\n",
        "Да я согласен, на начальном этапе еще не было ясно какие данные могут понадобиться. Решил так подстраховаться.\n",
        "</div>"
      ]
    },
    {
      "cell_type": "markdown",
      "metadata": {
        "id": "uKF5C_VFcjHB"
      },
      "source": [
        "##### critic_score"
      ]
    },
    {
      "cell_type": "code",
      "metadata": {
        "id": "xcbA55m1cjHB"
      },
      "source": [
        "games.query('critic_score.isnull()').sample(10)"
      ],
      "execution_count": null,
      "outputs": []
    },
    {
      "cell_type": "code",
      "metadata": {
        "id": "g6BkTcs-cjHC"
      },
      "source": [
        "len(games.query('critic_score.isnull()'))*100/len(games)"
      ],
      "execution_count": null,
      "outputs": []
    },
    {
      "cell_type": "markdown",
      "metadata": {
        "id": "q03zQ7g8cjHC"
      },
      "source": [
        "Большая часть игр так и не дошла до рецензии критиков, что не удивительно, до критиков доходят в основном ААА или нашумевшие проекты, удалять такой объем данных нельзя да и заменить невозможно, заменяем на -1, потому что 0 вполне может быть \"заслуженной\" оценкой."
      ]
    },
    {
      "cell_type": "code",
      "metadata": {
        "id": "Or-cHc1ecjHD"
      },
      "source": [
        "games['critic_score'] = games['critic_score'].fillna(-1)"
      ],
      "execution_count": null,
      "outputs": []
    },
    {
      "cell_type": "markdown",
      "metadata": {
        "id": "KrieSFv9cjHD"
      },
      "source": [
        "<div style=\"border:solid green 2px; padding: 20px\"> <h1 style=\"color:green; margin-bottom:20px\">Комментарий ревьюера</h1>\n",
        "\n",
        "Возможный вариант, только надо не забывать отфильтровывать эти -1. Здесь также лучшим вариантом было вообще не трогать эти пропуски\n",
        "</div>"
      ]
    },
    {
      "cell_type": "markdown",
      "metadata": {
        "id": "0YAJPbQ9cjHE"
      },
      "source": [
        "<div style=\"border:solid blue 2px; padding: 20px\"> <h1 style=\"color:blue; margin-bottom:20px\">Комментарий студента</h1>\n",
        "\n",
        "У меня было чувство что NaN приводили к ошибкам, казалось, это связанно было с булевыми операциями. Действительно, я сейчас прогуглил и подтверждения не нашел.\n",
        "</div>"
      ]
    },
    {
      "cell_type": "markdown",
      "metadata": {
        "id": "Ocvnyad3cjHE"
      },
      "source": [
        "<div style=\"border:solid green 2px; padding: 20px\"> <h1 style=\"color:green; margin-bottom:20px\">Комментарий ревьюера - 2</h1>\n",
        "\n",
        "Nan приведет к ошибкам только при проверки гипотез, там надо dropna сделать\n",
        "</div>"
      ]
    },
    {
      "cell_type": "markdown",
      "metadata": {
        "id": "Uay-h7o8cjHE"
      },
      "source": [
        "##### user_score"
      ]
    },
    {
      "cell_type": "code",
      "metadata": {
        "id": "SfS4PhaucjHE"
      },
      "source": [
        "games.query('user_score.isnull()')"
      ],
      "execution_count": null,
      "outputs": []
    },
    {
      "cell_type": "code",
      "metadata": {
        "id": "c6Bmn9cAcjHG"
      },
      "source": [
        "len(games.query('user_score.isnull()'))*100/len(games)"
      ],
      "execution_count": null,
      "outputs": []
    },
    {
      "cell_type": "markdown",
      "metadata": {
        "id": "nwRIZP9PcjHG"
      },
      "source": [
        "Все зависит от страны составителя рейтинга, например 16712\tHaitaka no Psychedelica продавалась только в Японии, поэтому могла бить незамеченная пользователями из других стран.\n",
        "По тем же причинам что и в рейтинге критиков заменяем на -1"
      ]
    },
    {
      "cell_type": "code",
      "metadata": {
        "id": "raXe7vsPcjHH"
      },
      "source": [
        "games['user_score'] = games['user_score'].fillna(-1)"
      ],
      "execution_count": null,
      "outputs": []
    },
    {
      "cell_type": "markdown",
      "metadata": {
        "id": "LIRBKRx0cjHH"
      },
      "source": [
        "##### rating"
      ]
    },
    {
      "cell_type": "code",
      "metadata": {
        "id": "lY_4SkF6cjHH"
      },
      "source": [
        "games.query('rating.isnull()')"
      ],
      "execution_count": null,
      "outputs": []
    },
    {
      "cell_type": "code",
      "metadata": {
        "id": "WkjcYL7ZcjHH"
      },
      "source": [
        "len(games.query('rating.isnull()'))*100/len(games)"
      ],
      "execution_count": null,
      "outputs": []
    },
    {
      "cell_type": "markdown",
      "metadata": {
        "id": "_UxTVVV3cjHI"
      },
      "source": [
        "Рейтинг отсутствует на множестве платформ, годов, и жанров. Это могло произойти в следствии многих факторов: ESRB был создан в 1994 и действует в США и Канаде поэтому игры, созданные раньше, или распространяемые в других странах могли не удостоится рейтинга, да и определение рейтинга происходит с подачи издателя, т.е. он может и не присылать заявку на рейтинг. Данных слишком много, чтобы от них избавится. Подобрать значение невозможно. Заменю на \"no_rating\"."
      ]
    },
    {
      "cell_type": "code",
      "metadata": {
        "id": "ubOfOpKScjHI"
      },
      "source": [
        "games['rating'] = games['rating'].fillna(\"no_rating\")"
      ],
      "execution_count": null,
      "outputs": []
    },
    {
      "cell_type": "markdown",
      "metadata": {
        "id": "Per7wYNIcjHI"
      },
      "source": [
        "<a id=\"23\"></a>\n",
        "### Преобразуйте данные в нужные типы"
      ]
    },
    {
      "cell_type": "code",
      "metadata": {
        "id": "B9mFnsg-cjHJ"
      },
      "source": [
        "games['year_of_release'] = games['year_of_release'].astype('int') # Год выхода не может быть с запятой"
      ],
      "execution_count": null,
      "outputs": []
    },
    {
      "cell_type": "code",
      "metadata": {
        "id": "yc5xeEqNcjHJ"
      },
      "source": [
        "# games['user_score'] = games['user_score'].astype('float') вот тут мы упираемся в 'tbd' ставший причиной типа \"object\""
      ],
      "execution_count": null,
      "outputs": []
    },
    {
      "cell_type": "markdown",
      "metadata": {
        "id": "wm_fzrYNcjHJ"
      },
      "source": [
        "tbd = to be determined именно так, например в стиме обозначают игры рейтинг которых еще не подсчитан из за малого колличества оценок."
      ]
    },
    {
      "cell_type": "code",
      "metadata": {
        "id": "6MOeKCJ7cjHJ"
      },
      "source": [
        "games.loc[games['user_score'] == 'tbd','user_score'] = -1"
      ],
      "execution_count": null,
      "outputs": []
    },
    {
      "cell_type": "code",
      "metadata": {
        "id": "0EEETxYpcjHK"
      },
      "source": [
        "# Для дальнейших математических операций нам надо будет привести этот столбик к числовому формату\n",
        "games['user_score'] = games['user_score'].astype('float') "
      ],
      "execution_count": null,
      "outputs": []
    },
    {
      "cell_type": "markdown",
      "metadata": {
        "id": "N2uIX0pfcjHK"
      },
      "source": [
        "<a id=\"24\"></a>\n",
        "### Посчитайте суммарные продажи во всех регионах и запишите их в отдельный столбец."
      ]
    },
    {
      "cell_type": "code",
      "metadata": {
        "id": "Vv-kcFAAcjHK"
      },
      "source": [
        "games['total_sales'] = games['na_sales'] + games['eu_sales'] + games['jp_sales']\n"
      ],
      "execution_count": null,
      "outputs": []
    },
    {
      "cell_type": "code",
      "metadata": {
        "id": "VpaPP-BFcjHK"
      },
      "source": [
        "games.duplicated().sum() # НА всякий случай проверил дубликаты"
      ],
      "execution_count": null,
      "outputs": []
    },
    {
      "cell_type": "markdown",
      "metadata": {
        "id": "6NKTvShqcjHL"
      },
      "source": [
        "<div style=\"border:solid blue 2px; padding: 20px\"> <h1 style=\"color:blue; margin-bottom:20px\">Комментарий студента</h1>\n",
        "\n",
        "Исправился.\n",
        "</div>"
      ]
    },
    {
      "cell_type": "code",
      "metadata": {
        "id": "VGOf64nncjHL"
      },
      "source": [
        "games.info()"
      ],
      "execution_count": null,
      "outputs": []
    },
    {
      "cell_type": "markdown",
      "metadata": {
        "id": "y4hbo1jDcjHL"
      },
      "source": [
        "<div style=\"border:solid green 2px; padding: 20px\"> <h1 style=\"color:green; margin-bottom:20px\">Комментарий ревьюера</h1>\n",
        "\n",
        "Ок, в целом предобработка верно сделана. В конце стоило еще раз вывести info, чтоб более наглядно показать итог\n",
        "</div>"
      ]
    },
    {
      "cell_type": "markdown",
      "metadata": {
        "id": "zvdU6PFncjHL"
      },
      "source": [
        "<a id=\"3\"></a>\n",
        "## Часть 3. Исследовательский анализ данных"
      ]
    },
    {
      "cell_type": "markdown",
      "metadata": {
        "id": "wKyuo698cjHM"
      },
      "source": [
        "- Посмотрите, сколько игр выпускалось в разные годы. Важны ли данные за все периоды?\n",
        "- Посмотрите, как менялись продажи по платформам. Выберите платформы с наибольшими суммарными продажами и постройте распределение по годам. За какой характерный срок появляются новые и исчезают старые платформы?\n",
        "- Возьмите данные за соответствующий актуальный период. Актуальный период определите самостоятельно в результате исследования предыдущих вопросов. Основной фактор — эти данные помогут построить прогноз на 2017 год.\n",
        "- Не учитывайте в работе данные за предыдущие годы.\n",
        "- Какие платформы лидируют по продажам, растут или падают? Выберите несколько потенциально прибыльных платформ.\n",
        "- Постройте график «ящик с усами» по глобальным продажам игр в разбивке по платформам. Опишите результат.\n",
        "- Посмотрите, как влияют на продажи внутри одной популярной платформы отзывы пользователей и критиков. Постройте диаграмму рассеяния и посчитайте корреляцию между отзывами и продажами. Сформулируйте выводы.\n",
        "- Соотнесите выводы с продажами игр на других платформах.\n",
        "- Посмотрите на общее распределение игр по жанрам. Что можно сказать о самых прибыльных жанрах? Выделяются ли жанры с высокими и низкими продажами?"
      ]
    },
    {
      "cell_type": "markdown",
      "metadata": {
        "id": "ALbBkVv7cjHM"
      },
      "source": [
        "<a id=\"31\"></a>\n",
        "### Cколько игр выпускалось в разные годы:"
      ]
    },
    {
      "cell_type": "code",
      "metadata": {
        "id": "HyjKcW3icjHN"
      },
      "source": [
        "allyear = games.pivot_table(index='year_of_release', values='name', aggfunc='count') # Распределю колличество по годам"
      ],
      "execution_count": null,
      "outputs": []
    },
    {
      "cell_type": "code",
      "metadata": {
        "id": "W_SrPlxvcjHN"
      },
      "source": [
        "plt.figure(figsize=(22,10))\n",
        "sns.barplot(x=allyear.index, y=\"name\", data=allyear)\n",
        "plt.title('График колличества релизов по годам')\n",
        "plt.xlabel('Года выпуска')\n",
        "plt.ylabel('Колличество')\n",
        "plt.show()\n"
      ],
      "execution_count": null,
      "outputs": []
    },
    {
      "cell_type": "code",
      "metadata": {
        "id": "DUoW3T0KcjHN"
      },
      "source": [
        ""
      ],
      "execution_count": null,
      "outputs": []
    },
    {
      "cell_type": "markdown",
      "metadata": {
        "id": "hB4kO4wYcjHO"
      },
      "source": [
        "Данные до 1994 года могут быть не так интересны для анализа. Спад после 2009 совпадает со становлением android и iOS. Я так же читал на примере российского игродела, что рынок 2000х был перенасыщен, по типу кризиса дот-комов. Когда инвесторы без разбора вкладывались в любой проект.\n",
        "\n",
        "<div style=\"border:solid green 2px; padding: 20px\"> <h1 style=\"color:green; margin-bottom:20px\">Комментарий ревьюера</h1>\n",
        "\n",
        "Все верно, и данные до 1994 года стоило сразу отбросить, чтоб они не зашумляли анализ\n",
        "</div>"
      ]
    },
    {
      "cell_type": "markdown",
      "metadata": {
        "id": "S5EiS9ODcjHO"
      },
      "source": [
        "<a id=\"32\"></a>\n",
        "### Продажи по платформам по годам"
      ]
    },
    {
      "cell_type": "markdown",
      "metadata": {
        "id": "WBCQ0KzMcjHO"
      },
      "source": [
        "#### Выберите платформы с наибольшими суммарными продажами и постройте распределение по годам"
      ]
    },
    {
      "cell_type": "code",
      "metadata": {
        "id": "WQszDSuZcjHO"
      },
      "source": [
        "games.describe()"
      ],
      "execution_count": null,
      "outputs": []
    },
    {
      "cell_type": "markdown",
      "metadata": {
        "id": "baM87jIucjHP"
      },
      "source": [
        "#### Дальше небольшой оффтоп не по заданию, нашел ошибку данных, думал, что она могла привести неправильным выводам по взятию актуальных годов. Оказалось нет."
      ]
    },
    {
      "cell_type": "code",
      "metadata": {
        "scrolled": true,
        "id": "aiDhBSLRcjHP"
      },
      "source": [
        "sales_platform = games[games['year_of_release'] != -1].pivot_table(index='year_of_release', columns='platform', values='total_sales', aggfunc='sum')\n",
        "sales_platform # нашел явно ошибку данных: платформа DS(Nintendo DS) ни как не могла продаваться в 1985г. Ибо сделана она в 2004 году"
      ],
      "execution_count": null,
      "outputs": []
    },
    {
      "cell_type": "code",
      "metadata": {
        "id": "l_I7cNNucjHP"
      },
      "source": [
        "# Решил поискать кто это \n",
        "games[(games['platform']=='DS')&(games['year_of_release']==1985)]"
      ],
      "execution_count": null,
      "outputs": []
    },
    {
      "cell_type": "markdown",
      "metadata": {
        "id": "tJOhacnrcjHQ"
      },
      "source": [
        "Это переиздание японских шахмат \"Сёги\" с платформы NES на DS 2005года, Исправим)\n"
      ]
    },
    {
      "cell_type": "code",
      "metadata": {
        "id": "q6BzY0cEcjHQ"
      },
      "source": [
        "games.loc[15957, 'year_of_release'] = 2005\n",
        "sales_platform = games[games['year_of_release'] != -1].pivot_table(index='year_of_release', columns='platform', values='total_sales', aggfunc='sum')"
      ],
      "execution_count": null,
      "outputs": []
    },
    {
      "cell_type": "markdown",
      "metadata": {
        "id": "zQB1UYMvcjHQ"
      },
      "source": [
        "#### Оффтоп закончен"
      ]
    },
    {
      "cell_type": "code",
      "metadata": {
        "id": "8yhG9frycjHQ"
      },
      "source": [
        "top7 = games.pivot_table(index='platform', values='total_sales', aggfunc='sum').nlargest(7, 'total_sales')\n",
        "top7 = list(top7.index)\n",
        "top7"
      ],
      "execution_count": null,
      "outputs": []
    },
    {
      "cell_type": "code",
      "metadata": {
        "id": "DUBOKBO6cjHQ"
      },
      "source": [
        "sales_platform7 = sales_platform.loc[:, ['PS2', 'X360', 'Wii', 'PS3', 'DS', 'PS', 'GBA']]"
      ],
      "execution_count": null,
      "outputs": []
    },
    {
      "cell_type": "code",
      "metadata": {
        "id": "tGIdJ7OUcjHR"
      },
      "source": [
        "plt.figure(figsize=(22,10))\n",
        "sns.lineplot(data = sales_platform7, linewidth = 12, dashes=False)\n",
        "plt.title('Платформы с наибольшими суммарными продажами')\n",
        "plt.xlabel('Год')\n",
        "plt.ylabel('Миллоны копий')\n",
        "plt.legend(loc='upper left', fontsize=20, bbox_to_anchor=(0, 1))\n",
        "plt.show()"
      ],
      "execution_count": null,
      "outputs": []
    },
    {
      "cell_type": "markdown",
      "metadata": {
        "id": "oDRrf-2ZcjHR"
      },
      "source": [
        "В каждый период времени были свои популярные платформы. Но период востребованности у всех ограничен."
      ]
    },
    {
      "cell_type": "markdown",
      "metadata": {
        "id": "UjQ0V_iHcjHR"
      },
      "source": [
        "#### Время жизни платформы"
      ]
    },
    {
      "cell_type": "code",
      "metadata": {
        "id": "n2zinleScjHR"
      },
      "source": [
        "alllife=[]\n",
        "for platform in sales_platform.columns:\n",
        "    lst=(sales_platform.index[~sales_platform[platform].isnull()])\n",
        "    life =lst.max()-lst.min()+1\n",
        "    alllife.append(life)\n",
        "mean(alllife)\n"
      ],
      "execution_count": null,
      "outputs": []
    },
    {
      "cell_type": "markdown",
      "metadata": {
        "id": "MkcyY-STcjHS"
      },
      "source": [
        "Срок жизни игровой платформы составляет 8 лет. Поэтому в дальнейшем для прогнозирования можно оставить промежуток времени в последние 8 лет."
      ]
    },
    {
      "cell_type": "markdown",
      "metadata": {
        "id": "yLkYs43JcjHS"
      },
      "source": [
        "<div style=\"border:solid green 2px; padding: 20px\"> <h1 style=\"color:green; margin-bottom:20px\">Комментарий ревьюера</h1>\n",
        "\n",
        "Время жизни платформы правильно оценено, отлично построен график, очень наглядно\n",
        "</div>"
      ]
    },
    {
      "cell_type": "markdown",
      "metadata": {
        "id": "R5_C43pgcjHS"
      },
      "source": [
        "<div style=\"border:solid blue 2px; padding: 20px\"> <h1 style=\"color:blue; margin-bottom:20px\">Комментарий студента</h1>\n",
        "\n",
        "Исправил.\n",
        "</div>"
      ]
    },
    {
      "cell_type": "markdown",
      "metadata": {
        "id": "CQBf-xVgcjHT"
      },
      "source": [
        "<a id=\"33\"></a>\n",
        "### Возьмите данные за соответствующий актуальный период. Актуальный период определите самостоятельно в результате исследования предыдущих вопросов. Основной фактор — эти данные помогут построить прогноз на 2017 год."
      ]
    },
    {
      "cell_type": "code",
      "metadata": {
        "id": "i7q1_xT2cjHT"
      },
      "source": [
        "relevantgames = games[games['year_of_release'] > 2008]\n",
        "relevantplatform = relevantgames.pivot_table(index='year_of_release', columns='platform', values='total_sales', aggfunc='sum')\n",
        "plt.figure(figsize=(22,20))\n",
        "sns.lineplot(data = relevantplatform, linewidth = 5, dashes=False)\n",
        "plt.title('Платформы с наибольшими суммарными продажами')\n",
        "plt.xlabel('Год')\n",
        "plt.ylabel('Миллоны копий')\n",
        "plt.legend(loc='upper left', fontsize=20,bbox_to_anchor=(0, 1))\n",
        "plt.show()"
      ],
      "execution_count": null,
      "outputs": []
    },
    {
      "cell_type": "markdown",
      "metadata": {
        "id": "Qcnpx1PLcjHT"
      },
      "source": [
        "Как то грязно, сокращу до наиболее популярных\n",
        "<a id=\"34\"></a>\n",
        "### Выберите несколько потенциально прибыльных платформ."
      ]
    },
    {
      "cell_type": "code",
      "metadata": {
        "id": "bktF1LTFcjHT"
      },
      "source": [
        "relevantgames8 = relevantgames.pivot_table(index='platform', values='total_sales', aggfunc='sum').nlargest(8, 'total_sales')\n",
        "relevanttop8 = list(relevantgames8.index)\n",
        "relevanttop8\n",
        "# Взял 8 чтобы влез PC. Компьютерный гейминг все таки существует по иным правилам чем консоли."
      ],
      "execution_count": null,
      "outputs": []
    },
    {
      "cell_type": "code",
      "metadata": {
        "id": "jIJq3Nv4cjHU"
      },
      "source": [
        "relevantplatform8 = relevantplatform.loc[:, ['PS3', 'X360', 'Wii', 'PS4', '3DS', 'DS', 'XOne', 'PC']]\n",
        "plt.figure(figsize=(22,10))\n",
        "sns.lineplot(data = relevantplatform8, linewidth = 12, dashes=False)\n",
        "plt.title('Платформы с наибольшими суммарными продажами топ 8')\n",
        "plt.xlabel('Год')\n",
        "plt.ylabel('Миллоны копий')\n",
        "plt.legend(loc='upper left', fontsize=20,bbox_to_anchor=(0, 1))\n",
        "plt.show()"
      ],
      "execution_count": null,
      "outputs": []
    },
    {
      "cell_type": "markdown",
      "metadata": {
        "id": "EMzr6o0NcjHU"
      },
      "source": [
        "На этом графике мы можем заметить, что основные платформы по продажам в последнее время являются самые современные платформы, а именно Xone и PS4. Я считаю, что для более точного дальнейшего анализа 2017 года, необходимо ориентироваться на эти платформы. Поэтому ограничу данные годом начала продаж этих платформ, а именно 2013 год."
      ]
    },
    {
      "cell_type": "code",
      "metadata": {
        "id": "dwBAMiCvcjHU"
      },
      "source": [
        "relevantgames = relevantgames[relevantgames['year_of_release'] > 2012]\n"
      ],
      "execution_count": null,
      "outputs": []
    },
    {
      "cell_type": "markdown",
      "metadata": {
        "id": "xIpotDxPcjHU"
      },
      "source": [
        "<div style=\"border:solid green 2px; padding: 20px\"> <h1 style=\"color:green; margin-bottom:20px\">Комментарий ревьюера</h1>\n",
        "\n",
        "Актуальный период и актуальные платформы выбраны верно\n",
        "</div>"
      ]
    },
    {
      "cell_type": "markdown",
      "metadata": {
        "id": "XdgqxvoYcjHV"
      },
      "source": [
        "<a id=\"35\"></a>\n",
        "### Постройте график «ящик с усами» по глобальным продажам игр в разбивке по платформам. Опишите результат."
      ]
    },
    {
      "cell_type": "code",
      "metadata": {
        "id": "OCLyKf16cjHV"
      },
      "source": [
        "sns.catplot(x=\"platform\", \n",
        "            y='total_sales', \n",
        "            kind=\"box\", \n",
        "            data=relevantgames, \n",
        "            orient='v',\n",
        "            height=8)\n",
        "plt.title('Объемы продаж 2009-2016гг. по платформам')\n",
        "plt.xlabel('Платформа')\n",
        "plt.ylabel('Миллоны копий')\n",
        "plt.ylim(0, 2)"
      ],
      "execution_count": null,
      "outputs": []
    },
    {
      "cell_type": "markdown",
      "metadata": {
        "id": "QP1wbgUEcjHV"
      },
      "source": [
        "<div style=\"border:solid green 2px; padding: 20px\"> <h1 style=\"color:green; margin-bottom:20px\">Комментарий ревьюера</h1>\n",
        "\n",
        "Отличные ящики с усами, правильно, что ты ограничил область отображения, так удобнее сравнивать средние и размахи и выбросы не мешают\n",
        "</div>"
      ]
    },
    {
      "cell_type": "markdown",
      "metadata": {
        "id": "Y6zBvhmLcjHV"
      },
      "source": [
        "Мы видим, что в общей массе продажи не достигают и миллиона копий, но где-то в районе выбросов или даже за гранью графиков есть популярные игры, ААА проекты с миллионами и десятками миллионов продаж. \n",
        "\n",
        "Представил положения выброса GTA 5 будь список за сегодняшнее число:\n",
        "![image.png](attachment:image.png)"
      ]
    },
    {
      "cell_type": "markdown",
      "metadata": {
        "id": "OTxqp325cjHW"
      },
      "source": [
        "<a id=\"36\"></a>\n",
        "### Постройте диаграмму рассеяния и посчитайте корреляцию между отзывами и продажами."
      ]
    },
    {
      "cell_type": "markdown",
      "metadata": {
        "id": "Hx2pWWb2cjHW"
      },
      "source": [
        "Возьмем две актуальные самые главные конкурирующие платформы PS4 и Хbox One"
      ]
    },
    {
      "cell_type": "code",
      "metadata": {
        "id": "FxS6PG8lcjHW"
      },
      "source": [
        "relevantgames = relevantgames[relevantgames['user_score'] != -1]\n",
        "relevantgames = relevantgames[relevantgames['critic_score'] != -1]"
      ],
      "execution_count": null,
      "outputs": []
    },
    {
      "cell_type": "code",
      "metadata": {
        "id": "NdeWsI8LcjHW"
      },
      "source": [
        "ps4 = relevantgames.query('platform == \"PS4\"')\n",
        "xone = relevantgames.query('platform == \"XOne\"')\n"
      ],
      "execution_count": null,
      "outputs": []
    },
    {
      "cell_type": "markdown",
      "metadata": {
        "id": "H-ubcLoqcjHW"
      },
      "source": [
        "<div style=\"border:solid blue 2px; padding: 20px\"> <h1 style=\"color:blue; margin-bottom:20px\">Комментарий студента</h1>\n",
        "\n",
        "Исправил.\n",
        "</div>"
      ]
    },
    {
      "cell_type": "markdown",
      "metadata": {
        "id": "U0f5Wyr6cjHX"
      },
      "source": [
        "<div style=\"border:solid red 2px; padding: 20px\"> <h1 style=\"color:red; margin-bottom:20px\">Комментарий ревьюера</h1>\n",
        "\n",
        "Здесь и далее ты не удалил -1, это достаточно сильно искажает корреляцию, значения получатся не верными, хотя итог может и не сильно поменяться\n",
        "</div>"
      ]
    },
    {
      "cell_type": "markdown",
      "metadata": {
        "id": "DRV5e3wOcjHX"
      },
      "source": [
        "<div style=\"border:solid green 2px; padding: 20px\"> <h1 style=\"color:green; margin-bottom:20px\">Комментарий ревьюера - 2</h1>\n",
        "\n",
        "Хорошо, теперь корреляция должна быть верной\n",
        "</div>"
      ]
    },
    {
      "cell_type": "markdown",
      "metadata": {
        "id": "-rCwUoCOcjHX"
      },
      "source": [
        "#### Диаграммы рассеяния и корреляция отценок пользователей и продаж PS4 И Xbox One"
      ]
    },
    {
      "cell_type": "code",
      "metadata": {
        "id": "GLUfVxstcjHX"
      },
      "source": [
        "sns.relplot(data=ps4, \n",
        "            x='user_score', \n",
        "            y='total_sales',\n",
        "            height=8)\n",
        "plt.title('Зависимость отзывов пользователей на объемы продаж PS4')\n",
        "plt.xlabel('Оценка')\n",
        "plt.ylabel('Миллоны копий')\n",
        "plt.xlim(0, 10)\n",
        "plt.text(1, 10, 'коэффициент корреляции: ' + str(round(ps4['user_score'].corr(ps4['total_sales']), 2)))\n",
        "plt.show()\n",
        "\n",
        "sns.relplot(data=xone, \n",
        "            x='user_score', \n",
        "            y='total_sales',\n",
        "            height=8,\n",
        "            color='green')\n",
        "plt.title('Зависимость отзывов пользователей на объемы продаж Xbox One')\n",
        "plt.xlabel('Оценка')\n",
        "plt.ylabel('Миллоны копий')\n",
        "plt.xlim(0, 10)\n",
        "plt.text(1, 6, 'коэффициент корреляции: ' + str(round(xone['user_score'].corr(xone['total_sales']), 2)))\n",
        "plt.show()"
      ],
      "execution_count": null,
      "outputs": []
    },
    {
      "cell_type": "markdown",
      "metadata": {
        "id": "gGRaRUEfcjHY"
      },
      "source": [
        "#### Диаграммы рассеяния и корреляция отценок критиков и продаж PS4 И Xbox One"
      ]
    },
    {
      "cell_type": "code",
      "metadata": {
        "id": "OefLd-yKcjHY"
      },
      "source": [
        "sns.relplot(data=ps4, \n",
        "            x='critic_score', \n",
        "            y='total_sales',\n",
        "            height=8)\n",
        "plt.title('Зависимость отзывов критиков на объемы продаж PS4')\n",
        "plt.xlabel('Оценка')\n",
        "plt.ylabel('Миллоны копий')\n",
        "plt.xlim(0, 100)\n",
        "plt.text(1, 10, 'коэффициент корреляции: ' + str(round(ps4['critic_score'].corr(ps4['total_sales']), 2)))\n",
        "plt.show()\n",
        "sns.relplot(data=xone, \n",
        "            x='critic_score', \n",
        "            y='total_sales',\n",
        "            height=8,\n",
        "            color='green')\n",
        "plt.title('Зависимость отзывов критиков на объемы продаж Xbox One')\n",
        "plt.xlabel('Оценка')\n",
        "plt.ylabel('Миллоны копий')\n",
        "plt.xlim(0, 100)\n",
        "plt.text(1, 6, 'коэффициент корреляции: ' + str(round(xone['critic_score'].corr(xone['total_sales']), 2)))\n",
        "plt.show()"
      ],
      "execution_count": null,
      "outputs": []
    },
    {
      "cell_type": "code",
      "metadata": {
        "id": "3yu6osP3cjHY"
      },
      "source": [
        ""
      ],
      "execution_count": null,
      "outputs": []
    },
    {
      "cell_type": "markdown",
      "metadata": {
        "id": "XxSYJuU6cjHZ"
      },
      "source": [
        "Взаимосвязи между оценками пользователей и продажами нет.  \n",
        "Чуть больше взаимосвязь между оценками критиков и продажами есть, но не большая.\n",
        "Из данных графиком можно сделать вывод что игры с большими продажами имели высокие оценки критиков. Но не все игры с высокой оценкой критиков имели высокие продажи.\n",
        "Предположу, что цифры продаж в первую очередь зависят от хорошей рекламы. Поэтому пользователи бывали разочарованы получившимся продуктом. А вот критикам всегда все нравится (в последнее время было много скандалов по этому поводу в игрожуре)"
      ]
    },
    {
      "cell_type": "markdown",
      "metadata": {
        "id": "5wvm-8IEcjHZ"
      },
      "source": [
        "<a id=\"37\"></a>\n",
        "### Соотнесите выводы с продажами игр на других платформах"
      ]
    },
    {
      "cell_type": "code",
      "metadata": {
        "id": "Llb-Url-cjHZ"
      },
      "source": [
        "for plt in ['PS3', 'X360', 'Wii', 'PS4', '3DS', 'DS', 'XOne', 'PC']:\n",
        "    platf = relevantgames.query(\"platform == @plt and (user_score != -1) and (critic_score != -1)\")\n",
        "    crr = round(platf['critic_score'].corr(platf['total_sales']), 2)\n",
        "    print('Корреляция отценок критиков к продажам', plt, crr)\n",
        "for plt in ['PS3', 'X360', 'Wii', 'PS4', '3DS', 'DS', 'XOne', 'PC']:\n",
        "    platf = relevantgames.query(\"platform == @plt and (user_score != -1) and (critic_score != -1)\")\n",
        "    crr = round(platf['user_score'].corr(platf['total_sales']), 2)\n",
        "    print('Корреляция отценок пользователей к продажам', plt, crr)"
      ],
      "execution_count": null,
      "outputs": []
    },
    {
      "cell_type": "raw",
      "metadata": {
        "id": "zfaprgCccjHZ"
      },
      "source": [
        "<div style=\"border:solid blue 2px; padding: 20px\"> <h1 style=\"color:blue; margin-bottom:20px\">Комментарий студента</h1>\n",
        "\n",
        "Исправил.\n",
        "</div>"
      ]
    },
    {
      "cell_type": "markdown",
      "metadata": {
        "id": "WEWo6StPcjHa"
      },
      "source": [
        "По всем платформам сохраняется отсутствие связи оценок пользователей к продажам и небольшая взаимосвязь оценок критиков к продажам.\n",
        "Наибольшая корреляция оценок критиков к продажам современных консолей, внимание к консолям предыдущего поколения снижено. Консоли непопулярные в Европе и Америке, как мы в дальнейшем узнали и вовсе критики обходят стороной\n",
        "\n",
        "\n",
        "<div style=\"border:solid green 2px; padding: 20px\"> <h1 style=\"color:green; margin-bottom:20px\">Комментарий ревьюера</h1>\n",
        "\n",
        "Ок, технически корреляция рассчитана и проанализирована верно, только убери -1 и поправь выводы\n",
        "</div>"
      ]
    },
    {
      "cell_type": "markdown",
      "metadata": {
        "id": "3oR79L_rcjHa"
      },
      "source": [
        "<a id=\"38\"></a>\n",
        "### Общее распределение игр по жанрам. "
      ]
    },
    {
      "cell_type": "code",
      "metadata": {
        "id": "vT2-JQoOcjHa"
      },
      "source": [
        "genre = relevantgames.pivot_table(index='genre', values='total_sales', aggfunc=['sum', 'count'])\n",
        "genre.columns = ['sum', 'count']\n",
        "genre.sort_values(by='sum', ascending=False)"
      ],
      "execution_count": null,
      "outputs": []
    },
    {
      "cell_type": "code",
      "metadata": {
        "id": "aGHtjUwAcjHb"
      },
      "source": [
        "genre.plot(kind='pie',y=\"count\", autopct='%1.0f%%', legend=False, title = \"Общее распределение игр по жанрам.\", figsize=(8, 8)).set(ylabel='')"
      ],
      "execution_count": null,
      "outputs": []
    },
    {
      "cell_type": "markdown",
      "metadata": {
        "id": "mgbqPj1zcjHb"
      },
      "source": [
        "<div style=\"border:solid blue 2px; padding: 20px\"> <h1 style=\"color:blue; margin-bottom:20px\">Комментарий студента</h1>\n",
        "\n",
        "Сделал.\n",
        "</div>"
      ]
    },
    {
      "cell_type": "markdown",
      "metadata": {
        "id": "Uk7Uj-qgcjHb"
      },
      "source": [
        "Безусловный лидер Action, наибольший интерес пользователей, но и большая конкуренция издателей, а вот пазлы и стратеги популярностью не пользуются. Объемы продаж относительно количества выпущенных игр тоже достаточно низкие.\n",
        "\n",
        "<div style=\"border:solid gold 2px; padding: 20px\"> <h1 style=\"color:gold; margin-bottom:20px\">Комментарий ревьюера</h1>\n",
        "\n",
        "Все верно, но стоило тоже бобавить график. Это полезно, особенно для презентаций\n",
        "</div>"
      ]
    },
    {
      "cell_type": "markdown",
      "metadata": {
        "id": "YiXJ95oTcjHb"
      },
      "source": [
        "<div style=\"border:solid green 2px; padding: 20px\"> <h1 style=\"color:green; margin-bottom:20px\">Комментарий ревьюера - 2</h1>\n",
        "\n",
        "Хорошо, здесь столбчатую диаграмму тоже можно было использовать\n",
        "</div>"
      ]
    },
    {
      "cell_type": "markdown",
      "metadata": {
        "id": "pf8LKbFwcjHc"
      },
      "source": [
        "<a id=\"4\"></a>\n",
        "## Часть 4. Составьте портрет пользователя каждого региона"
      ]
    },
    {
      "cell_type": "markdown",
      "metadata": {
        "id": "xRe_vAnxcjHc"
      },
      "source": [
        "Определите для пользователя каждого региона (NA, EU, JP):\n",
        "- Самые популярные платформы (топ-5). Опишите различия в долях продаж.\n",
        "- Самые популярные жанры (топ-5). Поясните разницу.\n",
        "- Влияет ли рейтинг ESRB на продажи в отдельном регионе?"
      ]
    },
    {
      "cell_type": "markdown",
      "metadata": {
        "id": "l8NyYYt_cjHc"
      },
      "source": [
        "<a id=\"41\"></a>\n",
        "### Самые популярные платформы (топ-5)."
      ]
    },
    {
      "cell_type": "code",
      "metadata": {
        "id": "7c5HfJgwcjHc"
      },
      "source": [
        "na_sales = relevantgames.pivot_table(index='platform', values='na_sales', aggfunc='sum').nlargest(5, 'na_sales')\n",
        "na_sales.columns = ['sales']\n",
        "na_sales.plot(kind='pie',y=\"sales\", autopct='%1.0f%%', legend=False, title = \"Популярность платформ в США\", figsize=(5, 5))\n",
        "\n",
        "eu_sales = relevantgames.pivot_table(index='platform', values='eu_sales', aggfunc='sum').nlargest(5, 'eu_sales')\n",
        "eu_sales.columns = ['sales']\n",
        "eu_sales.plot(kind='pie',y=\"sales\", autopct='%1.0f%%', legend=False, title = \"Популярность платформ в Европе\", figsize=(5, 5))\n",
        "\n",
        "jp_sales = relevantgames.pivot_table(index='platform', values='jp_sales', aggfunc='sum').nlargest(5, 'jp_sales')\n",
        "jp_sales.columns = ['sales']\n",
        "jp_sales.plot(kind='pie',y=\"sales\", autopct='%1.0f%%', legend=False, title = \"Популярность платформ в Японии\", figsize=(5, 5))\n"
      ],
      "execution_count": null,
      "outputs": []
    },
    {
      "cell_type": "markdown",
      "metadata": {
        "id": "SlY3n5M-cjHd"
      },
      "source": [
        "В каждом регионе есть свои лидеры по популярности продаж игр среди платформ. Это может быть связанно с нацеленностью на внутренний рынок как у Xbox в США, PS3 в Японии. В целом платформа PS4 наиболее популярная в мире. В Европе и США платформы распределены похоже, в Европе сильны позиции ПК гейминга, а в америке пользуются спросом карманно/универсальные WiiU  . А вот культурные особенности Японцев поражают. Я читал что у них культ карманных приставок, но не думал, что настолько."
      ]
    },
    {
      "cell_type": "markdown",
      "metadata": {
        "id": "yUgbBvGRcjHd"
      },
      "source": [
        "<div style=\"border:solid blue 2px; padding: 20px\"> <h1 style=\"color:blue; margin-bottom:20px\">Комментарий студента</h1>\n",
        "\n",
        "Переделал вывод\n",
        "</div>"
      ]
    },
    {
      "cell_type": "markdown",
      "metadata": {
        "id": "QYknqjqPcjHd"
      },
      "source": [
        "<a id=\"41\"></a>\n",
        "### Самые популярные жанры (топ-5)."
      ]
    },
    {
      "cell_type": "code",
      "metadata": {
        "id": "oNOvQSPLcjHd"
      },
      "source": [
        "na_genres = relevantgames.pivot_table(index='genre', values='na_sales', aggfunc='sum').nlargest(5, 'na_sales')\n",
        "na_genres.columns = ['sales']\n",
        "na_genres.plot(kind='pie',y=\"sales\", autopct='%1.0f%%', legend=False, title = \"Популярность жанров в США\", figsize=(5, 5)).set(ylabel='')\n",
        "\n",
        "eu_genres = relevantgames.pivot_table(index='genre', values='eu_sales', aggfunc='sum').nlargest(5, 'eu_sales')\n",
        "eu_genres.columns = ['sales']\n",
        "eu_genres.plot(kind='pie',y=\"sales\", autopct='%1.0f%%', legend=False, title = \"Популярность жанров в Европе\", figsize=(5, 5)).set(ylabel='')\n",
        "\n",
        "jp_genres = relevantgames.pivot_table(index='genre', values='jp_sales', aggfunc='sum').nlargest(5, 'jp_sales')\n",
        "jp_genres.columns = ['sales']\n",
        "jp_genres.plot(kind='pie',y=\"sales\", autopct='%1.0f%%', legend=False, title = \"Популярность жанров в Японии\", figsize=(5, 5)).set(ylabel='')\n",
        "\n",
        "\n"
      ],
      "execution_count": null,
      "outputs": []
    },
    {
      "cell_type": "markdown",
      "metadata": {
        "id": "5nGgzwqdcjHe"
      },
      "source": [
        "Как мы и узнали ранее жанр Action самый популярный и заслуженно занимает первые строчки в рейтингах. В целом распределение жанров по США и Европе мало различается в связи с похожими культурными традициями и распространённостью платформ. А вот Японский рынок опят несет отличия. Шутеры пользуются меньше популярность чем РПГ (Скорее даже знамениетые японские MMORPG)"
      ]
    },
    {
      "cell_type": "markdown",
      "metadata": {
        "id": "0zDJT3YIcjHe"
      },
      "source": [
        "<div style=\"border:solid blue 2px; padding: 20px\"> <h1 style=\"color:blue; margin-bottom:20px\">Комментарий студента</h1>\n",
        "\n",
        "Переделал вывод\n",
        "</div>"
      ]
    },
    {
      "cell_type": "markdown",
      "metadata": {
        "id": "uX9HyfF6cjHe"
      },
      "source": [
        "<a id=\"43\"></a>\n",
        "### Влияние рейтинга ESRB на продажи в отдельном регионе"
      ]
    },
    {
      "cell_type": "code",
      "metadata": {
        "id": "LkVUlLrkcjHe"
      },
      "source": [
        "na_rating = relevantgames.pivot_table(index='rating', values='na_sales', aggfunc='sum')\n",
        "na_rating.columns = ['sales']\n",
        "na_rating.plot(kind='pie',y=\"sales\", autopct='%1.0f%%', legend=False, title = \"Продажив зависимости от рейтинга в США\", figsize=(5, 5)).set(ylabel='')\n",
        "\n",
        "eu_ratings = relevantgames.pivot_table(index='rating', values='eu_sales', aggfunc='sum').nlargest(5, 'eu_sales')\n",
        "eu_ratings.columns = ['sales']\n",
        "eu_ratings.plot(kind='pie',y=\"sales\", autopct='%1.0f%%', legend=False, title = \"Продажив зависимости от рейтинга в Европе\", figsize=(5, 5)).set(ylabel='')\n",
        "\n",
        "jp_rating = relevantgames.pivot_table(index='rating', values='jp_sales', aggfunc='sum').nlargest(5, 'jp_sales')\n",
        "jp_rating.columns = ['sales']\n",
        "jp_rating.plot(kind='pie',y=\"sales\", autopct='%1.0f%%', legend=False, title = \"Продажив зависимости от рейтинга в Японии\", figsize=(5, 5)).set(ylabel='')\n",
        "\n",
        "\n"
      ],
      "execution_count": null,
      "outputs": []
    },
    {
      "cell_type": "markdown",
      "metadata": {
        "id": "1iKY6GSAcjHf"
      },
      "source": [
        "Самые зрелищные и реалистичные игры: экшены и шутеры получают взрослые рейтинги что может объяснить высокие продажи игры взрослых рейтингов в США и Европе.  \n",
        "Дети любят компьютерные игры. Маленьким детям сложно играть во взрослые игры, поэтому для них приходится делать свой контент. Что может объяснить суммарно большой процент детских игр.\n",
        "Игры для тинейджеров менее популярны так как ограничены по многим параметрам. А подростки могут спокойно покупать игры со взрослыми ограничениями.  \n",
        "\n",
        "Как пишет википедия: В онлайн-играх, содержимое которых может модифицироваться пользователями (например, диалоги, карты, модели персонажей), используется замечание «Game Experience May Change During Online Play», которое предупреждает покупателей о том, что пользовательский контент в игре не проходил рецензирования ESRB.  \n",
        "Этим можно объяснить наличие игр без рейтинга, хоть и в малых количествах.\n",
        "\n",
        "Большое распространение рейтинга Т на Японском рынке можно попробовать объяснить большим распространением стиля Аниме (не реалистичная кровь и насилие), но с уверенностью утверждать это не могу.\n",
        "\n",
        "<div style=\"border:solid green 2px; padding: 20px\"> <h1 style=\"color:green; margin-bottom:20px\">Комментарий ревьюера</h1>\n",
        "\n",
        "Портрет пользователей сделан отлично, все верно рассчитано и очень наглядно отображено. Круговая диаграмма, пожалуй лучший выбор здесь, очень наглядно\n",
        "</div>\n",
        "\n",
        "<div style=\"border:solid blue 2px; padding: 20px\"> <h1 style=\"color:blue; margin-bottom:20px\">Комментарий студента</h1>\n",
        "\n",
        "Переделал вывод\n",
        "</div>"
      ]
    },
    {
      "cell_type": "markdown",
      "metadata": {
        "id": "BNFljpW9cjHf"
      },
      "source": [
        "<a id=\"5\"></a>\n",
        "## Часть 5. Проверка гипотезы"
      ]
    },
    {
      "cell_type": "markdown",
      "metadata": {
        "id": "xO88XSiEcjHf"
      },
      "source": [
        "<a id=\"51\"></a>\n",
        "### Средние пользовательские рейтинги платформ Xbox One и PC одинаковые;"
      ]
    },
    {
      "cell_type": "markdown",
      "metadata": {
        "id": "t0nijUp0cjHf"
      },
      "source": [
        "Нулевая гипотеза H₀:\n",
        "\n",
        "- Средние пользовательские рейтинги платформ Xbox One и PC одинаковые.\n",
        "\n",
        "Исходя из H₀ формулируем альтернативную гипотезу H₁:\n",
        "\n",
        "- Средние пользовательские рейтинги платформ Xbox One и PC различаются.  \n",
        "\n",
        "α=5% стандартный уровень, так как у нас очень много пропусков данных, есть риск ошибочно отвергнуть гипотизу.\n"
      ]
    },
    {
      "cell_type": "code",
      "metadata": {
        "id": "MypNft7jcjHg"
      },
      "source": [
        "xone = relevantgames.query('platform == \"XOne\"')['user_score']\n",
        "pc = relevantgames.query('platform == \"PC\"')['user_score']"
      ],
      "execution_count": null,
      "outputs": []
    },
    {
      "cell_type": "code",
      "metadata": {
        "id": "cW_U-NPxcjHg"
      },
      "source": [
        "print(np.var(xone,ddof=1))\n",
        "print(np.var(pc,ddof=1))"
      ],
      "execution_count": null,
      "outputs": []
    },
    {
      "cell_type": "code",
      "metadata": {
        "id": "FIkA-ssYcjHg"
      },
      "source": [
        "print(xone.mean())\n",
        "print(pc.mean())"
      ],
      "execution_count": null,
      "outputs": []
    },
    {
      "cell_type": "markdown",
      "metadata": {
        "id": "euT23uTkcjHg"
      },
      "source": [
        "дисперсии выборок не равны equal_var==False"
      ]
    },
    {
      "cell_type": "markdown",
      "metadata": {
        "id": "1fdl0KR4cjHh"
      },
      "source": [
        "<div style=\"border:solid green 2px; padding: 20px\"> <h1 style=\"color:green; margin-bottom:20px\">Комментарий ревьюера - 2</h1>\n",
        "\n",
        "Хорошо\n",
        "</div>"
      ]
    },
    {
      "cell_type": "code",
      "metadata": {
        "id": "G5TRrcrVcjHh"
      },
      "source": [
        "alpha = 0.01\n",
        "results = st.ttest_ind(\n",
        "    xone, \n",
        "    pc, \n",
        "    equal_var=False)\n",
        "print('p-значение:', results.pvalue)\n",
        "if (results.pvalue < alpha):\n",
        "    print(\"Отвергаем нулевую гипотезу\")\n",
        "else:\n",
        "    print(\"Не получилось отвергнуть нулевую гипотезу\")"
      ],
      "execution_count": null,
      "outputs": []
    },
    {
      "cell_type": "markdown",
      "metadata": {
        "id": "LzDAztROcjHh"
      },
      "source": [
        "Полученное значение p-value говорит о том, что средние пользовательские рейтинги платформ Xbox One и PC одинаковы и это совпадение не случайны."
      ]
    },
    {
      "cell_type": "markdown",
      "metadata": {
        "id": "958HrXmXcjHh"
      },
      "source": [
        "<a id=\"52\"></a>\n",
        "### Средние пользовательские рейтинги жанров Action и Sports разные."
      ]
    },
    {
      "cell_type": "markdown",
      "metadata": {
        "id": "4907e0T9cjHi"
      },
      "source": [
        "Нулевая гипотеза H₀:\n",
        "\n",
        "-  средние пользовательские рейтинги жанров Action (англ. «действие») и Sports (англ. «виды спорта») одинаковые.\n",
        "\n",
        "Исходя из H₀ формулируем альтернативную гипотезу H₁:\n",
        "\n",
        "-  средние пользовательские рейтинги жанров Action (англ. «действие») и Sports (англ. «виды спорта») различаются.  \n",
        "\n",
        "α=5% стандартный уровень, так как у нас очень много пропусков данных, есть риск ошибочно отвергнуть гипотизу.\n"
      ]
    },
    {
      "cell_type": "code",
      "metadata": {
        "id": "msJIZ7x1cjHi"
      },
      "source": [
        "action = relevantgames.query('genre == \"Action\"')['user_score']\n",
        "sports = relevantgames.query('genre == \"Sports\"')['user_score']\n"
      ],
      "execution_count": null,
      "outputs": []
    },
    {
      "cell_type": "code",
      "metadata": {
        "id": "qJsb15bscjHi"
      },
      "source": [
        "print(action.mean())\n",
        "print(sports.mean())"
      ],
      "execution_count": null,
      "outputs": []
    },
    {
      "cell_type": "code",
      "metadata": {
        "id": "FTmhZ6edcjHi"
      },
      "source": [
        "print(np.var(action,ddof=1))\n",
        "print(np.var(sports,ddof=1))"
      ],
      "execution_count": null,
      "outputs": []
    },
    {
      "cell_type": "code",
      "metadata": {
        "id": "69jcxd6ycjHj"
      },
      "source": [
        "дисперсии выборок не равны equal_var==False"
      ],
      "execution_count": null,
      "outputs": []
    },
    {
      "cell_type": "code",
      "metadata": {
        "id": "lYFM-iqmcjHj"
      },
      "source": [
        "\n",
        "alpha = 0.05\n",
        "results = st.ttest_ind(\n",
        "    action, \n",
        "    sports, \n",
        "    equal_var=False)\n",
        "print('p-значение:', results.pvalue)\n",
        "if (results.pvalue < alpha):\n",
        "    print(\"Отвергаем нулевую гипотезу\")\n",
        "else:\n",
        "    print(\"Не получилось отвергнуть нулевую гипотезу\")"
      ],
      "execution_count": null,
      "outputs": []
    },
    {
      "cell_type": "markdown",
      "metadata": {
        "id": "6yqch0PZcjHj"
      },
      "source": [
        "Полученное значение p-value говорит о том, что средние пользовательские рейтинги жанров Action и Sports различаются, и различие не случайно.\n",
        "\n",
        "<div style=\"border:solid red 2px; padding: 20px\"> <h1 style=\"color:red; margin-bottom:20px\">Комментарий ревьюера</h1>\n",
        "\n",
        "Опять же -1 искажают результат, их надо убрать, а лучше с самого начала их не использовать, никакой выгоды они не дали, только нужно отфильтровывать каждый раз, это скорее неудобно.\n",
        "    \n",
        "Плюс при проверки гипотез нужно обосновать выбор параметра equal_var\n",
        "</div>\n",
        "\n",
        "<div style=\"border:solid blue 2px; padding: 20px\"> <h1 style=\"color:blue; margin-bottom:20px\">Комментарий студента</h1>\n",
        "\n",
        "Переделал вывод, обосновал equal_var\n",
        "</div>"
      ]
    },
    {
      "cell_type": "markdown",
      "metadata": {
        "id": "dHyYlDIdcjHk"
      },
      "source": [
        "<div style=\"border:solid green 2px; padding: 20px\"> <h1 style=\"color:green; margin-bottom:20px\">Комментарий ревьюера - 2</h1>\n",
        "\n",
        "Теперь все верно\n",
        "</div>"
      ]
    },
    {
      "cell_type": "markdown",
      "metadata": {
        "id": "4NcNFcL4cjHk"
      },
      "source": [
        "<a id=\"6\"></a>\n",
        "## Часть 6. Общий вывод"
      ]
    },
    {
      "cell_type": "code",
      "metadata": {
        "id": "A6oVIbHIcjHk"
      },
      "source": [
        "# Объем продаж по территориям для полноты картины\n",
        "print(relevantgames['na_sales'].sum())\n",
        "print(relevantgames['eu_sales'].sum())\n",
        "print(relevantgames['jp_sales'].sum())"
      ],
      "execution_count": null,
      "outputs": []
    },
    {
      "cell_type": "markdown",
      "metadata": {
        "id": "vHzUdFxgcjHk"
      },
      "source": [
        "1. При планировании кампании на 2017-й год необходимо ориентироваться на игровые платформы PS4 и XBox One.  \n",
        "А игра должна быть в жанре Action или Shooter. Оба этих пункта дадут захват наибольшей аудитории и возможность (не гарантированной) максимальных прибылей.  \n",
        "Если же вдруг вашей целью стоит японский рынок, то точно надо ориентироваться на карманные консоли и делать Role-Playing(RPG).  \n",
        "\n",
        "2. Делать игру лучше всего с максимальной реалистичностью, рейтинга M (игры без рейтинга тоже могут частично сюда относиться). \n",
        "Так же хорошее потребление у детских игр. Не стоит рассчитывать на подростковые игры. \n",
        "\n",
        "3. Оценки пользователей появляются после такого как они уже приобретают игры, поэтому на продажи они влияют опосредованно, в очень малой степени.\n",
        "Чуть больше влияние оценки критиков. Зачастую игры они получают до релиза, плюс у них есть влияние на аудиторию. Но оценки критиков бывают не совпадают с оценками игроков (влияние маркетингового бюджета)  \n",
        "Я могу предположить, что все-таки маркетинг играет огромное значение в игроделе. Пример тому Fallout провалившийся при выпуске, но приобретший культовый статус в дальнейшем.\n",
        "\n",
        "<div style=\"border:solid green 2px; padding: 20px\"> <h1 style=\"color:green; margin-bottom:20px\">Комментарий ревьюера</h1>\n",
        "\n",
        "Отлично, что ты дал конкретные рекомендации по итогам проекта, это всегда очень ценно\n",
        "</div>\n"
      ]
    },
    {
      "cell_type": "markdown",
      "metadata": {
        "id": "HXt_s3sfcjHk"
      },
      "source": [
        "p.s. Я сам практически не играю в компьютерные игры, редко в что, то нашумевшее. Но увлекаюсь историей игродела. Поэтому этот анализ был крайне увлекательным для меня. Приходилось возвращать себя в основные задачи."
      ]
    },
    {
      "cell_type": "markdown",
      "metadata": {
        "id": "G6dhbuKtcjHl"
      },
      "source": [
        "<div style=\"border:solid green 2px; padding: 20px\"> <h1 style=\"color:green; margin-bottom:20px\">Общий комментарий по проекту</h1>\n",
        "\n",
        "Проект выполнен очень хорошо, все рассчеты технически выполнены правильно. Тебя подвели -1, добавленные при предобработки, мне кажется их лучше вообще не использовать или не забывать отфильтровывать. Пересчитай пожалуйста и при необходимости поправь выводы. Т.о. есть пара небольших неточностей, постарайся пожалуйста поправить. Удачи\n",
        "\n",
        "</div>"
      ]
    },
    {
      "cell_type": "markdown",
      "metadata": {
        "id": "TVS74j6RcjHl"
      },
      "source": [
        "<div style=\"border:solid green 2px; padding: 20px\"> <h1 style=\"color:green; margin-bottom:20px\">Комментарий ревьюера</h1>\n",
        "\n",
        "Проект отлично доработан, молодец\n",
        "</div>"
      ]
    },
    {
      "cell_type": "code",
      "metadata": {
        "id": "FtLPj8b7cjHl"
      },
      "source": [
        ""
      ],
      "execution_count": null,
      "outputs": []
    }
  ]
}